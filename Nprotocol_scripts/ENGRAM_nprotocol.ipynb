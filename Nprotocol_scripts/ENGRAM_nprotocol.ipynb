{
 "cells": [
  {
   "cell_type": "markdown",
   "id": "aeed17a6",
   "metadata": {},
   "source": [
    "# Generate CREs associated for ENGRAM"
   ]
  },
  {
   "cell_type": "code",
   "execution_count": null,
   "id": "98b75793",
   "metadata": {},
   "outputs": [],
   "source": [
    "def gen_synCRE(sequence, motif, repeat, spacing, dist):\n",
    "    \"\"\"\n",
    "    Generate a synthetic enhancer sequence by repeating a motif with specified spacing and distance from the minimal promoter.\n",
    "\n",
    "    Args:\n",
    "        sequence (str): The base DNA sequence.\n",
    "        motif (str): The motif to repeat.\n",
    "        repeat (int): Number of motif repeats.\n",
    "        spacing (int): Number of bases between motifs.\n",
    "        dist (int): Distance from the end of the last motif to the minimal promoter.\n",
    "\n",
    "    Returns:\n",
    "        str: The constructed synthetic enhancer sequence.\n",
    "    \"\"\"\n",
    "    motif_len = len(motif)\n",
    "    total_motif_len = motif_len * repeat\n",
    "    total_spacing_len = spacing * (repeat - 1)\n",
    "    enhancer_len = total_motif_len + total_spacing_len\n",
    "\n",
    "    start = len(sequence) - enhancer_len - dist\n",
    "    parts = [sequence[:start]]\n",
    "    # Add motif and spacing in order\n",
    "    for idx in range(repeat):\n",
    "        parts.append(motif)\n",
    "        if idx < repeat - 1:\n",
    "            # Calculate the start and end for the spacing region\n",
    "            spacing_start = start + (motif_len + spacing) * idx + motif_len\n",
    "            spacing_end = spacing_start + spacing\n",
    "            parts.append(sequence[spacing_start:spacing_end])\n",
    "\n",
    "    # Add the minimal promoter region if dist > 0\n",
    "    if dist == 0:\n",
    "        return ''.join(parts)\n",
    "    else:\n",
    "        return ''.join(parts) + sequence[-dist:]\n",
    "def reverse_complement(seq):\n",
    "    \"\"\"Return the reverse complement of a DNA sequence.\"\"\"\n",
    "    complement = str.maketrans('ACGTNacgtn', 'TGCANtgcan')\n",
    "    return seq.translate(complement)[::-1]\n"
   ]
  },
  {
   "cell_type": "code",
   "execution_count": 16,
   "id": "1e8ffd43",
   "metadata": {},
   "outputs": [],
   "source": [
    "# Sequence components for ENGRAM cloning.\n",
    "BsaI_fwd, BsaI_rev = 'atactacGGTCTCagaac' , 'actgcGAGACCgtaatgc'\n",
    "BsmBI_filler = 'CACTAgagacgattaaATGGACAGCAtgcgtctcTGTCC'\n",
    "DTT_peg = 'CACCATCATCCNNNNNCGTGCTCACCATC' # HA + typewriter_key + symbol (5N) + PBS. longer than 5N might reduce the efficiency\n",
    "HEK3_peg = 'TCTGCCATCANNNNNCGTGCTCAGTCTG' # HA + symbol （5N) + PBS. 5N can be replaced with any length of N's"
   ]
  },
  {
   "cell_type": "code",
   "execution_count": 17,
   "id": "75c8e588",
   "metadata": {},
   "outputs": [],
   "source": [
    "# example CRE sequence (Wnt signaling)\n",
    "CRE = 'AGATCAAAGGGTTTAAGATCAAAGGGCTTAAGATCAAAGGGTATAAGATCAAAGGGCCTAAGATCAAAGGGACTAAGATCAAAGGGTTTAAGATCAAAGGGCTTAAGATCAAAGGGCCTA'\n",
    "oligo = BsaI_fwd + CRE + BsmBI_filler + HEK3_peg + BsaI_rev"
   ]
  },
  {
   "cell_type": "code",
   "execution_count": null,
   "id": "ce7485fa",
   "metadata": {},
   "outputs": [],
   "source": [
    "# Example to generage synthetic CREs with different motifs and repeats\n",
    "motifs = [\"gccgcagtggccgcagtg\"] # 2x repeat\n",
    "seq = 'GCAAACAGTCCCCATGTTCACATTAGGTTCCCAATCAGTATTTCCCATCAAGGGAGAAGCTTAGGCTGGGGAATCCTGCATACATAATTCATACCCATTATCTCAGGCTTGCTTTCTTCAACTTAAGTAGATAGGTGTATATAAAGAGACACAGCATGAAGAAGAAAGATAATAAAGATGGGCCCTGGAGAGTGACCTCTGGTGACCACAAACCTGACCTC' # mix of seq3505 seq9474, can be shortened\n",
    "oligos = []\n",
    "for s in motifs:\n",
    "    for i in range(1,8):\n",
    "        synCRE = gen_synCRE(seq,s,i,15,0)\n",
    "        oligo = BsaI_fwd + synCRE + BsmBI_filler + HEK3_peg + BsaI_rev\n",
    "        oligos.append([f'ZF-ErBb_2x{i}', oligo]) "
   ]
  },
  {
   "cell_type": "markdown",
   "id": "5c2e1a98",
   "metadata": {},
   "source": [
    "# Retriving symbols from the DNA Tape. "
   ]
  },
  {
   "cell_type": "markdown",
   "id": "8004b381-ee6f-4f61-9d44-1dfc115e6fb4",
   "metadata": {},
   "source": [
    "This section provides information about how to process recording data from fastq files.\\\n",
    "Briefly, barcodes were extracted and counted from raw fastq files by pattern matching function regex. \\\n",
    "There are two types of tapes: synHEK3-Tape and DNA Typewriter 5x-Tape. "
   ]
  },
  {
   "cell_type": "markdown",
   "id": "e9498064",
   "metadata": {},
   "source": [
    "## Processing synHEK3 Tape"
   ]
  },
  {
   "cell_type": "code",
   "execution_count": null,
   "id": "568719c0-d6f8-4b2c-b2ac-71028386cf06",
   "metadata": {
    "tags": []
   },
   "outputs": [],
   "source": [
    "import subprocess\n",
    "import os\n",
    "path = '../' # data dir here\n",
    "samples =[s for s in os.listdir(path) if 'fastq.gz' in s if 'R1' in s] # for HEK3-TAPE\n",
    "\n",
    "for s in samples:\n",
    "    cmd = (\n",
    "        f\"zcat {path}{s} | awk '{{if(NR%4==2) print $0}}' | \"\n",
    "        f\"awk ' match($1,/CATCA([ATCG]{{0,6}})CGTGC/) {{print substr($1, RSTART+5,RLENGTH-10)}}' | \"\n",
    "        f\"sort -k1n | uniq -c | sort -k1nr | \"\n",
    "        f\"awk '{{a[NR]=$2;x+=(b[NR]=$1)}}END{{while(++i<=NR) print a[i]\\\"\\\\t\\\"b[i]\\\"\\\\t\\\"100*b[i]/x}}' \"\n",
    "        f\"> {path}{s.split('_S')[0]}_bc_count.tsv&\"\n",
    "    )\n",
    "    p=subprocess.Popen(cmd, stdout=subprocess.PIPE, shell=True)\n",
    "    p.wait()"
   ]
  },
  {
   "cell_type": "markdown",
   "id": "d3d573ae-13aa-459e-bea9-ae0c403b0061",
   "metadata": {
    "tags": []
   },
   "source": [
    "## Processing DNA Typewriter \n",
    "DTT data was first aligned to the reference and then analyzed by the custom python script to extract and count the barcode"
   ]
  },
  {
   "cell_type": "code",
   "execution_count": null,
   "id": "ba2fd48b-26e4-459e-9b21-da5c994cbc9a",
   "metadata": {},
   "outputs": [],
   "source": [
    "path = '../' # or pulse \n",
    "samples =[s for s in os.listdir(path) if '.gz' in s and 'R1' in s]\n",
    "# don't forget to bwa index DTT.fasta\n",
    "ref = '../analysis/DTT.fasta' # DTT.fasta is the reference genome\n",
    "for s in samples:\n",
    "    cmd = (\n",
    "        f\"bwa mem {ref} {path}{s} \"\n",
    "        f\"| samtools view -F 0x904 | awk '$3 == \\\"5X_TAPE\\\" {{print $1\\\"\\\\t\\\"$3\\\"\\\\t\\\"$10; next}}' \"\n",
    "        f\"> {path}{s.split('_S')[0]}.txt&\"\n",
    "    )\n",
    "    p=subprocess.Popen(cmd,stdout=subprocess.DEVNULL,stderr=subprocess.STDOUT, shell=True)\n",
    "    p.wait()"
   ]
  },
  {
   "cell_type": "code",
   "execution_count": null,
   "id": "08e23816-2583-444f-87b7-b2cb484d4148",
   "metadata": {},
   "outputs": [],
   "source": [
    "path = '../'\n",
    "samples =sorted([s.split('.txt')[0] for s in os.listdir(path) if '.txt' in s and 'dox' not in s])\n",
    "\n",
    "pipeline = ''\n",
    "for sample in samples:\n",
    "    cmd = f\"python ../analysis/PE_analysis_5XTAPE_wnt_dox.py {sample} {path} &\"\n",
    "    print (cmd)"
   ]
  }
 ],
 "metadata": {
  "kernelspec": {
   "display_name": "py312",
   "language": "python",
   "name": "python3"
  },
  "language_info": {
   "codemirror_mode": {
    "name": "ipython",
    "version": 3
   },
   "file_extension": ".py",
   "mimetype": "text/x-python",
   "name": "python",
   "nbconvert_exporter": "python",
   "pygments_lexer": "ipython3",
   "version": "3.12.4"
  }
 },
 "nbformat": 4,
 "nbformat_minor": 5
}
