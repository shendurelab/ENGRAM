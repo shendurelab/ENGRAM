{
 "cells": [
  {
   "cell_type": "code",
   "execution_count": 1,
   "id": "c1e7b7f8-7aca-409b-966d-6f24baebfbd4",
   "metadata": {
    "tags": []
   },
   "outputs": [],
   "source": [
    "import os,sys,csv,re\n",
    "import numpy as np\n",
    "import pandas as pd\n",
    "import matplotlib\n",
    "import matplotlib.pyplot as plt \n",
    "import seaborn as sns\n",
    "from umi_tools._dedup_umi import edit_distance\n",
    "from sklearn.datasets import load_breast_cancer\n",
    "from sklearn.preprocessing import StandardScaler\n",
    "from sklearn.decomposition import PCA\n",
    "from sklearn.datasets import make_blobs\n",
    "from sklearn.cluster import KMeans\n",
    "from sklearn.metrics import silhouette_score\n",
    "%matplotlib inline"
   ]
  },
  {
   "cell_type": "code",
   "execution_count": 3,
   "id": "828798b7-7734-4dfb-be81-97583836499a",
   "metadata": {
    "tags": []
   },
   "outputs": [],
   "source": [
    "def str2array(s):\n",
    "    a,b= s.split('\\t')[:2]\n",
    "    return (a,int(b))\n",
    "def merge_edit_1(counts):\n",
    "    keep,collapse = [],counts[0:]\n",
    "    while len(collapse)>0:\n",
    "        ref = list(collapse[0]) # need to convert to list here otherwise will keep updating the value to new_cluster\n",
    "        temp = []\n",
    "        for s in collapse[1:]:\n",
    "            s1 = ref[0]\n",
    "            s2 = s[0]\n",
    "            if abs(len(s1)-len(s2))<=1 and edit_distance(s1.encode('utf-8'),s2.encode('utf-8'))<2:\n",
    "                ref[-1] += s[-1]\n",
    "            else:\n",
    "                temp.append(s)\n",
    "        keep.append(ref)\n",
    "        collapse = temp[0:]\n",
    "    return np.array(keep,dtype=object)\n",
    "def gen_min_edit(barcodes,array):\n",
    "    temp=[]\n",
    "    for a in array:\n",
    "        temp.append(min([edit_distance(a.encode('utf-8'),s.encode('utf-8')) for s in barcodes if len(a) >1 ]))\n",
    "    return temp\n",
    "matplotlib.rcParams['font.family'] = 'Helvetica'"
   ]
  },
  {
   "cell_type": "markdown",
   "id": "760f76c5-e410-4edd-9c8e-4761af548df9",
   "metadata": {
    "tags": []
   },
   "source": [
    "# Get the overall editing efficiency over time"
   ]
  },
  {
   "cell_type": "code",
   "execution_count": 4,
   "id": "0f081d21-d823-4795-ac72-d6905e5a19be",
   "metadata": {
    "tags": []
   },
   "outputs": [],
   "source": [
    "plt_order = ['Chir-1d-Dox', 'Chir-2d-Dox','Chir-3d-Dox',\n",
    " 'Dox-1d-Chir', 'Dox-2d-Chir', 'Dox-3d-Chir']"
   ]
  },
  {
   "cell_type": "markdown",
   "id": "5d889477-4c92-4ab3-b53f-bcd84696cd74",
   "metadata": {
    "tags": []
   },
   "source": [
    "## Serial"
   ]
  },
  {
   "cell_type": "code",
   "execution_count": 5,
   "id": "050d25c2-7f68-4397-bb50-35ff8549b084",
   "metadata": {
    "tags": []
   },
   "outputs": [
    {
     "data": {
      "image/png": "[encoded data removed]",
      "text/plain": [
       "<Figure size 300x150 with 1 Axes>"
      ]
     },
     "metadata": {},
     "output_type": "display_data"
    }
   ],
   "source": [
    "path  = '../Figure4/DTT/'\n",
    "days  = ['1d','2d','3d']\n",
    "conds = ['Chir', 'Dox']\n",
    "## additional Wnt-dox expect to be negative\n",
    "ref = pd.DataFrame([('GTT','Dox'),('ACA','Wnt')],columns = ['barcode','Sample'])\n",
    "df = pd.DataFrame(columns= ['Position','ratio','rep','condition'])\n",
    "con = 'serial'\n",
    "for day in days:\n",
    "    for i in range(1,4):\n",
    "        test = pd.read_csv(path + '293T-TAPE-'+con+'-'+conds[0] + '-' + day + '-'+ \\\n",
    "                           conds[1]+'_rep'+str(i)+'_bc_count.csv',sep='\\t').merge(ref).groupby('Position').sum(numeric_only=True).reset_index()\n",
    "        test['rep']='rep'+str(i)\n",
    "        test['condition']= conds[0] + '-' + day + '-'+  conds[1]\n",
    "        test2 = pd.read_csv(path + '293T-TAPE-'+con+'-'+conds[1] + '-' + day + '-'+ \\\n",
    "                           conds[0]+'_rep'+str(i)+'_bc_count.csv',sep='\\t').merge(ref).groupby('Position').sum(numeric_only=True).reset_index()\n",
    "        test2['rep']='rep'+str(i)\n",
    "        test2['condition']= conds[1] + '-' + day + '-'+  conds[0]\n",
    "        df = pd.concat([df,test],axis=0)\n",
    "        df = pd.concat([df,test2],axis=0)\n",
    "        \n",
    "df = df.reset_index(drop=True)\n",
    "fig, axs = fig, axs = plt.subplots(1,1,figsize=(3,1.5),sharey=False,sharex=False)\n",
    "g=sns.barplot(data=df,x='Position',y='ratio',hue='condition', \\\n",
    "              palette=['#C7CEF6','#ACB7F8','#7496D2','#F5CDB6','#F7B0AA','#FB8072','#FDDDA4','#76A08A'],\\\n",
    "              hue_order=plt_order,errwidth=0.5, errorbar='sd', capsize=0.06, ax=axs)\n",
    "sns.stripplot(data=df, x=\"Position\", y='ratio', hue=\"condition\",hue_order=plt_order,dodge=True,palette='dark:#4A4A4A',marker='.',size=2.5,ax=axs)\n",
    "\n",
    "g.legend_.remove()\n",
    "\n",
    "sns.despine(offset=3,top=True,right=True)\n",
    "\n",
    "axs.set_xlabel('')\n",
    "axs.set_ylabel('')\n",
    "axs.set_ylim(0,75)\n",
    "axs.yaxis.set_tick_params(width=0.8, length=2,labelsize=6)\n",
    "axs.xaxis.set_tick_params(width=0.8, length=2,labelsize=6)\n",
    "#plt.savefig('../Figure4/fig/DTT_serial_edit_eff.pdf')"
   ]
  },
  {
   "cell_type": "markdown",
   "id": "31f647e6-2f1c-46e2-a809-9ba3782410a2",
   "metadata": {
    "tags": []
   },
   "source": [
    "## Layered"
   ]
  },
  {
   "cell_type": "code",
   "execution_count": 6,
   "id": "c566d4a4-e3be-48eb-973b-72c3ef1dd106",
   "metadata": {
    "tags": []
   },
   "outputs": [
    {
     "data": {
      "image/png": "[encoded data removed]",
      "text/plain": [
       "<Figure size 300x150 with 1 Axes>"
      ]
     },
     "metadata": {},
     "output_type": "display_data"
    }
   ],
   "source": [
    "path  = '../Figure4/DTT/'\n",
    "days  = ['1d','2d','3d']\n",
    "conds = ['Chir', 'Dox']\n",
    "## additional Wnt-dox expect to be negative\n",
    "ref = pd.DataFrame([('GTT','Dox'),('ACA','Wnt')],columns = ['barcode','Sample'])\n",
    "df = pd.DataFrame(columns= ['Position','ratio','rep','condition'])\n",
    "con = 'layered'\n",
    "for day in days:\n",
    "    for i in range(1,4):\n",
    "        test = pd.read_csv(path + '293T-TAPE-'+con+'-'+conds[0] + '-' + day + '-'+ \\\n",
    "                           conds[1]+'_rep'+str(i)+'_bc_count.csv',sep='\\t').merge(ref).groupby('Position').sum(numeric_only=True).reset_index()\n",
    "        test['rep']='rep'+str(i)\n",
    "        test['condition']= conds[0] + '-' + day + '-'+  conds[1]\n",
    "        test2 = pd.read_csv(path + '293T-TAPE-'+con+'-'+conds[1] + '-' + day + '-'+ \\\n",
    "                           conds[0]+'_rep'+str(i)+'_bc_count.csv',sep='\\t').merge(ref).groupby('Position').sum(numeric_only=True).reset_index()\n",
    "        test2['rep']='rep'+str(i)\n",
    "        test2['condition']= conds[1] + '-' + day + '-'+  conds[0]\n",
    "        df = pd.concat([df,test],axis=0)\n",
    "        df = pd.concat([df,test2],axis=0)\n",
    "        \n",
    "df = df.reset_index(drop=True)\n",
    "fig, axs = plt.subplots(1,1,figsize=(3,1.5),sharey=False,sharex=False)\n",
    "g=sns.barplot(data=df,x='Position',y='ratio',hue='condition', \\\n",
    "              palette=['#C7CEF6','#ACB7F8','#7496D2','#F5CDB6','#F7B0AA','#FB8072','#FDDDA4','#76A08A'],\\\n",
    "              hue_order=plt_order,errwidth=0.5, errorbar='sd', capsize=0.06, ax=axs)\n",
    "sns.stripplot(data=df, x=\"Position\", y='ratio', hue=\"condition\",hue_order=plt_order,dodge=True,palette='dark:#4A4A4A',marker='.',size=2.5,ax=axs)\n",
    "\n",
    "g.legend_.remove()\n",
    "\n",
    "sns.despine(offset=3,top=True,right=True)\n",
    "\n",
    "axs.set_xlabel('')\n",
    "axs.set_ylabel('')\n",
    "axs.set_ylim(0,75)\n",
    "axs.yaxis.set_tick_params(width=0.8, length=2,labelsize=6)\n",
    "axs.xaxis.set_tick_params(width=0.8, length=2,labelsize=6)\n",
    "#plt.savefig('../Figure4/fig/DTT_layered_edit_eff.pdf')"
   ]
  },
  {
   "cell_type": "markdown",
   "id": "2b7a64e3-c114-48fc-905d-5c46d90974be",
   "metadata": {
    "tags": []
   },
   "source": [
    "## Pulse"
   ]
  },
  {
   "cell_type": "code",
   "execution_count": 8,
   "id": "1fb5d6c1-4b11-41fc-84a0-7b0b43df56be",
   "metadata": {
    "tags": []
   },
   "outputs": [
    {
     "data": {
      "image/png": "[encoded data removed]",
      "text/plain": [
       "<Figure size 300x150 with 1 Axes>"
      ]
     },
     "metadata": {},
     "output_type": "display_data"
    }
   ],
   "source": [
    "path = '../Figure4/pulse/'\n",
    "samples = np.unique(sorted([s.split('_')[0] for s in os.listdir(path) if '.csv' in s and 'pulse' in s]))\n",
    "## additional Wnt-dox expect to be negative\n",
    "ref = pd.DataFrame([('GTT','Dox'),('ACA','Wnt')],columns = ['barcode','Sample'])\n",
    "df = pd.DataFrame(columns= ['Position','ratio','rep','condition'])\n",
    "for samp in samples:\n",
    "    for i in range(1,4):\n",
    "        test = pd.read_csv(path + samp + '_rep'+str(i)+'_bc_count.csv',sep='\\t').merge(ref).groupby('Position').sum(numeric_only=True).reset_index()\n",
    "        test['rep']='rep'+str(i)\n",
    "        test['condition']= samp.split('-')[-2]\n",
    "        df = pd.concat([df,test],axis=0)\n",
    "\n",
    "df = df.reset_index(drop=True)\n",
    "fig, axs = fig, axs = plt.subplots(1,1,figsize=(3,1.5),sharey=False,sharex=False)\n",
    "g=sns.barplot(data=df,x='Position',y='ratio',hue='condition', \\\n",
    "              palette=['#7496D2','#F7B0AA','#FDDDA4','#76A08A'],\\\n",
    "              errwidth=0.5, errorbar='sd', capsize=.1, ax=axs)\n",
    "sns.stripplot(data=df, x=\"Position\", y='ratio', hue=\"condition\",dodge=True,palette='dark:#4A4A4A',marker='.',size=2.5,ax=axs)\n",
    "\n",
    "g.legend_.remove()\n",
    "\n",
    "sns.despine(offset=3,top=True,right=True)\n",
    "\n",
    "axs.set_xlabel('')\n",
    "axs.set_ylabel('')\n",
    "axs.set_ylim(0,75)\n",
    "axs.yaxis.set_tick_params(width=0.8, length=2,labelsize=6)\n",
    "axs.xaxis.set_tick_params(width=0.8, length=2,labelsize=6)\n",
    "#plt.savefig('../Figure4/fig/DTT_pulse_edit_eff.pdf')"
   ]
  },
  {
   "cell_type": "markdown",
   "id": "9a9e4145-d878-4257-8ef8-7f243089620d",
   "metadata": {
    "tags": []
   },
   "source": [
    "# Get the order ratio"
   ]
  },
  {
   "cell_type": "markdown",
   "id": "847c0023-f369-4db7-aa8f-03b8353f7ce8",
   "metadata": {
    "tags": []
   },
   "source": [
    "## Serial"
   ]
  },
  {
   "cell_type": "code",
   "execution_count": 9,
   "id": "27fafc5d-a8d9-4201-b856-da74b11fdc09",
   "metadata": {
    "tags": []
   },
   "outputs": [
    {
     "data": {
      "image/png": "[encoded data removed]",
      "text/plain": [
       "<Figure size 150x125 with 1 Axes>"
      ]
     },
     "metadata": {},
     "output_type": "display_data"
    }
   ],
   "source": [
    "path = '../Figure4/DTT/'\n",
    "days  = ['1d','2d','3d']\n",
    "conds = ['Chir', 'Dox']\n",
    "## additional Wnt-dox expect to be negative\n",
    "ref = pd.DataFrame([('ACA+GTT','Wnt2Dox'),('GTT+ACA','Dox2Wnt')],columns = ['barcode','Sample'])\n",
    "df = pd.DataFrame(columns= ['day','rep','condition','ratio'])\n",
    "con = 'serial'\n",
    "for day in days:\n",
    "    for i in range(1,4):\n",
    "        temp = pd.read_csv(path + '293T-TAPE-'+con+'-'+conds[0] + '-' + day + '-'+ \\\n",
    "                           conds[1]+'_rep'+str(i)+'_bc_count.csv',sep='\\t')\n",
    "        temp = temp[temp['Position']!='1to3'].merge(ref).groupby('Sample').sum(numeric_only=True).reset_index()\n",
    "        test = pd.DataFrame((int(day[0]), 'rep'+str(i), conds[0] + '-'+  conds[1], \\\n",
    "                             np.log2(float(temp.loc[(temp['Sample']=='Dox2Wnt'),'count'].iloc[0]+1)/\\\n",
    "                                     float(temp.loc[(temp['Sample']=='Wnt2Dox'),'count'].iloc[0]+1))),\\\n",
    "                                      index= ['day','rep','condition','ratio']).T\n",
    "        \n",
    "        temp = pd.read_csv(path + '293T-TAPE-'+con+'-'+conds[1] + '-' + day + '-'+ \\\n",
    "                           conds[0]+'_rep'+str(i)+'_bc_count.csv',sep='\\t')        \n",
    "        temp = temp[temp['Position']!='1to3'].merge(ref).groupby('Sample').sum(numeric_only=True).reset_index()\n",
    "        test2 = pd.DataFrame((int(day[0]), 'rep'+str(i), conds[1] + '-' +  conds[0], \\\n",
    "                             np.log2(float(temp.loc[(temp['Sample']=='Dox2Wnt'),'count'].iloc[0]+1)/\\\n",
    "                                     float(temp.loc[(temp['Sample']=='Wnt2Dox'),'count'].iloc[0]+1))),\\\n",
    "                                      index= ['day','rep','condition','ratio']).T\n",
    "        df = pd.concat([df,test],axis=0)\n",
    "        df = pd.concat([df,test2],axis=0)\n",
    "\n",
    "df = df.reset_index(drop=True)\n",
    "df['day'] =  df['day'].astype('category')\n",
    "fig, axs = fig, axs = plt.subplots(1,1,figsize=(1.5,1.25),sharey=False,sharex=False)\n",
    "g=sns.barplot(data=df,x='day',y='ratio',hue='condition', palette=['#AFAFAF','#AFAFAF'],\\\n",
    "              errwidth=0.5, errorbar='sd', capsize=.1, ax=axs)\n",
    "sns.stripplot(data=df, x=\"day\", y='ratio', hue=\"condition\",dodge=True,palette='dark:#4A4A4A',marker='.',size=2.5,ax=axs)\n",
    "\n",
    "g.legend_.remove()\n",
    "sns.despine(offset=3)#,bottom=True,top=False,right=True)\n",
    "\n",
    "axs.set_xlabel('')\n",
    "axs.set_ylabel('')\n",
    "axs.set_ylim(-4,4)\n",
    "axs.yaxis.set_tick_params(width=0.8, length=2,labelsize=6)\n",
    "axs.xaxis.set_tick_params(width=0.8, length=2,labelsize=6)\n",
    "#g.axes.xaxis.set_ticks_position(\"bottom\")\n",
    "\n",
    "#plt.savefig('../Figure4/fig/DTT_serial_order.pdf')"
   ]
  },
  {
   "cell_type": "markdown",
   "id": "dfd54a85-7edd-4e46-b1ce-2a33cd292da2",
   "metadata": {
    "tags": []
   },
   "source": [
    "## Layered"
   ]
  },
  {
   "cell_type": "code",
   "execution_count": 10,
   "id": "33b2a768-f8b9-4566-bf5b-1f8433b07355",
   "metadata": {
    "tags": []
   },
   "outputs": [
    {
     "data": {
      "image/png": "[encoded data removed]",
      "text/plain": [
       "<Figure size 150x125 with 1 Axes>"
      ]
     },
     "metadata": {},
     "output_type": "display_data"
    }
   ],
   "source": [
    "path = '../Figure4/DTT/'\n",
    "days  = ['1d','2d','3d']\n",
    "conds = ['Chir', 'Dox']\n",
    "## additional Wnt-dox expect to be negative\n",
    "ref = pd.DataFrame([('ACA+GTT','Wnt2Dox'),('GTT+ACA','Dox2Wnt')],columns = ['barcode','Sample'])\n",
    "df = pd.DataFrame(columns= ['day','rep','condition','ratio'])\n",
    "con = 'layered'\n",
    "for day in days:\n",
    "    for i in range(1,4):\n",
    "        temp = pd.read_csv(path + '293T-TAPE-'+con+'-'+conds[0] + '-' + day + '-'+ \\\n",
    "                           conds[1]+'_rep'+str(i)+'_bc_count.csv',sep='\\t')\n",
    "        temp = temp[temp['Position']!='1to3'].merge(ref).groupby('Sample').sum(numeric_only=True).reset_index()\n",
    "        test = pd.DataFrame((int(day[0]), 'rep'+str(i), conds[0] + '-'+  conds[1], \\\n",
    "                             np.log2(float(temp.loc[(temp['Sample']=='Dox2Wnt'),'count'].iloc[0]+1)/\\\n",
    "                                     float(temp.loc[(temp['Sample']=='Wnt2Dox'),'count'].iloc[0]+1))),\\\n",
    "                                      index= ['day','rep','condition','ratio']).T\n",
    "        \n",
    "        temp = pd.read_csv(path + '293T-TAPE-'+con+'-'+conds[1] + '-' + day + '-'+ \\\n",
    "                           conds[0]+'_rep'+str(i)+'_bc_count.csv',sep='\\t')        \n",
    "        temp = temp[temp['Position']!='1to3'].merge(ref).groupby('Sample').sum(numeric_only=True).reset_index()\n",
    "        test2 = pd.DataFrame((int(day[0]), 'rep'+str(i), conds[1] + '-' +  conds[0], \\\n",
    "                             np.log2(float(temp.loc[(temp['Sample']=='Dox2Wnt'),'count'].iloc[0]+1)/\\\n",
    "                                     float(temp.loc[(temp['Sample']=='Wnt2Dox'),'count'].iloc[0]+1))),\\\n",
    "                                      index= ['day','rep','condition','ratio']).T\n",
    "        df = pd.concat([df,test],axis=0)\n",
    "        df = pd.concat([df,test2],axis=0)\n",
    "\n",
    "df = df.reset_index(drop=True)\n",
    "df['day'] =  df['day'].astype('category')\n",
    "fig, axs = fig, axs = plt.subplots(1,1,figsize=(1.5,1.25),sharey=False,sharex=False)\n",
    "g=sns.barplot(data=df,x='day',y='ratio',hue='condition', palette=['#AFAFAF','#AFAFAF'],\\\n",
    "              errwidth=0.5, errorbar='sd', capsize=.1, ax=axs)\n",
    "sns.stripplot(data=df, x=\"day\", y='ratio', hue=\"condition\",dodge=True,palette='dark:#4A4A4A',marker='.',size=2.5,ax=axs)\n",
    "\n",
    "g.legend_.remove()\n",
    "sns.despine(offset=3)#,bottom=True,top=False,right=True)\n",
    "\n",
    "axs.set_xlabel('')\n",
    "axs.set_ylabel('')\n",
    "axs.set_ylim(-4,4)\n",
    "axs.yaxis.set_tick_params(width=0.8, length=2,labelsize=6)\n",
    "axs.xaxis.set_tick_params(width=0.8, length=2,labelsize=6)\n",
    "#g.axes.xaxis.set_ticks_position(\"bottom\")\n",
    "\n",
    "#plt.savefig('../Figure4/fig/DTT_layered_order.pdf')"
   ]
  },
  {
   "cell_type": "markdown",
   "id": "dad3ed36-6d2d-46ab-981b-e3f5d80f26ab",
   "metadata": {},
   "source": [
    "## Pulse"
   ]
  },
  {
   "cell_type": "code",
   "execution_count": 11,
   "id": "6e8e1304-3cda-4a88-a9e8-2519e8b01a89",
   "metadata": {
    "tags": []
   },
   "outputs": [
    {
     "data": {
      "image/png": "[encoded data removed]",
      "text/plain": [
       "<Figure size 100x125 with 1 Axes>"
      ]
     },
     "metadata": {},
     "output_type": "display_data"
    }
   ],
   "source": [
    "path = '../Figure4/pulse/'\n",
    "samples = np.unique(sorted([s.split('_')[0] for s in os.listdir(path) if '.csv' in s and 'pulse' in s]))\n",
    "ref = pd.DataFrame([('ACA+GTT','Wnt2Dox'),('GTT+ACA','Dox2Wnt')],columns = ['barcode','Sample'])\n",
    "df = pd.DataFrame(columns= ['day','rep','condition','ratio'])\n",
    "for samp in samples:\n",
    "    for i in range(1,4):\n",
    "        temp = pd.read_csv(path + samp + '_rep'+str(i)+'_bc_count.csv',sep='\\t').merge(ref)\n",
    "        temp = temp[temp['Position']!='1to3'].merge(ref).groupby('Sample').sum(numeric_only=True).reset_index()\n",
    "        test = pd.DataFrame((samp.split('-')[-2], 'rep'+str(i), conds[0] + '-'+  conds[1], \\\n",
    "                             np.log2(float(temp.loc[(temp['Sample']=='Dox2Wnt'),'count'].iloc[0]+1)/\\\n",
    "                                     float(temp.loc[(temp['Sample']=='Wnt2Dox'),'count'].iloc[0]+1))),\\\n",
    "                            index= ['day','rep','condition','ratio']).T\n",
    "        df = pd.concat([df,test],axis=0)\n",
    "        \n",
    "fig, axs = fig, axs = plt.subplots(1,1,figsize=(1,1.25),sharey=False,sharex=False)\n",
    "df = df.reset_index(drop=True)\n",
    "g=sns.barplot(data=df,x='day',y='ratio',hue='condition', palette=['#AFAFAF'],\\\n",
    "              errwidth=0.5, errorbar='sd', capsize=.1, ax=axs)\n",
    "sns.stripplot(data=df, x=\"day\", y='ratio', hue=\"condition\",dodge=True,palette='dark:#4A4A4A',marker='.',size=2.5,ax=axs)\n",
    "\n",
    "g.legend_.remove()\n",
    "sns.despine(offset=3,top=True,right=True)\n",
    "axs.set_xlabel('')\n",
    "axs.set_ylabel('')\n",
    "axs.set_ylim(-4,4)\n",
    "axs.yaxis.set_tick_params(width=0.8, length=2,labelsize=6)\n",
    "axs.xaxis.set_tick_params(width=0.8, length=2,labelsize=6)\n",
    "#plt.savefig('../Figure4/fig/DTT_pulse_order.pdf')"
   ]
  },
  {
   "cell_type": "markdown",
   "id": "f2981229-3861-43f2-b1e9-e2328bd36358",
   "metadata": {
    "tags": []
   },
   "source": [
    "# Bigram map"
   ]
  },
  {
   "cell_type": "markdown",
   "id": "307a5410-340c-4c70-a771-dfe7bbf23604",
   "metadata": {
    "tags": []
   },
   "source": [
    "## Serial Chir-dox"
   ]
  },
  {
   "cell_type": "code",
   "execution_count": 12,
   "id": "3bd6240f-21ab-461b-bb20-f4ed22633291",
   "metadata": {
    "tags": []
   },
   "outputs": [
    {
     "name": "stdout",
     "output_type": "stream",
     "text": [
      "0.5009766310614593 0.5009766310614606\n",
      "0.7200845448570596 0.720084544857059\n",
      "0.07040072691171488 0.07040072691171151\n"
     ]
    },
    {
     "data": {
      "image/png": "[encoded data removed]",
      "text/plain": [
       "<Figure size 250x80 with 2 Axes>"
      ]
     },
     "metadata": {},
     "output_type": "display_data"
    }
   ],
   "source": [
    "path = '../Figure4/DTT/'\n",
    "days  = ['1d','2d','3d']\n",
    "conds = ['Chir', 'Dox']\n",
    "## additional Wnt-dox expect to be negative\n",
    "ref = pd.DataFrame([('ACA+GTT','Wnt2Dox'),('GTT+ACA','Dox2Wnt')],columns = ['barcode','Sample'])\n",
    "\n",
    "con = 'serial'\n",
    "k=0\n",
    "matrix = np.zeros((3,2))\n",
    "for day in days:\n",
    "    a,b = [],[]\n",
    "    for i in range(1,4):\n",
    "        temp = pd.read_csv(path + '293T-TAPE-'+con+'-'+conds[0] + '-' + day + '-'+ \\\n",
    "                           conds[1]+'_rep'+str(i)+'_bc_count.csv',sep='\\t')\n",
    "        temp = pd.concat((temp[temp['barcode']=='GTT+ACA'].merge(ref).groupby('Sample').sum(numeric_only=True).reset_index(),\\\n",
    "                          temp[temp['barcode']=='ACA+GTT'].merge(ref).groupby('Sample').sum(numeric_only=True).reset_index())).reset_index(drop=True)\n",
    "        temp['ratio']=temp['count']/temp['count'].sum()\n",
    "        a.append(temp[temp['Sample']=='Dox2Wnt']['ratio'][0])\n",
    "        b.append(temp[temp['Sample']=='Wnt2Dox']['ratio'][1])\n",
    "    matrix[k,0] = np.mean(a)*100\n",
    "    matrix[k,1] = np.mean(b)*100\n",
    "    print (np.std(a)*100,np.std(b)*100)\n",
    "    k+=1\n",
    "fig, axs = plt.subplots(1,1,figsize=(2.5,0.8),sharey=False,sharex=False)\n",
    "sns.heatmap(matrix, annot=True,vmax=100,vmin=0,cmap='Blues', fmt='.1f',ax=axs)\n",
    "\n",
    "sns.despine(offset=3,left=True, bottom=True)\n",
    "\n",
    "axs.set_xlabel('')\n",
    "axs.set_ylabel('')\n",
    "axs.yaxis.set_tick_params(width=0, length=0,labelsize=0)\n",
    "axs.xaxis.set_tick_params(width=0, length=0,labelsize=0)\n",
    "#plt.savefig(f'../Figure4/fig/DTT_{con}_{conds[0]}_{conds[1]}_bigram_raw.pdf')"
   ]
  },
  {
   "cell_type": "markdown",
   "id": "14477880-33fb-429c-b2dc-6289e4131550",
   "metadata": {
    "tags": []
   },
   "source": [
    "## Serial dox-chir"
   ]
  },
  {
   "cell_type": "code",
   "execution_count": 13,
   "id": "b4ffb451-f5b6-460b-a6c8-5a3e1ca80910",
   "metadata": {
    "tags": []
   },
   "outputs": [
    {
     "name": "stdout",
     "output_type": "stream",
     "text": [
      "2.56656449654735 2.566564496547352\n",
      "0.6793628646746226 0.6793628646746236\n",
      "0.3330507097205395 0.3330507097205415\n",
      "[[73.64301073 26.35698927]\n",
      " [87.6182758  12.3817242 ]\n",
      " [90.45465531  9.54534469]]\n"
     ]
    },
    {
     "data": {
      "image/png": "[encoded data removed]",
      "text/plain": [
       "<Figure size 250x80 with 2 Axes>"
      ]
     },
     "metadata": {},
     "output_type": "display_data"
    }
   ],
   "source": [
    "path = '../Figure4/DTT/'\n",
    "days  = ['1d','2d','3d']\n",
    "conds = ['Chir', 'Dox']\n",
    "## additional Wnt-dox expect to be negative\n",
    "ref = pd.DataFrame([('ACA+GTT','Wnt2Dox'),('GTT+ACA','Dox2Wnt')],columns = ['barcode','Sample'])\n",
    "\n",
    "con = 'serial'\n",
    "k=0\n",
    "matrix = np.zeros((3,2))\n",
    "for day in days:\n",
    "    a,b = [],[]\n",
    "    for i in range(1,4):\n",
    "        temp = pd.read_csv(path + '293T-TAPE-'+con+'-'+conds[1] + '-' + day + '-'+ \\\n",
    "                           conds[0]+'_rep'+str(i)+'_bc_count.csv',sep='\\t')\n",
    "        temp = pd.concat((temp[temp['barcode']=='GTT+ACA'].merge(ref).groupby('Sample').sum(numeric_only=True).reset_index(),\\\n",
    "                          temp[temp['barcode']=='ACA+GTT'].merge(ref).groupby('Sample').sum(numeric_only=True).reset_index())).reset_index(drop=True)\n",
    "        temp['ratio']=temp['count']/temp['count'].sum()\n",
    "        a.append(temp[temp['Sample']=='Dox2Wnt']['ratio'][0])\n",
    "        b.append(temp[temp['Sample']=='Wnt2Dox']['ratio'][1])\n",
    "    matrix[k,0] = np.mean(a)*100\n",
    "    matrix[k,1] = np.mean(b)*100\n",
    "    print (np.std(a)*100,np.std(b)*100)\n",
    "    k+=1\n",
    "print (matrix)\n",
    "fig, axs = plt.subplots(1,1,figsize=(2.5,0.8),sharey=False,sharex=False)\n",
    "sns.heatmap(matrix, annot=True,vmax=100,vmin=0,cmap='Blues', fmt='.1f',ax=axs)\n",
    "\n",
    "sns.despine(offset=3,left=True, bottom=True)\n",
    "\n",
    "axs.set_xlabel('')\n",
    "axs.set_ylabel('')\n",
    "axs.yaxis.set_tick_params(width=0, length=0,labelsize=0)\n",
    "axs.xaxis.set_tick_params(width=0, length=0,labelsize=0)\n",
    "#plt.savefig(f'../Figure4/fig/DTT_{con}_{conds[1]}_{conds[0]}_bigram_raw.pdf')"
   ]
  },
  {
   "cell_type": "markdown",
   "id": "c363d8d8-e826-4629-934b-1c0f2955c4fb",
   "metadata": {
    "tags": []
   },
   "source": [
    "## Layered chir-dox"
   ]
  },
  {
   "cell_type": "code",
   "execution_count": 14,
   "id": "da6917f3-cb32-4cd4-9ac0-ccd1410c468e",
   "metadata": {
    "tags": []
   },
   "outputs": [
    {
     "name": "stdout",
     "output_type": "stream",
     "text": [
      "0.6088574633813457 0.6088574633813482\n",
      "0.4043368158793666 0.4043368158793654\n",
      "0.39036696842245894 0.39036696842246144\n"
     ]
    },
    {
     "data": {
      "image/png": "[encoded data removed]",
      "text/plain": [
       "<Figure size 200x80 with 2 Axes>"
      ]
     },
     "metadata": {},
     "output_type": "display_data"
    }
   ],
   "source": [
    "path = '../Figure4/DTT/'\n",
    "days  = ['1d','2d','3d']\n",
    "conds = ['Chir', 'Dox']\n",
    "## additional Wnt-dox expect to be negative\n",
    "ref = pd.DataFrame([('ACA+GTT','Wnt2Dox'),('GTT+ACA','Dox2Wnt')],columns = ['barcode','Sample'])\n",
    "\n",
    "con = 'layered'\n",
    "matrix = np.zeros((3,2))\n",
    "k=0\n",
    "for day in days:\n",
    "    a,b = [],[]\n",
    "    for i in range(1,4):\n",
    "        temp = pd.read_csv(path + '293T-TAPE-'+con+'-'+conds[0] + '-' + day + '-'+ \\\n",
    "                           conds[1]+'_rep'+str(i)+'_bc_count.csv',sep='\\t')\n",
    "        temp = pd.concat((temp[temp['barcode']=='GTT+ACA'].merge(ref).groupby('Sample').sum(numeric_only=True).reset_index(),\\\n",
    "                          temp[temp['barcode']=='ACA+GTT'].merge(ref).groupby('Sample').sum(numeric_only=True).reset_index())).reset_index(drop=True)\n",
    "        temp['ratio']=temp['count']/temp['count'].sum()\n",
    "        a.append(temp[temp['Sample']=='Dox2Wnt']['ratio'][0])\n",
    "        b.append(temp[temp['Sample']=='Wnt2Dox']['ratio'][1])\n",
    "    matrix[k,0] = np.mean(a)*100\n",
    "    matrix[k,1] = np.mean(b)*100\n",
    "    print (np.std(a)*100,np.std(b)*100)\n",
    "    k+=1\n",
    "fig, axs = plt.subplots(1,1,figsize=(2,0.8),sharey=False,sharex=False)\n",
    "sns.heatmap(matrix, annot=True,vmax=100,vmin=0,cmap='Blues', fmt='.1f',ax=axs)\n",
    "\n",
    "sns.despine(offset=3,left=True, bottom=True)\n",
    "\n",
    "axs.set_xlabel('')\n",
    "axs.set_ylabel('')\n",
    "axs.yaxis.set_tick_params(width=0, length=0,labelsize=0)\n",
    "axs.xaxis.set_tick_params(width=0, length=0,labelsize=0)\n",
    "#plt.savefig(f'../Figure4/fig/DTT_{con}_{conds[0]}_{conds[1]}_bigram_raw.pdf')"
   ]
  },
  {
   "cell_type": "markdown",
   "id": "8fcb1760-62aa-40e4-8743-c5105a696874",
   "metadata": {},
   "source": [
    "## Layered dox-chir"
   ]
  },
  {
   "cell_type": "code",
   "execution_count": 15,
   "id": "f1349aab-f385-431b-954f-40e68e6e6aff",
   "metadata": {
    "tags": []
   },
   "outputs": [
    {
     "name": "stdout",
     "output_type": "stream",
     "text": [
      "0.07213901664510115 0.07213901664509857\n",
      "0.26219038473913686 0.26219038473913686\n",
      "0.2997787749337148 0.2997787749337106\n"
     ]
    },
    {
     "data": {
      "image/png": "[encoded data removed]",
      "text/plain": [
       "<Figure size 200x80 with 2 Axes>"
      ]
     },
     "metadata": {},
     "output_type": "display_data"
    }
   ],
   "source": [
    "path = '../Figure4/DTT/'\n",
    "days  = ['1d','2d','3d']\n",
    "conds = ['Chir', 'Dox']\n",
    "## additional Wnt-dox expect to be negative\n",
    "ref = pd.DataFrame([('ACA+GTT','Wnt2Dox'),('GTT+ACA','Dox2Wnt')],columns = ['barcode','Sample'])\n",
    "\n",
    "con = 'layered'\n",
    "matrix = np.zeros((3,2))\n",
    "k=0\n",
    "for day in days:\n",
    "    a,b = [],[]\n",
    "    for i in range(1,4):\n",
    "        temp = pd.read_csv(path + '293T-TAPE-'+con+'-'+conds[1] + '-' + day + '-'+ \\\n",
    "                           conds[0]+'_rep'+str(i)+'_bc_count.csv',sep='\\t')\n",
    "        temp = pd.concat((temp[temp['barcode']=='GTT+ACA'].merge(ref).groupby('Sample').sum(numeric_only=True).reset_index(),\\\n",
    "                          temp[temp['barcode']=='ACA+GTT'].merge(ref).groupby('Sample').sum(numeric_only=True).reset_index())).reset_index(drop=True)\n",
    "        temp['ratio']=temp['count']/temp['count'].sum()\n",
    "        a.append(temp[temp['Sample']=='Dox2Wnt']['ratio'][0])\n",
    "        b.append(temp[temp['Sample']=='Wnt2Dox']['ratio'][1])\n",
    "    matrix[k,0] = np.mean(a)*100\n",
    "    matrix[k,1] = np.mean(b)*100\n",
    "    print (np.std(a)*100,np.std(b)*100)\n",
    "    k+=1\n",
    "fig, axs = plt.subplots(1,1,figsize=(2,0.8),sharey=False,sharex=False)\n",
    "sns.heatmap(matrix, annot=True,vmax=100,vmin=0,cmap='Blues', fmt='.1f',ax=axs)\n",
    "\n",
    "sns.despine(offset=3,left=True, bottom=True)\n",
    "axs.set_xlabel('')\n",
    "axs.set_ylabel('')\n",
    "axs.yaxis.set_tick_params(width=0, length=0,labelsize=0)\n",
    "axs.xaxis.set_tick_params(width=0, length=0,labelsize=0)\n",
    "#plt.savefig(f'../Figure4/fig/DTT_{con}_{conds[1]}_{conds[0]}_bigram_raw.pdf')"
   ]
  },
  {
   "cell_type": "markdown",
   "id": "dc0c3382-b6b7-4052-8996-9134ef3411c9",
   "metadata": {
    "tags": []
   },
   "source": [
    "## Pulse"
   ]
  },
  {
   "cell_type": "code",
   "execution_count": 16,
   "id": "547731b6-5c5c-4592-9aa2-80909182331c",
   "metadata": {
    "tags": []
   },
   "outputs": [
    {
     "name": "stdout",
     "output_type": "stream",
     "text": [
      "0.5351794397966272 0.5351794397966275\n",
      "1.6410689710663902 1.6410689710663877\n",
      "0.1345288565860922 0.13452885658608815\n",
      "[[89.16263504 10.83736496]\n",
      " [41.23427405 58.76572595]\n",
      " [11.4223655  88.5776345 ]]\n"
     ]
    },
    {
     "data": {
      "image/png": "[encoded data removed]",
      "text/plain": [
       "<Figure size 200x100 with 2 Axes>"
      ]
     },
     "metadata": {},
     "output_type": "display_data"
    }
   ],
   "source": [
    "path = '../Figure4/pulse/'\n",
    "samples = np.unique(sorted([s.split('_')[0] for s in os.listdir(path) if '.csv' in s and 'pulse' in s]))\n",
    "ref = pd.DataFrame([('ACA+GTT','Wnt2Dox'),('GTT+ACA','Dox2Wnt')],columns = ['barcode','Sample'])\n",
    "\n",
    "matrix = np.zeros((3,2))\n",
    "k=0\n",
    "for samp in samples:\n",
    "    a,b = [],[]\n",
    "    for i in range(1,4):\n",
    "        temp = pd.read_csv(path + samp + '_rep'+str(i)+'_bc_count.csv',sep='\\t')\n",
    "        temp = pd.concat((temp[temp['barcode']=='GTT+ACA'].merge(ref).groupby('Sample').sum(numeric_only=True).reset_index(),\\\n",
    "                          temp[temp['barcode']=='ACA+GTT'].merge(ref).groupby('Sample').sum(numeric_only=True).reset_index())).reset_index(drop=True)\n",
    "        temp['ratio']=temp['count']/temp['count'].sum()\n",
    "        a.append(temp[temp['Sample']=='Dox2Wnt']['ratio'][0])\n",
    "        b.append(temp[temp['Sample']=='Wnt2Dox']['ratio'][1])\n",
    "    matrix[k,0] = np.mean(a)*100\n",
    "    matrix[k,1] = np.mean(b)*100\n",
    "    print (np.std(a)*100,np.std(b)*100)\n",
    "    k+=1\n",
    "print (matrix)\n",
    "\n",
    "fig, axs = plt.subplots(1,1,figsize=(2,1),sharey=False,sharex=False)\n",
    "sns.heatmap(matrix, annot=True,vmax=100,vmin=0,cmap='Blues', fmt='.1f',ax=axs)\n",
    "\n",
    "sns.despine(offset=3,left=True, bottom=True)\n",
    "\n",
    "axs.set_xlabel('')\n",
    "axs.set_ylabel('')\n",
    "axs.yaxis.set_tick_params(width=0, length=0,labelsize=0)\n",
    "axs.xaxis.set_tick_params(width=0, length=0,labelsize=0)\n",
    "#plt.savefig('../Figure4/fig/DTT_pulse_bigram_raw.pdf')"
   ]
  },
  {
   "cell_type": "markdown",
   "id": "225ee746-b7f8-47a3-a762-4d02726910f5",
   "metadata": {
    "tags": []
   },
   "source": [
    "# Unigram"
   ]
  },
  {
   "cell_type": "markdown",
   "id": "794b8cc9-aaa5-4765-8f71-7defb25ce0e7",
   "metadata": {
    "tags": []
   },
   "source": [
    "## Serial Chir-dox"
   ]
  },
  {
   "cell_type": "code",
   "execution_count": 17,
   "id": "43217db2-045b-4b50-ade6-218fbe2ed2c6",
   "metadata": {
    "tags": []
   },
   "outputs": [
    {
     "name": "stdout",
     "output_type": "stream",
     "text": [
      "0.2649754870991562 0.2649754870991524\n",
      "0.46253951307294316 0.4625395130729458\n",
      "0.40176211276235035 0.4017621127623519\n"
     ]
    },
    {
     "data": {
      "image/png": "[encoded data removed]",
      "text/plain": [
       "<Figure size 250x80 with 2 Axes>"
      ]
     },
     "metadata": {},
     "output_type": "display_data"
    }
   ],
   "source": [
    "path = '../Figure4/DTT/'\n",
    "days  = ['1d','2d','3d']\n",
    "conds = ['Chir', 'Dox']\n",
    "## additional Wnt-dox expect to be negative\n",
    "ref = pd.DataFrame([('ACA','Wnt'),('GTT','Dox')],columns = ['barcode','Sample'])\n",
    "\n",
    "con = 'serial'\n",
    "k=0\n",
    "matrix = np.zeros((3,2))\n",
    "for day in days:\n",
    "    a,b = [],[]\n",
    "    for i in range(1,4):\n",
    "        temp = pd.read_csv(path + '293T-TAPE-'+con+'-'+conds[0] + '-' + day + '-'+ \\\n",
    "                           conds[1]+'_rep'+str(i)+'_bc_count.csv',sep='\\t')\n",
    "        temp = pd.concat((temp[temp['barcode']=='GTT'].merge(ref).groupby('Sample').sum(numeric_only=True).reset_index(),\\\n",
    "                          temp[temp['barcode']=='ACA'].merge(ref).groupby('Sample').sum(numeric_only=True).reset_index())).reset_index(drop=True)  \n",
    "        temp['ratio']=temp['count']/temp['count'].sum()\n",
    "        a.append(temp[temp['Sample']=='Dox']['ratio'][0])\n",
    "        b.append(temp[temp['Sample']=='Wnt']['ratio'][1])\n",
    "    matrix[k,0] = np.mean(a)*100\n",
    "    matrix[k,1] = np.mean(b)*100\n",
    "    print (np.std(a)*100,np.std(b)*100)\n",
    "    k+=1\n",
    "fig, axs = plt.subplots(1,1,figsize=(2.5,0.8),sharey=False,sharex=False)\n",
    "sns.heatmap(matrix, annot=True,vmax=100,vmin=0,cmap='Blues', fmt='.1f',ax=axs)\n",
    "\n",
    "sns.despine(offset=3,left=True, bottom=True)\n",
    "\n",
    "axs.set_xlabel('')\n",
    "axs.set_ylabel('')\n",
    "axs.yaxis.set_tick_params(width=0, length=0,labelsize=0)\n",
    "axs.xaxis.set_tick_params(width=0, length=0,labelsize=0)\n",
    "#plt.savefig(f'../Figure4/fig/DTT_{con}_{conds[0]}_{conds[1]}_unigram_raw.pdf')"
   ]
  },
  {
   "cell_type": "markdown",
   "id": "9ea55e53-8145-4b29-bc14-2e547e856c49",
   "metadata": {
    "tags": []
   },
   "source": [
    "## Serial dox-chir"
   ]
  },
  {
   "cell_type": "code",
   "execution_count": 18,
   "id": "8c8380a0-2410-4e5c-b35b-89716be317cd",
   "metadata": {
    "tags": []
   },
   "outputs": [
    {
     "name": "stdout",
     "output_type": "stream",
     "text": [
      "0.34092146689618935 0.3409214668961896\n",
      "0.5755593729692107 0.5755593729692062\n",
      "0.3269817457709155 0.3269817457709163\n"
     ]
    },
    {
     "data": {
      "image/png": "[encoded data removed]",
      "text/plain": [
       "<Figure size 250x80 with 2 Axes>"
      ]
     },
     "metadata": {},
     "output_type": "display_data"
    }
   ],
   "source": [
    "path = '../Figure4/DTT/'\n",
    "days  = ['1d','2d','3d']\n",
    "conds = ['Chir', 'Dox']\n",
    "## additional Wnt-dox expect to be negative\n",
    "ref = pd.DataFrame([('ACA','Wnt'),('GTT','Dox')],columns = ['barcode','Sample'])\n",
    "\n",
    "con = 'serial'\n",
    "k=0\n",
    "matrix = np.zeros((3,2))\n",
    "for day in days:\n",
    "    a,b = [],[]\n",
    "    for i in range(1,4):\n",
    "        temp = pd.read_csv(path + '293T-TAPE-'+con+'-'+conds[1] + '-' + day + '-'+ \\\n",
    "                           conds[0]+'_rep'+str(i)+'_bc_count.csv',sep='\\t')\n",
    "        temp = pd.concat((temp[temp['barcode']=='GTT'].merge(ref).groupby('Sample').sum(numeric_only=True).reset_index(),\\\n",
    "                          temp[temp['barcode']=='ACA'].merge(ref).groupby('Sample').sum(numeric_only=True).reset_index())).reset_index(drop=True)\n",
    "        temp['ratio']=temp['count']/temp['count'].sum()\n",
    "        a.append(temp[temp['Sample']=='Dox']['ratio'][0])\n",
    "        b.append(temp[temp['Sample']=='Wnt']['ratio'][1])\n",
    "    matrix[k,0] = np.mean(a)*100\n",
    "    matrix[k,1] = np.mean(b)*100\n",
    "    print (np.std(a)*100,np.std(b)*100)\n",
    "    k+=1\n",
    "fig, axs = plt.subplots(1,1,figsize=(2.5,0.8),sharey=False,sharex=False)\n",
    "sns.heatmap(matrix, annot=True,vmax=100,vmin=0,cmap='Blues', fmt='.1f',ax=axs)\n",
    "\n",
    "sns.despine(offset=3,left=True, bottom=True)\n",
    "\n",
    "axs.set_xlabel('')\n",
    "axs.set_ylabel('')\n",
    "axs.yaxis.set_tick_params(width=0, length=0,labelsize=0)\n",
    "axs.xaxis.set_tick_params(width=0, length=0,labelsize=0)\n",
    "#plt.savefig(f'../Figure4/fig/DTT_{con}_{conds[1]}_{conds[0]}_unigram_raw.pdf')"
   ]
  },
  {
   "cell_type": "markdown",
   "id": "1cc123c2-3dd3-4bd6-bd4e-eab28e91e68e",
   "metadata": {
    "tags": []
   },
   "source": [
    "## Layered chir-dox"
   ]
  },
  {
   "cell_type": "code",
   "execution_count": 19,
   "id": "93fcec7e-7030-437f-ae3c-f635831cf01f",
   "metadata": {
    "tags": []
   },
   "outputs": [
    {
     "name": "stdout",
     "output_type": "stream",
     "text": [
      "0.04207589311629331 0.042075893116292624\n",
      "0.22276133928013944 0.22276133928013725\n",
      "0.22740052521306553 0.22740052521306814\n"
     ]
    },
    {
     "data": {
      "image/png": "[encoded data removed]",
      "text/plain": [
       "<Figure size 200x80 with 2 Axes>"
      ]
     },
     "metadata": {},
     "output_type": "display_data"
    }
   ],
   "source": [
    "path = '../Figure4/DTT/'\n",
    "days  = ['1d','2d','3d']\n",
    "conds = ['Chir', 'Dox']\n",
    "## additional Wnt-dox expect to be negative\n",
    "ref = pd.DataFrame([('ACA','Wnt'),('GTT','Dox')],columns = ['barcode','Sample'])\n",
    "\n",
    "con = 'layered'\n",
    "matrix = np.zeros((3,2))\n",
    "k=0\n",
    "for day in days:\n",
    "    a,b = [],[]\n",
    "    for i in range(1,4):\n",
    "        temp = pd.read_csv(path + '293T-TAPE-'+con+'-'+conds[0] + '-' + day + '-'+ \\\n",
    "                           conds[1]+'_rep'+str(i)+'_bc_count.csv',sep='\\t')\n",
    "        temp = pd.concat((temp[temp['barcode']=='GTT'].merge(ref).groupby('Sample').sum(numeric_only=True).reset_index(),\\\n",
    "                          temp[temp['barcode']=='ACA'].merge(ref).groupby('Sample').sum(numeric_only=True).reset_index())).reset_index(drop=True)\n",
    "        temp['ratio']=temp['count']/temp['count'].sum()\n",
    "        a.append(temp[temp['Sample']=='Dox']['ratio'][0])\n",
    "        b.append(temp[temp['Sample']=='Wnt']['ratio'][1])\n",
    "    matrix[k,0] = np.mean(a)*100\n",
    "    matrix[k,1] = np.mean(b)*100\n",
    "    print (np.std(a)*100,np.std(b)*100)\n",
    "    k+=1\n",
    "fig, axs = plt.subplots(1,1,figsize=(2,0.8),sharey=False,sharex=False)\n",
    "sns.heatmap(matrix, annot=True,vmax=100,vmin=0,cmap='Blues', fmt='.1f',ax=axs)\n",
    "\n",
    "sns.despine(offset=3,left=True, bottom=True)\n",
    "\n",
    "axs.set_xlabel('')\n",
    "axs.set_ylabel('')\n",
    "axs.yaxis.set_tick_params(width=0, length=0,labelsize=0)\n",
    "axs.xaxis.set_tick_params(width=0, length=0,labelsize=0)\n",
    "#plt.savefig(f'../Figure4/fig/DTT_{con}_{conds[0]}_{conds[1]}_unigram_raw.pdf')"
   ]
  },
  {
   "cell_type": "markdown",
   "id": "675dca08-a102-435b-bca0-ffc42b8de580",
   "metadata": {
    "tags": []
   },
   "source": [
    "## Layered dox-chir"
   ]
  },
  {
   "cell_type": "code",
   "execution_count": 20,
   "id": "6f061b7e-e764-4be9-aae2-d79fd1f1d551",
   "metadata": {
    "tags": []
   },
   "outputs": [
    {
     "name": "stdout",
     "output_type": "stream",
     "text": [
      "0.36426553072848933 0.36426553072848716\n",
      "0.172518379782952 0.17251837978295403\n",
      "0.15273930218239248 0.15273930218239312\n"
     ]
    },
    {
     "data": {
      "image/png": "[encoded data removed]",
      "text/plain": [
       "<Figure size 200x80 with 2 Axes>"
      ]
     },
     "metadata": {},
     "output_type": "display_data"
    }
   ],
   "source": [
    "path = '../Figure4/DTT/'\n",
    "days  = ['1d','2d','3d']\n",
    "conds = ['Chir', 'Dox']\n",
    "## additional Wnt-dox expect to be negative\n",
    "ref = pd.DataFrame([('ACA','Wnt'),('GTT','Dox')],columns = ['barcode','Sample'])\n",
    "\n",
    "con = 'layered'\n",
    "matrix = np.zeros((3,2))\n",
    "k=0\n",
    "for day in days:\n",
    "    a,b = [],[]\n",
    "    for i in range(1,4):\n",
    "        temp = pd.read_csv(path + '293T-TAPE-'+con+'-'+conds[1] + '-' + day + '-'+ \\\n",
    "                           conds[0]+'_rep'+str(i)+'_bc_count.csv',sep='\\t')\n",
    "        temp = pd.concat((temp[temp['barcode']=='GTT'].merge(ref).groupby('Sample').sum(numeric_only=True).reset_index(),\\\n",
    "                          temp[temp['barcode']=='ACA'].merge(ref).groupby('Sample').sum(numeric_only=True).reset_index())).reset_index(drop=True)\n",
    "        temp['ratio']=temp['count']/temp['count'].sum()\n",
    "        a.append(temp[temp['Sample']=='Dox']['ratio'][0])\n",
    "        b.append(temp[temp['Sample']=='Wnt']['ratio'][1])\n",
    "    matrix[k,0] = np.mean(a)*100\n",
    "    matrix[k,1] = np.mean(b)*100\n",
    "    print (np.std(a)*100,np.std(b)*100)\n",
    "    k+=1\n",
    "fig, axs = plt.subplots(1,1,figsize=(2,0.8),sharey=False,sharex=False)\n",
    "sns.heatmap(matrix, annot=True,vmax=100,vmin=0,cmap='Blues', fmt='.1f',ax=axs)\n",
    "\n",
    "sns.despine(offset=3,left=True, bottom=True)\n",
    "axs.set_xlabel('')\n",
    "axs.set_ylabel('')\n",
    "axs.yaxis.set_tick_params(width=0, length=0,labelsize=0)\n",
    "axs.xaxis.set_tick_params(width=0, length=0,labelsize=0)\n",
    "#plt.savefig(f'../Figure4/fig/DTT_{con}_{conds[1]}_{conds[0]}_unigram_raw.pdf')"
   ]
  },
  {
   "cell_type": "markdown",
   "id": "f07f2f92-c812-4e2c-baf4-41f2b617332d",
   "metadata": {
    "tags": []
   },
   "source": [
    "## Pulse"
   ]
  },
  {
   "cell_type": "code",
   "execution_count": 21,
   "id": "f7625c88-c662-4177-98a5-5378b32bec38",
   "metadata": {
    "tags": []
   },
   "outputs": [
    {
     "name": "stdout",
     "output_type": "stream",
     "text": [
      "1.4777559359389958 1.4777559359389987\n",
      "3.4301811633607646 3.4301811633607624\n",
      "1.865785687748388 1.8657856877483836\n"
     ]
    },
    {
     "data": {
      "image/png": "[encoded data removed]",
      "text/plain": [
       "<Figure size 200x100 with 2 Axes>"
      ]
     },
     "metadata": {},
     "output_type": "display_data"
    }
   ],
   "source": [
    "path = '../Figure4/pulse/'\n",
    "samples = np.unique(sorted([s.split('_')[0] for s in os.listdir(path) if '.csv' in s and 'pulse' in s]))\n",
    "ref = pd.DataFrame([('ACA','Wnt'),('GTT','Dox')],columns = ['barcode','Sample'])\n",
    "\n",
    "matrix = np.zeros((3,2))\n",
    "k=0\n",
    "for samp in samples:\n",
    "    a,b = [],[]\n",
    "    for i in range(1,4):\n",
    "        temp = pd.read_csv(path + samp + '_rep'+str(i)+'_bc_count.csv',sep='\\t')\n",
    "        temp = pd.concat((temp[temp['barcode']=='GTT'].merge(ref).groupby('Sample').sum(numeric_only=True).reset_index(),\\\n",
    "                          temp[temp['barcode']=='ACA'].merge(ref).groupby('Sample').sum(numeric_only=True).reset_index())).reset_index(drop=True)\n",
    "        temp['ratio']=temp['count']/temp['count'].sum()\n",
    "        a.append(temp[temp['Sample']=='Dox']['ratio'][0])\n",
    "        b.append(temp[temp['Sample']=='Wnt']['ratio'][1])\n",
    "    matrix[k,0] = np.mean(a)*100\n",
    "    matrix[k,1] = np.mean(b)*100\n",
    "    print (np.std(a)*100,np.std(b)*100)\n",
    "    k+=1\n",
    "fig, axs = plt.subplots(1,1,figsize=(2,1),sharey=False,sharex=False)\n",
    "sns.heatmap(matrix, annot=True,vmax=100,vmin=0,cmap='Blues', fmt='.1f',ax=axs)\n",
    "\n",
    "sns.despine(offset=3,left=True, bottom=True)\n",
    "\n",
    "axs.set_xlabel('')\n",
    "axs.set_ylabel('')\n",
    "axs.yaxis.set_tick_params(width=0, length=0,labelsize=0)\n",
    "axs.xaxis.set_tick_params(width=0, length=0,labelsize=0)\n",
    "#plt.savefig('../Figure4/fig/DTT_pulse_unigram_raw.pdf')"
   ]
  },
  {
   "cell_type": "markdown",
   "id": "75a91694-7d85-4749-b5a1-1870c5e6db39",
   "metadata": {
    "tags": []
   },
   "source": [
    "# PCA"
   ]
  },
  {
   "cell_type": "code",
   "execution_count": 22,
   "id": "b6272ac5-ffb9-433b-9012-9967645ecafc",
   "metadata": {
    "tags": []
   },
   "outputs": [],
   "source": [
    "path = '../Figure4/DTT/'\n",
    "days  = ['1d','2d','3d']\n",
    "conds = ['Chir', 'Dox']\n",
    "## additional Wnt-dox expect to be negative\n",
    "con = 'layered'\n",
    "test = []\n",
    "name = []\n",
    "for day in days:\n",
    "    for i in range(1,4):\n",
    "        temp = pd.read_csv(path + '293T-TAPE-'+con+'-'+conds[0] + '-' + day + '-'+ \\\n",
    "                           conds[1]+'_rep'+str(i)+'_bc_count.csv',sep='\\t')\n",
    "        test.append(list(temp['ratio']))\n",
    "        name.append(con+'-'+conds[0] + '-' + day + '-'+conds[1]) # +'_rep'+str(i)\n",
    "        \n",
    "for day in days:\n",
    "    for i in range(1,4):\n",
    "        temp = pd.read_csv(path + '293T-TAPE-'+con+'-'+conds[1] + '-' + day + '-'+ \\\n",
    "                           conds[0]+'_rep'+str(i)+'_bc_count.csv',sep='\\t')\n",
    "        test.append(list(temp['ratio']))\n",
    "        name.append(con+'-'+conds[1] + '-' + day + '-'+conds[0])\n",
    "con = 'serial'\n",
    " \n",
    "for day in days:\n",
    "    for i in range(1,4):\n",
    "        temp = pd.read_csv(path + '293T-TAPE-'+con+'-'+conds[0] + '-' + day + '-'+ \\\n",
    "                           conds[1]+'_rep'+str(i)+'_bc_count.csv',sep='\\t')\n",
    "        test.append(list(temp['ratio']))\n",
    "        name.append(con+'-'+conds[0] + '-' + day + '-'+conds[1])\n",
    "        \n",
    "for day in days:\n",
    "    for i in range(1,4):\n",
    "        temp = pd.read_csv(path + '293T-TAPE-'+con+'-'+conds[1] + '-' + day + '-'+ \\\n",
    "                           conds[0]+'_rep'+str(i)+'_bc_count.csv',sep='\\t')\n",
    "        test.append(list(temp['ratio']))\n",
    "        name.append(con+'-'+conds[1] + '-' + day + '-'+conds[0])\n",
    "        \n",
    "cname = temp['barcode']+'+'+temp['Position']\n",
    "path = '../Figure4/pulse/'\n",
    "samples = np.unique(sorted([s.split('_')[0] for s in os.listdir(path) if '.csv' in s and 'pulse' in s]))\n",
    "for samp in samples:\n",
    "    for i in range(1,4):\n",
    "        temp = pd.read_csv(path + samp + '_rep'+str(i)+'_bc_count.csv',sep='\\t')\n",
    "        test.append(list(temp['ratio']))\n",
    "        name.append('-'.join([samp.split('-')[idx] for idx in [2,4]]))"
   ]
  },
  {
   "cell_type": "code",
   "execution_count": 23,
   "id": "aa1dd19b-93bb-455a-9e67-918718db3e37",
   "metadata": {
    "tags": []
   },
   "outputs": [],
   "source": [
    "df=pd.DataFrame(test,columns=cname,index=name).fillna(0)\n",
    "scaler = StandardScaler()\n",
    "scaler.fit(df)\n",
    "order_rec = scaler.transform(df)\n",
    "pca = PCA(n_components=5)\n",
    "pca.fit(order_rec)\n",
    "pca_bcancer = pca.transform(order_rec)\n",
    "PC1 = pca_bcancer[:,0]\n",
    "PC2 = pca_bcancer[:,1]\n",
    "PC3 = pca_bcancer[:,2]\n",
    "zipped = list(zip(PC1, PC2,PC3,df.index,df.index.str.split('-').str[1]))\n",
    "zipped = list(zip(PC1, PC2,PC3,df.index))\n",
    "\n",
    "pc_df = pd.DataFrame(zipped, \n",
    "                     columns=['PC1', \n",
    "                              'PC2','PC3','sample'])\n",
    "pc_df['reps'] = ['rep1','rep2','rep3']*15#15"
   ]
  },
  {
   "cell_type": "code",
   "execution_count": 24,
   "id": "10d9f7c1-9f78-4554-8fbc-ffc88297b6e5",
   "metadata": {
    "tags": []
   },
   "outputs": [
    {
     "data": {
      "text/plain": [
       "array([0.45776621, 0.25416191, 0.18456537])"
      ]
     },
     "execution_count": 24,
     "metadata": {},
     "output_type": "execute_result"
    }
   ],
   "source": [
    "pca.explained_variance_ratio_[0:3]"
   ]
  },
  {
   "cell_type": "code",
   "execution_count": 25,
   "id": "37aea235-dfac-48ab-abe5-3e7d912cdd60",
   "metadata": {
    "tags": []
   },
   "outputs": [],
   "source": [
    "df_A,df_B = pc_df.pivot(index='sample',columns='reps')['PC1'],pc_df.pivot(index='sample',columns='reps')['PC2']\n",
    "df_new = pd.DataFrame((df_A.mean(axis=1),df_A.std(axis=1),df_B.mean(axis=1),df_B.std(axis=1))).T.reset_index()\n",
    "df_new.columns = ['val','A_mean','A_std','B_mean','B_std']"
   ]
  },
  {
   "cell_type": "code",
   "execution_count": 26,
   "id": "de919ab8-a224-4fd3-95b4-af1aecf755cb",
   "metadata": {
    "tags": []
   },
   "outputs": [
    {
     "data": {
      "text/html": [
       "        <script type=\"text/javascript\">\n",
       "        window.PlotlyConfig = {MathJaxConfig: 'local'};\n",
       "        if (window.MathJax && window.MathJax.Hub && window.MathJax.Hub.Config) {window.MathJax.Hub.Config({SVG: {font: \"STIX-Web\"}});}\n",
       "        if (typeof require !== 'undefined') {\n",
       "        require.undef(\"plotly\");\n",
       "        requirejs.config({\n",
       "            paths: {\n",
       "                'plotly': ['https://cdn.plot.ly/plotly-2.27.0.min']\n",
       "            }\n",
       "        });\n",
       "        require(['plotly'], function(Plotly) {\n",
       "            window._Plotly = Plotly;\n",
       "        });\n",
       "        }\n",
       "        </script>\n",
       "        "
      ]
     },
     "metadata": {},
     "output_type": "display_data"
    }
   ],
   "source": [
    "import plotly.io as pio\n",
    "import plotly\n",
    "import plotly.graph_objs as go\n",
    "import plotly.offline as pyo\n",
    "plotly.offline.init_notebook_mode(connected=True)\n",
    "pio.templates.default = \"plotly_white\"  # Example: Change to the \"plotly_dark\" theme\n",
    "colors = ['#10CF00',  '#FF4D4D','#4D64FF',\n",
    "          '#FF6F6F',  '#00AAFF','#D0B840',\n",
    "          '#00AACC', '#FF4D4D', '#FFA34D',\n",
    "          '#FFB07C', '#8A4EAD', '#1FA07C',\n",
    "          '#A54F5E', '#78A355', '#7FAFF7']\n",
    "traces = []\n",
    "for group, color in zip(pc_df['sample'].unique(),colors):\n",
    "    group_data = pc_df[pc_df['sample'] == group]\n",
    "    trace = go.Scatter3d(\n",
    "        x=group_data['PC1'],\n",
    "        y=group_data['PC2'],\n",
    "        z=group_data['PC3'],\n",
    "        mode='markers',\n",
    "        marker=dict(size=5, color=color),\n",
    "        name=group\n",
    "    )\n",
    "    traces.append(trace)\n",
    "\n",
    "# Create a layout\n",
    "layout = go.Layout(\n",
    "    scene=dict(\n",
    "        xaxis=dict(\n",
    "            title='PC1: 46%',\n",
    "            tickfont=dict(size=12),  # Change X-axis tick size\n",
    "            titlefont=dict(size=14),  # Change X-axis label size\n",
    "        ),\n",
    "        yaxis=dict(\n",
    "            title='PC2: 25%',\n",
    "            tickfont=dict(size=12),  # Change Y-axis tick size\n",
    "            titlefont=dict(size=14),  # Change Y-axis label size\n",
    "        ),\n",
    "        zaxis=dict(\n",
    "            title='PC3: 18%',\n",
    "            tickfont=dict(size=12),  # Change Z-axis tick size\n",
    "            titlefont=dict(size=14),  # Change Z-axis label size\n",
    "        )\n",
    "    ),\n",
    "    width=1000,\n",
    "    height=600\n",
    ")\n",
    "\n",
    "# Create a figure\n",
    "#fig = go.Figure(data=traces, layout=layout)\n",
    "#fig.write_html('../Figure4/fig/first_figure.html', auto_open=True)\n"
   ]
  },
  {
   "cell_type": "code",
   "execution_count": 27,
   "id": "a9c3de47-8ff1-4a53-a429-76319172bdb4",
   "metadata": {},
   "outputs": [
    {
     "data": {
      "image/png": "[encoded data removed]",
      "text/plain": [
       "<Figure size 200x200 with 1 Axes>"
      ]
     },
     "metadata": {},
     "output_type": "display_data"
    }
   ],
   "source": [
    "fig, axs = fig, axs = plt.subplots(1,1,figsize=(2,2),sharey=False,sharex=False)\n",
    "df_plot = df_new#[df_new['val'].str.contains('pulse')==False]\n",
    "g=sns.scatterplot(data = df_plot, x='A_mean', y='B_mean',hue='val',s=50,\\\n",
    "                palette=[\"#55B8D8\",  # Aquatic Blue\n",
    "    \"#86BAD1\",  # Muted Gray\n",
    "    \"#FFA900\",  # Vintage Orange\n",
    "    \"#FFBF67\",  # Warm Beige\n",
    "    \"#C181B3\",  # Faded Lavender\n",
    "    \"#EA6C7D\",  # Soft Coral\n",
    "    \"#94B78A\",  # Dusty Green\n",
    "    \"#FFD000\",  # Mustard Yellow\n",
    "    \"#98E594\",  # Minty Green\n",
    "    \"#FFD8D8\",  # Blush Pink\n",
    "    \"#758AA0\",  # Slate Gray\n",
    "    \"#D8D8D8\",  # Pale Gray\n",
    "    \"#A0A0B0\",  # Silver\n",
    "    \"#FFC2FF\",  # Soft Lilac\n",
    "    \"#B78FC5\"]   # Lavender Purple\n",
    "                ,ax=axs)\n",
    "\n",
    "g.legend(loc='upper left', bbox_to_anchor=(1, 1),prop={'size': 7})\n",
    "# axs.set_ylim(-7,7)\n",
    "# axs.set_xlim(-7,7)\n",
    "sns.despine(offset=3)\n",
    "\n",
    "# Find the x,y coordinates for each point\n",
    "x_coords = []\n",
    "y_coords = []\n",
    "for point_pair in axs.collections:\n",
    "    for x, y in point_pair.get_offsets():\n",
    "        x_coords.append(x)\n",
    "        y_coords.append(y)\n",
    "\n",
    "# Calculate the type of error to plot as the error bars\n",
    "# Make sure the order is the same as the points were looped over\n",
    "axs.errorbar(x_coords, y_coords, xerr =df_plot['A_std'],  yerr=df_plot['B_std'], fmt=' ', zorder=-1,\\\n",
    "            elinewidth=0.5, capsize=1)\n",
    "\n",
    "\n",
    "axs.set_xlabel('')\n",
    "axs.set_ylabel('')\n",
    "axs.yaxis.set_tick_params(width=0.8, length=2,labelsize=6)\n",
    "axs.xaxis.set_tick_params(width=0.8, length=2,labelsize=6)\n",
    "#plt.savefig('../Figure4/fig/Fig_4e_scatter_v2.pdf')"
   ]
  }
 ],
 "metadata": {
  "kernelspec": {
   "display_name": "Python 3 (ipykernel)",
   "language": "python",
   "name": "python3"
  },
  "language_info": {
   "codemirror_mode": {
    "name": "ipython",
    "version": 3
   },
   "file_extension": ".py",
   "mimetype": "text/x-python",
   "name": "python",
   "nbconvert_exporter": "python",
   "pygments_lexer": "ipython3",
   "version": "3.9.13"
  }
 },
 "nbformat": 4,
 "nbformat_minor": 5
}
