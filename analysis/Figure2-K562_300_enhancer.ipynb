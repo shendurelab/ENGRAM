{
 "cells": [
  {
   "cell_type": "code",
   "execution_count": 1,
   "id": "6c677c46-f5ef-46df-ad36-44151259ee86",
   "metadata": {
    "tags": []
   },
   "outputs": [],
   "source": [
    "import os,random,itertools,matplotlib\n",
    "import numpy as np\n",
    "import scipy as sp\n",
    "import pandas as pd\n",
    "import seaborn as sns\n",
    "import matplotlib.pyplot as plt \n",
    "# Umitools\n",
    "from umi_tools._dedup_umi import edit_distance\n",
    "matplotlib.rcParams['font.family'] = 'Helvetica'\n",
    "\n",
    "def str2array(s):\n",
    "    a,b= s.split('\\t')[:2]\n",
    "    return (a,int(b))\n",
    "\n",
    "def merge_edit_1(counts):\n",
    "    keep,collapse = [],counts[0:]\n",
    "    while len(collapse)>0:\n",
    "        ref = list(collapse[0]) # need to convert to list here otherwise will keep updating the value to new_cluster\n",
    "        temp = []\n",
    "        for s in collapse[1:]:\n",
    "            s1 = ref[0]\n",
    "            s2 = s[0]\n",
    "            if abs(len(s1)-len(s2))<=1 and edit_distance(s1.encode('utf-8'),s2.encode('utf-8'))<2:\n",
    "                ref[-1] += s[-1]\n",
    "            else:\n",
    "                temp.append(s)\n",
    "        keep.append(ref)\n",
    "        collapse = temp[0:]\n",
    "    return np.array(keep,dtype=object)\n",
    "\n",
    "def reverse_complement(seq):\n",
    "    \"\"\"This function returns the reverse_complement sequence of the input sequence\n",
    "    from 3' to 5' \"\"\"\n",
    "    complement = {'A':'T', 'C':'G','G':'C', 'T':'A', 'N':'N'}\n",
    "    rcomp_seq = ''\n",
    "    for base in seq:\n",
    "        rcomp_seq = complement[base] + rcomp_seq   \n",
    "    return rcomp_seq\n",
    "%matplotlib inline\n"
   ]
  },
  {
   "cell_type": "markdown",
   "id": "a8ccdc25-543b-4c1e-b5d3-0b697cf7eaa2",
   "metadata": {
    "tags": []
   },
   "source": [
    "# FigureS3 a-b 4 enhancer MPRA vs ENGRAM"
   ]
  },
  {
   "cell_type": "code",
   "execution_count": 2,
   "id": "f0aa8c24-bf08-42eb-b090-d302aef6dba4",
   "metadata": {
    "tags": []
   },
   "outputs": [
    {
     "name": "stdout",
     "output_type": "stream",
     "text": [
      "89.59003215434085\n",
      "88.41262364578427\n",
      "86.3926576217079\n"
     ]
    }
   ],
   "source": [
    "path = '../Figure2/4_enhancer_mix/'\n",
    "samples =sorted([s.split('_bc_count.tsv')[0] for s in os.listdir(path) if '.tsv' in s ])\n",
    "bc_ref = pd.read_table(path+'enhancer_ref.txt',header=None,names=['enhancer','barcode','ES'])\n",
    "edits = []\n",
    "df_stack = pd.DataFrame(columns=['enhancer','ratio','rep','sample'])\n",
    "for s in samples:\n",
    "    file = path+s\n",
    "    #rcount = int(read_count[read_count['sample'].str.contains(s)]['counts'])\n",
    "    with open(file +'_bc_count.tsv','r') as f:\n",
    "        temp = f.readlines()\n",
    "        count_table = np.array([a for a in merge_edit_1([a for a in [str2array(s) for s in temp] if a[0]=='' or len(a[0])==5]) if a[1]>10])\n",
    "        ratio = sum(count_table[1:,1])/sum(count_table[:,1])\n",
    "    f.close()\n",
    "    df = pd.DataFrame([count_table[1:,0],count_table[1:,1]/sum(count_table[:,1])*100]).T.merge(bc_ref,left_on=0,right_on='barcode',how='right')\n",
    "    #df[1] = df[1]/df['ES'].rpow(2)\n",
    "    df = df.groupby(df['enhancer'],as_index=False).aggregate({1: 'sum',})\n",
    "    df['rep'] = s.split(\"_\")[-1]\n",
    "    df['sample'] = 'Bm'\n",
    "    df.columns = ['enhancer','ratio','rep','sample']\n",
    "    x= df[df['enhancer']=='Active']['ratio'].sum()/df[df['enhancer']!='Active']['ratio'].sum()\n",
    "    print (100/(x+1)*x)\n",
    "    df_stack = pd.concat((df_stack,df))\n",
    "    #df['barcode'] = df[0].apply(reverse_complement)\n",
    "df_stack = df_stack.reset_index(drop=True)"
   ]
  },
  {
   "cell_type": "code",
   "execution_count": 3,
   "id": "e9b3e3ac-a415-4dcc-9fe5-50f405a67410",
   "metadata": {
    "tags": []
   },
   "outputs": [],
   "source": [
    "df = pd.DataFrame([count_table[1:,0],count_table[1:,1]/sum(count_table[:,1])*100]).T.merge(bc_ref,left_on=0,right_on='barcode',how='right')"
   ]
  },
  {
   "cell_type": "code",
   "execution_count": 4,
   "id": "62f7b3e4-eb1d-4d30-b64f-c9bb16e666e8",
   "metadata": {
    "tags": []
   },
   "outputs": [
    {
     "name": "stdout",
     "output_type": "stream",
     "text": [
      "15.062568073690352 0.00037536649916417676\n",
      "23.6422411098034 0.0003373853761871422\n",
      "41.31212534758922 0.0003136308260921942\n"
     ]
    }
   ],
   "source": [
    "print (df_stack[df_stack['enhancer']=='Active']['ratio'].mean()/df_stack[df_stack['enhancer']=='Inactive']['ratio'].mean(),\\\n",
    "       sp.stats.ttest_ind(list(df_stack[df_stack['enhancer']=='Active']['ratio']),list(df_stack[df_stack['enhancer']=='Inactive']['ratio']), \n",
    "                      equal_var=True)[1])\n",
    "print (df_stack[df_stack['enhancer']=='Active']['ratio'].mean()/df_stack[df_stack['enhancer']=='minP']['ratio'].mean(),\\\n",
    "       sp.stats.ttest_ind(list(df_stack[df_stack['enhancer']=='Active']['ratio']),list(df_stack[df_stack['enhancer']=='minP']['ratio']), \n",
    "                      equal_var=True)[1])\n",
    "print (df_stack[df_stack['enhancer']=='Active']['ratio'].mean()/df_stack[df_stack['enhancer']=='Pless']['ratio'].mean(),\\\n",
    "       sp.stats.ttest_ind(list(df_stack[df_stack['enhancer']=='Active']['ratio']),list(df_stack[df_stack['enhancer']=='Pless']['ratio']), \n",
    "                      equal_var=True)[1])"
   ]
  },
  {
   "cell_type": "code",
   "execution_count": 6,
   "id": "4a03995f-cd1b-4cba-99a5-d0735f70dcf6",
   "metadata": {
    "tags": []
   },
   "outputs": [
    {
     "data": {
      "text/plain": [
       "<matplotlib.legend.Legend at 0x2b6b9a287760>"
      ]
     },
     "execution_count": 6,
     "metadata": {},
     "output_type": "execute_result"
    },
    {
     "data": {
      "image/png": "[encoded data removed]",
      "text/plain": [
       "<Figure size 100x150 with 1 Axes>"
      ]
     },
     "metadata": {},
     "output_type": "display_data"
    }
   ],
   "source": [
    "fig, axs = plt.subplots(figsize=(1,1.5),sharey=False,sharex=False)\n",
    "g=sns.barplot(data=df_stack, x=\"sample\", y='ratio', hue=\"enhancer\",\\\n",
    "            palette=['#B7B7B7','#80B1D3','#FFB4AC','#FB8072'],hue_order=['Pless','minP','Inactive','Active'],errwidth=0.5, errorbar='sd', capsize=.06,ax=axs)\n",
    "sns.stripplot(data=df_stack, x=\"sample\", y='ratio',hue=\"enhancer\",hue_order=['Pless','minP','Inactive','Active'], dodge=True,palette='dark:#4A4A4A',marker='.',size=4,ax=axs)\n",
    "\n",
    "axs.set_xlabel('');\n",
    "#g.set_box_aspect(6/len(g.patches))\n",
    "axs.set_ylim(0,4)\n",
    "start, end = axs.get_ylim()\n",
    "axs.yaxis.set_ticks(np.arange(start, end+0.2, 1))\n",
    "axs.set_ylabel('Editing efficiency (%)',fontsize=7)\n",
    "\n",
    "axs.xaxis.set_tick_params(width=0.5, length=2,labelsize=6)\n",
    "axs.yaxis.set_tick_params(width=0.5, length=2,labelsize=6)\n",
    "sns.despine(offset=3)\n",
    "axs.legend([],[], frameon=False)\n",
    "#plt.savefig('../Figure2/figs/Supp_4_enhancer_mix.pdf')"
   ]
  },
  {
   "cell_type": "markdown",
   "id": "00959c38-ff72-4d7a-bdfe-3b1fccae425c",
   "metadata": {
    "tags": []
   },
   "source": [
    "# Figure2 300 enhancer MPRA vs ENGRAM"
   ]
  },
  {
   "cell_type": "markdown",
   "id": "fa9461c6-d199-43cd-aaf2-4208ce95c3e9",
   "metadata": {
    "tags": []
   },
   "source": [
    "## Compare endo and Synthetic TAPE efficiency"
   ]
  },
  {
   "cell_type": "code",
   "execution_count": 7,
   "id": "56ffca4d-5fd6-42b8-b129-73584f106be3",
   "metadata": {
    "tags": []
   },
   "outputs": [],
   "source": [
    "path = '../Figure2/300_enhancer/Hek3/'\n",
    "endo_eff,syn_eff = [],[]\n",
    "\n",
    "df_endo = pd.read_table('../Figure2/300_enhancer/Enhancer_designs.txt',header=0).iloc[:,2:]\n",
    "samples =sorted([s.split('_S')[0] for s in os.listdir(path) if '.gz' in s and 'R1' in s and '16X' in s])\n",
    "for i in range(3):\n",
    "    with open(path+samples[i]+'_bc_count.tsv','r') as f:\n",
    "        temp = f.readlines()\n",
    "        test = pd.DataFrame(merge_edit_1([a for a in [str2array(s) for s in temp] if len(a[0])==0 or len(a[0])==6]),columns=['barcode','count'])\n",
    "        test['barcode'] = test['barcode']\n",
    "        df_endo = df_endo.merge(test,on='barcode',how='inner').fillna(0)\n",
    "        endo_eff.append((1-test.loc[0,'count']/test['count'].sum())*100)\n",
    "    f.close()\n",
    "df_endo.columns = ['barcode','RNA/DNA ratio','ins_rep1','ins_rep2','ins_rep3']\n",
    "df_endo['ratio_rep1'] =  np.log2((df_endo['ins_rep1']+1)/(df_endo['ins_rep1'].sum()+1))#\n",
    "df_endo['ratio_rep2'] =  np.log2((df_endo['ins_rep2']+1)/(df_endo['ins_rep2'].sum()+1))#*10**6\n",
    "df_endo['ratio_rep3'] =  np.log2((df_endo['ins_rep3']+1)/(df_endo['ins_rep3'].sum()+1))#*10**6\n",
    "df_endo['ratio_all'] = np.log2((df_endo['ins_rep1']+df_endo['ins_rep2']+df_endo['ins_rep3']+1)/\n",
    "                          (df_endo['ins_rep1'].sum()+df_endo['ins_rep2'].sum()+df_endo['ins_rep3'].sum()+1))#*10**6\n",
    "\n",
    "path = '../Figure2/300_enhancer/synHek3/'\n",
    "df_syn = pd.read_table('../Figure2/300_enhancer/Enhancer_designs.txt',header=0).iloc[:,2:]\n",
    "samples =sorted([s.split('_S')[0] for s in os.listdir(path) if '.gz' in s and 'R1' in s and '16X' in s])\n",
    "for i in range(3):\n",
    "    with open(path+samples[i]+'_bc_count.tsv','r') as f:\n",
    "        temp = f.readlines()\n",
    "        test = pd.DataFrame(merge_edit_1([a for a in [str2array(s) for s in temp] if len(a[0])==0 or len(a[0])==6]),columns=['barcode','count'])\n",
    "        test['barcode'] = test['barcode'].apply(reverse_complement)\n",
    "        df_syn = df_syn.merge(test,on='barcode',how='inner').fillna(0)\n",
    "        syn_eff.append((1-test.loc[0,'count']/test['count'].sum())*100)\n",
    "    f.close()\n",
    "\n",
    "df_syn.columns = ['barcode','RNA/DNA ratio','ins_rep1','ins_rep2','ins_rep3']\n",
    "df_syn['ratio_rep1'] =  np.log2((df_syn['ins_rep1']+1)/(df_syn['ins_rep1'].sum()+1))#\n",
    "df_syn['ratio_rep2'] =  np.log2((df_syn['ins_rep2']+1)/(df_syn['ins_rep2'].sum()+1))#*10**6\n",
    "df_syn['ratio_rep3'] =  np.log2((df_syn['ins_rep3']+1)/(df_syn['ins_rep3'].sum()+1))#*10**6\n",
    "df_syn['ratio_all'] = np.log2((df_syn['ins_rep1']+df_syn['ins_rep2']+df_syn['ins_rep3']+1)/\n",
    "                          (df_syn['ins_rep1'].sum()+df_syn['ins_rep2'].sum()+df_syn['ins_rep3'].sum()+1))#*10**6"
   ]
  },
  {
   "cell_type": "code",
   "execution_count": 9,
   "id": "1c2d7927-24a5-40e0-9fec-3a1a94bfdfba",
   "metadata": {
    "tags": []
   },
   "outputs": [
    {
     "data": {
      "text/plain": [
       "[Text(0, 0, 'synthetic'), Text(1, 0, 'endogenous')]"
      ]
     },
     "execution_count": 9,
     "metadata": {},
     "output_type": "execute_result"
    },
    {
     "data": {
      "image/png": "[encoded data removed]",
      "text/plain": [
       "<Figure size 150x150 with 1 Axes>"
      ]
     },
     "metadata": {},
     "output_type": "display_data"
    }
   ],
   "source": [
    "df = pd.DataFrame([['endogenous']*3+['synthetic']*3,['rep1','rep2','rep3']*2,endo_eff+syn_eff]).T\n",
    "df.columns=['Designs','rep','Editing efficiency']\n",
    "fig, axs = plt.subplots(figsize=(1.5,1.5),sharey=False,sharex=False)\n",
    "g=sns.barplot(data=df, x=\"Designs\", y='Editing efficiency', order=['synthetic','endogenous'],palette=['#80B1D3','#FB8072'],errwidth=0.5, errorbar='sd', capsize=.1) \n",
    "sns.stripplot(data=df, x=\"Designs\", y='Editing efficiency',  order=['synthetic','endogenous'],dodge=True,color=\"#4A4A4A\",marker='.',size=4,ax=axs)\n",
    "sns.despine(offset=3)\n",
    "axs.set_ylim(0,4)\n",
    "start, end = axs.get_ylim()\n",
    "axs.yaxis.set_ticks(np.arange(start, end+1, 1))\n",
    "axs.set_xlabel('');\n",
    "g.set_box_aspect(4.5/len(g.patches))\n",
    "start, end = axs.get_ylim()\n",
    "axs.set_ylabel('Editing efficiency (%)',fontsize=7)\n",
    "axs.xaxis.set_tick_params(width=0.5, length=2,labelsize=6)\n",
    "axs.yaxis.set_tick_params(width=0.5, length=2,labelsize=6)\n",
    "axs.set_xticklabels(axs.get_xticklabels(),rotation=-90)\n",
    "\n",
    "#plt.savefig('../Figure2/figs/Supp3c.pdf')"
   ]
  },
  {
   "cell_type": "code",
   "execution_count": 10,
   "id": "e8d37cd6-7944-4846-868d-c83dc33a41d2",
   "metadata": {
    "tags": []
   },
   "outputs": [
    {
     "data": {
      "image/png": "[encoded data removed]",
      "text/plain": [
       "<Figure size 150x150 with 1 Axes>"
      ]
     },
     "metadata": {},
     "output_type": "display_data"
    }
   ],
   "source": [
    "df_all = df_syn.merge(df_endo,on='barcode')\n",
    "fig, axs = plt.subplots(1,1,figsize=(1.5,1.5),sharey=False,sharex=False)\n",
    "sample = [('ratio_all_x','ratio_all_y')]\n",
    "for i in range(1):\n",
    "    s=sample[0]\n",
    "    sns.scatterplot(x=s[0],y=s[1],data = df_all, color=['#4A4A4A'],s=5,marker='o',ax=axs)\n",
    "    pr = sp.stats.pearsonr(df_all[s[0]],df_all[s[1]])[0]      \n",
    "    sr = sp.stats.spearmanr(df_all[s[0]],df_all[s[1]])[0]      \n",
    "    sns.despine(offset=3)\n",
    "    start, end = -14,-3\n",
    "    axs.yaxis.set_ticks(np.arange(start, end, 2))\n",
    "    axs.xaxis.set_ticks(np.arange(start, end, 2))\n",
    "    axs.text(-14,-5,\"Pearson: \"  + str(round(pr,3))  + \"\\nSpearman: \"+str(round(sr,3)),fontsize=8)\n",
    "    axs.set_xlabel('')#s[0])\n",
    "    axs.set_ylabel('')#s[1])\n",
    "    axs.plot([start, end],[start, end],'--', color='#FB8072',linewidth=0.8)\n",
    "    axs.xaxis.set_tick_params(width=0.8, length=2,labelsize=6)\n",
    "    axs.yaxis.set_tick_params(width=0.8, length=2,labelsize=6)\n",
    "#plt.savefig('../Figure2/figs/Supp_syn_endo_hek3_comp.pdf')"
   ]
  },
  {
   "cell_type": "code",
   "execution_count": 11,
   "id": "31972329-6963-4b7a-895b-921083095fbe",
   "metadata": {
    "tags": []
   },
   "outputs": [],
   "source": [
    "## Loading RNA sample\n",
    "path = '../Figure2/300_enhancer/RT/'\n",
    "designs = pd.read_table('../Figure2/300_enhancer/Enhancer_designs.txt',header=0).iloc[:,2:]\n",
    "samples =['300_enhancer_RT_rep1','300_enhancer_RT_rep2','300_enhancer_RT_rep3']\n",
    "with open(path+'300_enhancer_RT_rep1_bc_count.txt','r') as f:\n",
    "    temp = f.readlines()\n",
    "    rep1=pd.DataFrame(merge_edit_1([a for a in [str2array(s) for s in temp] if a[1]>5 and len(a[0])==6]),columns=['barcode','count'])\n",
    "\n",
    "with open(path+'300_enhancer_RT_rep2_bc_count.txt','r') as f:\n",
    "    temp = f.readlines()\n",
    "    rep2=pd.DataFrame(merge_edit_1([a for a in [str2array(s) for s in temp] if a[1]>5 and len(a[0])==6]),columns=['barcode','count'])\n",
    "\n",
    "with open(path+'300_enhancer_RT_rep3_bc_count.txt','r') as f:\n",
    "    temp = f.readlines()\n",
    "    rep3=pd.DataFrame(merge_edit_1([a for a in [str2array(s) for s in temp] if a[1]>5 and len(a[0])==6]),columns=['barcode','count'])\n",
    "\n",
    "df_rna = rep1.merge(rep2,on='barcode',how='left').merge(rep3,on='barcode',how='left').fillna(0)\n",
    "df_rna['barcode'] = df_rna['barcode'].apply(reverse_complement)\n",
    "df_rna = df_rna.merge(designs['barcode'],how='right')\n",
    "df_rna.columns = ['barcode','RNA_rep1','RNA_rep2','RNA_rep3']\n",
    "\n",
    "df_all = df_syn.merge(df_rna,on='barcode',how='left')\n",
    "df_all['ratio_rep1'] =  np.log2((df_all['ins_rep1']+1)/(df_all['ins_rep1'].sum()+1))#\n",
    "df_all['ratio_rep2'] =  np.log2((df_all['ins_rep2']+1)/(df_all['ins_rep2'].sum()+1))#*10**6\n",
    "df_all['ratio_rep3'] =  np.log2((df_all['ins_rep3']+1)/(df_all['ins_rep3'].sum()+1))#*10**6\n",
    "df_all['ratio_all'] = np.log2((df_all['ins_rep1']+df_all['ins_rep2']+df_all['ins_rep3']+1)/\n",
    "                          (df_all['ins_rep1'].sum()+df_all['ins_rep2'].sum()+df_all['ins_rep3'].sum()+1))#*10**6\n",
    "\n",
    "df_all['RNA_ratio_rep1'] =  np.log2((df_all['RNA_rep1']+1)/(df_all['RNA_rep1'].sum()+1))#*10**6\n",
    "df_all['RNA_ratio_rep2'] =  np.log2((df_all['RNA_rep2']+1)/(df_all['RNA_rep2'].sum()+1))#*10**6\n",
    "df_all['RNA_ratio_rep3'] =  np.log2((df_all['RNA_rep3']+1)/(df_all['RNA_rep3'].sum()+1))#*10**6\n",
    "df_all['RNA_ratio_all'] = np.log2((df_all['RNA_rep1']+df_all['RNA_rep2']+df_all['RNA_rep3']+1)/\n",
    "                          (df_all['RNA_rep1'].sum()+df_all['RNA_rep2'].sum()+df_all['RNA_rep3'].sum()+1))#*10**6"
   ]
  },
  {
   "cell_type": "code",
   "execution_count": 12,
   "id": "d572a73c-dc9d-4415-9b7a-923e8d2c8c3e",
   "metadata": {
    "tags": []
   },
   "outputs": [],
   "source": [
    "df_all['diff'] = df_all['RNA_ratio_all'] - df_all['ratio_all']\n",
    "df_all = df_all.sort_values(by='RNA_ratio_all')"
   ]
  },
  {
   "cell_type": "markdown",
   "id": "3db31b4c-4136-4ffb-9119-a3286df73910",
   "metadata": {
    "tags": []
   },
   "source": [
    "## Correlation"
   ]
  },
  {
   "cell_type": "code",
   "execution_count": 13,
   "id": "ce923f1d-d7cc-4e54-97b7-d4df984b61ec",
   "metadata": {
    "tags": []
   },
   "outputs": [
    {
     "data": {
      "image/png": "[encoded data removed]",
      "text/plain": [
       "<Figure size 150x150 with 1 Axes>"
      ]
     },
     "metadata": {},
     "output_type": "display_data"
    }
   ],
   "source": [
    "fig, axs = plt.subplots(figsize=(1.5,1.5),sharey=False,sharex=False)\n",
    "s=['ratio_all','RNA_ratio_all']\n",
    "sns.scatterplot(x='ratio_all',y='RNA_ratio_all',data = df_all, color=['#4A4A4A'],s=5,ax=axs)\n",
    "sns.despine(offset=3)\n",
    "axs.set_xlabel('Insertion ratio',fontsize=7);\n",
    "axs.set_ylabel('RNA ratio',fontsize=7)\n",
    "pr = sp.stats.pearsonr(df_all[s[0]],df_all[s[1]])[0]      \n",
    "sr = sp.stats.spearmanr(df_all[s[0]],df_all[s[1]])[0]   \n",
    "start, end = -16,-3.5\n",
    "axs.yaxis.set_ticks(np.arange(start, end, 3))\n",
    "axs.xaxis.set_ticks(np.arange(start, end, 3))\n",
    "axs.text(-15,-5,\"Pearson: \"  + str(round(pr,3))  + \"\\nSpearman: \"+str(round(sr,3)),fontsize=6)\n",
    "axs.set_xlabel('')\n",
    "axs.set_ylabel('')#s[1])\n",
    "axs.plot([start, -4],[start, -4],'--',color='#FB8072',linewidth=0.8)\n",
    "axs.xaxis.set_tick_params(width=0.8, length=2,labelsize=6)\n",
    "axs.yaxis.set_tick_params(width=0.8, length=2,labelsize=6)\n",
    "#plt.savefig('../Figure2/figs/Figure-2C_MPRA_ENGRAM.pdf')"
   ]
  },
  {
   "cell_type": "code",
   "execution_count": 14,
   "id": "486b0a3d-cbe1-40ed-825c-30a38844f4e1",
   "metadata": {
    "tags": []
   },
   "outputs": [
    {
     "data": {
      "image/png": "[encoded data removed]",
      "text/plain": [
       "<Figure size 450x150 with 3 Axes>"
      ]
     },
     "metadata": {},
     "output_type": "display_data"
    }
   ],
   "source": [
    "fig, axs = plt.subplots(1,3,figsize=(4.5,1.5),sharey=False,sharex=False)\n",
    "sample = [('ratio_rep1','ratio_rep2'),('ratio_rep1','ratio_rep3'),('ratio_rep2','ratio_rep3')]\n",
    "for i in range(3):\n",
    "    s=sample[i]\n",
    "    sns.scatterplot(x=s[0],y=s[1],data = df_all, color=['#4A4A4A'],s=5,ax=axs[i],marker='o')\n",
    "    pr = sp.stats.pearsonr(df_all[s[0]],df_all[s[1]])[0]      \n",
    "    sr = sp.stats.spearmanr(df_all[s[0]],df_all[s[1]])[0]        \n",
    "    sns.despine(offset=3)\n",
    "    start, end = -16,-3.5\n",
    "    axs[i].yaxis.set_ticks(np.arange(start, end, 3))\n",
    "    axs[i].xaxis.set_ticks(np.arange(start, end, 3))\n",
    "    axs[i].text(-15,-5,\"Pearson: \"  + str(round(pr,3))  + \"\\nSpearman: \"+str(round(sr,3)),fontsize=6)\n",
    "    axs[i].set_xlabel('')\n",
    "    axs[i].set_ylabel('')#s[1])\n",
    "    axs[i].plot([start, -4],[start, -4],'--',color='#FB8072',linewidth=0.8)\n",
    "    axs[i].xaxis.set_tick_params(width=0.8, length=2,labelsize=6)\n",
    "    axs[i].yaxis.set_tick_params(width=0.8, length=2,labelsize=6)\n",
    "#plt.savefig('../Figure2/figs/Supp_300_ENGRAM.pdf')"
   ]
  },
  {
   "cell_type": "code",
   "execution_count": 15,
   "id": "6aa948c7-07c0-4e61-a47b-ebf52528fbd0",
   "metadata": {
    "tags": []
   },
   "outputs": [
    {
     "data": {
      "image/png": "[encoded data removed]",
      "text/plain": [
       "<Figure size 450x150 with 3 Axes>"
      ]
     },
     "metadata": {},
     "output_type": "display_data"
    }
   ],
   "source": [
    "fig, axs = plt.subplots(1,3,figsize=(4.5,1.5),sharey=False,sharex=False)\n",
    "sample = [('RNA_ratio_rep1','RNA_ratio_rep2'),('RNA_ratio_rep1','RNA_ratio_rep3'),('RNA_ratio_rep2','RNA_ratio_rep3')]\n",
    "\n",
    "for i in range(3):\n",
    "    s=sample[i]\n",
    "    sns.scatterplot(x=s[0],y=s[1],data = df_all, color=['#4A4A4A'],s=5,ax=axs[i],marker='o')\n",
    "    pr = sp.stats.pearsonr(df_all[s[0]],df_all[s[1]])[0]      \n",
    "    sr = sp.stats.spearmanr(df_all[s[0]],df_all[s[1]])[0]        \n",
    "    sns.despine(offset=3)\n",
    "    start, end = -16,-3.5\n",
    "    axs[i].yaxis.set_ticks(np.arange(start, end, 3))\n",
    "    axs[i].xaxis.set_ticks(np.arange(start, end, 3))\n",
    "    axs[i].text(-15,-5,\"Pearson: \"  + str(round(pr,3))  + \"\\nSpearman: \"+str(round(sr,3)),fontsize=6)\n",
    "    axs[i].set_xlabel('')\n",
    "    axs[i].set_ylabel('')#s[1])\n",
    "    axs[i].plot([start, -4],[start, -4],'--',color='#FB8072',linewidth=0.8)\n",
    "    axs[i].xaxis.set_tick_params(width=0.8, length=2,labelsize=6)\n",
    "    axs[i].yaxis.set_tick_params(width=0.8, length=2,labelsize=6)\n",
    "#plt.savefig('../Figure2/figs/Supp_300_MPRA.pdf')"
   ]
  },
  {
   "cell_type": "code",
   "execution_count": 16,
   "id": "b368b1d8-33ec-4489-ba25-2a64b45b8b5e",
   "metadata": {
    "tags": []
   },
   "outputs": [
    {
     "data": {
      "image/png": "[encoded data removed]",
      "text/plain": [
       "<Figure size 450x150 with 3 Axes>"
      ]
     },
     "metadata": {},
     "output_type": "display_data"
    }
   ],
   "source": [
    "fig, axs = plt.subplots(1,3,figsize=(4.5,1.5),sharey=False,sharex=False)\n",
    "sample = [('ratio_rep1','RNA_ratio_rep1'),('ratio_rep2','RNA_ratio_rep2'),('ratio_rep3','RNA_ratio_rep3')]\n",
    "for i in range(3):\n",
    "    s=sample[i]\n",
    "    sns.scatterplot(x=s[0],y=s[1],data = df_all, color=['#4A4A4A'],s=5,ax=axs[i],marker='o')\n",
    "    pr = sp.stats.pearsonr(df_all[s[0]],df_all[s[1]])[0]      \n",
    "    sr = sp.stats.spearmanr(df_all[s[0]],df_all[s[1]])[0]        \n",
    "    sns.despine(offset=3)\n",
    "    start, end = -16,-3.5\n",
    "    axs[i].yaxis.set_ticks(np.arange(start, end, 3))\n",
    "    axs[i].xaxis.set_ticks(np.arange(start, end, 3))\n",
    "    axs[i].text(-15,-5,\"Pearson: \"  + str(round(pr,3))  + \"\\nSpearman: \"+str(round(sr,3)),fontsize=6)\n",
    "    axs[i].set_xlabel('')\n",
    "    axs[i].set_ylabel('')#s[1])\n",
    "    axs[i].plot([start, -4],[start, -4],'--',color='#FB8072',linewidth=0.8)\n",
    "    axs[i].xaxis.set_tick_params(width=0.8, length=2,labelsize=6)\n",
    "    axs[i].yaxis.set_tick_params(width=0.8, length=2,labelsize=6)\n",
    "#plt.savefig('../Figure2/figs/Supp_300_ENGRAM_MPRA.pdf')"
   ]
  },
  {
   "cell_type": "markdown",
   "id": "b64016c5-8ca6-4889-a691-7fb7a6a74249",
   "metadata": {
    "tags": []
   },
   "source": [
    "## Rank & Quartile"
   ]
  },
  {
   "cell_type": "code",
   "execution_count": 17,
   "id": "9a7c8ce4-c2b6-45b8-bf77-98161abaacef",
   "metadata": {
    "tags": []
   },
   "outputs": [
    {
     "data": {
      "image/png": "[encoded data removed]",
      "text/plain": [
       "<Figure size 150x200 with 2 Axes>"
      ]
     },
     "metadata": {},
     "output_type": "display_data"
    }
   ],
   "source": [
    "fig, axs = plt.subplots(2,1,figsize=(1.5,2),sharey=True,sharex=True)\n",
    "sns.scatterplot(data=df_all, x='barcode', y='RNA_ratio_all',color=['#4A4A4A'], s=1,ax=axs[0])\n",
    "sns.scatterplot(data=df_all, x='barcode', y='ratio_all',color=['#4A4A4A'], s=1,ax=axs[1])\n",
    "\n",
    "sns.despine(offset=3,ax=axs[0])\n",
    "sns.despine(offset=3,ax=axs[1])\n",
    "axs[0].set_xlabel('')\n",
    "axs[0].set_ylabel('')\n",
    "axs[1].set_xlabel('')\n",
    "axs[1].set_ylabel('')\n",
    "axs[0].set_ylim(-15,0)\n",
    "axs[1].set_ylim(-15,0)\n",
    "axs[0].xaxis.set_tick_params(width=0.8, length=0,labelsize=6)\n",
    "axs[0].yaxis.set_tick_params(width=0.8, length=2,labelsize=6)\n",
    "axs[1].xaxis.set_tick_params(width=0.8, length=2,labelsize=6)\n",
    "axs[1].yaxis.set_tick_params(width=0.8, length=2,labelsize=6)\n",
    "axs[0].spines['bottom'].set_visible(False)\n",
    "    \n",
    "#plt.savefig('../Figure2/figs/Figure-2D_300_all_plot.pdf')"
   ]
  },
  {
   "cell_type": "code",
   "execution_count": 18,
   "id": "6bd2e46c-5fde-4df7-a294-939d0fad7dfe",
   "metadata": {
    "tags": []
   },
   "outputs": [],
   "source": [
    "first_qt,second_qt,thirt_qt = -11, -9, -7 \n",
    "np.random.seed(111)\n",
    "\n",
    "q1 = df_all[df_all['RNA_ratio_all']<first_qt].sample(8)\n",
    "q2 = df_all[(df_all['RNA_ratio_all']>first_qt) & (df_all['RNA_ratio_all']<second_qt)].sample(8)\n",
    "q3 = df_all[(df_all['RNA_ratio_all']>second_qt) & (df_all['RNA_ratio_all']<thirt_qt)].sample(8)\n",
    "q4 = df_all[df_all['RNA_ratio_all']>thirt_qt].sample(8)\n",
    "\n",
    "\n",
    "q1['r1'] = q1['ratio_all'].rank()\n",
    "q1['r2'] = q1['RNA_ratio_all'].rank()\n",
    "q2['r1'] = q2['ratio_all'].rank()\n",
    "q2['r2'] = q2['RNA_ratio_all'].rank()\n",
    "q3['r1'] = q3['ratio_all'].rank()\n",
    "q3['r2'] = q3['RNA_ratio_all'].rank()\n",
    "q4['r1'] = q4['ratio_all'].rank()\n",
    "q4['r2'] = q4['RNA_ratio_all'].rank()\n",
    "\n",
    "q1 = q1.sort_values(by='RNA_ratio_all')\n",
    "q2 = q2.sort_values(by='RNA_ratio_all')\n",
    "q3 = q3.sort_values(by='RNA_ratio_all')\n",
    "q4 = q4.sort_values(by='RNA_ratio_all')"
   ]
  },
  {
   "cell_type": "code",
   "execution_count": 19,
   "id": "d6729422-4a0b-47a7-85c3-87ee0df4b2eb",
   "metadata": {
    "tags": []
   },
   "outputs": [
    {
     "data": {
      "image/png": "[encoded data removed]",
      "text/plain": [
       "<Figure size 600x200 with 8 Axes>"
      ]
     },
     "metadata": {},
     "output_type": "display_data"
    }
   ],
   "source": [
    "quat = [q1,q2,q3,q4]\n",
    "fig, axs = plt.subplots(2,4,figsize=(6,2),sharey=True,sharex=False)\n",
    "for i in range(4):\n",
    "    q=quat[i]\n",
    "    sns.barplot(data=q, x='barcode', y='RNA_ratio_all',ax=axs[0,i],palette=['#76A08A','#F5CDB6','#C7CEF6','#D8A49B','#7496D2','#E6A2C5','#FDDDA4','#F7B0AA'])\n",
    "    sns.barplot(data=q, x='barcode', y='ratio_all',ax=axs[1,i],palette=['#76A08A','#F5CDB6','#C7CEF6','#D8A49B','#7496D2','#E6A2C5','#FDDDA4','#F7B0AA'])\n",
    "    sns.despine(offset=3,ax=axs[0,i])\n",
    "    sns.despine(offset=3,ax=axs[1,i])\n",
    "    axs[0,i].set_xlabel('')\n",
    "    axs[0,i].set_ylabel('')#s[1])\n",
    "    axs[1,i].set_xlabel('')#s[1])\n",
    "    axs[1,i].set_ylabel('')#s[1])\n",
    "    axs[0,i].set_ylim(-15,0)\n",
    "    axs[1,i].set_ylim(-15,0)\n",
    "    axs[0,i].xaxis.set_tick_params(width=0.8, length=0,labelsize=6)\n",
    "    axs[0,i].yaxis.set_tick_params(width=0.8, length=2,labelsize=6)\n",
    "    axs[1,i].xaxis.set_tick_params(width=0.8, length=2,labelsize=6)\n",
    "    axs[1,i].yaxis.set_tick_params(width=0.8, length=2,labelsize=6)\n",
    "    axs[0,i].spines['bottom'].set_visible(False)\n",
    "    axs[0,i].set_xticklabels([],rotation=-90)\n",
    "    axs[1,i].set_xticklabels(axs[1,i].get_xticklabels(),rotation=-90)\n",
    "    \n",
    "#plt.savefig('../Figure2/figs/Supp_300_quant_barplot.pdf')"
   ]
  },
  {
   "cell_type": "code",
   "execution_count": 20,
   "id": "9133b56b-51d1-4717-8119-3bff741d163f",
   "metadata": {
    "tags": []
   },
   "outputs": [
    {
     "data": {
      "image/png": "[encoded data removed]",
      "text/plain": [
       "<Figure size 180x180 with 1 Axes>"
      ]
     },
     "metadata": {},
     "output_type": "display_data"
    }
   ],
   "source": [
    "np.random.seed(111)\n",
    "spear = []\n",
    "condition = [(df_all['RNA_ratio_all']<first_qt),\\\n",
    "             ((df_all['RNA_ratio_all']>first_qt) & (df_all['RNA_ratio_all']<second_qt)),\\\n",
    "             ((df_all['RNA_ratio_all']>second_qt) & (df_all['RNA_ratio_all']<thirt_qt)),\\\n",
    "             df_all['RNA_ratio_all']>thirt_qt]\n",
    "for quat in range(4):\n",
    "    temp = []\n",
    "    for i in range(10):\n",
    "        q = df_all[condition[quat]].sample(20)\n",
    "        q['r1'] = q['ratio_all'].rank()\n",
    "        q['r2'] = q['RNA_ratio_all'].rank()\n",
    "        temp.append(sp.stats.spearmanr(q['ratio_all'],q['RNA_ratio_all'])[0])\n",
    "    spear.append(temp)\n",
    "df_quart = pd.DataFrame(spear).T\n",
    "df_quart.columns = ['1st','2nd','3rd','4th']\n",
    "df_quart_melt = df_quart.melt()\n",
    "fig, axs = fig, axs = plt.subplots(1,1,figsize=(1.8,1.8),sharey=False,sharex=False)\n",
    "sns.boxplot(data=df_quart_melt,y='value',x='variable',palette=['#C7CEF6', '#76A08A', '#F5CDB6', '#7496D2'], width=0.5,showfliers=False)\n",
    "sns.swarmplot(data=df_quart_melt,y='value',x='variable',s=2,color='#5C5C5C')\n",
    "sns.despine(offset=3)\n",
    "axs.set_ylabel('Spearman correlation',fontsize=7);\n",
    "axs.set_xlabel('')\n",
    "axs.set_ylim(0,1)\n",
    "\n",
    "axs.yaxis.set_tick_params(width=0.8, length=2,labelsize=6)\n",
    "axs.xaxis.set_tick_params(width=0.8, length=2,labelsize=6)\n",
    "#plt.savefig('../Figure2/figs/Supp_300_enhancer_ranking.pdf')"
   ]
  },
  {
   "cell_type": "code",
   "execution_count": 21,
   "id": "20c44dbe-f895-4141-82a7-794feefdeee1",
   "metadata": {
    "tags": []
   },
   "outputs": [
    {
     "name": "stdout",
     "output_type": "stream",
     "text": [
      "('1st', '2nd') Ttest_indResult(statistic=0.33052567024233187, pvalue=0.744818991435474)\n",
      "('1st', '3rd') Ttest_indResult(statistic=-1.75407756259596, pvalue=0.09642675826975025)\n",
      "('1st', '4th') Ttest_indResult(statistic=-3.597451033007461, pvalue=0.0020588397711514645)\n",
      "('2nd', '3rd') Ttest_indResult(statistic=-1.7911457031510543, pvalue=0.09010073243253126)\n",
      "('2nd', '4th') Ttest_indResult(statistic=-3.199861655102291, pvalue=0.004963999427239386)\n",
      "('3rd', '4th') Ttest_indResult(statistic=-1.6567962633176854, pvalue=0.11488787317042554)\n"
     ]
    }
   ],
   "source": [
    "groups = ['1st','2nd','3rd','4th']\n",
    "for a in itertools.combinations(groups,2):\n",
    "    print (a,sp.stats.ttest_ind(df_quart[a[0]],df_quart[a[1]], equal_var=True))"
   ]
  },
  {
   "cell_type": "markdown",
   "id": "1bc3f774-735a-4bee-8952-3ce3d9652f37",
   "metadata": {
    "tags": []
   },
   "source": [
    "## Sample input test"
   ]
  },
  {
   "cell_type": "code",
   "execution_count": 22,
   "id": "e20b2d02-b3bb-4a00-852b-9c63ba0b2179",
   "metadata": {
    "tags": []
   },
   "outputs": [],
   "source": [
    "# Loading endogenous hek3 locus\n",
    "path = '../Figure2/300_enhancer/Hek3/'\n",
    "cells = ['1X','2X','4X','8X','16X']\n",
    "cell_number = {'1X':6000,'2X':12000,'4X':6000*4,'8X':6000*8,'16X':6000*16}\n",
    "sample_count_table = []\n",
    "for k in range(5):\n",
    "    df_new = pd.read_table('../Figure2/300_enhancer/Enhancer_designs.txt',header=0).iloc[:,2:]\n",
    "    samples =sorted([s.split('_S')[0] for s in os.listdir(path) if '.gz' in s and 'R1' in s if cells[k] in s])\n",
    "    for i in range(3):\n",
    "        with open(path+samples[i]+'_bc_count.tsv','r') as f:\n",
    "            temp = f.readlines()\n",
    "            test = pd.DataFrame(merge_edit_1([a for a in [str2array(s) for s in temp] if len(a[0])==6]),columns=['barcode','count'])\n",
    "            #test['barcode'] = test['barcode'].apply(reverse_complement)\n",
    "            df_new = df_new.merge(test,on='barcode',how='left').fillna(0)\n",
    "        f.close()\n",
    "    df_new.columns = ['barcode','RNA/DNA ratio','ins_rep1','ins_rep2','ins_rep3']\n",
    "    df_new['ratio_rep1'] =  np.log2((df_new['ins_rep1']+1)/(df_new['ins_rep1'].sum()+1))#\n",
    "    df_new['ratio_rep2'] =  np.log2((df_new['ins_rep2']+1)/(df_new['ins_rep2'].sum()+1))#*10**6\n",
    "    df_new['ratio_rep3'] =  np.log2((df_new['ins_rep3']+1)/(df_new['ins_rep3'].sum()+1))#*10**6\n",
    "    df_new['ratio_all'] = np.log2((df_new['ins_rep1']+df_new['ins_rep2']+df_new['ins_rep3']+1)/\n",
    "                          (df_new['ins_rep1'].sum()+df_new['ins_rep2'].sum()+df_new['ins_rep3'].sum()+1))#*10**6\n",
    "    sample_count_table.append([cell_number[cells[k]],sum(df_new['ins_rep1']!=0),sum(df_new['ins_rep2']!=0),sum(df_new['ins_rep2']!=0),sp.stats.pearsonr(df_new['ratio_rep1'],df_new['ratio_rep2'])[0], sp.stats.pearsonr(df_new['ratio_rep1'],df_new['ratio_rep3'])[0],\\\n",
    "                 sp.stats.pearsonr(df_new['ratio_rep3'],df_new['ratio_rep2'])[0]])\n",
    "sample_count_table = pd.DataFrame(sample_count_table,columns=['sample','recovery','recovery','recovery','PR','PR','PR'])"
   ]
  },
  {
   "cell_type": "code",
   "execution_count": 23,
   "id": "46d71546-e0c7-4262-a631-17b3dee4454b",
   "metadata": {
    "tags": []
   },
   "outputs": [],
   "source": [
    "# Loading synthetic Hek3 locus\n",
    "path = '../Figure2/300_enhancer/synHek3/'\n",
    "cells = ['1X','2X','4X','8X','16X']\n",
    "cell_number = {'1X':6000,'2X':12000,'4X':6000*4,'8X':6000*8,'16X':6000*16}\n",
    "sample_count_table_tape = []\n",
    "for k in range(5):\n",
    "    df_new = pd.read_table('../Figure2/300_enhancer/Enhancer_designs.txt',header=0).iloc[:,2:]\n",
    "    samples =sorted([s.split('_S')[0] for s in os.listdir(path) if '.gz' in s and 'R1' in s if cells[k] in s])\n",
    "    for i in range(3):\n",
    "        with open(path+samples[i]+'_bc_count.tsv','r') as f:\n",
    "            temp = f.readlines()\n",
    "            test = pd.DataFrame(merge_edit_1([a for a in [str2array(s) for s in temp] if len(a[0])==6]),columns=['barcode','count'])\n",
    "            test['barcode'] = test['barcode'].apply(reverse_complement)\n",
    "            df_new = df_new.merge(test,on='barcode',how='left').fillna(0)\n",
    "        f.close()\n",
    "    df_new.columns = ['barcode','RNA/DNA ratio','ins_rep1','ins_rep2','ins_rep3']\n",
    "    df_new['ratio_rep1'] =  np.log2((df_new['ins_rep1']+1)/(df_new['ins_rep1'].sum()+1))#\n",
    "    df_new['ratio_rep2'] =  np.log2((df_new['ins_rep2']+1)/(df_new['ins_rep2'].sum()+1))#*10**6\n",
    "    df_new['ratio_rep3'] =  np.log2((df_new['ins_rep3']+1)/(df_new['ins_rep3'].sum()+1))#*10**6\n",
    "    df_new['ratio_all']  =  np.log2((df_new['ins_rep1']+df_new['ins_rep2']+df_new['ins_rep3']+1)/(df_new['ins_rep1'].sum()+df_new['ins_rep2'].sum()+df_new['ins_rep3'].sum()+1))#*10**6\n",
    "    sample_count_table_tape.append([cell_number[cells[k]],sum(df_new['ins_rep1']!=0),sum(df_new['ins_rep2']!=0),sum(df_new['ins_rep2']!=0),sp.stats.pearsonr(df_new['ratio_rep1'],df_new['ratio_rep2'])[0], sp.stats.pearsonr(df_new['ratio_rep1'],df_new['ratio_rep3'])[0],\\\n",
    "                 sp.stats.pearsonr(df_new['ratio_rep3'],df_new['ratio_rep2'])[0]])\n",
    "sample_count_table_tape = pd.DataFrame(sample_count_table_tape,columns=['sample','recovery','recovery','recovery','PR','PR','PR'])"
   ]
  },
  {
   "cell_type": "code",
   "execution_count": 24,
   "id": "37b60c9d-4e9d-4d7d-9853-a2e2fd1f79e1",
   "metadata": {
    "tags": []
   },
   "outputs": [],
   "source": [
    "sample_count = pd.merge(sample_count_table,sample_count_table_tape,on='sample')\n",
    "df1 = sample_count.iloc[:,[0,1,2,3,7,8,9]].melt(id_vars='sample')\n",
    "df2 = sample_count.iloc[:,[0,4,5,6,10,11,12]].melt(id_vars='sample')\n",
    "df1['sample'] = pd.Categorical(df1['sample'],\n",
    "                             categories=[6000,12000,24000,48000,96000],ordered=True) #['D1','D3','D5','D7','D9','D11','D13','D15','D17','D21']\n",
    "df2['sample'] = pd.Categorical(df2['sample'],\n",
    "                             categories=[6000,12000,24000,48000,96000],ordered=True) #['D1','D3','D5','D7','D9','D11','D13','D15','D17','D21']"
   ]
  },
  {
   "cell_type": "code",
   "execution_count": 25,
   "id": "96c2e1f5-0e56-4253-aef7-fd780ed7d6e7",
   "metadata": {
    "tags": []
   },
   "outputs": [
    {
     "data": {
      "image/png": "[encoded data removed]",
      "text/plain": [
       "<Figure size 150x150 with 1 Axes>"
      ]
     },
     "metadata": {},
     "output_type": "display_data"
    }
   ],
   "source": [
    "fig, axs = plt.subplots(1,figsize=(1.5,1.5),sharey=False,sharex=False)\n",
    "g=sns.lineplot(data=df1,x=\"sample\", y=\"value\",hue='variable',palette=['#80B1D3','#FB8072'],\\\n",
    "               linewidth = 1,markers=['o','.'],markersize=2,dashes=False,err_style=\"bars\", err_kws={'capsize':1,'elinewidth':0.5},errorbar='sd',ax=axs)\n",
    "sns.scatterplot(data=df1, x=\"sample\", y=\"value\", color=\"#4A4A4A\",marker='.',size=4,ax=axs)\n",
    "\n",
    "axs.set_xlabel('# of cells',fontsize=7);\n",
    "axs.set_ylabel('# of enhancer recovered',fontsize=7)\n",
    "axs.set_xscale('log',base=10)\n",
    "\n",
    "axs.xaxis.set_tick_params(width=0.8, length=2,labelsize=6)\n",
    "axs.yaxis.set_tick_params(width=0.8, length=2,labelsize=6)\n",
    "g.legend_.remove()\n",
    "sns.despine(offset=3)\n",
    "#plt.savefig('../Figure2/figs/Supp_syn_endo_recover.pdf')"
   ]
  },
  {
   "cell_type": "code",
   "execution_count": 26,
   "id": "5171c1f9-522b-4930-89af-78e3c30089e3",
   "metadata": {
    "tags": []
   },
   "outputs": [
    {
     "data": {
      "image/png": "[encoded data removed]",
      "text/plain": [
       "<Figure size 150x150 with 1 Axes>"
      ]
     },
     "metadata": {},
     "output_type": "display_data"
    }
   ],
   "source": [
    "fig, axs = plt.subplots(1,figsize=(1.5,1.5),sharey=False,sharex=False)\n",
    "g=sns.lineplot(data=df2,x=\"sample\", y=\"value\",hue='variable', palette=['#80B1D3','#FB8072'],\\\n",
    "               linewidth = 1,markers=['X','.'],dashes=False,err_style=\"bars\", err_kws={'capsize':1,'elinewidth':0.5},errorbar='sd',ax=axs)\n",
    "sns.scatterplot(data=df2, x=\"sample\", y=\"value\", color=\"#4A4A4A\",marker='.',size=4,ax=axs)\n",
    "\n",
    "axs.set_xlabel('');\n",
    "axs.set_xscale('log',base=10)\n",
    "axs.set_ylabel('Pearson correlation',fontsize=7)\n",
    "axs.set_ylim(0.4,1)\n",
    "axs.xaxis.set_tick_params(width=0.8, length=2,labelsize=6)\n",
    "axs.yaxis.set_tick_params(width=0.8, length=2,labelsize=6)\n",
    "g.legend_.remove()\n",
    "sns.despine(offset=3)\n",
    "#plt.savefig('../Figure2/figs/Supp_syn_endo_pr.pdf')"
   ]
  },
  {
   "cell_type": "markdown",
   "id": "48225331-ea69-4743-aae1-87c76eb4ffcf",
   "metadata": {
    "tags": []
   },
   "source": [
    "## Sequencing depth test"
   ]
  },
  {
   "cell_type": "code",
   "execution_count": 27,
   "id": "b2b4070a-ec88-4bcb-81ac-c4c3705d9e91",
   "metadata": {
    "tags": []
   },
   "outputs": [],
   "source": [
    "path = '../Figure2/300_enhancer/seq_reads_downsample/'\n",
    "cells = ['4M','1M','250k','50k']\n",
    "sample_count_table_tape = []\n",
    "for k in range(4):\n",
    "    df_new = pd.read_table('../Figure2/300_enhancer/Enhancer_designs.txt',header=0).iloc[:,2:]\n",
    "    samples = sorted([s.split('_bc_count')[0] for s in os.listdir(path) if '.tsv' in s and cells[k] in s])\n",
    "    for i in range(3):\n",
    "        with open(path+samples[i]+'_bc_count.tsv','r') as f:\n",
    "            temp = f.readlines()\n",
    "            test = pd.DataFrame(merge_edit_1([a for a in [str2array(s) for s in temp] if len(a[0])==6]),columns=['barcode','count'])\n",
    "            test['barcode'] = test['barcode'].apply(reverse_complement)\n",
    "            df_new = df_new.merge(test,on='barcode',how='left').fillna(0)\n",
    "        f.close()\n",
    "    df_new.columns = ['barcode','RNA/DNA ratio','ins_rep1','ins_rep2','ins_rep3']\n",
    "    df_new['ratio_rep1'] =  np.log2((df_new['ins_rep1']+1)/(df_new['ins_rep1'].sum()+1))#\n",
    "    df_new['ratio_rep2'] =  np.log2((df_new['ins_rep2']+1)/(df_new['ins_rep2'].sum()+1))#*10**6\n",
    "    df_new['ratio_rep3'] =  np.log2((df_new['ins_rep3']+1)/(df_new['ins_rep3'].sum()+1))#*10**6\n",
    "    df_new['ratio_all'] = np.log2((df_new['ins_rep1']+df_new['ins_rep2']+df_new['ins_rep3']+1)/\n",
    "                          (df_new['ins_rep1'].sum()+df_new['ins_rep2'].sum()+df_new['ins_rep3'].sum()+1))#*10**6\n",
    "    sample_count_table_tape.append([cells[k],sum(df_new['ins_rep1']!=0),sum(df_new['ins_rep2']!=0),sum(df_new['ins_rep2']!=0),sp.stats.pearsonr(df_new['ratio_rep1'],df_new['ratio_rep2'])[0], sp.stats.pearsonr(df_new['ratio_rep1'],df_new['ratio_rep3'])[0],\\\n",
    "                 sp.stats.pearsonr(df_new['ratio_rep3'],df_new['ratio_rep2'])[0]])\n",
    "sample_count_table_tape = pd.DataFrame(sample_count_table_tape,columns=['sample','recovery','recovery','recovery','PR','PR','PR'])"
   ]
  },
  {
   "cell_type": "code",
   "execution_count": 28,
   "id": "a3ec09c1-3273-4525-a957-22569751744a",
   "metadata": {
    "tags": []
   },
   "outputs": [],
   "source": [
    "df1 = sample_count_table_tape.iloc[:,[0,1,2,3]].melt(id_vars='sample')\n",
    "df2 = sample_count_table_tape.iloc[:,[0,4,5,6]].melt(id_vars='sample')\n",
    "df1['sample'] = pd.Categorical(df1['sample'],categories=['50k','250k','1M','4M']) \n",
    "df2['sample'] = pd.Categorical(df2['sample'],categories=['50k','250k','1M','4M']) "
   ]
  },
  {
   "cell_type": "code",
   "execution_count": 29,
   "id": "28f5735a-53a7-4a5f-8cf1-df13d24ef6ee",
   "metadata": {
    "tags": []
   },
   "outputs": [],
   "source": [
    "order=['50k','250k','1M','4M'],"
   ]
  },
  {
   "cell_type": "code",
   "execution_count": 30,
   "id": "2e4cd691-effa-426d-bd38-de5a1bc25ed8",
   "metadata": {
    "tags": []
   },
   "outputs": [
    {
     "data": {
      "image/png": "[encoded data removed]",
      "text/plain": [
       "<Figure size 150x150 with 1 Axes>"
      ]
     },
     "metadata": {},
     "output_type": "display_data"
    }
   ],
   "source": [
    "fig, axs = plt.subplots(1,figsize=(1.5,1.5),sharey=False,sharex=False)\n",
    "g=sns.lineplot(data=df2,x=\"sample\", y=\"value\", color='#80B1D3',\\\n",
    "               linewidth = 1,markers=['X','.'],dashes=False,err_style=\"bars\", err_kws={'capsize':1,'elinewidth':0.5},errorbar='sd',ax=axs)\n",
    "sns.scatterplot(data=df2, x=\"sample\", y=\"value\", color=\"#4A4A4A\",marker='.',size=4,ax=axs)\n",
    "axs.set_xlabel('# of reads',fontsize=7);\n",
    "axs.set_ylabel('Pearson correlation',fontsize=7)\n",
    "axs.set_ylim(0.4,1)\n",
    "axs.xaxis.set_tick_params(width=0.8, length=2,labelsize=6)\n",
    "axs.yaxis.set_tick_params(width=0.8, length=2,labelsize=6)\n",
    "g.legend_.remove()\n",
    "sns.despine(offset=3)\n",
    "#plt.savefig('../Figure2/figs/Supp_300_enhancer_read_downsample_pearson.pdf')"
   ]
  },
  {
   "cell_type": "code",
   "execution_count": 31,
   "id": "45cb0c7a-cd05-4534-9386-b9bcc34ec3ae",
   "metadata": {
    "tags": []
   },
   "outputs": [
    {
     "data": {
      "image/png": "[encoded data removed]",
      "text/plain": [
       "<Figure size 150x150 with 1 Axes>"
      ]
     },
     "metadata": {},
     "output_type": "display_data"
    }
   ],
   "source": [
    "fig, axs = plt.subplots(1,figsize=(1.5,1.5),sharey=False,sharex=False)\n",
    "g=sns.lineplot(data=df1,x=\"sample\", y=\"value\", color='#80B1D3',\\\n",
    "               linewidth = 1,markers=['X','.'],dashes=False,err_style=\"bars\", err_kws={'capsize':1,'elinewidth':0.5},errorbar='sd',ax=axs)\n",
    "sns.scatterplot(data=df1, x=\"sample\", y=\"value\", color=\"#4A4A4A\",marker='.',size=4,ax=axs)\n",
    "axs.set_ylim(150,300);\n",
    "axs.set_xlabel('# of reads',fontsize=7);\n",
    "axs.set_ylabel('# of enhancer recovered',fontsize=7)\n",
    "axs.xaxis.set_tick_params(width=0.8, length=2,labelsize=6)\n",
    "axs.yaxis.set_tick_params(width=0.8, length=2,labelsize=6)\n",
    "g.legend_.remove()\n",
    "sns.despine(offset=3)\n",
    "#plt.savefig('../Figure2/figs/Supp_300_enhancer_read_downsample_recovery.pdf')"
   ]
  },
  {
   "cell_type": "markdown",
   "id": "ef66f356-4cfb-491a-8446-a87975184723",
   "metadata": {
    "tags": []
   },
   "source": [
    "## RT downsample"
   ]
  },
  {
   "cell_type": "code",
   "execution_count": 32,
   "id": "fd995103-0661-40f6-bc9e-d916283916db",
   "metadata": {
    "tags": []
   },
   "outputs": [],
   "source": [
    "path = '../Figure2/300_enhancer/RT/'\n",
    "cells = ['80K','20K','5K','1K']\n",
    "sample_count_RNA = []\n",
    "for k in range(4):\n",
    "    df_new = pd.read_table('../Figure2/300_enhancer/Enhancer_designs.txt',header=0).iloc[:,2:]\n",
    "    samples = sorted([s.split('_bc_count')[0] for s in os.listdir(path) if '.tsv' in s and cells[k] in s])\n",
    "    for i in range(3):\n",
    "        with open(path+samples[i]+'_bc_count.tsv','r') as f:\n",
    "            temp = f.readlines()\n",
    "            test = pd.DataFrame(merge_edit_1([a for a in [str2array(s) for s in temp] if len(a[0])==6]),columns=['barcode','count'])\n",
    "            test['barcode'] = test['barcode'].apply(reverse_complement)\n",
    "            df_new = df_new.merge(test,on='barcode',how='left').fillna(0)\n",
    "        f.close()\n",
    "    df_new.columns = ['barcode','RNA/DNA ratio','ins_rep1','ins_rep2','ins_rep3']\n",
    "    df_new['ratio_rep1'] =  np.log2((df_new['ins_rep1']+1)/(df_new['ins_rep1'].sum()+1))#\n",
    "    df_new['ratio_rep2'] =  np.log2((df_new['ins_rep2']+1)/(df_new['ins_rep2'].sum()+1))#*10**6\n",
    "    df_new['ratio_rep3'] =  np.log2((df_new['ins_rep3']+1)/(df_new['ins_rep3'].sum()+1))#*10**6\n",
    "    df_new['ratio_all'] = np.log2((df_new['ins_rep1']+df_new['ins_rep2']+df_new['ins_rep3']+1)/\n",
    "                                  (df_new['ins_rep1'].sum()+df_new['ins_rep2'].sum()+df_new['ins_rep3'].sum()+1))#*10**6\n",
    "    sample_count_RNA.append([cells[k],sum(df_new['ins_rep1']!=0),sum(df_new['ins_rep2']!=0),sum(df_new['ins_rep2']!=0),sp.stats.pearsonr(df_new['ratio_rep1'],df_new['ratio_rep2'])[0], sp.stats.pearsonr(df_new['ratio_rep1'],df_new['ratio_rep3'])[0],\\\n",
    "                 sp.stats.pearsonr(df_new['ratio_rep3'],df_new['ratio_rep2'])[0]])\n",
    "sample_count_RNA = pd.DataFrame(sample_count_RNA,columns=['sample','recovery','recovery','recovery','PR','PR','PR'])"
   ]
  },
  {
   "cell_type": "code",
   "execution_count": 33,
   "id": "5910cfc7-b391-4e83-9956-0631322656ae",
   "metadata": {
    "tags": []
   },
   "outputs": [
    {
     "data": {
      "text/html": [
       "<div>\n",
       "<style scoped>\n",
       "    .dataframe tbody tr th:only-of-type {\n",
       "        vertical-align: middle;\n",
       "    }\n",
       "\n",
       "    .dataframe tbody tr th {\n",
       "        vertical-align: top;\n",
       "    }\n",
       "\n",
       "    .dataframe thead th {\n",
       "        text-align: right;\n",
       "    }\n",
       "</style>\n",
       "<table border=\"1\" class=\"dataframe\">\n",
       "  <thead>\n",
       "    <tr style=\"text-align: right;\">\n",
       "      <th></th>\n",
       "      <th>sample</th>\n",
       "      <th>recovery</th>\n",
       "      <th>recovery</th>\n",
       "      <th>recovery</th>\n",
       "      <th>PR</th>\n",
       "      <th>PR</th>\n",
       "      <th>PR</th>\n",
       "    </tr>\n",
       "  </thead>\n",
       "  <tbody>\n",
       "    <tr>\n",
       "      <th>0</th>\n",
       "      <td>80K</td>\n",
       "      <td>298</td>\n",
       "      <td>298</td>\n",
       "      <td>298</td>\n",
       "      <td>0.913411</td>\n",
       "      <td>0.932230</td>\n",
       "      <td>0.922992</td>\n",
       "    </tr>\n",
       "    <tr>\n",
       "      <th>1</th>\n",
       "      <td>20K</td>\n",
       "      <td>295</td>\n",
       "      <td>295</td>\n",
       "      <td>295</td>\n",
       "      <td>0.899582</td>\n",
       "      <td>0.905668</td>\n",
       "      <td>0.908280</td>\n",
       "    </tr>\n",
       "    <tr>\n",
       "      <th>2</th>\n",
       "      <td>5K</td>\n",
       "      <td>274</td>\n",
       "      <td>275</td>\n",
       "      <td>275</td>\n",
       "      <td>0.798490</td>\n",
       "      <td>0.821656</td>\n",
       "      <td>0.833137</td>\n",
       "    </tr>\n",
       "    <tr>\n",
       "      <th>3</th>\n",
       "      <td>1K</td>\n",
       "      <td>215</td>\n",
       "      <td>198</td>\n",
       "      <td>198</td>\n",
       "      <td>0.597507</td>\n",
       "      <td>0.655587</td>\n",
       "      <td>0.652909</td>\n",
       "    </tr>\n",
       "  </tbody>\n",
       "</table>\n",
       "</div>"
      ],
      "text/plain": [
       "  sample  recovery  recovery  recovery        PR        PR        PR\n",
       "0    80K       298       298       298  0.913411  0.932230  0.922992\n",
       "1    20K       295       295       295  0.899582  0.905668  0.908280\n",
       "2     5K       274       275       275  0.798490  0.821656  0.833137\n",
       "3     1K       215       198       198  0.597507  0.655587  0.652909"
      ]
     },
     "execution_count": 33,
     "metadata": {},
     "output_type": "execute_result"
    }
   ],
   "source": [
    "sample_count_RNA"
   ]
  },
  {
   "cell_type": "code",
   "execution_count": 34,
   "id": "8e56bc4e-f13a-4f0e-8853-41c5ee779bb5",
   "metadata": {
    "tags": []
   },
   "outputs": [],
   "source": [
    "df1 = sample_count_RNA.iloc[:,[0,1,2,3]].melt(id_vars='sample')\n",
    "df2 = sample_count_RNA.iloc[:,[0,4,5,6]].melt(id_vars='sample')\n",
    "df1['sample'] = pd.Categorical(df1['sample'],categories=['1K','5K','20K','80K']) \n",
    "df2['sample'] = pd.Categorical(df2['sample'],categories=['1K','5K','20K','80K']) "
   ]
  },
  {
   "cell_type": "code",
   "execution_count": 35,
   "id": "f9c1ffe0-e7f3-4aed-b4a4-33bf2013f820",
   "metadata": {
    "tags": []
   },
   "outputs": [],
   "source": [
    "order=['1K','5K','20K','80K']"
   ]
  },
  {
   "cell_type": "code",
   "execution_count": 36,
   "id": "d3e2fcf8-ff73-4a5d-adc0-b92c66845187",
   "metadata": {
    "tags": []
   },
   "outputs": [
    {
     "data": {
      "image/png": "[encoded data removed]",
      "text/plain": [
       "<Figure size 150x150 with 1 Axes>"
      ]
     },
     "metadata": {},
     "output_type": "display_data"
    }
   ],
   "source": [
    "fig, axs = plt.subplots(1,figsize=(1.5,1.5),sharey=False,sharex=False)\n",
    "g=sns.lineplot(data=df2,x=\"sample\", y=\"value\", color='#80B1D3',\\\n",
    "               linewidth = 1,markers=['X','.'],dashes=False,err_style=\"bars\", err_kws={'capsize':1,'elinewidth':0.5},errorbar='sd',ax=axs)\n",
    "sns.scatterplot(data=df2, x=\"sample\", y=\"value\", color=\"#4A4A4A\",marker='.',size=4,ax=axs)\n",
    "axs.set_xlabel('# of reads',fontsize=7);\n",
    "axs.set_ylabel('Pearson correlation',fontsize=7)\n",
    "axs.set_ylim(0.4,1)\n",
    "axs.xaxis.set_tick_params(width=0.8, length=2,labelsize=6)\n",
    "axs.yaxis.set_tick_params(width=0.8, length=2,labelsize=6)\n",
    "g.legend_.remove()\n",
    "sns.despine(offset=3)\n",
    "#plt.savefig('../Figure2/figs/Supp_300_enhancer_RT_read_downsample_pearson.pdf')"
   ]
  },
  {
   "cell_type": "code",
   "execution_count": 37,
   "id": "02495c16-ce75-458a-bf9a-9514e27a9fe4",
   "metadata": {
    "tags": []
   },
   "outputs": [
    {
     "data": {
      "image/png": "[encoded data removed]",
      "text/plain": [
       "<Figure size 150x150 with 1 Axes>"
      ]
     },
     "metadata": {},
     "output_type": "display_data"
    }
   ],
   "source": [
    "fig, axs = plt.subplots(1,figsize=(1.5,1.5),sharey=False,sharex=False)\n",
    "g=sns.lineplot(data=df1,x=\"sample\", y=\"value\", color='#80B1D3',\\\n",
    "               linewidth = 1,markers=['X','.'],dashes=False,err_style=\"bars\", err_kws={'capsize':1,'elinewidth':0.5},errorbar='sd',ax=axs)\n",
    "sns.scatterplot(data=df1, x=\"sample\", y=\"value\", color=\"#4A4A4A\",marker='.',size=4,ax=axs)\n",
    "axs.set_ylim(150,300);\n",
    "axs.set_xlabel('# of reads',fontsize=7);\n",
    "axs.set_ylabel('# of enhancer recovered',fontsize=7)\n",
    "axs.xaxis.set_tick_params(width=0.8, length=2,labelsize=6)\n",
    "axs.yaxis.set_tick_params(width=0.8, length=2,labelsize=6)\n",
    "g.legend_.remove()\n",
    "sns.despine(offset=3)\n",
    "#plt.savefig('../Figure2/figs/Supp_300_enhancer_RT_read_downsample_recovery.pdf')"
   ]
  },
  {
   "cell_type": "markdown",
   "id": "ba15741a-5a97-49c7-a3ec-9e95f51b52bb",
   "metadata": {
    "tags": []
   },
   "source": [
    "# Figure 2 f-g SynEnhancer cell specific test"
   ]
  },
  {
   "cell_type": "code",
   "execution_count": 38,
   "id": "5b695fee-0e41-4f00-8f99-f8bf67331aa4",
   "metadata": {
    "tags": []
   },
   "outputs": [],
   "source": [
    "path = '../Figure2/synEN/'\n",
    "samples =sorted([s.split('_bc_count')[0] for s in os.listdir(path) if 'HEK293T' in s and '.tsv' in s])\n",
    "df_hek = pd.read_table(path+'synEn_designs.txt')\n",
    "for i in range(3):\n",
    "    with open(path+samples[i]+'_bc_count.tsv','r') as f:\n",
    "        temp = f.readlines()\n",
    "        test = pd.DataFrame(merge_edit_1([a for a in [str2array(s) for s in temp] if len(a[0])==5] ),columns=['barcode','count'])\n",
    "        test['count'] = test['count']\n",
    "        df_hek=df_hek.merge(test,on='barcode',how='inner').fillna(0)\n",
    "df_hek.columns =  ['motif','barcode','barcode_rc','Sequence','Hek293_rep1','Hek293_rep2','Hek293_rep3']"
   ]
  },
  {
   "cell_type": "code",
   "execution_count": 39,
   "id": "c850200e-3b3d-4260-b3c1-33ed62b828ec",
   "metadata": {
    "tags": []
   },
   "outputs": [],
   "source": [
    "samples =sorted([s.split('_bc_count')[0] for s in os.listdir(path) if 'K562' in s and '.tsv' in s])\n",
    "df_k562 = pd.read_table(path+'synEn_designs.txt')\n",
    "for i in range(3):\n",
    "    with open(path+samples[i]+'_bc_count.tsv','r') as f:\n",
    "        temp = f.readlines()\n",
    "        test = pd.DataFrame(merge_edit_1([a for a in [str2array(s) for s in temp] if len(a[0])==5]),columns=['barcode','count'])\n",
    "        test['count'] = test['count']\n",
    "        df_k562=df_k562.merge(test,on='barcode',how='inner').fillna(0)\n",
    "df_k562.columns =  ['motif','barcode','barcode_rc','Sequence','K562_rep1','K562_rep2','K562_rep3']"
   ]
  },
  {
   "cell_type": "code",
   "execution_count": 40,
   "id": "2a59453a-04f5-4c5f-b592-eda275bdd743",
   "metadata": {
    "tags": []
   },
   "outputs": [],
   "source": [
    "df_hek['Hek_ratio_rep1'] =  np.log2((df_hek['Hek293_rep1'])/(df_hek['Hek293_rep1'].sum()))#*10**6\n",
    "df_hek['Hek_ratio_rep2'] =  np.log2((df_hek['Hek293_rep2'])/(df_hek['Hek293_rep2'].sum()))#*10**6\n",
    "df_hek['Hek_ratio_rep3'] =  np.log2((df_hek['Hek293_rep3'])/(df_hek['Hek293_rep3'].sum()))#*10**6\n",
    "df_k562['K562_ratio_rep1'] =  np.log2((df_k562['K562_rep1'])/(df_k562['K562_rep1'].sum()))#*10**6\n",
    "df_k562['K562_ratio_rep2'] =  np.log2((df_k562['K562_rep2'])/(df_k562['K562_rep2'].sum()))#*10**6\n",
    "df_k562['K562_ratio_rep3'] =  np.log2((df_k562['K562_rep3'])/(df_k562['K562_rep3'].sum()))#*10**6\n",
    "\n",
    "## Insertion betwee\n",
    "df_k562['K562_ratio'] = np.log2((df_k562['K562_rep1']+df_k562['K562_rep2']+df_k562['K562_rep3'])/\n",
    "                          (df_k562['K562_rep1'].sum()+df_k562['K562_rep2'].sum()+df_k562['K562_rep3'].sum()))\n",
    "df_hek['Hek293_ratio'] = np.log2((df_hek['Hek293_rep1']+df_hek['Hek293_rep2']+df_hek['Hek293_rep3'])/\n",
    "                          (df_hek['Hek293_rep1'].sum()+df_hek['Hek293_rep2'].sum()+df_hek['Hek293_rep3'].sum()))"
   ]
  },
  {
   "cell_type": "code",
   "execution_count": 41,
   "id": "6028d76b-9556-4a06-9316-ae913b734a16",
   "metadata": {
    "tags": []
   },
   "outputs": [
    {
     "data": {
      "image/png": "[encoded data removed]",
      "text/plain": [
       "<Figure size 450x150 with 3 Axes>"
      ]
     },
     "metadata": {},
     "output_type": "display_data"
    }
   ],
   "source": [
    "fig, axs = plt.subplots(1,3,figsize=(4.5,1.5),sharey=False,sharex=False)\n",
    "sample = [('Hek_ratio_rep1','Hek_ratio_rep2'),('Hek_ratio_rep1','Hek_ratio_rep3'),('Hek_ratio_rep2','Hek_ratio_rep3')]\n",
    "for i in range(3):\n",
    "    s=sample[i]\n",
    "    sns.scatterplot(x=s[0],y=s[1],data = df_hek, color=['#4A4A4A'],s=5,ax=axs[i],marker='o')\n",
    "    pr = sp.stats.pearsonr(df_hek[s[0]],df_hek[s[1]])[0]\n",
    "    sr = sp.stats.spearmanr(df_hek[s[0]],df_hek[s[1]])[0]\n",
    "    sns.despine(offset=3)\n",
    "    start, end = -14,0\n",
    "    axs[i].yaxis.set_ticks(np.arange(start, end, 3))\n",
    "    axs[i].xaxis.set_ticks(np.arange(start, end, 3))\n",
    "    axs[i].text(-14,-4,\"Pearson: \"  + str(round(pr,3))  + \"\\nSpearman: \"+str(round(sr,3)),fontsize=6)\n",
    "    axs[i].set_xlabel('')\n",
    "    axs[i].set_ylabel('')#s[1])\n",
    "    axs[i].plot([start, -2],[start, -2],'--',color='#FB8072',linewidth=0.8)\n",
    "    axs[i].xaxis.set_tick_params(width=0.8, length=2,labelsize=6)\n",
    "    axs[i].yaxis.set_tick_params(width=0.8, length=2,labelsize=6)\n",
    "#plt.savefig('../Figure2/figs/supp_synEn_hek.pdf')"
   ]
  },
  {
   "cell_type": "code",
   "execution_count": 42,
   "id": "183d2d9b-afdb-4ae6-acd1-46560cd328d4",
   "metadata": {
    "tags": []
   },
   "outputs": [
    {
     "data": {
      "image/png": "[encoded data removed]",
      "text/plain": [
       "<Figure size 450x150 with 3 Axes>"
      ]
     },
     "metadata": {},
     "output_type": "display_data"
    }
   ],
   "source": [
    "fig, axs = plt.subplots(1,3,figsize=(4.5,1.5),sharey=False,sharex=False)\n",
    "sample = [('K562_ratio_rep1','K562_ratio_rep2'),('K562_ratio_rep1','K562_ratio_rep3'),('K562_ratio_rep2','K562_ratio_rep3')]\n",
    "for i in range(3):\n",
    "    s=sample[i]\n",
    "    sns.scatterplot(x=s[0],y=s[1],data = df_k562, color=['#4A4A4A'],s=5,ax=axs[i],marker='o')\n",
    "    pr = sp.stats.pearsonr(df_k562[s[0]],df_k562[s[1]])[0] \n",
    "    sr = sp.stats.spearmanr(df_k562[s[0]],df_k562[s[1]])[0]\n",
    "    sns.despine(offset=3)\n",
    "    start, end = -14,0\n",
    "    axs[i].yaxis.set_ticks(np.arange(start, end, 3))\n",
    "    axs[i].xaxis.set_ticks(np.arange(start, end, 3))\n",
    "    axs[i].text(-14,-4,\"Pearson: \"  + str(round(pr,3))  + \"\\nSpearman: \"+str(round(sr,3)),fontsize=6)\n",
    "    axs[i].set_xlabel('')\n",
    "    axs[i].set_ylabel('')#s[1])\n",
    "    axs[i].plot([start, -2],[start, -2],'--',color='#FB8072',linewidth=0.8)\n",
    "    axs[i].xaxis.set_tick_params(width=0.8, length=2,labelsize=6)\n",
    "    axs[i].yaxis.set_tick_params(width=0.8, length=2,labelsize=6)\n",
    "#plt.savefig('../Figure2/figs/supp_synEn_K562.pdf')"
   ]
  },
  {
   "cell_type": "markdown",
   "id": "648bb685-fdf7-4e18-9388-230b643a9528",
   "metadata": {
    "tags": []
   },
   "source": [
    "### DESEQ2\n",
    "Run in R kernel"
   ]
  },
  {
   "cell_type": "code",
   "execution_count": 1,
   "id": "6f348647-8091-4ed4-b860-1b264fd50e01",
   "metadata": {
    "tags": []
   },
   "outputs": [],
   "source": [
    "suppressPackageStartupMessages({\n",
    "  options(stringsAsFactors = FALSE)\n",
    "  library(DESeq2);\n",
    "  library(data.table);\n",
    "  library(gdata);\n",
    "  library(BSgenome);\n",
    "  library(ggplot2);\n",
    "  library(RColorBrewer);\n",
    "  library(biomaRt);\n",
    "  library(ggrepel);\n",
    "  library(tidyverse)})"
   ]
  },
  {
   "cell_type": "code",
   "execution_count": 23,
   "id": "7d7c4ea0-4960-4bb8-9d94-0c087e4d7f3f",
   "metadata": {
    "tags": []
   },
   "outputs": [],
   "source": [
    "design <- as.matrix(read.csv('../Figure5/98_TF_motif_designs.csv',sep=',',header=TRUE,check.names = FALSE))\n",
    "design_new = data.frame(design[,c(1,2,5,6,7,8)])\n",
    "cts <- as.matrix(read.csv(\"../Figure5/mESC_hek_k562_comparison_deseq.csv\", sep = \",\", row.names='barcode', header = T))\n",
    "keep <- rowSums(cts) >= 1000\n",
    "cts <- cts[keep,]\n",
    "coldata <- read.csv(\"../Figure5/coldata_mESC_Hek293T_K562.csv\", sep = \",\", row.names='X0')\n",
    "rownames(coldata) <- gsub(\"-\", \".\", rownames(coldata))\n",
    "colnames(coldata) <- c('condition')"
   ]
  },
  {
   "cell_type": "code",
   "execution_count": null,
   "id": "0777a5fc-cef8-4964-8016-f2f6fd0734ef",
   "metadata": {
    "tags": []
   },
   "outputs": [],
   "source": [
    "dds <- DESeqDataSetFromMatrix(countData = cts,\n",
    "                              colData   = coldata,\n",
    "                              design    = ~ condition)\n",
    "dds <- DESeq(dds)"
   ]
  },
  {
   "cell_type": "code",
   "execution_count": null,
   "id": "093d30c9-0f31-46bd-b79c-cffda872dbdf",
   "metadata": {
    "tags": []
   },
   "outputs": [],
   "source": [
    "res_unshrunken <- results(dds, contrast=c(\"condition\",\"K562\",\"Hek293\"), alpha = 0.05, lfcThreshold = 1)\n",
    "res <- lfcShrink(dds, coef='condition_K562_vs_Hek293', res=res_unshrunken)\n",
    "\n",
    "res$rowname <- rownames(res)\n",
    "res_final <- res %>%\n",
    "  data.frame() %>% \n",
    "  as_tibble()%>% arrange(padj)%>% mutate(threshold = padj < 1e-3)\n",
    "res_final <- merge(res_final,design_new,by.x='rowname',by.y='barcode')%>% arrange(padj)\n",
    "#res_final[0:50,]"
   ]
  },
  {
   "cell_type": "code",
   "execution_count": null,
   "id": "ee43dfd7-c6ca-44db-b64f-46935afef3ee",
   "metadata": {
    "tags": []
   },
   "outputs": [],
   "source": [
    "pdf(file = \"../Figure2/figs/Fig2g_syn_rec_des_hek293_vs_k562.pdf\",   # The directory you want to save the file in\n",
    "    width = 2, # The width of the plot in inches\n",
    "    height = 1.5) # The height of the plot in inches\n",
    "p1 <- ggplot(res_final, aes(x = log2FoldChange, y = -log10(padj))) +\n",
    "        geom_point(aes(colour = threshold),size=1 ) + \n",
    "        scale_color_manual(values=c(\"#5C5C5C\", \"#FB8072\"))+\n",
    "        xlab(\"\") + \n",
    "        ylab(\"\") + \n",
    "        scale_x_continuous(limits = c(-4,4))+\n",
    "        scale_y_continuous(limits = c(0., 65))+ \n",
    "        theme_classic() + \n",
    "        theme(legend.position=\"none\",\n",
    "              axis.text = element_text(size = 6),\n",
    "              axis.title = element_text(size = 7),\n",
    "              axis.ticks.length=unit(2,\"pt\"),\n",
    "              axis.ticks = element_line(size=72.27/96*0.5),\n",
    "              axis.line = element_line(color=\"black\", size = 72.27/96*0.5))\n",
    "p1\n",
    "dev.off()"
   ]
  },
  {
   "cell_type": "markdown",
   "id": "d0e18cab-8535-46ff-aedf-31dd32a82db1",
   "metadata": {
    "tags": []
   },
   "source": [
    "## Overall editing efficiency"
   ]
  },
  {
   "cell_type": "code",
   "execution_count": 43,
   "id": "56adda9a-24a3-4d2f-80b3-7517727ee666",
   "metadata": {
    "tags": []
   },
   "outputs": [],
   "source": [
    "path = '../Figure2/synEN/'\n",
    "## Use the sequence in pegRNA not in gDNA so need to reverse complement\n",
    "samples =sorted([s.split('.fastq')[0] for s in os.listdir(path) if '.gz' in s])\n",
    "\n",
    "edits = []\n",
    "for s in samples:\n",
    "    file = path+s\n",
    "    #rcount = int(read_count[read_count['sample'].str.contains(s)]['counts'])\n",
    "    with open(file +'_bc_count.tsv','r') as f:\n",
    "        temp = f.readlines()\n",
    "        count_table = np.array([a for a in [str2array(s) for s in temp]if len(a[0])==5 or a[0]==''],dtype=object)\n",
    "        ratio = sum(count_table[1:,1])/sum(count_table[:,1])\n",
    "    f.close()\n",
    "    a,rep = s.split('_rep')\n",
    "    \n",
    "    b = a.split('-')\n",
    "    edits.append([b[0],'rep'+rep,ratio*100])\n",
    "df = pd.DataFrame(edits,columns=['Designs','rep','Editing efficiency'])"
   ]
  },
  {
   "cell_type": "code",
   "execution_count": 45,
   "id": "3cc4c1af-f5d9-4548-a0f5-d2d922bafd28",
   "metadata": {
    "tags": []
   },
   "outputs": [
    {
     "data": {
      "image/png": "[encoded data removed]",
      "text/plain": [
       "<Figure size 150x150 with 1 Axes>"
      ]
     },
     "metadata": {},
     "output_type": "display_data"
    }
   ],
   "source": [
    "fig, axs = plt.subplots(figsize=(1.5,1.5),sharey=False,sharex=False)\n",
    "g=sns.barplot(data=df, x=\"Designs\", y='Editing efficiency',palette=['#8099C6','#DEABC5'],errwidth=0.5, errorbar='sd', capsize=.1) #['#D0A9A3','#EDB8B4']\n",
    "sns.stripplot(data=df, x=\"Designs\", y='Editing efficiency',dodge=True,color=\"#4A4A4A\",marker='.',size=4,ax=axs)\n",
    "axs.set_xlabel('');\n",
    "axs.set_ylim(0,15);\n",
    "g.set_box_aspect(4.5/len(g.patches))\n",
    "start, end = axs.get_ylim()\n",
    "axs.set_ylabel('Editing efficiency (%)',fontsize=7)\n",
    "axs.xaxis.set_tick_params(width=0.5, length=2,labelsize=6)\n",
    "axs.yaxis.set_tick_params(width=0.5, length=2,labelsize=6)\n",
    "sns.despine(offset=3)\n",
    "for tick in axs.get_xticklabels():\n",
    "    tick.set_rotation(90)\n",
    "#plt.savefig('../Figure2/figs/supp_syn_edit_eff.pdf')"
   ]
  },
  {
   "cell_type": "markdown",
   "id": "95b7956c-f174-46cd-ae92-a44435e4476b",
   "metadata": {
    "tags": []
   },
   "source": [
    "## Plot gene exp diff in two cell lines"
   ]
  },
  {
   "cell_type": "code",
   "execution_count": 46,
   "id": "4c0aa710-0097-4364-b3da-e37abc30bd7e",
   "metadata": {
    "tags": []
   },
   "outputs": [],
   "source": [
    "k562 = pd.read_table( '../Figure2/synEN/K562_exp.txt',header=None,sep='\\t')\n",
    "hek = pd.read_table( '../Figure2/synEN/293_exp.txt',header=None,sep='\\t')\n",
    "df = k562.iloc[:,[1,5]].merge(hek.iloc[:,[1,5]],on=1,how='inner')\n",
    "df.columns=['gene','K562_nTPM','HEK_nTPM']"
   ]
  },
  {
   "cell_type": "code",
   "execution_count": 47,
   "id": "20f593f8-1f07-4449-a158-f74e8e2a3c76",
   "metadata": {
    "tags": []
   },
   "outputs": [],
   "source": [
    "df_sub = df[(df['gene'].str.contains('BHLHE40|NFIL3|KLF1|POU2F1|POU2AF1|FOSL1|JUNB|ATF4|CEBPB|CEBPG|ETV5|NRF1|SOX2|ZNF449|NEUROG2|TP53|GCM2'))].reset_index(drop=True)\n",
    "#stat = pd.concat((df[(df['gene'].str.contains('STAT5'))],df[(df['gene'].str.contains('STAT3'))])).sum()\n",
    "stat = df[(df['gene'].str.contains('STAT5'))].sum()\n",
    "stat['gene']='STAT5'\n",
    "nfkb = pd.concat((df[(df['gene'].str.contains('NFKB1'))],df[(df['gene'].str.contains('NFKB2'))])).sum()\n",
    "nfkb['gene']='NFKB'\n",
    "df_sub = pd.concat([df_sub,pd.DataFrame(stat).T,pd.DataFrame(nfkb).T],ignore_index=True)\n",
    "df_sub['K562_nTPM']=df_sub['K562_nTPM'].astype(float)\n",
    "df_sub['HEK_nTPM']=df_sub['HEK_nTPM'].astype(float)\n",
    "df_sub['K562_log2'] = np.log2(df_sub['K562_nTPM']+1)\n",
    "df_sub['HEK_log2'] = np.log2(df_sub['HEK_nTPM']+1)\n",
    "df_sub['diff']=df_sub['K562_log2']-df_sub['HEK_log2']\n",
    "df_melt = df_sub.iloc[:,[0,5]].melt(id_vars='gene')"
   ]
  },
  {
   "cell_type": "code",
   "execution_count": 28,
   "id": "3d413212-9268-4547-b0ad-3871c337d338",
   "metadata": {
    "tags": []
   },
   "outputs": [
    {
     "data": {
      "image/png": "[encoded data removed]",
      "text/plain": [
       "<Figure size 150x200 with 1 Axes>"
      ]
     },
     "metadata": {},
     "output_type": "display_data"
    }
   ],
   "source": [
    "fig, axs = plt.subplots(1,figsize=(1.5,2),sharey=False,sharex=False)\n",
    "g=sns.barplot(data = df_melt,x='value',y='gene',hue='variable',order=['KLF1','BHLHE40','STAT5','FOSL1','ETV5','JUNB','NFIL3','CEBPB','POU2F1','ATF4','NFKB','NRF1','ZNF449','NEUROG2','TP53','SOX2'],ax=axs)\n",
    "axs.set_xlabel('');\n",
    "axs.set_ylabel('Transcription factors',fontsize=7)\n",
    "axs.set_xlabel('Expression ratio \\n (K562/HEK293,log2)',fontsize=7)\n",
    "axs.set_xlim(-4.5,4.5)\n",
    "axs.set_xticks(np.arange(-4, 4.1, 2))\n",
    "axs.xaxis.set_tick_params(width=0.5, length=2,labelsize=6)\n",
    "axs.yaxis.set_tick_params(width=0.5, length=2,labelsize=4)\n",
    "axs.legend([],[], frameon=False)\n",
    "\n",
    "sns.despine(offset=3)\n",
    "#plt.savefig('../Figure2/figs/supp5d_gene_exp_diff.pdf')"
   ]
  }
 ],
 "metadata": {
  "kernelspec": {
   "display_name": "Python 3 (ipykernel)",
   "language": "python",
   "name": "python3"
  },
  "language_info": {
   "codemirror_mode": {
    "name": "ipython",
    "version": 3
   },
   "file_extension": ".py",
   "mimetype": "text/x-python",
   "name": "python",
   "nbconvert_exporter": "python",
   "pygments_lexer": "ipython3",
   "version": "3.9.13"
  },
  "toc": {
   "base_numbering": 1,
   "nav_menu": {},
   "number_sections": true,
   "sideBar": true,
   "skip_h1_title": false,
   "title_cell": "Table of Contents",
   "title_sidebar": "Contents",
   "toc_cell": false,
   "toc_position": {},
   "toc_section_display": true,
   "toc_window_display": false
  },
  "varInspector": {
   "cols": {
    "lenName": 16,
    "lenType": 16,
    "lenVar": 40
   },
   "kernels_config": {
    "python": {
     "delete_cmd_postfix": "",
     "delete_cmd_prefix": "del ",
     "library": "var_list.py",
     "varRefreshCmd": "print(var_dic_list())"
    },
    "r": {
     "delete_cmd_postfix": ") ",
     "delete_cmd_prefix": "rm(",
     "library": "var_list.r",
     "varRefreshCmd": "cat(var_dic_list()) "
    }
   },
   "types_to_exclude": [
    "module",
    "function",
    "builtin_function_or_method",
    "instance",
    "_Feature"
   ],
   "window_display": false
  }
 },
 "nbformat": 4,
 "nbformat_minor": 5
}
