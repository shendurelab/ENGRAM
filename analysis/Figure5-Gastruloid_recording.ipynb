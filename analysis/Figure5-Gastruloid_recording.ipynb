{
 "cells": [
  {
   "cell_type": "code",
   "execution_count": 1,
   "id": "be8134e1-25b9-4187-9233-0244996a1666",
   "metadata": {
    "tags": []
   },
   "outputs": [],
   "source": [
    "import os,random,itertools,matplotlib\n",
    "import numpy as np\n",
    "import scipy as sp\n",
    "import pandas as pd\n",
    "import seaborn as sns\n",
    "import matplotlib.pyplot as plt \n",
    "# Umitools\n",
    "from umi_tools._dedup_umi import edit_distance\n",
    "matplotlib.rcParams['font.family'] = 'Helvetica'\n",
    "\n",
    "def str2array(s):\n",
    "    a,b= s.split('\\t')[:2]\n",
    "    return (a,int(b))\n",
    "\n",
    "def merge_edit_1(counts):\n",
    "    keep,collapse = [],counts[0:]\n",
    "    while len(collapse)>0:\n",
    "        ref = list(collapse[0]) # need to convert to list here otherwise will keep updating the value to new_cluster\n",
    "        temp = []\n",
    "        for s in collapse[1:]:\n",
    "            s1 = ref[0]\n",
    "            s2 = s[0]\n",
    "            if abs(len(s1)-len(s2))<=1 and edit_distance(s1.encode('utf-8'),s2.encode('utf-8'))<2:\n",
    "                ref[-1] += s[-1]\n",
    "            else:\n",
    "                temp.append(s)\n",
    "        keep.append(ref)\n",
    "        collapse = temp[0:]\n",
    "    return np.array(keep,dtype=object)\n",
    "\n",
    "def reverse_complement(seq):\n",
    "    \"\"\"This function returns the reverse_complement sequence of the input sequence\n",
    "    from 3' to 5' \"\"\"\n",
    "    complement = {'A':'T', 'C':'G','G':'C', 'T':'A', 'N':'N'}\n",
    "    rcomp_seq = ''\n",
    "    for base in seq:\n",
    "        rcomp_seq = complement[base] + rcomp_seq\n",
    "    return rcomp_seq\n",
    "%matplotlib inline\n"
   ]
  },
  {
   "cell_type": "markdown",
   "id": "b90aeee7-4d1c-4e00-917b-1115a887f97c",
   "metadata": {
    "tags": []
   },
   "source": [
    "# Overall recording efficiency\n",
    "Supp Figure 8c "
   ]
  },
  {
   "cell_type": "code",
   "execution_count": 4,
   "id": "985036aa-6c61-4e2c-b0fd-db0ae4c80d51",
   "metadata": {
    "tags": []
   },
   "outputs": [],
   "source": [
    "## Dox mesc\n",
    "path = '../Figure5/' ## change\n",
    "edit = []\n",
    "times = ['mESC-dox']\n",
    "for time in times:\n",
    "    ed = [time]\n",
    "    df_hek = pd.read_table('../Figure5/synEn_designs.txt')\n",
    "    samples =sorted([s.split('_bc_count')[0] for s in os.listdir(path) if '.tsv' in s and time in s])\n",
    "    for i in range(0,3):\n",
    "        with open(path+samples[i]+'_bc_count.tsv','r') as f:\n",
    "            temp = f.readlines()\n",
    "            test = pd.DataFrame([s for s in merge_edit_1([a for a in [str2array(s) for s in temp] if len(a[0])==0 or  len(a[0])==5]) if s[1]>10],columns=['barcode','count'])\n",
    "            test['barcode']=test['barcode'].apply(reverse_complement)\n",
    "        ed.append(list(1-test[test['barcode']=='']['count']/test['count'].sum())[0]*100)\n",
    "    edit.append(ed)\n",
    "\n",
    "times = ['0-24','24-48','48-72','72-96','96-120']\n",
    "\n",
    "for time in times:\n",
    "    samples =sorted([s.split('_bc_count')[0] for s in os.listdir(path) if '.tsv' in s and time in s])\n",
    "    df_hek = pd.read_table('../Figure5/synEn_designs.txt')\n",
    "    ed = [time]\n",
    "    for i in range(0,2):\n",
    "        with open(path+samples[i]+'_bc_count.tsv','r') as f:\n",
    "            temp = f.readlines()\n",
    "            test = pd.DataFrame([s for s in merge_edit_1([a for a in [str2array(s) for s in temp] if len(a[0])==0 or  len(a[0])==5]) if s[1]>10],columns=['barcode','count'])\n",
    "            test['barcode']=test['barcode'].apply(reverse_complement)\n",
    "        ed.append(list(1-test[test['barcode']=='']['count']/test['count'].sum())[0]*100)\n",
    "    edit.append(ed)\n",
    "df = pd.DataFrame(edit,columns=['time','rep1','rep2','rep3'])\n",
    "df_melt = df.melt(id_vars='time')"
   ]
  },
  {
   "cell_type": "code",
   "execution_count": 7,
   "id": "e4277b0e-d949-4112-b6aa-a7645e6a5169",
   "metadata": {
    "tags": []
   },
   "outputs": [
    {
     "data": {
      "image/png": "[encoded data removed]",
      "text/plain": [
       "<Figure size 200x150 with 1 Axes>"
      ]
     },
     "metadata": {},
     "output_type": "display_data"
    }
   ],
   "source": [
    "fig, axs = plt.subplots(figsize=(2,1.5),sharey=False,sharex=False)\n",
    "g=sns.barplot(data=df_melt, x=\"time\", y='value', errwidth=0.5, errorbar='sd', palette=['#76A08A','#7496D2','#C7CEF6','#D8A49B','#F5CDB6','#E6A2C5','#FDDDA4','#F7B0AA'], capsize=.1, ax=axs) \n",
    "sns.stripplot(data=df_melt, x=\"time\", y='value',dodge=True,color=\"#4A4A4A\",marker='.',size=4,ax=axs)\n",
    "sns.despine(offset=3)\n",
    "axs.set_ylim(0,20)\n",
    "start, end = axs.get_ylim()\n",
    "axs.set_xlabel('');\n",
    "g.set_box_aspect(4.5/len(g.patches))\n",
    "start, end = axs.get_ylim()\n",
    "axs.set_ylabel('Editing efficiency (%)',fontsize=7)\n",
    "axs.xaxis.set_tick_params(width=0.5, length=2,labelsize=6)\n",
    "axs.yaxis.set_tick_params(width=0.5, length=2,labelsize=6)\n",
    "axs.set_xticklabels(axs.get_xticklabels(),rotation=-90);\n",
    "\n",
    "#plt.savefig('../Figure5/figs/Supp9a.pdf')"
   ]
  },
  {
   "cell_type": "markdown",
   "id": "a8380a9a-0dce-4229-afb5-0ca2a7c59587",
   "metadata": {
    "tags": []
   },
   "source": [
    "# Check if sample are correlated\n",
    "Supp Figure a,d "
   ]
  },
  {
   "cell_type": "code",
   "execution_count": 8,
   "id": "a5f3d053-8de8-4ea4-9534-b4cf8878c574",
   "metadata": {
    "tags": []
   },
   "outputs": [],
   "source": [
    "design_table = pd.read_table( '../Figure5/98_TF_motif_designs.csv',header=None,sep=',')"
   ]
  },
  {
   "cell_type": "markdown",
   "id": "08a52a02-46c9-412f-b6e8-083e9b0d519f",
   "metadata": {
    "tags": []
   },
   "source": [
    "## dox mesc"
   ]
  },
  {
   "cell_type": "code",
   "execution_count": 9,
   "id": "aedd70ea-3011-4045-8c79-66686f33fda4",
   "metadata": {
    "tags": []
   },
   "outputs": [
    {
     "name": "stdout",
     "output_type": "stream",
     "text": [
      "mESC-dox_rep1\n",
      "mESC-dox_rep2\n",
      "mESC-dox_rep3\n"
     ]
    },
    {
     "data": {
      "image/png": "[encoded data removed]",
      "text/plain": [
       "<Figure size 150x150 with 1 Axes>"
      ]
     },
     "metadata": {},
     "output_type": "display_data"
    }
   ],
   "source": [
    "## Dox mesc\n",
    "path = '../Figure5/'\n",
    "samples =sorted([s.split('_bc_count')[0] for s in os.listdir(path) if '.tsv' in s and 'mESC-dox' in s])\n",
    "df_ctrl = pd.read_table('../Figure5/synEn_designs.txt')\n",
    "for i in range(0,3):\n",
    "    print (samples[i])\n",
    "    with open(path+samples[i]+'_bc_count.tsv','r') as f:\n",
    "        temp = f.readlines()\n",
    "        test = pd.DataFrame([s for s in merge_edit_1([a for a in [str2array(s) for s in temp] if len(a[0])==5]) if s[1]>5],columns=['barcode','count'])\n",
    "        test['barcode']=test['barcode'].apply(reverse_complement)\n",
    "        test['count'] = test['count']\n",
    "        df_ctrl=df_ctrl.merge(test,on='barcode',how='inner').fillna(0)\n",
    "df_ctrl.columns =  ['motif','barcode','barcode_rc','Sequence','Hek293_rep1','Hek293_rep2','Hek293_rep3']\n",
    "df_ctrl['Hek_ratio_rep1'] =  np.log2((df_ctrl['Hek293_rep1'])/(df_ctrl['Hek293_rep1'].sum()))#*10**6\n",
    "df_ctrl['Hek_ratio_rep2'] =  np.log2((df_ctrl['Hek293_rep2'])/(df_ctrl['Hek293_rep2'].sum()))#*10**6\n",
    "df_ctrl['Hek_ratio_rep3'] =  np.log2((df_ctrl['Hek293_rep3'])/(df_ctrl['Hek293_rep3'].sum()))#*10**6\n",
    "\n",
    "df_ctrl['ratio'] =  (df_ctrl['Hek_ratio_rep1']+df_ctrl['Hek_ratio_rep2']++df_ctrl['Hek_ratio_rep3'])/3#*10**6\n",
    "\n",
    "fig, axs = plt.subplots(1,figsize=(1.5,1.5),sharey=False,sharex=False)\n",
    "sample = [('Hek_ratio_rep1','Hek_ratio_rep2')]\n",
    "for i in range(1):\n",
    "    s=sample[i]\n",
    "    sns.scatterplot(x=s[0],y=s[1],data = df_ctrl, color=['#4A4A4A'],s=5,ax=axs,marker='o')\n",
    "    pr = sp.stats.pearsonr(df_ctrl[s[0]],df_ctrl[s[1]])[0]\n",
    "    sr = sp.stats.spearmanr(df_ctrl[s[0]],df_ctrl[s[1]])[0]\n",
    "    sns.despine(offset=3)\n",
    "    start, end = -15,0\n",
    "    axs.yaxis.set_ticks(np.arange(start, end, 3))\n",
    "    axs.xaxis.set_ticks(np.arange(start, end, 3))\n",
    "    axs.text(-12,-4,\"Pearson: \"  + str(round(pr,3))  + \"\\nSpearman: \"+str(round(sr,3)),fontsize=6)\n",
    "    axs.set_xlabel('')\n",
    "    axs.set_ylabel('')#s[1])\n",
    "    axs.plot([start, -2],[start, -2],'--',color='#FB8072',linewidth=0.8)\n",
    "    axs.xaxis.set_tick_params(width=0.8, length=2,labelsize=6)\n",
    "    axs.yaxis.set_tick_params(width=0.8, length=2,labelsize=6)\n",
    "#plt.savefig('../Figure5/figs/mesc_dox.pdf')"
   ]
  },
  {
   "cell_type": "markdown",
   "id": "108f9fa9-8d24-47a7-a3f0-7da59fedbc36",
   "metadata": {
    "tags": []
   },
   "source": [
    "## gas 0-24"
   ]
  },
  {
   "cell_type": "code",
   "execution_count": 10,
   "id": "c9d76a4f-3fb4-4320-8c5d-c0ee27a9ff9e",
   "metadata": {
    "tags": []
   },
   "outputs": [
    {
     "name": "stdout",
     "output_type": "stream",
     "text": [
      "mESC-gas-0-24-dox_rep1\n",
      "mESC-gas-0-24-dox_rep2\n"
     ]
    },
    {
     "data": {
      "image/png": "[encoded data removed]",
      "text/plain": [
       "<Figure size 150x150 with 1 Axes>"
      ]
     },
     "metadata": {},
     "output_type": "display_data"
    }
   ],
   "source": [
    "## Dox mesc\n",
    "path = '../Figure5/'\n",
    "time = '0-24'\n",
    "samples =sorted([s.split('_bc_count')[0] for s in os.listdir(path) if '.tsv' in s and time in s])\n",
    "df_ctrl = pd.read_table('../Figure5/synEn_designs.txt')\n",
    "for i in range(0,2):\n",
    "    print (samples[i])\n",
    "    with open(path+samples[i]+'_bc_count.tsv','r') as f:\n",
    "        temp = f.readlines()\n",
    "        test = pd.DataFrame([s for s in merge_edit_1([a for a in [str2array(s) for s in temp] if len(a[0])==5]) if s[1]>5],columns=['barcode','count'])\n",
    "        test['barcode']=test['barcode'].apply(reverse_complement)\n",
    "        test['count'] = test['count']\n",
    "        df_ctrl=df_ctrl.merge(test,on='barcode',how='inner').fillna(0)\n",
    "df_ctrl.columns =  ['motif','barcode','barcode_rc','Sequence','Hek293_rep1','Hek293_rep2']\n",
    "df_ctrl['Hek_ratio_rep1'] =  np.log2((df_ctrl['Hek293_rep1'])/(df_ctrl['Hek293_rep1'].sum()))#*10**6\n",
    "df_ctrl['Hek_ratio_rep2'] =  np.log2((df_ctrl['Hek293_rep2'])/(df_ctrl['Hek293_rep2'].sum()))#*10**6\n",
    "\n",
    "df_ctrl['ratio'] =  (df_ctrl['Hek_ratio_rep1']+df_ctrl['Hek_ratio_rep2'])/2#*10**6\n",
    "\n",
    "fig, axs = plt.subplots(1,figsize=(1.5,1.5),sharey=False,sharex=False)\n",
    "sample = [('Hek_ratio_rep1','Hek_ratio_rep2')]\n",
    "for i in range(1):\n",
    "    s=sample[i]\n",
    "    sns.scatterplot(x=s[0],y=s[1],data = df_ctrl, color=['#4A4A4A'],s=5,ax=axs,marker='o')\n",
    "    pr = sp.stats.pearsonr(df_ctrl[s[0]],df_ctrl[s[1]])[0]\n",
    "    sr = sp.stats.spearmanr(df_ctrl[s[0]],df_ctrl[s[1]])[0]\n",
    "    sns.despine(offset=3)\n",
    "    start, end = -15,0\n",
    "    axs.yaxis.set_ticks(np.arange(start, end, 3))\n",
    "    axs.xaxis.set_ticks(np.arange(start, end, 3))\n",
    "    axs.text(-14,-4,\"Pearson: \"  + str(round(pr,3))  + \"\\nSpearman: \"+str(round(sr,3)),fontsize=6)\n",
    "    axs.set_xlabel('')\n",
    "    axs.set_ylabel('')#s[1])\n",
    "    axs.plot([start, -2],[start, -2],'--',color='#FB8072',linewidth=0.8)\n",
    "    axs.xaxis.set_tick_params(width=0.8, length=2,labelsize=6)\n",
    "    axs.yaxis.set_tick_params(width=0.8, length=2,labelsize=6)\n",
    "#plt.savefig(f'../Figure5/figs/mesc_{time}.pdf')"
   ]
  },
  {
   "cell_type": "markdown",
   "id": "59b6105f-8a70-498d-9c4b-83caacfe862c",
   "metadata": {
    "tags": []
   },
   "source": [
    "## gas 24-28"
   ]
  },
  {
   "cell_type": "code",
   "execution_count": 11,
   "id": "99253f69-04e0-499e-81e4-91163d8164a8",
   "metadata": {
    "tags": []
   },
   "outputs": [
    {
     "name": "stdout",
     "output_type": "stream",
     "text": [
      "mESC-gas-24-48-dox_rep1\n",
      "mESC-gas-24-48-dox_rep2\n"
     ]
    },
    {
     "data": {
      "image/png": "[encoded data removed]",
      "text/plain": [
       "<Figure size 150x150 with 1 Axes>"
      ]
     },
     "metadata": {},
     "output_type": "display_data"
    }
   ],
   "source": [
    "## Dox mesc\n",
    "path = '../Figure5/'\n",
    "time = '24-48'\n",
    "samples =sorted([s.split('_bc_count')[0] for s in os.listdir(path) if '.tsv' in s and time in s])\n",
    "df_ctrl = pd.read_table('../Figure5/synEn_designs.txt')\n",
    "for i in range(0,2):\n",
    "    print (samples[i])\n",
    "    with open(path+samples[i]+'_bc_count.tsv','r') as f:\n",
    "        temp = f.readlines()\n",
    "        test = pd.DataFrame([s for s in merge_edit_1([a for a in [str2array(s) for s in temp] if len(a[0])==5]) if s[1]>5],columns=['barcode','count'])\n",
    "        test['barcode']=test['barcode'].apply(reverse_complement)\n",
    "        test['count'] = test['count']\n",
    "        df_ctrl=df_ctrl.merge(test,on='barcode',how='inner').fillna(0)\n",
    "df_ctrl.columns =  ['motif','barcode','barcode_rc','Sequence','Hek293_rep1','Hek293_rep2']\n",
    "df_ctrl['Hek_ratio_rep1'] =  np.log2((df_ctrl['Hek293_rep1'])/(df_ctrl['Hek293_rep1'].sum()))#*10**6\n",
    "df_ctrl['Hek_ratio_rep2'] =  np.log2((df_ctrl['Hek293_rep2'])/(df_ctrl['Hek293_rep2'].sum()))#*10**6\n",
    "\n",
    "df_ctrl['ratio'] =  (df_ctrl['Hek_ratio_rep1']+df_ctrl['Hek_ratio_rep2'])/2#*10**6\n",
    "\n",
    "fig, axs = plt.subplots(1,figsize=(1.5,1.5),sharey=False,sharex=False)\n",
    "sample = [('Hek_ratio_rep1','Hek_ratio_rep2')]\n",
    "for i in range(1):\n",
    "    s=sample[i]\n",
    "    sns.scatterplot(x=s[0],y=s[1],data = df_ctrl, color=['#4A4A4A'],s=5,ax=axs,marker='o')\n",
    "    pr = sp.stats.pearsonr(df_ctrl[s[0]],df_ctrl[s[1]])[0]\n",
    "    sr = sp.stats.spearmanr(df_ctrl[s[0]],df_ctrl[s[1]])[0]\n",
    "    sns.despine(offset=3)\n",
    "    start, end = -15,0\n",
    "    axs.yaxis.set_ticks(np.arange(start, end, 3))\n",
    "    axs.xaxis.set_ticks(np.arange(start, end, 3))\n",
    "    axs.text(-14,-4,\"Pearson: \"  + str(round(pr,3))  + \"\\nSpearman: \"+str(round(sr,3)),fontsize=6)\n",
    "    axs.set_xlabel('')\n",
    "    axs.set_ylabel('')#s[1])\n",
    "    axs.plot([start, -2],[start, -2],'--',color='#FB8072',linewidth=0.8)\n",
    "    axs.xaxis.set_tick_params(width=0.8, length=2,labelsize=6)\n",
    "    axs.yaxis.set_tick_params(width=0.8, length=2,labelsize=6)\n",
    "#plt.savefig(f'../Figure5/figs/mesc_{time}.pdf')"
   ]
  },
  {
   "cell_type": "markdown",
   "id": "35b4a4b6-3c5e-4264-bda0-f42ba1ddca2d",
   "metadata": {
    "tags": []
   },
   "source": [
    "## gas 48-72"
   ]
  },
  {
   "cell_type": "code",
   "execution_count": 12,
   "id": "d96826f1-b1d8-4f09-9308-02966d2f5e7b",
   "metadata": {
    "tags": []
   },
   "outputs": [
    {
     "name": "stdout",
     "output_type": "stream",
     "text": [
      "mESC-gas-48-72-dox_rep1\n",
      "mESC-gas-48-72-dox_rep2\n"
     ]
    },
    {
     "data": {
      "image/png": "[encoded data removed]",
      "text/plain": [
       "<Figure size 150x150 with 1 Axes>"
      ]
     },
     "metadata": {},
     "output_type": "display_data"
    }
   ],
   "source": [
    "## Dox mesc\n",
    "path = '../Figure5/'\n",
    "time = '48-72'\n",
    "samples =sorted([s.split('_bc_count')[0] for s in os.listdir(path) if '.tsv' in s and time in s])\n",
    "df_ctrl = pd.read_table('../Figure5/synEn_designs.txt')\n",
    "for i in range(0,2):\n",
    "    print (samples[i])\n",
    "    with open(path+samples[i]+'_bc_count.tsv','r') as f:\n",
    "        temp = f.readlines()\n",
    "        test = pd.DataFrame([s for s in merge_edit_1([a for a in [str2array(s) for s in temp] if len(a[0])==5]) if s[1]>5],columns=['barcode','count'])\n",
    "        test['barcode']=test['barcode'].apply(reverse_complement)\n",
    "        test['count'] = test['count']\n",
    "        df_ctrl=df_ctrl.merge(test,on='barcode',how='inner').fillna(0)\n",
    "df_ctrl.columns =  ['motif','barcode','barcode_rc','Sequence','Hek293_rep1','Hek293_rep2']\n",
    "df_ctrl['Hek_ratio_rep1'] =  np.log2((df_ctrl['Hek293_rep1'])/(df_ctrl['Hek293_rep1'].sum()))#*10**6\n",
    "df_ctrl['Hek_ratio_rep2'] =  np.log2((df_ctrl['Hek293_rep2'])/(df_ctrl['Hek293_rep2'].sum()))#*10**6\n",
    "\n",
    "df_ctrl['ratio'] =  (df_ctrl['Hek_ratio_rep1']+df_ctrl['Hek_ratio_rep2'])/2#*10**6\n",
    "\n",
    "fig, axs = plt.subplots(1,figsize=(1.5,1.5),sharey=False,sharex=False)\n",
    "sample = [('Hek_ratio_rep1','Hek_ratio_rep2')]\n",
    "for i in range(1):\n",
    "    s=sample[i]\n",
    "    sns.scatterplot(x=s[0],y=s[1],data = df_ctrl, color=['#4A4A4A'],s=5,ax=axs,marker='o')\n",
    "    pr = sp.stats.pearsonr(df_ctrl[s[0]],df_ctrl[s[1]])[0]\n",
    "    sr = sp.stats.spearmanr(df_ctrl[s[0]],df_ctrl[s[1]])[0]\n",
    "    sns.despine(offset=3)\n",
    "    start, end = -15,0\n",
    "    axs.yaxis.set_ticks(np.arange(start, end, 3))\n",
    "    axs.xaxis.set_ticks(np.arange(start, end, 3))\n",
    "    axs.text(-14,-4,\"Pearson: \"  + str(round(pr,3))  + \"\\nSpearman: \"+str(round(sr,3)),fontsize=6)\n",
    "    axs.set_xlabel('')\n",
    "    axs.set_ylabel('')#s[1])\n",
    "    axs.plot([start, -2],[start, -2],'--',color='#FB8072',linewidth=0.8)\n",
    "    axs.xaxis.set_tick_params(width=0.8, length=2,labelsize=6)\n",
    "    axs.yaxis.set_tick_params(width=0.8, length=2,labelsize=6)\n",
    "#plt.savefig(f'../Figure5/figs/mesc_{time}.pdf')"
   ]
  },
  {
   "cell_type": "markdown",
   "id": "583e8da6-f704-4a6e-9241-cc1443b97bcc",
   "metadata": {
    "tags": []
   },
   "source": [
    "## gas 72-96"
   ]
  },
  {
   "cell_type": "code",
   "execution_count": 13,
   "id": "3f6a0313-4215-43ed-975d-566f22989fe5",
   "metadata": {
    "tags": []
   },
   "outputs": [
    {
     "name": "stdout",
     "output_type": "stream",
     "text": [
      "mESC-gas-72-96-dox_rep1\n",
      "mESC-gas-72-96-dox_rep2\n"
     ]
    },
    {
     "data": {
      "image/png": "[encoded data removed]",
      "text/plain": [
       "<Figure size 150x150 with 1 Axes>"
      ]
     },
     "metadata": {},
     "output_type": "display_data"
    }
   ],
   "source": [
    "## Dox mesc\n",
    "path = '../Figure5/'\n",
    "time = '72-96'\n",
    "samples =sorted([s.split('_bc_count')[0] for s in os.listdir(path) if '.tsv' in s and time in s])\n",
    "df_ctrl = pd.read_table('../Figure5/synEn_designs.txt')\n",
    "for i in range(0,2):\n",
    "    print (samples[i])\n",
    "    with open(path+samples[i]+'_bc_count.tsv','r') as f:\n",
    "        temp = f.readlines()\n",
    "        test = pd.DataFrame([s for s in merge_edit_1([a for a in [str2array(s) for s in temp] if len(a[0])==5]) if s[1]>5],columns=['barcode','count'])\n",
    "        test['barcode']=test['barcode'].apply(reverse_complement)\n",
    "        test['count'] = test['count']\n",
    "        df_ctrl=df_ctrl.merge(test,on='barcode',how='inner').fillna(0)\n",
    "df_ctrl.columns =  ['motif','barcode','barcode_rc','Sequence','Hek293_rep1','Hek293_rep2']\n",
    "df_ctrl['Hek_ratio_rep1'] =  np.log2((df_ctrl['Hek293_rep1'])/(df_ctrl['Hek293_rep1'].sum()))#*10**6\n",
    "df_ctrl['Hek_ratio_rep2'] =  np.log2((df_ctrl['Hek293_rep2'])/(df_ctrl['Hek293_rep2'].sum()))#*10**6\n",
    "\n",
    "df_ctrl['ratio'] =  (df_ctrl['Hek_ratio_rep1']+df_ctrl['Hek_ratio_rep2'])/2#*10**6\n",
    "\n",
    "fig, axs = plt.subplots(1,figsize=(1.5,1.5),sharey=False,sharex=False)\n",
    "sample = [('Hek_ratio_rep1','Hek_ratio_rep2')]\n",
    "for i in range(1):\n",
    "    s=sample[i]\n",
    "    sns.scatterplot(x=s[0],y=s[1],data = df_ctrl, color=['#4A4A4A'],s=5,ax=axs,marker='o')\n",
    "    pr = sp.stats.pearsonr(df_ctrl[s[0]],df_ctrl[s[1]])[0]\n",
    "    sr = sp.stats.spearmanr(df_ctrl[s[0]],df_ctrl[s[1]])[0]\n",
    "    sns.despine(offset=3)\n",
    "    start, end = -15,0\n",
    "    axs.yaxis.set_ticks(np.arange(start, end, 3))\n",
    "    axs.xaxis.set_ticks(np.arange(start, end, 3))\n",
    "    axs.text(-14,-4,\"Pearson: \"  + str(round(pr,3))  + \"\\nSpearman: \"+str(round(sr,3)),fontsize=6)\n",
    "    axs.set_xlabel('')\n",
    "    axs.set_ylabel('')#s[1])\n",
    "    axs.plot([start, -2],[start, -2],'--',color='#FB8072',linewidth=0.8)\n",
    "    axs.xaxis.set_tick_params(width=0.8, length=2,labelsize=6)\n",
    "    axs.yaxis.set_tick_params(width=0.8, length=2,labelsize=6)\n",
    "##plt.savefig(f'../Figure5/figs/mesc_{time}.pdf')"
   ]
  },
  {
   "cell_type": "markdown",
   "id": "15ae0931-8389-4b3e-adda-e055e8f9bf24",
   "metadata": {
    "tags": []
   },
   "source": [
    "## gas 96-120"
   ]
  },
  {
   "cell_type": "code",
   "execution_count": 14,
   "id": "2ce7704e-85b0-47da-aaec-77eaf36d9bd5",
   "metadata": {
    "tags": []
   },
   "outputs": [
    {
     "name": "stdout",
     "output_type": "stream",
     "text": [
      "mESC-gas-96-120-dox_rep1\n",
      "mESC-gas-96-120-dox_rep2\n"
     ]
    },
    {
     "data": {
      "image/png": "[encoded data removed]",
      "text/plain": [
       "<Figure size 150x150 with 1 Axes>"
      ]
     },
     "metadata": {},
     "output_type": "display_data"
    }
   ],
   "source": [
    "## Dox mesc\n",
    "path = '../Figure5/'\n",
    "time = '96-120'\n",
    "samples =sorted([s.split('_bc_count')[0] for s in os.listdir(path) if '.tsv' in s and time in s])\n",
    "df_ctrl = pd.read_table('../Figure5/synEn_designs.txt')\n",
    "for i in range(0,2):\n",
    "    print (samples[i])\n",
    "    with open(path+samples[i]+'_bc_count.tsv','r') as f:\n",
    "        temp = f.readlines()\n",
    "        test = pd.DataFrame([s for s in merge_edit_1([a for a in [str2array(s) for s in temp] if len(a[0])==5]) if s[1]>5],columns=['barcode','count'])\n",
    "        test['barcode']=test['barcode'].apply(reverse_complement)\n",
    "        test['count'] = test['count']\n",
    "        df_ctrl=df_ctrl.merge(test,on='barcode',how='inner').fillna(0)\n",
    "df_ctrl.columns =  ['motif','barcode','barcode_rc','Sequence','Hek293_rep1','Hek293_rep2']\n",
    "df_ctrl['Hek_ratio_rep1'] =  np.log2((df_ctrl['Hek293_rep1'])/(df_ctrl['Hek293_rep1'].sum()))#*10**6\n",
    "df_ctrl['Hek_ratio_rep2'] =  np.log2((df_ctrl['Hek293_rep2'])/(df_ctrl['Hek293_rep2'].sum()))#*10**6\n",
    "\n",
    "df_ctrl['ratio'] =  (df_ctrl['Hek_ratio_rep1']+df_ctrl['Hek_ratio_rep2'])/2#*10**6\n",
    "\n",
    "fig, axs = plt.subplots(1,figsize=(1.5,1.5),sharey=False,sharex=False)\n",
    "sample = [('Hek_ratio_rep1','Hek_ratio_rep2')]\n",
    "for i in range(1):\n",
    "    s=sample[i]\n",
    "    sns.scatterplot(x=s[0],y=s[1],data = df_ctrl, color=['#4A4A4A'],s=5,ax=axs,marker='o')\n",
    "    pr = sp.stats.pearsonr(df_ctrl[s[0]],df_ctrl[s[1]])[0]\n",
    "    sr = sp.stats.spearmanr(df_ctrl[s[0]],df_ctrl[s[1]])[0]\n",
    "    sns.despine(offset=3)\n",
    "    start, end = -15,0\n",
    "    axs.yaxis.set_ticks(np.arange(start, end, 3))\n",
    "    axs.xaxis.set_ticks(np.arange(start, end, 3))\n",
    "    axs.text(-14,-4,\"Pearson: \"  + str(round(pr,3))  + \"\\nSpearman: \"+str(round(sr,3)),fontsize=6)\n",
    "    axs.set_xlabel('')\n",
    "    axs.set_ylabel('')#s[1])\n",
    "    axs.plot([start, -2],[start, -2],'--',color='#FB8072',linewidth=0.8)\n",
    "    axs.xaxis.set_tick_params(width=0.8, length=2,labelsize=6)\n",
    "    axs.yaxis.set_tick_params(width=0.8, length=2,labelsize=6)\n",
    "#plt.savefig(f'../Figure5/figs/mesc_{time}.pdf')"
   ]
  },
  {
   "cell_type": "markdown",
   "id": "b8b6a63b-7bdf-43e7-bc85-dcd0e51fe194",
   "metadata": {
    "tags": []
   },
   "source": [
    "# mESC vs Gastruloid count table\n",
    "create table for DEseq"
   ]
  },
  {
   "cell_type": "code",
   "execution_count": 15,
   "id": "643cf621-b4be-4e93-937a-2db9976bf9ef",
   "metadata": {
    "tags": []
   },
   "outputs": [],
   "source": [
    "## Dox mesc\n",
    "path = '../Figure5/'\n",
    "times = ['0-24','24-48','48-72','72-96','96-120']\n",
    "df_hek = pd.read_table('../Figure5/synEn_designs.txt')\n",
    "df_deseq = pd.DataFrame(df_hek['motif']) # pd.DataFrame(df_hek[['motif','barcode']])\n",
    "for time in times:\n",
    "    df_hek = pd.read_table('../Figure5/synEn_designs.txt')\n",
    "    samples =sorted([s.split('_bc_count')[0] for s in os.listdir(path) if '.tsv' in s and time in s])\n",
    "    for i in range(0,2):\n",
    "        with open(path+samples[i]+'_bc_count.tsv','r') as f:\n",
    "            temp = f.readlines()\n",
    "            test = pd.DataFrame([s for s in merge_edit_1([a for a in [str2array(s) for s in temp] if len(a[0])==5])],columns=['barcode','count'])\n",
    "            test = test[test['count']>test['count'].sum()/2**14].reset_index(drop=True)\n",
    "            test['barcode']=test['barcode'].apply(reverse_complement)\n",
    "            total = test['count'].sum()\n",
    "            df_hek=df_hek.merge(test,on='barcode',how='left').fillna(round(total/2**14))  \n",
    "    df_hek.columns =  ['motif','barcode','barcode_rc','Sequence',f'{time}_rep1',f'{time}_rep2']\n",
    "    df_deseq = df_deseq.merge(df_hek[['motif',f'{time}_rep1',f'{time}_rep2']],on='motif',how='left')\n",
    "\n",
    "\n",
    "times = ['mESC-dox']\n",
    "for time in times:\n",
    "    df_hek = pd.read_table('../Figure5/synEn_designs.txt')\n",
    "    samples =sorted([s.split('_bc_count')[0] for s in os.listdir(path) if '.tsv' in s and time in s])\n",
    "    for i in range(0,3):\n",
    "        with open(path+samples[i]+'_bc_count.tsv','r') as f:\n",
    "            temp = f.readlines()\n",
    "            test = pd.DataFrame([s for s in merge_edit_1([a for a in [str2array(s) for s in temp] if len(a[0])==5])],columns=['barcode','count'])\n",
    "            test = test[test['count']>test['count'].sum()/2**14].reset_index(drop=True)\n",
    "            test['barcode']=test['barcode'].apply(reverse_complement)\n",
    "            total = test['count'].sum()\n",
    "            df_hek=df_hek.merge(test,on='barcode',how='left').fillna(round(total/2**14))\n",
    "    df_hek.columns =  ['motif','barcode','barcode_rc','Sequence',f'{time}_rep1',f'{time}_rep2',f'{time}_rep3']\n",
    "    df_deseq = df_deseq.merge(df_hek[['motif',f'{time}_rep1',f'{time}_rep2',f'{time}_rep3']],on='motif',how='left')"
   ]
  },
  {
   "cell_type": "code",
   "execution_count": 16,
   "id": "a300f9f2-1d09-44e1-9f72-9ade27867e3a",
   "metadata": {
    "tags": []
   },
   "outputs": [],
   "source": [
    "df_deseq.columns = df_deseq.columns.str.replace('-','.').str.replace('__','_').str.replace('_','.')\n",
    "df_deseq.to_csv('../Figure5/mESC_gas_tf_recording.csv', sep=',',index=False)"
   ]
  },
  {
   "cell_type": "code",
   "execution_count": 17,
   "id": "d572a863-b293-4c29-88da-93bd4a419758",
   "metadata": {
    "tags": []
   },
   "outputs": [],
   "source": [
    "coldata = pd.DataFrame([df_deseq.columns[1:],df_deseq.columns[1:].str.split('.rep').str[0]]).T\n",
    "coldata.to_csv('../Figure5/coldata_mESC_gas.csv',sep=',',index=False)"
   ]
  },
  {
   "cell_type": "markdown",
   "id": "700a6d2a-5fd0-43a7-a4ca-3744c258c2e7",
   "metadata": {
    "tags": []
   },
   "source": [
    "## mESC vs Gastruloid differential active recorders\n",
    "Supp Figure 8e "
   ]
  },
  {
   "cell_type": "code",
   "execution_count": 18,
   "id": "3a5355eb-f16d-47e8-b5c3-34a06f969b6a",
   "metadata": {
    "tags": []
   },
   "outputs": [
    {
     "data": {
      "image/png": "[encoded data removed]",
      "text/plain": [
       "<Figure size 250x150 with 1 Axes>"
      ]
     },
     "metadata": {},
     "output_type": "display_data"
    }
   ],
   "source": [
    "times = ['0.24','24.48','48.72','72.96','96.120']\n",
    "df = pd.DataFrame(columns=['log2FoldChange','ratio','time','label'])\n",
    "for time in times:\n",
    "    f = pd.read_csv(f'../Figure5/{time}_deseq.txt')[['rowname','log2FoldChange','padj']]\n",
    "    f['ratio'] = 0- f['padj'].apply(float).apply(np.log10)\n",
    "    f['time'] = time.replace('.','-')\n",
    "    f['log2FoldChange'] = f['log2FoldChange'].apply(float)\n",
    "    f['label'] = ''\n",
    "    f['sig'] = f['ratio']>-np.log10(0.1)\n",
    "    f.loc[(f['log2FoldChange'] > 0)&(f['ratio']>0),'label'] ='increase'\n",
    "    f.loc[(f['log2FoldChange'] < 0)&(f['ratio']>0),'label'] ='decrease'\n",
    "    df = pd.concat([df,f[['log2FoldChange','ratio','time','label']]],axis=0)\n",
    "df = df.reset_index(drop=True)\n",
    "df['sig'] = df['ratio']>-np.log10(0.1)\n",
    "fig, axs = plt.subplots(1,figsize=(2.5,1.5),sharey=False,sharex=False)\n",
    "sns.stripplot(x='time',y='ratio',dodge=True,data = df[df['sig']],palette=['#FB8072','#80B1D3'],s=4,\n",
    "              order=['0-24', '24-48', '48-72', '72-96', '96-120'],hue='label',ax=axs,marker='o',legend=False)\n",
    "sns.stripplot(x='time',y='ratio',dodge=True,data = df[df['sig']==False],color='#5C5C5C',s=2.5, \n",
    "              order=['0-24', '24-48', '48-72', '72-96', '96-120'],ax=axs,marker='o',legend=False)\n",
    "sns.despine(offset=3)\n",
    "axs.set_xlabel('Recording window (hrs)', fontsize=7)\n",
    "axs.set_ylabel('-log10 adjusted p-value',fontsize=7)#s[1])\n",
    "axs.set_ylim(-0.5,16)\n",
    "#axs.set_xticks([0,1,2,3,4],['24','48','72','96','120'])\n",
    "axs.xaxis.set_tick_params(width=0.8, length=2,labelsize=6)\n",
    "axs.yaxis.set_tick_params(width=0.8, length=2,labelsize=6)\n",
    "#plt.savefig(f'../Figure5/figs/mesc_deseq_significance.pdf')"
   ]
  },
  {
   "cell_type": "markdown",
   "id": "72b0dffd-891f-4e51-bb39-5d968e0d7793",
   "metadata": {
    "tags": []
   },
   "source": [
    "# mESC vs other cells count table"
   ]
  },
  {
   "cell_type": "code",
   "execution_count": 19,
   "id": "84b4a88f-549d-40a9-8d9d-a455182d3da6",
   "metadata": {
    "tags": []
   },
   "outputs": [],
   "source": [
    "path = '../Figure2/synEN/'\n",
    "samples =sorted([s.split('_bc_count')[0] for s in os.listdir(path) if 'HEK293T' in s and '.tsv' in s])\n",
    "df_hek = pd.read_table(path+'synEn_designs.txt')\n",
    "for i in range(3):\n",
    "    with open(path+samples[i]+'_bc_count.tsv','r') as f:\n",
    "        temp = f.readlines()\n",
    "        test = pd.DataFrame(merge_edit_1([a for a in [str2array(s) for s in temp] if len(a[0])==5] ),columns=['barcode','count'])\n",
    "        test = test[test['count']>test['count'].sum()/2**14].reset_index(drop=True)\n",
    "        total = test['count'].sum()\n",
    "        df_hek=df_hek.merge(test,on='barcode',how='left').fillna(round(total/2**14))  \n",
    "df_hek.columns =  ['motif','barcode','barcode_rc','Sequence','Hek293_rep1','Hek293_rep2','Hek293_rep3']\n",
    "\n",
    "samples =sorted([s.split('_bc_count')[0] for s in os.listdir(path) if 'K562' in s and '.tsv' in s])\n",
    "df_k562 = pd.read_table(path+'synEn_designs.txt')\n",
    "for i in range(3):\n",
    "    with open(path+samples[i]+'_bc_count.tsv','r') as f:\n",
    "        temp = f.readlines()\n",
    "        test = pd.DataFrame(merge_edit_1([a for a in [str2array(s) for s in temp] if len(a[0])==5]),columns=['barcode','count'])\n",
    "        test = test[test['count']>test['count'].sum()/2**14].reset_index(drop=True)\n",
    "        total = test['count'].sum()\n",
    "        df_k562=df_k562.merge(test,on='barcode',how='left').fillna(round(total/2**14))  \n",
    "df_k562.columns =  ['motif','barcode','barcode_rc','Sequence','K562_rep1','K562_rep2','K562_rep3']\n"
   ]
  },
  {
   "cell_type": "code",
   "execution_count": 20,
   "id": "4830ccec-06a2-4d75-ba6c-7740146f0f09",
   "metadata": {
    "tags": []
   },
   "outputs": [],
   "source": [
    "df_esc = pd.read_table('../Figure5/synEn_designs.txt')\n",
    "path = '../Figure5/'\n",
    "samples = sorted([s.split('_bc_count')[0] for s in os.listdir(path) if '.tsv' in s and 'mESC-dox' in s])\n",
    "for i in range(0,3):\n",
    "    with open(path+samples[i]+'_bc_count.tsv','r') as f:\n",
    "        temp = f.readlines()\n",
    "        test = pd.DataFrame([s for s in merge_edit_1([a for a in [str2array(s) for s in temp] if len(a[0])==5])],columns=['barcode','count'])\n",
    "        test['barcode']=test['barcode'].apply(reverse_complement)\n",
    "        test = test[test['count']>test['count'].sum()/2**14].reset_index(drop=True)\n",
    "        total = test['count'].sum()\n",
    "        df_esc=df_esc.merge(test,on='barcode',how='inner').fillna(round(total/2**14))\n",
    "df_esc.columns =  ['motif','barcode','barcode_rc','Sequence','mESC_rep1','mESC_rep2','mESC_rep3']"
   ]
  },
  {
   "cell_type": "code",
   "execution_count": 21,
   "id": "527b76d7-49e6-4637-87ea-fe7a13b33bc9",
   "metadata": {
    "tags": []
   },
   "outputs": [],
   "source": [
    "df_esc.merge(df_hek.merge(df_k562,on='barcode',how='outer'),on='barcode',how='outer').fillna(1).loc[:,('barcode','K562_rep1','K562_rep2','K562_rep3','Hek293_rep1','Hek293_rep2','Hek293_rep3','mESC_rep1','mESC_rep2','mESC_rep3')].to_csv( '../Figure5/mESC_hek_k562_comparison_deseq.csv',index=False)"
   ]
  },
  {
   "cell_type": "code",
   "execution_count": 22,
   "id": "7f0f1eaa-21a1-4e0f-930e-d605bef69c47",
   "metadata": {},
   "outputs": [],
   "source": [
    "coldata = pd.DataFrame([('K562_rep1','K562_rep2','K562_rep3','Hek293_rep1','Hek293_rep2','Hek293_rep3','mESC_rep1','mESC_rep2','mESC_rep3'),\n",
    "                        ('K562','K562','K562','Hek293','Hek293','Hek293','mESC','mESC','mESC')]).T\n",
    "coldata.to_csv('../Figure5/coldata_mESC_Hek293T_K562.csv',index=False)"
   ]
  },
  {
   "cell_type": "markdown",
   "id": "d6c0a6d7-5f9b-4233-8142-ee6ff9d88221",
   "metadata": {
    "tags": []
   },
   "source": [
    "## Figure 5e"
   ]
  },
  {
   "cell_type": "code",
   "execution_count": 23,
   "id": "b63b6a93-b5ed-4b54-8a1d-66f4c38d0010",
   "metadata": {
    "tags": []
   },
   "outputs": [],
   "source": [
    "## Dox mesc\n",
    "path = '../Figure5/'\n",
    "times = ['0-24','24-48','48-72','72-96','96-120']\n",
    "\n",
    "ratios = pd.DataFrame(pd.read_table('../Figure5/synEn_designs.txt')['motif'],columns=['motif'])\n",
    "k = 0\n",
    "for time in times:\n",
    "    samples =sorted([s.split('_bc_count')[0] for s in os.listdir(path) if '.tsv' in s and time in s])\n",
    "    df_hek = pd.read_table('../Figure5/synEn_designs.txt')\n",
    "    for i in range(0,2):\n",
    "        with open(path+samples[i]+'_bc_count.tsv','r') as f:\n",
    "            temp = f.readlines()\n",
    "            test = pd.DataFrame([s for s in merge_edit_1([a for a in [str2array(s) for s in temp] if len(a[0])==5])],columns=['barcode','count'])\n",
    "            test = test[test['count']>test['count'].sum()/2**14].reset_index(drop=True)\n",
    "            test['barcode']=test['barcode'].apply(reverse_complement)\n",
    "            total = test['count'].sum()\n",
    "            df_hek=df_hek.merge(test,on='barcode',how='left').fillna(round(total/2**14))  \n",
    "    df_hek.columns =  ['motif','barcode','barcode_rc','Sequence','Hek293_rep1','Hek293_rep2']\n",
    "    df_hek['Hek293_rep1'] = df_hek['Hek293_rep1'].astype(float, copy=True)\n",
    "    df_hek['Hek293_rep2'] = df_hek['Hek293_rep2'].astype(float, copy=True)\n",
    "    df_hek['Hek_ratio_rep1'] =  np.log2((df_hek['Hek293_rep1'])/(df_hek['Hek293_rep1'].sum()))#*10**6\n",
    "    df_hek['Hek_ratio_rep2'] =  np.log2((df_hek['Hek293_rep2'])/(df_hek['Hek293_rep2'].sum()))#*10**6\n",
    "\n",
    "    df_hek['ratio_mean'] =  (df_hek['Hek_ratio_rep1']+df_hek['Hek_ratio_rep2'])/2#*10**6\n",
    "    ratios = ratios.merge(df_hek[['motif','ratio_mean']],on='motif',how='left')\n",
    "    ratios.columns = ['motif'] + times[0:k+1]\n",
    "    k+=1\n",
    "\n",
    "times = ['mESC-dox']\n",
    "k=0\n",
    "for time in times:\n",
    "    df_hek = pd.read_table('../Figure5/synEn_designs.txt')\n",
    "    samples =sorted([s.split('_bc_count')[0] for s in os.listdir(path) if '.tsv' in s and time in s])\n",
    "    for i in range(0,3):\n",
    "        with open(path+samples[i]+'_bc_count.tsv','r') as f:\n",
    "            temp = f.readlines()\n",
    "            test = pd.DataFrame([s for s in merge_edit_1([a for a in [str2array(s) for s in temp] if len(a[0])==5])],columns=['barcode','count'])\n",
    "            test = test[test['count']>test['count'].sum()/2**14].reset_index(drop=True)\n",
    "            test['barcode']=test['barcode'].apply(reverse_complement)\n",
    "            total = test['count'].sum()\n",
    "            df_hek=df_hek.merge(test,on='barcode',how='left').fillna(round(total/2**14))  \n",
    "    df_hek.columns =  ['motif','barcode','barcode_rc','Sequence','Hek293_rep1','Hek293_rep2','Hek293_rep3']\n",
    "    \n",
    "    df_hek['Hek293_rep1'] = df_hek['Hek293_rep1'].astype(float, copy=True)\n",
    "    df_hek['Hek293_rep2'] = df_hek['Hek293_rep2'].astype(float, copy=True)\n",
    "    df_hek['Hek293_rep3'] = df_hek['Hek293_rep3'].astype(float, copy=True)\n",
    "    \n",
    "    df_hek['Hek_ratio_rep1'] =  np.log2((df_hek['Hek293_rep1'])/(df_hek['Hek293_rep1'].sum()))#*10**6\n",
    "    df_hek['Hek_ratio_rep2'] =  np.log2((df_hek['Hek293_rep2'])/(df_hek['Hek293_rep2'].sum()))#*10**6\n",
    "    df_hek['Hek_ratio_rep3'] =  np.log2((df_hek['Hek293_rep3'])/(df_hek['Hek293_rep3'].sum()))#*10**6\n",
    "\n",
    "    df_hek['ratio_mean'] =  (df_hek['Hek_ratio_rep1']+df_hek['Hek_ratio_rep2']+df_hek['Hek_ratio_rep3'])/3#*10**6\n",
    "    ratios = ratios.merge(df_hek[['motif','ratio_mean']],on='motif',how='left')\n",
    "    ratios.columns = ['motif','0-24','24-48','48-72','72-96','96-120','background'] \n",
    "    k+=1\n"
   ]
  },
  {
   "cell_type": "code",
   "execution_count": 24,
   "id": "2c6cca36-94dc-429f-ad67-7b2e787adfa1",
   "metadata": {
    "tags": []
   },
   "outputs": [],
   "source": [
    "motifs = ['AAAGATCAAAGGAA',  'AATCCACA','ACTTCCGGT', 'AAGGTCAATGACCTT',  # wnt, nodal, ets, rar_v3\n",
    "          'TACCCACAATGCATTG','CGAAACCGAAACT',     # ZNF143, IRF1\n",
    "          'GCAATAAAA', 'TCTTATCT', 'CATAAATCAT',  # CDX1/2, GATA, PBX1\n",
    "          'CTGTTTCT',  'ATAGGGTATCACTAAT','CCATTGTTCGGT', # PRDM4,SIX3,SOX_v2\n",
    "          'ACCGATTAG', 'TGCTGACTCAGCA','ATGCATAATTAATGAG','GGCCAATCAG','TTGGCACCGTGCCAA'] # BARHL1, MAF_T, POU4F1, NFYA, NFIA\n",
    "ratios_filter = ratios[ratios['motif'].str.contains('|'.join(motifs))]"
   ]
  },
  {
   "cell_type": "code",
   "execution_count": 25,
   "id": "4b9c63cd-99bb-43af-80aa-159aa00809a7",
   "metadata": {
    "tags": []
   },
   "outputs": [
    {
     "data": {
      "image/png": "[encoded data removed]",
      "text/plain": [
       "<Figure size 320x170 with 4 Axes>"
      ]
     },
     "metadata": {},
     "output_type": "display_data"
    }
   ],
   "source": [
    "temp = pd.concat([ratios_filter['motif'],0-ratios_filter.iloc[:,1:-1].rsub(ratios_filter['background'] ,axis=0)],axis=1).fillna(0)\n",
    "temp = temp[np.any(temp.iloc[:,1:].abs()>1,axis=1)].reset_index(drop=True)\n",
    "design_table = pd.read_table( '../Figure5/98_TF_motif_designs.csv',header=None,sep=',')\n",
    "temp2 = temp.merge(design_table.iloc[:,[0,4]],left_on='motif',right_on=0,how='left')\n",
    "temp2.index=list(temp2[4])\n",
    "df = temp2.iloc[:,1:6]\n",
    "g=sns.clustermap(data=df.T, cmap=sns.diverging_palette(230,20,l=65, center='light',as_cmap=True,n=10),\n",
    "                 row_cluster=False,figsize = (3.2, 1.7), # Figure sizes\n",
    "                 dendrogram_ratio = 0.2,linecolor=\"grey\",\n",
    "                 xticklabels=True,yticklabels=True,\n",
    "                 linewidth=.5,cbar=True,annot=False,vmax=2.5,vmin=-2.5)\n",
    "g.ax_heatmap.xaxis.set_tick_params(width=0.8, length=2,labelsize=6)\n",
    "g.ax_heatmap.yaxis.set_tick_params(width=0.8, length=2,labelsize=6)\n",
    "g.ax_heatmap.collections[0].colorbar.ax.yaxis.set_tick_params(width=0.8, length=2,labelsize=6)\n",
    "#plt.savefig(f'../Figure5/figs/Cluster_heat_17.pdf')"
   ]
  },
  {
   "cell_type": "markdown",
   "id": "e2684b28-144f-4e43-81e9-253706c3ae80",
   "metadata": {},
   "source": [
    "## Supp Figure 8f All CRE heatmap"
   ]
  },
  {
   "cell_type": "code",
   "execution_count": 26,
   "id": "ab989480-1780-4342-9c09-a97e93e0b58e",
   "metadata": {
    "tags": []
   },
   "outputs": [],
   "source": [
    "ratios_filter = ratios[np.any(ratios.iloc[:,1:]>-9.9,axis=1)].reset_index(drop=True)\n",
    "temp = pd.concat([ratios_filter['motif'],0-ratios_filter.iloc[:,1:-1].rsub(ratios_filter['background'] ,axis=0)],axis=1).fillna(0)\n",
    "temp = temp[np.any(temp.iloc[:,1:].abs()>1,axis=1)].reset_index(drop=True)"
   ]
  },
  {
   "cell_type": "code",
   "execution_count": 27,
   "id": "dcaea801-1e9b-4454-a265-f93fb01c2dd9",
   "metadata": {
    "tags": []
   },
   "outputs": [
    {
     "data": {
      "image/png": "[encoded data removed]",
      "text/plain": [
       "<Figure size 700x300 with 4 Axes>"
      ]
     },
     "metadata": {},
     "output_type": "display_data"
    }
   ],
   "source": [
    "design_table = pd.read_table( '../Figure5/98_TF_motif_designs.csv',header=None,sep=',')\n",
    "temp2 = temp.merge(design_table.iloc[:,[0,4]],left_on='motif',right_on=0,how='left')\n",
    "temp2.index=list(temp2[4])\n",
    "df = temp2.iloc[:,1:6]\n",
    "g=sns.clustermap(data=df.T, cmap=sns.diverging_palette(230,20,l=65, center='light',as_cmap=True,n=10),\n",
    "                 row_cluster=False,figsize = (7, 3), # Figure sizes\n",
    "                 dendrogram_ratio = 0.2,linecolor=\"grey\",\n",
    "                 xticklabels=1,yticklabels=True,\n",
    "                 linewidth=.5,cbar=True,annot=False,vmin=-2.5, vmax=2.5)\n",
    "g.ax_heatmap.xaxis.set_tick_params(width=0.8, length=2,labelsize=6)\n",
    "g.ax_heatmap.yaxis.set_tick_params(width=0.8, length=2,labelsize=6)\n",
    "#plt.savefig(f'../Figure5/figs/Cluster_heat_all.pdf')"
   ]
  },
  {
   "cell_type": "markdown",
   "id": "d04fba81-3b75-4c48-a35e-7e1e411fe3bb",
   "metadata": {
    "tags": []
   },
   "source": [
    "## Figure 5 f-h line plot with error bar"
   ]
  },
  {
   "cell_type": "code",
   "execution_count": 28,
   "id": "d1ee178d-b15c-4a59-83d8-9fa19fd6df6a",
   "metadata": {
    "tags": []
   },
   "outputs": [],
   "source": [
    "## Dox mesc\n",
    "path = '../Figure5/'\n",
    "times = ['0-24','24-48','48-72','72-96','96-120']\n",
    "tt = ['0-24','0-24','24-48','24-48','48-72','48-72','72-96','72-96','96-120','96-120']\n",
    "motifs = ['AAAGATCAAAGGAA','AATCCACA','ACTTCCGGT', 'AAGGTCAATGACCTT',  # wnt, nodal, ets, rar_v3\n",
    "          'TACCCACAATGCATTG','CGAAACCGAAACT',     # ZNF143, IRF1\n",
    "          'GCAATAAAA', 'TCTTATCT', 'CATAAATCAT',  # CDX1/2, GATA, PBX1\n",
    "          'CTGTTTCT','ATAGGGTATCACTAAT','CCATTGTTCGGT'] # PRDM4,SIX3,SOX_v2\n",
    "ratios = pd.DataFrame(motifs,columns=['motif'])\n",
    "k = 0\n",
    "for time in times:\n",
    "    samples =sorted([s.split('_bc_count')[0] for s in os.listdir(path) if '.tsv' in s and time in s])\n",
    "    df_hek = pd.read_table('../Figure5/synEn_designs.txt')\n",
    "    for i in range(0,2):\n",
    "        with open(path+samples[i]+'_bc_count.tsv','r') as f:\n",
    "            temp = f.readlines()\n",
    "            test = pd.DataFrame([s for s in merge_edit_1([a for a in [str2array(s) for s in temp] if len(a[0])==5]) if s[1]>10],columns=['barcode','count'])\n",
    "            test['barcode']=test['barcode'].apply(reverse_complement)\n",
    "            total = test['count'].sum()\n",
    "            test = test[test['count']>total/2**14].reset_index(drop=True)\n",
    "            df_hek=df_hek.merge(test,on='barcode',how='left').fillna(round(total/2**14))\n",
    "    df_hek.columns =  ['motif','barcode','barcode_rc','Sequence','Hek293_rep1','Hek293_rep2']\n",
    "    df_hek['Hek293_rep1'] = df_hek['Hek293_rep1'].astype(float, copy=True)\n",
    "    df_hek['Hek293_rep2'] = df_hek['Hek293_rep2'].astype(float, copy=True)\n",
    "    df_hek['Hek_ratio_rep1'] =  np.log2((df_hek['Hek293_rep1'])/(df_hek['Hek293_rep1'].sum()))#*10**6\n",
    "    df_hek['Hek_ratio_rep2'] =  np.log2((df_hek['Hek293_rep2'])/(df_hek['Hek293_rep2'].sum()))#*10**6\n",
    "    \n",
    "    df_hek['ratio_mean'] =  (df_hek['Hek_ratio_rep1']+df_hek['Hek_ratio_rep2'])/2#*10**6\n",
    "    ratios = ratios.merge(df_hek[df_hek['motif'].str.contains('|'.join(motifs))][['motif','Hek_ratio_rep1','Hek_ratio_rep2']],on='motif',how='left')\n",
    "    ratios.columns = ['motif'] + tt[0:2*k+2]\n",
    "    k+=1\n",
    "\n",
    "df_hek = pd.read_table('../Figure5/synEn_designs.txt')\n",
    "samples = sorted([s.split('_bc_count')[0] for s in os.listdir(path) if '.tsv' in s and 'mESC-dox' in s])\n",
    "for i in range(0,3):\n",
    "    with open(path+samples[i]+'_bc_count.tsv','r') as f:\n",
    "        temp = f.readlines()\n",
    "        test = pd.DataFrame([s for s in merge_edit_1([a for a in [str2array(s) for s in temp] if len(a[0])==5]) if s[1]>10],columns=['barcode','count'])\n",
    "        test['barcode']=test['barcode'].apply(reverse_complement)\n",
    "        total = test['count'].sum()\n",
    "        test = test[test['count']>total/2**14].reset_index(drop=True)\n",
    "        df_hek=df_hek.merge(test,on='barcode',how='left').fillna(round(total/2**14))\n",
    "df_hek.columns =  ['motif','barcode','barcode_rc','Sequence','Hek293_rep1','Hek293_rep2','Hek293_rep3']\n",
    "\n",
    "df_hek['Hek293_rep1'] = df_hek['Hek293_rep1'].astype(float, copy=True)\n",
    "df_hek['Hek293_rep2'] = df_hek['Hek293_rep2'].astype(float, copy=True)\n",
    "df_hek['Hek293_rep3'] = df_hek['Hek293_rep3'].astype(float, copy=True)\n",
    "df_hek['Hek_ratio_rep1'] =  np.log2((df_hek['Hek293_rep1'])/(df_hek['Hek293_rep1'].sum()))#*10**6\n",
    "df_hek['Hek_ratio_rep2'] =  np.log2((df_hek['Hek293_rep2'])/(df_hek['Hek293_rep2'].sum()))#*10**6\n",
    "df_hek['Hek_ratio_rep3'] =  np.log2((df_hek['Hek293_rep3'])/(df_hek['Hek293_rep3'].sum()))#*10**6\n",
    "\n",
    "df_hek['ratio_mean'] =  (df_hek['Hek_ratio_rep1']+df_hek['Hek_ratio_rep2']+df_hek['Hek_ratio_rep3'])/3#*10**6\n",
    "ratios = ratios.merge(df_hek[df_hek['motif'].str.contains('|'.join(motifs))][['motif','ratio_mean']],on='motif',how='left')\n",
    "ratios.columns = ['motif']+tt+['background']"
   ]
  },
  {
   "cell_type": "code",
   "execution_count": 29,
   "id": "b5b98f83-a240-457a-973c-e002b0e6931d",
   "metadata": {
    "tags": []
   },
   "outputs": [],
   "source": [
    "temp = pd.concat([ratios['motif'],0-ratios.iloc[:,1:-1].rsub(ratios['background'],axis=0)],axis=1).fillna(0)\n",
    "design_table = pd.read_table( '../Figure5/98_TF_motif_designs.csv',sep=',')\n",
    "temp = temp.merge(design_table.iloc[:,0:6],left_on='motif',right_on='motif',how='left')\n",
    "temp.index=list(temp['identifier'])\n",
    "df_lineplot = temp.iloc[:,1:11].reset_index().melt(id_vars='index')\n",
    "colors_all = [ '#0084B8', '#FF9E00', '#F9A5A5', '#3E6B72', '#6E84A3', '#AABDD9', '#78A355', '#E0A458', '#FF5C5C', '#C08C4B', '#D9BADD', '#FFAFAF', '#75A6E8', '#D3A369' ]"
   ]
  },
  {
   "cell_type": "code",
   "execution_count": 30,
   "id": "95b3f322-1c3e-45a7-96ff-2f93eabfa79e",
   "metadata": {
    "tags": []
   },
   "outputs": [
    {
     "data": {
      "image/png": "[encoded data removed]",
      "text/plain": [
       "<Figure size 600x200 with 12 Axes>"
      ]
     },
     "metadata": {},
     "output_type": "display_data"
    }
   ],
   "source": [
    "shape = (2,6)\n",
    "sigs = np.reshape(list(temp.reset_index()['index']),(2,6))\n",
    "colors = np.reshape(colors_all[:12],(6,2)).T\n",
    "fig, axs = plt.subplots(shape[0],shape[1],figsize=(6,2),sharey=False,sharex=False)\n",
    "for i in range(shape[0]):\n",
    "    for j in range(shape[1]):\n",
    "        s = sigs[i,j]\n",
    "        df_plot = df_lineplot[df_lineplot['index']==s]\n",
    "        g= sns.lineplot(data=df_plot,x='variable',y='value',style=\"index\",\n",
    "                    color=colors[i,j],dashes=False,ax=axs[i,j],legend=False)  \n",
    "        sns.scatterplot(data=df_plot,x='variable',y='value',size=3,legend=None,color=colors[i,j],ax=axs[i,j])\n",
    "        axs[i,j].spines[['top', 'right']].set_visible(False)\n",
    "        axs[i,j].set_ylim(-3,3)\n",
    "        axs[i,j].set_ylabel('')\n",
    "        axs[i,j].set_xlabel('')\n",
    "        axs[i,j].set_yticks([-2.5,0,2.5])\n",
    "        axs[i,j].set_title(s,fontsize=7)\n",
    "        axs[i,j].hlines(y=0, xmin=0, xmax=4, color='#CBCBCB', linestyle=(0, (3, 2)), linewidth=0.8)  \n",
    "        axs[i,j].xaxis.set_tick_params(width=0.8, length=2,labelsize=6)\n",
    "        axs[i,j].yaxis.set_tick_params(width=0.8, length=2,labelsize=6)\n",
    "        axs[i,j].spines['left'].set_position(('outward', 3)) \n",
    "        axs[i,j].spines['bottom'].set_position(('outward', 3)) \n",
    "        if j>0 and i ==0:\n",
    "            axs[i,j].spines[['top', 'right','left','bottom']].set_visible(False)\n",
    "            axs[i,j].set_xticks([])\n",
    "            axs[i,j].set_yticks([])\n",
    "        elif j>0 and i ==1:\n",
    "            axs[i,j].spines[['top', 'right','left']].set_visible(False)\n",
    "            axs[i,j].set_yticks([])\n",
    "        elif j==0 and i ==0:\n",
    "            axs[i,j].spines[['top', 'right','bottom']].set_visible(False)\n",
    "            axs[i,j].set_xticks([])\n",
    "        elif j==1 and i ==0:\n",
    "            axs[i,j].spines[['top', 'right']].set_visible(False)\n",
    "            axs[i,j].set_xticks([])\n",
    "plt.tight_layout()\n",
    "#plt.savefig(f'../Figure5/figs/Key_TF_signal_line_6x2.pdf')"
   ]
  },
  {
   "cell_type": "markdown",
   "id": "886794bb-200a-4097-8fbb-e802b3cc7541",
   "metadata": {
    "tags": []
   },
   "source": [
    "# DESEQ \n",
    "run with R"
   ]
  },
  {
   "cell_type": "code",
   "execution_count": 1,
   "id": "3e486057-1e6a-4b94-9358-f4da39a6083f",
   "metadata": {
    "tags": []
   },
   "outputs": [],
   "source": [
    "suppressPackageStartupMessages({\n",
    "  options(stringsAsFactors = FALSE)\n",
    "  library(DESeq2);\n",
    "  library(data.table);\n",
    "  library(gdata);\n",
    "  library(BSgenome);\n",
    "  library(ggplot2);\n",
    "  library(RColorBrewer);\n",
    "  library(biomaRt);\n",
    "  library(ggrepel);\n",
    "  library(tidyverse)\n",
    "  library(glue)})"
   ]
  },
  {
   "cell_type": "markdown",
   "id": "0e649d03-79b2-48e1-a19d-58ef3866f19b",
   "metadata": {
    "tags": []
   },
   "source": [
    "# mESC vs Cells"
   ]
  },
  {
   "cell_type": "code",
   "execution_count": 2,
   "id": "39498dbe-2f2d-4d35-9667-e8756f736c84",
   "metadata": {
    "tags": []
   },
   "outputs": [],
   "source": [
    "design <- as.matrix(read.csv('../Figure5/98_TF_motif_designs.csv',sep=',',header=TRUE,check.names = FALSE))\n",
    "design_new = data.frame(design[,c(1,2,5,6,7,8)])\n",
    "cts <- as.matrix(read.csv(\"../Figure5//mESC_hek_k562_comparison_deseq.csv\", sep = \",\", row.names='barcode', header = T))\n",
    "keep <- rowSums(cts) > 1000\n",
    "cts <- cts[keep,]\n",
    "colnames(cts) <- gsub(\"X\", \"\", colnames(cts))\n",
    "coldata <- read.csv(\"../Figure5/coldata_mESC_Hek293T_K562.csv\", sep = \",\", row.names='X0')\n",
    "rownames(coldata) <- gsub(\"-\", \".\", rownames(coldata))\n",
    "colnames(coldata) <- c('condition')"
   ]
  },
  {
   "cell_type": "code",
   "execution_count": 86,
   "id": "7b7d52fb-f744-4d44-a5ea-ed80c50388ae",
   "metadata": {
    "tags": []
   },
   "outputs": [
    {
     "name": "stderr",
     "output_type": "stream",
     "text": [
      "converting counts to integer mode\n",
      "\n",
      "Warning message in DESeqDataSet(se, design = design, ignoreRank):\n",
      "“some variables in design formula are characters, converting to factors”\n",
      "estimating size factors\n",
      "\n",
      "estimating dispersions\n",
      "\n",
      "gene-wise dispersion estimates\n",
      "\n",
      "mean-dispersion relationship\n",
      "\n",
      "final dispersion estimates\n",
      "\n",
      "fitting model and testing\n",
      "\n"
     ]
    }
   ],
   "source": [
    "dds <- DESeqDataSetFromMatrix(countData = cts,\n",
    "                              colData   = coldata,\n",
    "                              design    = ~ condition)\n",
    "#res <- results(dds,alpha=0.05)\n",
    "dds$condition = relevel(dds$condition,3)\n",
    "dds = DESeq(dds)"
   ]
  },
  {
   "cell_type": "markdown",
   "id": "30669b0d-5867-4a2e-8418-64dd0527676a",
   "metadata": {
    "tags": []
   },
   "source": [
    "## mESC vs K562"
   ]
  },
  {
   "cell_type": "code",
   "execution_count": 87,
   "id": "f2eca841-bedf-4edd-b19b-f81269be2a81",
   "metadata": {
    "tags": []
   },
   "outputs": [
    {
     "name": "stderr",
     "output_type": "stream",
     "text": [
      "using 'apeglm' for LFC shrinkage. If used in published research, please cite:\n",
      "    Zhu, A., Ibrahim, J.G., Love, M.I. (2018) Heavy-tailed prior distributions for\n",
      "    sequence count data: removing the noise and preserving large differences.\n",
      "    Bioinformatics. https://doi.org/10.1093/bioinformatics/bty895\n",
      "\n"
     ]
    },
    {
     "data": {
      "text/html": [
       "<table class=\"dataframe\">\n",
       "<caption>A data.frame: 30 × 12</caption>\n",
       "<thead>\n",
       "\t<tr><th></th><th scope=col>rowname</th><th scope=col>baseMean</th><th scope=col>log2FoldChange</th><th scope=col>lfcSE</th><th scope=col>pvalue</th><th scope=col>padj</th><th scope=col>threshold</th><th scope=col>motif</th><th scope=col>identifier</th><th scope=col>V4</th><th scope=col>V5</th><th scope=col>V6</th></tr>\n",
       "\t<tr><th></th><th scope=col>&lt;chr&gt;</th><th scope=col>&lt;dbl&gt;</th><th scope=col>&lt;dbl&gt;</th><th scope=col>&lt;dbl&gt;</th><th scope=col>&lt;dbl&gt;</th><th scope=col>&lt;dbl&gt;</th><th scope=col>&lt;lgl&gt;</th><th scope=col>&lt;chr&gt;</th><th scope=col>&lt;chr&gt;</th><th scope=col>&lt;chr&gt;</th><th scope=col>&lt;chr&gt;</th><th scope=col>&lt;chr&gt;</th></tr>\n",
       "</thead>\n",
       "<tbody>\n",
       "\t<tr><th scope=row>1</th><td>TGTTG</td><td> 924.0773</td><td> 5.901583</td><td>0.16922608</td><td>7.841712e-185</td><td>7.135958e-183</td><td> TRUE</td><td>GGGACTTTCC        </td><td>NFKB_v1 </td><td>NFKB                  </td><td>REL                   </td><td>NFKB1\\RELA                                                                        </td></tr>\n",
       "\t<tr><th scope=row>2</th><td>TAGAG</td><td>1971.1015</td><td>-4.063852</td><td>0.13840446</td><td>6.576530e-109</td><td>2.992321e-107</td><td> TRUE</td><td>AACACTACCATTGTT   </td><td>SOX_v1  </td><td>Soxs                  </td><td>Sox1\\Sox11\\SOX21    </td><td>SOX2\\Sox3\\SOX4\\Sox6\\SOX8\\SOX9\\SOX10\\SOX12\\SOX13\\SOX14\\SOX15\\Sox17\\SOX18</td></tr>\n",
       "\t<tr><th scope=row>3</th><td>GTGCA</td><td>1594.3595</td><td>-3.648982</td><td>0.17197623</td><td> 3.163320e-54</td><td> 9.595403e-53</td><td> TRUE</td><td>CTGTTTCT          </td><td>PRDM4   </td><td>PRDM4                 </td><td>                      </td><td>                                                                                   </td></tr>\n",
       "\t<tr><th scope=row>4</th><td>TAAGG</td><td>3678.3056</td><td>-3.368368</td><td>0.16349913</td><td> 3.954651e-48</td><td> 8.996832e-47</td><td> TRUE</td><td>CCATTGTTCGGT      </td><td>SOX_v2  </td><td>Soxs                  </td><td>Sox1\\Sox11\\SOX21    </td><td>SOX2\\Sox3\\SOX4\\Sox6\\SOX8\\SOX9\\SOX10\\SOX12\\SOX13\\SOX14\\SOX15\\Sox17\\SOX18</td></tr>\n",
       "\t<tr><th scope=row>5</th><td>GTAAG</td><td> 909.8611</td><td> 3.899018</td><td>0.20476627</td><td> 3.318494e-46</td><td> 6.039660e-45</td><td> TRUE</td><td>TACCCACAATGCATTG  </td><td>ZNF143  </td><td>ZNF143                </td><td>                      </td><td>                                                                                   </td></tr>\n",
       "\t<tr><th scope=row>6</th><td>TATGC</td><td>1662.2702</td><td> 2.320009</td><td>0.10324606</td><td> 8.023320e-38</td><td> 1.216870e-36</td><td> TRUE</td><td>CACGTGAC          </td><td>BHLHE40 </td><td>BHLHE40               </td><td>TFE3                  </td><td>Creb3l2                                                                            </td></tr>\n",
       "\t<tr><th scope=row>7</th><td>GTAGT</td><td>5301.1111</td><td> 1.772495</td><td>0.06986319</td><td> 1.192097e-28</td><td> 1.549726e-27</td><td> TRUE</td><td>GATGACTCATC       </td><td>AP-1_TRE</td><td>TRE                   </td><td>FOS::JUNB             </td><td>FOSL2::JUN                                                                         </td></tr>\n",
       "\t<tr><th scope=row>8</th><td>TTGCC</td><td>4657.8292</td><td> 2.011274</td><td>0.09524894</td><td> 1.429397e-26</td><td> 1.625939e-25</td><td> TRUE</td><td>GTTACGTAAT        </td><td>NFIL3   </td><td>NFIL3                 </td><td>HLF                   </td><td>TEF/DBP heterodimer                                                                </td></tr>\n",
       "\t<tr><th scope=row>9</th><td>CGTAT</td><td>4747.6983</td><td>-2.009888</td><td>0.10966854</td><td> 1.590759e-20</td><td> 1.608434e-19</td><td> TRUE</td><td>GACCCCCCGCTGTGC   </td><td>ZIC3    </td><td>ZIC1\\ZIC3\\ZIC4\\ZIC5</td><td>                      </td><td>                                                                                   </td></tr>\n",
       "\t<tr><th scope=row>10</th><td>CCTTG</td><td>4844.2608</td><td>-1.920016</td><td>0.10407132</td><td> 4.930593e-19</td><td> 4.486840e-18</td><td> TRUE</td><td>TCTGTGGTTT        </td><td>RUNX1   </td><td>RUNX1                 </td><td>                      </td><td>                                                                                   </td></tr>\n",
       "\t<tr><th scope=row>11</th><td>TACTG</td><td>1364.9247</td><td>-1.862108</td><td>0.10251688</td><td> 2.310349e-17</td><td> 1.911289e-16</td><td> TRUE</td><td>GTACGTGC          </td><td>HIF1A   </td><td>HIF1A                 </td><td>HES                   </td><td>HRE from other plasmid gtcgtgcaggacgtgaca                                          </td></tr>\n",
       "\t<tr><th scope=row>12</th><td>CTACC</td><td> 158.7873</td><td> 3.494131</td><td>0.31470265</td><td> 5.491822e-16</td><td> 4.164632e-15</td><td> TRUE</td><td>TTCACACCTAGGTGTGAA</td><td>TBX_v2  </td><td>TBX19                 </td><td>TBXT                  </td><td>                                                                                   </td></tr>\n",
       "\t<tr><th scope=row>13</th><td>TGTCC</td><td> 526.7831</td><td> 2.299724</td><td>0.17239112</td><td> 1.830638e-14</td><td> 1.281447e-13</td><td> TRUE</td><td>GGGAAATTCC        </td><td>NFKB_v2 </td><td>NFKB                  </td><td>REL                   </td><td>NFKB1\\RELA                                                                        </td></tr>\n",
       "\t<tr><th scope=row>14</th><td>GCTAT</td><td>2601.3299</td><td>-2.650669</td><td>0.22124028</td><td> 2.582418e-14</td><td> 1.566667e-13</td><td> TRUE</td><td>GGCTGTTCC         </td><td>PRDM4_v2</td><td>PRDM4                 </td><td>ZNF341                </td><td>Rhox11                                                                             </td></tr>\n",
       "\t<tr><th scope=row>15</th><td>TGACT</td><td>1737.6820</td><td> 1.618525</td><td>0.08172908</td><td> 2.519610e-14</td><td> 1.566667e-13</td><td> TRUE</td><td>ACTTCCGGGTT       </td><td>ETS_v2  </td><td>ETS_family            </td><td>ETV2\\ETV3\\ETV5\\ETV6</td><td>ELF1\\ELF2\\ELF3\\ELF4\\ELF5                                                       </td></tr>\n",
       "\t<tr><th scope=row>16</th><td>CCTCA</td><td>3243.7390</td><td>-1.518022</td><td>0.07568163</td><td> 4.917418e-12</td><td> 2.796781e-11</td><td> TRUE</td><td>GTACCCGCAT        </td><td>GCM1    </td><td>GCM1\\GCM2            </td><td>                      </td><td>                                                                                   </td></tr>\n",
       "\t<tr><th scope=row>17</th><td>TACGT</td><td>3224.9368</td><td> 1.636184</td><td>0.10014241</td><td> 1.334715e-10</td><td> 7.144649e-10</td><td> TRUE</td><td>GTCATGTGAC        </td><td>MITF    </td><td>MITF                  </td><td>SREBF1                </td><td>USF1\\USF2                                                                         </td></tr>\n",
       "\t<tr><th scope=row>18</th><td>TCGTA</td><td>1055.7172</td><td>-2.523379</td><td>0.24502609</td><td> 1.596984e-10</td><td> 8.073639e-10</td><td> TRUE</td><td>AACTAGGTCA        </td><td>RAR_v5  </td><td>DR8                   </td><td>                      </td><td>                                                                                   </td></tr>\n",
       "\t<tr><th scope=row>19</th><td>TTACG</td><td> 561.0381</td><td> 2.070020</td><td>0.17726800</td><td> 7.216064e-10</td><td> 3.456115e-09</td><td> TRUE</td><td>TGACCATATATGGTCA  </td><td>SRF     </td><td>SRF                   </td><td>                      </td><td>                                                                                   </td></tr>\n",
       "\t<tr><th scope=row>20</th><td>TAGTC</td><td>3274.7151</td><td>-1.665688</td><td>0.10996562</td><td> 8.973707e-10</td><td> 4.083037e-09</td><td> TRUE</td><td>GGTCGTAAAA        </td><td>HOXB9   </td><td>HOXA9\\HOXA10\\HOXA11 </td><td>HOXB9                 </td><td>HOXC9\\HOXC10\\HOXC11\\HOXC12\\HOXC13                                              </td></tr>\n",
       "\t<tr><th scope=row>21</th><td>CTGGA</td><td> 454.9613</td><td>-3.000483</td><td>0.35945565</td><td> 5.745483e-09</td><td> 2.489709e-08</td><td> TRUE</td><td>CTATCGCGACATA     </td><td>ZBED1   </td><td>ZBED1                 </td><td>                      </td><td>                                                                                   </td></tr>\n",
       "\t<tr><th scope=row>22</th><td>CATCC</td><td> 340.9486</td><td> 2.560953</td><td>0.28239794</td><td> 1.069620e-08</td><td> 4.424336e-08</td><td> TRUE</td><td>TTTCCCAGAA        </td><td>STAT_v2 </td><td>STAT1\\STAT3\\STAT4   </td><td>Stat5a::Stat5b        </td><td>                                                                                   </td></tr>\n",
       "\t<tr><th scope=row>23</th><td>TACCA</td><td> 417.7311</td><td> 2.312357</td><td>0.24561431</td><td> 3.555553e-08</td><td> 1.406762e-07</td><td> TRUE</td><td>CCACGTGG          </td><td>MYC     </td><td>MAX::MYC              </td><td>MYC                   </td><td>MYCN                                                                               </td></tr>\n",
       "\t<tr><th scope=row>24</th><td>CCAGA</td><td>7049.5226</td><td>-1.295493</td><td>0.05639042</td><td> 1.303549e-07</td><td> 4.942624e-07</td><td> TRUE</td><td>CACGCCCACGCACT    </td><td>EGR3    </td><td>EGR1\\EGR2\\EGR3\\EGR4</td><td>                      </td><td>                                                                                   </td></tr>\n",
       "\t<tr><th scope=row>25</th><td>GTTCC</td><td> 441.8878</td><td> 2.377045</td><td>0.27511251</td><td> 2.086835e-07</td><td> 7.596078e-07</td><td> TRUE</td><td>ATGCATAATTAATGAG  </td><td>POU4F1  </td><td>POU4F1\\POU4F2\\POU4F3</td><td>POU6F1\\POU6F2        </td><td>                                                                                   </td></tr>\n",
       "\t<tr><th scope=row>26</th><td>CAGTG</td><td> 282.8383</td><td> 2.470245</td><td>0.32784217</td><td> 2.668954e-06</td><td> 9.341338e-06</td><td> TRUE</td><td>AATGTATCAATT      </td><td>DMRT1_v2</td><td>DMRT1                 </td><td>DMRT3                 </td><td>DMRTA2                                                                             </td></tr>\n",
       "\t<tr><th scope=row>27</th><td>TCGAT</td><td> 556.9120</td><td>-2.188642</td><td>0.27957539</td><td> 8.300675e-06</td><td> 2.797635e-05</td><td> TRUE</td><td>AACAGCTGTT        </td><td>ASCL1   </td><td>ATOH1                 </td><td>MSC                   </td><td>MYF5\\MYF6                                                                         </td></tr>\n",
       "\t<tr><th scope=row>28</th><td>CGTTC</td><td> 420.8926</td><td> 2.104146</td><td>0.30274575</td><td> 1.151451e-04</td><td> 3.742216e-04</td><td> TRUE</td><td>GCGACCACCGAA      </td><td>ZBTB7B  </td><td>ZBTB7B\\ZBTB7C        </td><td>                      </td><td>                                                                                   </td></tr>\n",
       "\t<tr><th scope=row>29</th><td>TCTGG</td><td> 508.0138</td><td> 1.366085</td><td>0.15302272</td><td> 1.253507e-02</td><td> 3.933420e-02</td><td>FALSE</td><td>AGGTCAAAGGTCA     </td><td>NR2F2   </td><td>DR1                   </td><td>NR2F2                 </td><td>NR2F1\\NR2F2\\NR2F6                                                                </td></tr>\n",
       "\t<tr><th scope=row>30</th><td>CACAG</td><td> 613.5659</td><td>-1.955968</td><td>0.49446449</td><td> 2.231340e-02</td><td> 6.768399e-02</td><td>FALSE</td><td>ACCGTTAACGGT      </td><td>MYBL1   </td><td>MYBL1\\MYBL2          </td><td>                      </td><td>                                                                                   </td></tr>\n",
       "</tbody>\n",
       "</table>\n"
      ],
      "text/latex": [
       "A data.frame: 30 × 12\n",
       "\\begin{tabular}{r|llllllllllll}\n",
       "  & rowname & baseMean & log2FoldChange & lfcSE & pvalue & padj & threshold & motif & identifier & V4 & V5 & V6\\\\\n",
       "  & <chr> & <dbl> & <dbl> & <dbl> & <dbl> & <dbl> & <lgl> & <chr> & <chr> & <chr> & <chr> & <chr>\\\\\n",
       "\\hline\n",
       "\t1 & TGTTG &  924.0773 &  5.901583 & 0.16922608 & 7.841712e-185 & 7.135958e-183 &  TRUE & GGGACTTTCC         & NFKB\\_v1  & NFKB                   & REL                    & NFKB1\\textbackslash{}RELA                                                                        \\\\\n",
       "\t2 & TAGAG & 1971.1015 & -4.063852 & 0.13840446 & 6.576530e-109 & 2.992321e-107 &  TRUE & AACACTACCATTGTT    & SOX\\_v1   & Soxs                   & Sox1\\textbackslash{}Sox11\\textbackslash{}SOX21     & SOX2\\textbackslash{}Sox3\\textbackslash{}SOX4\\textbackslash{}Sox6\\textbackslash{}SOX8\\textbackslash{}SOX9\\textbackslash{}SOX10\\textbackslash{}SOX12\\textbackslash{}SOX13\\textbackslash{}SOX14\\textbackslash{}SOX15\\textbackslash{}Sox17\\textbackslash{}SOX18\\\\\n",
       "\t3 & GTGCA & 1594.3595 & -3.648982 & 0.17197623 &  3.163320e-54 &  9.595403e-53 &  TRUE & CTGTTTCT           & PRDM4    & PRDM4                  &                        &                                                                                    \\\\\n",
       "\t4 & TAAGG & 3678.3056 & -3.368368 & 0.16349913 &  3.954651e-48 &  8.996832e-47 &  TRUE & CCATTGTTCGGT       & SOX\\_v2   & Soxs                   & Sox1\\textbackslash{}Sox11\\textbackslash{}SOX21     & SOX2\\textbackslash{}Sox3\\textbackslash{}SOX4\\textbackslash{}Sox6\\textbackslash{}SOX8\\textbackslash{}SOX9\\textbackslash{}SOX10\\textbackslash{}SOX12\\textbackslash{}SOX13\\textbackslash{}SOX14\\textbackslash{}SOX15\\textbackslash{}Sox17\\textbackslash{}SOX18\\\\\n",
       "\t5 & GTAAG &  909.8611 &  3.899018 & 0.20476627 &  3.318494e-46 &  6.039660e-45 &  TRUE & TACCCACAATGCATTG   & ZNF143   & ZNF143                 &                        &                                                                                    \\\\\n",
       "\t6 & TATGC & 1662.2702 &  2.320009 & 0.10324606 &  8.023320e-38 &  1.216870e-36 &  TRUE & CACGTGAC           & BHLHE40  & BHLHE40                & TFE3                   & Creb3l2                                                                            \\\\\n",
       "\t7 & GTAGT & 5301.1111 &  1.772495 & 0.06986319 &  1.192097e-28 &  1.549726e-27 &  TRUE & GATGACTCATC        & AP-1\\_TRE & TRE                    & FOS::JUNB              & FOSL2::JUN                                                                         \\\\\n",
       "\t8 & TTGCC & 4657.8292 &  2.011274 & 0.09524894 &  1.429397e-26 &  1.625939e-25 &  TRUE & GTTACGTAAT         & NFIL3    & NFIL3                  & HLF                    & TEF/DBP heterodimer                                                                \\\\\n",
       "\t9 & CGTAT & 4747.6983 & -2.009888 & 0.10966854 &  1.590759e-20 &  1.608434e-19 &  TRUE & GACCCCCCGCTGTGC    & ZIC3     & ZIC1\\textbackslash{}ZIC3\\textbackslash{}ZIC4\\textbackslash{}ZIC5 &                        &                                                                                    \\\\\n",
       "\t10 & CCTTG & 4844.2608 & -1.920016 & 0.10407132 &  4.930593e-19 &  4.486840e-18 &  TRUE & TCTGTGGTTT         & RUNX1    & RUNX1                  &                        &                                                                                    \\\\\n",
       "\t11 & TACTG & 1364.9247 & -1.862108 & 0.10251688 &  2.310349e-17 &  1.911289e-16 &  TRUE & GTACGTGC           & HIF1A    & HIF1A                  & HES                    & HRE from other plasmid gtcgtgcaggacgtgaca                                          \\\\\n",
       "\t12 & CTACC &  158.7873 &  3.494131 & 0.31470265 &  5.491822e-16 &  4.164632e-15 &  TRUE & TTCACACCTAGGTGTGAA & TBX\\_v2   & TBX19                  & TBXT                   &                                                                                    \\\\\n",
       "\t13 & TGTCC &  526.7831 &  2.299724 & 0.17239112 &  1.830638e-14 &  1.281447e-13 &  TRUE & GGGAAATTCC         & NFKB\\_v2  & NFKB                   & REL                    & NFKB1\\textbackslash{}RELA                                                                        \\\\\n",
       "\t14 & GCTAT & 2601.3299 & -2.650669 & 0.22124028 &  2.582418e-14 &  1.566667e-13 &  TRUE & GGCTGTTCC          & PRDM4\\_v2 & PRDM4                  & ZNF341                 & Rhox11                                                                             \\\\\n",
       "\t15 & TGACT & 1737.6820 &  1.618525 & 0.08172908 &  2.519610e-14 &  1.566667e-13 &  TRUE & ACTTCCGGGTT        & ETS\\_v2   & ETS\\_family             & ETV2\\textbackslash{}ETV3\\textbackslash{}ETV5\\textbackslash{}ETV6 & ELF1\\textbackslash{}ELF2\\textbackslash{}ELF3\\textbackslash{}ELF4\\textbackslash{}ELF5                                                       \\\\\n",
       "\t16 & CCTCA & 3243.7390 & -1.518022 & 0.07568163 &  4.917418e-12 &  2.796781e-11 &  TRUE & GTACCCGCAT         & GCM1     & GCM1\\textbackslash{}GCM2             &                        &                                                                                    \\\\\n",
       "\t17 & TACGT & 3224.9368 &  1.636184 & 0.10014241 &  1.334715e-10 &  7.144649e-10 &  TRUE & GTCATGTGAC         & MITF     & MITF                   & SREBF1                 & USF1\\textbackslash{}USF2                                                                         \\\\\n",
       "\t18 & TCGTA & 1055.7172 & -2.523379 & 0.24502609 &  1.596984e-10 &  8.073639e-10 &  TRUE & AACTAGGTCA         & RAR\\_v5   & DR8                    &                        &                                                                                    \\\\\n",
       "\t19 & TTACG &  561.0381 &  2.070020 & 0.17726800 &  7.216064e-10 &  3.456115e-09 &  TRUE & TGACCATATATGGTCA   & SRF      & SRF                    &                        &                                                                                    \\\\\n",
       "\t20 & TAGTC & 3274.7151 & -1.665688 & 0.10996562 &  8.973707e-10 &  4.083037e-09 &  TRUE & GGTCGTAAAA         & HOXB9    & HOXA9\\textbackslash{}HOXA10\\textbackslash{}HOXA11  & HOXB9                  & HOXC9\\textbackslash{}HOXC10\\textbackslash{}HOXC11\\textbackslash{}HOXC12\\textbackslash{}HOXC13                                              \\\\\n",
       "\t21 & CTGGA &  454.9613 & -3.000483 & 0.35945565 &  5.745483e-09 &  2.489709e-08 &  TRUE & CTATCGCGACATA      & ZBED1    & ZBED1                  &                        &                                                                                    \\\\\n",
       "\t22 & CATCC &  340.9486 &  2.560953 & 0.28239794 &  1.069620e-08 &  4.424336e-08 &  TRUE & TTTCCCAGAA         & STAT\\_v2  & STAT1\\textbackslash{}STAT3\\textbackslash{}STAT4    & Stat5a::Stat5b         &                                                                                    \\\\\n",
       "\t23 & TACCA &  417.7311 &  2.312357 & 0.24561431 &  3.555553e-08 &  1.406762e-07 &  TRUE & CCACGTGG           & MYC      & MAX::MYC               & MYC                    & MYCN                                                                               \\\\\n",
       "\t24 & CCAGA & 7049.5226 & -1.295493 & 0.05639042 &  1.303549e-07 &  4.942624e-07 &  TRUE & CACGCCCACGCACT     & EGR3     & EGR1\\textbackslash{}EGR2\\textbackslash{}EGR3\\textbackslash{}EGR4 &                        &                                                                                    \\\\\n",
       "\t25 & GTTCC &  441.8878 &  2.377045 & 0.27511251 &  2.086835e-07 &  7.596078e-07 &  TRUE & ATGCATAATTAATGAG   & POU4F1   & POU4F1\\textbackslash{}POU4F2\\textbackslash{}POU4F3 & POU6F1\\textbackslash{}POU6F2         &                                                                                    \\\\\n",
       "\t26 & CAGTG &  282.8383 &  2.470245 & 0.32784217 &  2.668954e-06 &  9.341338e-06 &  TRUE & AATGTATCAATT       & DMRT1\\_v2 & DMRT1                  & DMRT3                  & DMRTA2                                                                             \\\\\n",
       "\t27 & TCGAT &  556.9120 & -2.188642 & 0.27957539 &  8.300675e-06 &  2.797635e-05 &  TRUE & AACAGCTGTT         & ASCL1    & ATOH1                  & MSC                    & MYF5\\textbackslash{}MYF6                                                                         \\\\\n",
       "\t28 & CGTTC &  420.8926 &  2.104146 & 0.30274575 &  1.151451e-04 &  3.742216e-04 &  TRUE & GCGACCACCGAA       & ZBTB7B   & ZBTB7B\\textbackslash{}ZBTB7C         &                        &                                                                                    \\\\\n",
       "\t29 & TCTGG &  508.0138 &  1.366085 & 0.15302272 &  1.253507e-02 &  3.933420e-02 & FALSE & AGGTCAAAGGTCA      & NR2F2    & DR1                    & NR2F2                  & NR2F1\\textbackslash{}NR2F2\\textbackslash{}NR2F6                                                                \\\\\n",
       "\t30 & CACAG &  613.5659 & -1.955968 & 0.49446449 &  2.231340e-02 &  6.768399e-02 & FALSE & ACCGTTAACGGT       & MYBL1    & MYBL1\\textbackslash{}MYBL2           &                        &                                                                                    \\\\\n",
       "\\end{tabular}\n"
      ],
      "text/markdown": [
       "\n",
       "A data.frame: 30 × 12\n",
       "\n",
       "| <!--/--> | rowname &lt;chr&gt; | baseMean &lt;dbl&gt; | log2FoldChange &lt;dbl&gt; | lfcSE &lt;dbl&gt; | pvalue &lt;dbl&gt; | padj &lt;dbl&gt; | threshold &lt;lgl&gt; | motif &lt;chr&gt; | identifier &lt;chr&gt; | V4 &lt;chr&gt; | V5 &lt;chr&gt; | V6 &lt;chr&gt; |\n",
       "|---|---|---|---|---|---|---|---|---|---|---|---|---|\n",
       "| 1 | TGTTG |  924.0773 |  5.901583 | 0.16922608 | 7.841712e-185 | 7.135958e-183 |  TRUE | GGGACTTTCC         | NFKB_v1  | NFKB                   | REL                    | NFKB1\\RELA                                                                         |\n",
       "| 2 | TAGAG | 1971.1015 | -4.063852 | 0.13840446 | 6.576530e-109 | 2.992321e-107 |  TRUE | AACACTACCATTGTT    | SOX_v1   | Soxs                   | Sox1\\Sox11\\SOX21     | SOX2\\Sox3\\SOX4\\Sox6\\SOX8\\SOX9\\SOX10\\SOX12\\SOX13\\SOX14\\SOX15\\Sox17\\SOX18 |\n",
       "| 3 | GTGCA | 1594.3595 | -3.648982 | 0.17197623 |  3.163320e-54 |  9.595403e-53 |  TRUE | CTGTTTCT           | PRDM4    | PRDM4                  | <!----> | <!----> |\n",
       "| 4 | TAAGG | 3678.3056 | -3.368368 | 0.16349913 |  3.954651e-48 |  8.996832e-47 |  TRUE | CCATTGTTCGGT       | SOX_v2   | Soxs                   | Sox1\\Sox11\\SOX21     | SOX2\\Sox3\\SOX4\\Sox6\\SOX8\\SOX9\\SOX10\\SOX12\\SOX13\\SOX14\\SOX15\\Sox17\\SOX18 |\n",
       "| 5 | GTAAG |  909.8611 |  3.899018 | 0.20476627 |  3.318494e-46 |  6.039660e-45 |  TRUE | TACCCACAATGCATTG   | ZNF143   | ZNF143                 | <!----> | <!----> |\n",
       "| 6 | TATGC | 1662.2702 |  2.320009 | 0.10324606 |  8.023320e-38 |  1.216870e-36 |  TRUE | CACGTGAC           | BHLHE40  | BHLHE40                | TFE3                   | Creb3l2                                                                             |\n",
       "| 7 | GTAGT | 5301.1111 |  1.772495 | 0.06986319 |  1.192097e-28 |  1.549726e-27 |  TRUE | GATGACTCATC        | AP-1_TRE | TRE                    | FOS::JUNB              | FOSL2::JUN                                                                          |\n",
       "| 8 | TTGCC | 4657.8292 |  2.011274 | 0.09524894 |  1.429397e-26 |  1.625939e-25 |  TRUE | GTTACGTAAT         | NFIL3    | NFIL3                  | HLF                    | TEF/DBP heterodimer                                                                 |\n",
       "| 9 | CGTAT | 4747.6983 | -2.009888 | 0.10966854 |  1.590759e-20 |  1.608434e-19 |  TRUE | GACCCCCCGCTGTGC    | ZIC3     | ZIC1\\ZIC3\\ZIC4\\ZIC5 | <!----> | <!----> |\n",
       "| 10 | CCTTG | 4844.2608 | -1.920016 | 0.10407132 |  4.930593e-19 |  4.486840e-18 |  TRUE | TCTGTGGTTT         | RUNX1    | RUNX1                  | <!----> | <!----> |\n",
       "| 11 | TACTG | 1364.9247 | -1.862108 | 0.10251688 |  2.310349e-17 |  1.911289e-16 |  TRUE | GTACGTGC           | HIF1A    | HIF1A                  | HES                    | HRE from other plasmid gtcgtgcaggacgtgaca                                           |\n",
       "| 12 | CTACC |  158.7873 |  3.494131 | 0.31470265 |  5.491822e-16 |  4.164632e-15 |  TRUE | TTCACACCTAGGTGTGAA | TBX_v2   | TBX19                  | TBXT                   | <!----> |\n",
       "| 13 | TGTCC |  526.7831 |  2.299724 | 0.17239112 |  1.830638e-14 |  1.281447e-13 |  TRUE | GGGAAATTCC         | NFKB_v2  | NFKB                   | REL                    | NFKB1\\RELA                                                                         |\n",
       "| 14 | GCTAT | 2601.3299 | -2.650669 | 0.22124028 |  2.582418e-14 |  1.566667e-13 |  TRUE | GGCTGTTCC          | PRDM4_v2 | PRDM4                  | ZNF341                 | Rhox11                                                                              |\n",
       "| 15 | TGACT | 1737.6820 |  1.618525 | 0.08172908 |  2.519610e-14 |  1.566667e-13 |  TRUE | ACTTCCGGGTT        | ETS_v2   | ETS_family             | ETV2\\ETV3\\ETV5\\ETV6 | ELF1\\ELF2\\ELF3\\ELF4\\ELF5                                                        |\n",
       "| 16 | CCTCA | 3243.7390 | -1.518022 | 0.07568163 |  4.917418e-12 |  2.796781e-11 |  TRUE | GTACCCGCAT         | GCM1     | GCM1\\GCM2             | <!----> | <!----> |\n",
       "| 17 | TACGT | 3224.9368 |  1.636184 | 0.10014241 |  1.334715e-10 |  7.144649e-10 |  TRUE | GTCATGTGAC         | MITF     | MITF                   | SREBF1                 | USF1\\USF2                                                                          |\n",
       "| 18 | TCGTA | 1055.7172 | -2.523379 | 0.24502609 |  1.596984e-10 |  8.073639e-10 |  TRUE | AACTAGGTCA         | RAR_v5   | DR8                    | <!----> | <!----> |\n",
       "| 19 | TTACG |  561.0381 |  2.070020 | 0.17726800 |  7.216064e-10 |  3.456115e-09 |  TRUE | TGACCATATATGGTCA   | SRF      | SRF                    | <!----> | <!----> |\n",
       "| 20 | TAGTC | 3274.7151 | -1.665688 | 0.10996562 |  8.973707e-10 |  4.083037e-09 |  TRUE | GGTCGTAAAA         | HOXB9    | HOXA9\\HOXA10\\HOXA11  | HOXB9                  | HOXC9\\HOXC10\\HOXC11\\HOXC12\\HOXC13                                               |\n",
       "| 21 | CTGGA |  454.9613 | -3.000483 | 0.35945565 |  5.745483e-09 |  2.489709e-08 |  TRUE | CTATCGCGACATA      | ZBED1    | ZBED1                  | <!----> | <!----> |\n",
       "| 22 | CATCC |  340.9486 |  2.560953 | 0.28239794 |  1.069620e-08 |  4.424336e-08 |  TRUE | TTTCCCAGAA         | STAT_v2  | STAT1\\STAT3\\STAT4    | Stat5a::Stat5b         | <!----> |\n",
       "| 23 | TACCA |  417.7311 |  2.312357 | 0.24561431 |  3.555553e-08 |  1.406762e-07 |  TRUE | CCACGTGG           | MYC      | MAX::MYC               | MYC                    | MYCN                                                                                |\n",
       "| 24 | CCAGA | 7049.5226 | -1.295493 | 0.05639042 |  1.303549e-07 |  4.942624e-07 |  TRUE | CACGCCCACGCACT     | EGR3     | EGR1\\EGR2\\EGR3\\EGR4 | <!----> | <!----> |\n",
       "| 25 | GTTCC |  441.8878 |  2.377045 | 0.27511251 |  2.086835e-07 |  7.596078e-07 |  TRUE | ATGCATAATTAATGAG   | POU4F1   | POU4F1\\POU4F2\\POU4F3 | POU6F1\\POU6F2         | <!----> |\n",
       "| 26 | CAGTG |  282.8383 |  2.470245 | 0.32784217 |  2.668954e-06 |  9.341338e-06 |  TRUE | AATGTATCAATT       | DMRT1_v2 | DMRT1                  | DMRT3                  | DMRTA2                                                                              |\n",
       "| 27 | TCGAT |  556.9120 | -2.188642 | 0.27957539 |  8.300675e-06 |  2.797635e-05 |  TRUE | AACAGCTGTT         | ASCL1    | ATOH1                  | MSC                    | MYF5\\MYF6                                                                          |\n",
       "| 28 | CGTTC |  420.8926 |  2.104146 | 0.30274575 |  1.151451e-04 |  3.742216e-04 |  TRUE | GCGACCACCGAA       | ZBTB7B   | ZBTB7B\\ZBTB7C         | <!----> | <!----> |\n",
       "| 29 | TCTGG |  508.0138 |  1.366085 | 0.15302272 |  1.253507e-02 |  3.933420e-02 | FALSE | AGGTCAAAGGTCA      | NR2F2    | DR1                    | NR2F2                  | NR2F1\\NR2F2\\NR2F6                                                                 |\n",
       "| 30 | CACAG |  613.5659 | -1.955968 | 0.49446449 |  2.231340e-02 |  6.768399e-02 | FALSE | ACCGTTAACGGT       | MYBL1    | MYBL1\\MYBL2           | <!----> | <!----> |\n",
       "\n"
      ],
      "text/plain": [
       "   rowname baseMean  log2FoldChange lfcSE      pvalue        padj         \n",
       "1  TGTTG    924.0773  5.901583      0.16922608 7.841712e-185 7.135958e-183\n",
       "2  TAGAG   1971.1015 -4.063852      0.13840446 6.576530e-109 2.992321e-107\n",
       "3  GTGCA   1594.3595 -3.648982      0.17197623  3.163320e-54  9.595403e-53\n",
       "4  TAAGG   3678.3056 -3.368368      0.16349913  3.954651e-48  8.996832e-47\n",
       "5  GTAAG    909.8611  3.899018      0.20476627  3.318494e-46  6.039660e-45\n",
       "6  TATGC   1662.2702  2.320009      0.10324606  8.023320e-38  1.216870e-36\n",
       "7  GTAGT   5301.1111  1.772495      0.06986319  1.192097e-28  1.549726e-27\n",
       "8  TTGCC   4657.8292  2.011274      0.09524894  1.429397e-26  1.625939e-25\n",
       "9  CGTAT   4747.6983 -2.009888      0.10966854  1.590759e-20  1.608434e-19\n",
       "10 CCTTG   4844.2608 -1.920016      0.10407132  4.930593e-19  4.486840e-18\n",
       "11 TACTG   1364.9247 -1.862108      0.10251688  2.310349e-17  1.911289e-16\n",
       "12 CTACC    158.7873  3.494131      0.31470265  5.491822e-16  4.164632e-15\n",
       "13 TGTCC    526.7831  2.299724      0.17239112  1.830638e-14  1.281447e-13\n",
       "14 GCTAT   2601.3299 -2.650669      0.22124028  2.582418e-14  1.566667e-13\n",
       "15 TGACT   1737.6820  1.618525      0.08172908  2.519610e-14  1.566667e-13\n",
       "16 CCTCA   3243.7390 -1.518022      0.07568163  4.917418e-12  2.796781e-11\n",
       "17 TACGT   3224.9368  1.636184      0.10014241  1.334715e-10  7.144649e-10\n",
       "18 TCGTA   1055.7172 -2.523379      0.24502609  1.596984e-10  8.073639e-10\n",
       "19 TTACG    561.0381  2.070020      0.17726800  7.216064e-10  3.456115e-09\n",
       "20 TAGTC   3274.7151 -1.665688      0.10996562  8.973707e-10  4.083037e-09\n",
       "21 CTGGA    454.9613 -3.000483      0.35945565  5.745483e-09  2.489709e-08\n",
       "22 CATCC    340.9486  2.560953      0.28239794  1.069620e-08  4.424336e-08\n",
       "23 TACCA    417.7311  2.312357      0.24561431  3.555553e-08  1.406762e-07\n",
       "24 CCAGA   7049.5226 -1.295493      0.05639042  1.303549e-07  4.942624e-07\n",
       "25 GTTCC    441.8878  2.377045      0.27511251  2.086835e-07  7.596078e-07\n",
       "26 CAGTG    282.8383  2.470245      0.32784217  2.668954e-06  9.341338e-06\n",
       "27 TCGAT    556.9120 -2.188642      0.27957539  8.300675e-06  2.797635e-05\n",
       "28 CGTTC    420.8926  2.104146      0.30274575  1.151451e-04  3.742216e-04\n",
       "29 TCTGG    508.0138  1.366085      0.15302272  1.253507e-02  3.933420e-02\n",
       "30 CACAG    613.5659 -1.955968      0.49446449  2.231340e-02  6.768399e-02\n",
       "   threshold motif              identifier V4                    \n",
       "1   TRUE     GGGACTTTCC         NFKB_v1    NFKB                  \n",
       "2   TRUE     AACACTACCATTGTT    SOX_v1     Soxs                  \n",
       "3   TRUE     CTGTTTCT           PRDM4      PRDM4                 \n",
       "4   TRUE     CCATTGTTCGGT       SOX_v2     Soxs                  \n",
       "5   TRUE     TACCCACAATGCATTG   ZNF143     ZNF143                \n",
       "6   TRUE     CACGTGAC           BHLHE40    BHLHE40               \n",
       "7   TRUE     GATGACTCATC        AP-1_TRE   TRE                   \n",
       "8   TRUE     GTTACGTAAT         NFIL3      NFIL3                 \n",
       "9   TRUE     GACCCCCCGCTGTGC    ZIC3       ZIC1\\\\ZIC3\\\\ZIC4\\\\ZIC5\n",
       "10  TRUE     TCTGTGGTTT         RUNX1      RUNX1                 \n",
       "11  TRUE     GTACGTGC           HIF1A      HIF1A                 \n",
       "12  TRUE     TTCACACCTAGGTGTGAA TBX_v2     TBX19                 \n",
       "13  TRUE     GGGAAATTCC         NFKB_v2    NFKB                  \n",
       "14  TRUE     GGCTGTTCC          PRDM4_v2   PRDM4                 \n",
       "15  TRUE     ACTTCCGGGTT        ETS_v2     ETS_family            \n",
       "16  TRUE     GTACCCGCAT         GCM1       GCM1\\\\GCM2            \n",
       "17  TRUE     GTCATGTGAC         MITF       MITF                  \n",
       "18  TRUE     AACTAGGTCA         RAR_v5     DR8                   \n",
       "19  TRUE     TGACCATATATGGTCA   SRF        SRF                   \n",
       "20  TRUE     GGTCGTAAAA         HOXB9      HOXA9\\\\HOXA10\\\\HOXA11 \n",
       "21  TRUE     CTATCGCGACATA      ZBED1      ZBED1                 \n",
       "22  TRUE     TTTCCCAGAA         STAT_v2    STAT1\\\\STAT3\\\\STAT4   \n",
       "23  TRUE     CCACGTGG           MYC        MAX::MYC              \n",
       "24  TRUE     CACGCCCACGCACT     EGR3       EGR1\\\\EGR2\\\\EGR3\\\\EGR4\n",
       "25  TRUE     ATGCATAATTAATGAG   POU4F1     POU4F1\\\\POU4F2\\\\POU4F3\n",
       "26  TRUE     AATGTATCAATT       DMRT1_v2   DMRT1                 \n",
       "27  TRUE     AACAGCTGTT         ASCL1      ATOH1                 \n",
       "28  TRUE     GCGACCACCGAA       ZBTB7B     ZBTB7B\\\\ZBTB7C        \n",
       "29 FALSE     AGGTCAAAGGTCA      NR2F2      DR1                   \n",
       "30 FALSE     ACCGTTAACGGT       MYBL1      MYBL1\\\\MYBL2          \n",
       "   V5                    \n",
       "1  REL                   \n",
       "2  Sox1\\\\Sox11\\\\SOX21    \n",
       "3                        \n",
       "4  Sox1\\\\Sox11\\\\SOX21    \n",
       "5                        \n",
       "6  TFE3                  \n",
       "7  FOS::JUNB             \n",
       "8  HLF                   \n",
       "9                        \n",
       "10                       \n",
       "11 HES                   \n",
       "12 TBXT                  \n",
       "13 REL                   \n",
       "14 ZNF341                \n",
       "15 ETV2\\\\ETV3\\\\ETV5\\\\ETV6\n",
       "16                       \n",
       "17 SREBF1                \n",
       "18                       \n",
       "19                       \n",
       "20 HOXB9                 \n",
       "21                       \n",
       "22 Stat5a::Stat5b        \n",
       "23 MYC                   \n",
       "24                       \n",
       "25 POU6F1\\\\POU6F2        \n",
       "26 DMRT3                 \n",
       "27 MSC                   \n",
       "28                       \n",
       "29 NR2F2                 \n",
       "30                       \n",
       "   V6                                                                                 \n",
       "1  NFKB1\\\\RELA                                                                        \n",
       "2  SOX2\\\\Sox3\\\\SOX4\\\\Sox6\\\\SOX8\\\\SOX9\\\\SOX10\\\\SOX12\\\\SOX13\\\\SOX14\\\\SOX15\\\\Sox17\\\\SOX18\n",
       "3                                                                                     \n",
       "4  SOX2\\\\Sox3\\\\SOX4\\\\Sox6\\\\SOX8\\\\SOX9\\\\SOX10\\\\SOX12\\\\SOX13\\\\SOX14\\\\SOX15\\\\Sox17\\\\SOX18\n",
       "5                                                                                     \n",
       "6  Creb3l2                                                                            \n",
       "7  FOSL2::JUN                                                                         \n",
       "8  TEF/DBP heterodimer                                                                \n",
       "9                                                                                     \n",
       "10                                                                                    \n",
       "11 HRE from other plasmid gtcgtgcaggacgtgaca                                          \n",
       "12                                                                                    \n",
       "13 NFKB1\\\\RELA                                                                        \n",
       "14 Rhox11                                                                             \n",
       "15 ELF1\\\\ELF2\\\\ELF3\\\\ELF4\\\\ELF5                                                       \n",
       "16                                                                                    \n",
       "17 USF1\\\\USF2                                                                         \n",
       "18                                                                                    \n",
       "19                                                                                    \n",
       "20 HOXC9\\\\HOXC10\\\\HOXC11\\\\HOXC12\\\\HOXC13                                              \n",
       "21                                                                                    \n",
       "22                                                                                    \n",
       "23 MYCN                                                                               \n",
       "24                                                                                    \n",
       "25                                                                                    \n",
       "26 DMRTA2                                                                             \n",
       "27 MYF5\\\\MYF6                                                                         \n",
       "28                                                                                    \n",
       "29 NR2F1\\\\NR2F2\\\\NR2F6                                                                \n",
       "30                                                                                    "
      ]
     },
     "metadata": {},
     "output_type": "display_data"
    }
   ],
   "source": [
    "comp = 'K562'\n",
    "res_unshrunken <- results(dds, contrast=c(\"condition\",comp,\"mESC\"), alpha = 0.05, lfcThreshold = 1)\n",
    "res <- lfcShrink(dds, coef=glue('condition_{comp}_vs_mESC'), res=res_unshrunken)\n",
    "res$rowname <- rownames(res)\n",
    "res_final <- res %>%\n",
    "  data.frame() %>% \n",
    "  as_tibble()%>% arrange(padj)%>% mutate(threshold = padj < 1*1e-3)\n",
    "res_final <- merge(res_final,design_new,by.x='rowname',by.y='barcode')%>% arrange(padj)\n",
    "#res_final[0:30,]"
   ]
  },
  {
   "cell_type": "code",
   "execution_count": 88,
   "id": "c978e69d-de62-41e9-9456-2134d697c45c",
   "metadata": {
    "tags": []
   },
   "outputs": [
    {
     "name": "stderr",
     "output_type": "stream",
     "text": [
      "Warning message:\n",
      "“\u001b[1m\u001b[22mThe `size` argument of `element_line()` is deprecated as of ggplot2 3.4.0.\n",
      "\u001b[36mℹ\u001b[39m Please use the `linewidth` argument instead.”\n"
     ]
    },
    {
     "data": {
      "text/html": [
       "<strong>png:</strong> 2"
      ],
      "text/latex": [
       "\\textbf{png:} 2"
      ],
      "text/markdown": [
       "**png:** 2"
      ],
      "text/plain": [
       "png \n",
       "  2 "
      ]
     },
     "metadata": {},
     "output_type": "display_data"
    }
   ],
   "source": [
    "pdf(file = \"../Figure5/figs/syn_rec_des_k562.pdf\",   # The directory you want to save the file in\n",
    "    width = 2, # The width of the plot in inches\n",
    "    height = 1.5) # The height of the plot in inches\n",
    "p1 <- ggplot(res_final, aes(x = log2FoldChange, y = -log10(padj))) +\n",
    "        geom_point(aes(colour = threshold),size=1 ) + \n",
    "        scale_color_manual(values=c(\"#5C5C5C\", \"#FB8072\"))+\n",
    "        xlab(\"\") + \n",
    "        ylab(\"\") + \n",
    "        scale_x_continuous(limits = c(-6,6))+\n",
    "        scale_y_continuous(limits = c(0., 200))+ \n",
    "        theme_classic() + \n",
    "        theme(legend.position=\"none\",\n",
    "              axis.text = element_text(size = 6),\n",
    "              axis.title = element_text(size = 7),\n",
    "              axis.ticks.length=unit(2,\"pt\"),\n",
    "              axis.ticks = element_line(size=72.27/96*0.5),\n",
    "              axis.line = element_line(color=\"black\", size = 72.27/96*0.5))\n",
    "p1\n",
    "dev.off()"
   ]
  },
  {
   "cell_type": "markdown",
   "id": "c168dd6e-36a3-4395-976c-3a24d96a01cf",
   "metadata": {
    "jp-MarkdownHeadingCollapsed": true,
    "tags": []
   },
   "source": [
    "## mESC vs Hek293"
   ]
  },
  {
   "cell_type": "code",
   "execution_count": 90,
   "id": "315f7f0e-0c9c-4b18-b545-08de9a643fbb",
   "metadata": {
    "tags": []
   },
   "outputs": [
    {
     "name": "stderr",
     "output_type": "stream",
     "text": [
      "using 'apeglm' for LFC shrinkage. If used in published research, please cite:\n",
      "    Zhu, A., Ibrahim, J.G., Love, M.I. (2018) Heavy-tailed prior distributions for\n",
      "    sequence count data: removing the noise and preserving large differences.\n",
      "    Bioinformatics. https://doi.org/10.1093/bioinformatics/bty895\n",
      "\n"
     ]
    }
   ],
   "source": [
    "comp = 'Hek293'\n",
    "res_unshrunken <- results(dds, contrast=c(\"condition\",comp,\"mESC\"), alpha = 0.05, lfcThreshold = 1)\n",
    "res <- lfcShrink(dds, coef=glue('condition_{comp}_vs_mESC'), res=res_unshrunken)\n",
    "res$rowname <- rownames(res)\n",
    "res_final <- res %>%\n",
    "  data.frame() %>% \n",
    "  as_tibble()%>% arrange(padj)%>% mutate(threshold = padj < 1*1e-3)\n",
    "res_final <- merge(res_final,design_new,by.x='rowname',by.y='barcode')%>% arrange(padj)\n",
    "#res_final[0:30,]"
   ]
  },
  {
   "cell_type": "code",
   "execution_count": 91,
   "id": "250a35a2-647e-4730-b410-370ebf945fd6",
   "metadata": {
    "tags": []
   },
   "outputs": [
    {
     "data": {
      "text/html": [
       "<strong>png:</strong> 2"
      ],
      "text/latex": [
       "\\textbf{png:} 2"
      ],
      "text/markdown": [
       "**png:** 2"
      ],
      "text/plain": [
       "png \n",
       "  2 "
      ]
     },
     "metadata": {},
     "output_type": "display_data"
    }
   ],
   "source": [
    "pdf(file = \"../Figure5/figs/syn_rec_des_hek293.pdf\",   # The directory you want to save the file in\n",
    "    width = 2, # The width of the plot in inches\n",
    "    height = 1.5) # The height of the plot in inches\n",
    "p1 <- ggplot(res_final, aes(x = log2FoldChange, y = -log10(padj))) +\n",
    "        geom_point(aes(colour = threshold),size=1 ) + \n",
    "        scale_color_manual(values=c(\"#5C5C5C\", \"#FB8072\"))+\n",
    "        xlab(\"\") + \n",
    "        ylab(\"\") + \n",
    "        scale_x_continuous(limits = c(-4,4))+\n",
    "        scale_y_continuous(limits = c(0., 125))+ \n",
    "        theme_classic() + \n",
    "        theme(legend.position=\"none\",\n",
    "              axis.text = element_text(size = 6),\n",
    "              axis.title = element_text(size = 7),\n",
    "              axis.ticks.length=unit(2,\"pt\"),\n",
    "              axis.ticks = element_line(size=72.27/96*0.5),\n",
    "              axis.line = element_line(color=\"black\", size = 72.27/96*0.5))\n",
    "p1\n",
    "dev.off()"
   ]
  },
  {
   "cell_type": "markdown",
   "id": "c6f31e5e-b754-4ef8-ba7f-78126a3e057d",
   "metadata": {
    "tags": []
   },
   "source": [
    "## Hek293 vs K562"
   ]
  },
  {
   "cell_type": "code",
   "execution_count": 3,
   "id": "7d1664cb-13f7-49a7-bd02-6af52b8d0f36",
   "metadata": {
    "tags": []
   },
   "outputs": [
    {
     "name": "stderr",
     "output_type": "stream",
     "text": [
      "converting counts to integer mode\n",
      "\n",
      "Warning message in DESeqDataSet(se, design = design, ignoreRank):\n",
      "“some variables in design formula are characters, converting to factors”\n",
      "estimating size factors\n",
      "\n",
      "estimating dispersions\n",
      "\n",
      "gene-wise dispersion estimates\n",
      "\n",
      "mean-dispersion relationship\n",
      "\n",
      "final dispersion estimates\n",
      "\n",
      "fitting model and testing\n",
      "\n"
     ]
    }
   ],
   "source": [
    "dds <- DESeqDataSetFromMatrix(countData = cts,\n",
    "                              colData   = coldata,\n",
    "                              design    = ~ condition)\n",
    "dds = DESeq(dds)"
   ]
  },
  {
   "cell_type": "code",
   "execution_count": 4,
   "id": "d4ae8cf8-a117-4d00-a95b-635f5ff194aa",
   "metadata": {
    "tags": []
   },
   "outputs": [
    {
     "name": "stderr",
     "output_type": "stream",
     "text": [
      "using 'apeglm' for LFC shrinkage. If used in published research, please cite:\n",
      "    Zhu, A., Ibrahim, J.G., Love, M.I. (2018) Heavy-tailed prior distributions for\n",
      "    sequence count data: removing the noise and preserving large differences.\n",
      "    Bioinformatics. https://doi.org/10.1093/bioinformatics/bty895\n",
      "\n"
     ]
    }
   ],
   "source": [
    "# new counts don do\n",
    "res_unshrunken <- results(dds, contrast=c(\"condition\",\"K562\",\"Hek293\"), alpha = 0.05, lfcThreshold = 1)\n",
    "res <- lfcShrink(dds, coef='condition_K562_vs_Hek293', res=res_unshrunken)\n",
    "\n",
    "res$rowname <- rownames(res)\n",
    "res_final <- res %>%\n",
    "  data.frame() %>% \n",
    "  as_tibble()%>% arrange(padj)%>% mutate(threshold = padj < 1e-3)\n",
    "res_final <- merge(res_final,design_new,by.x='rowname',by.y='barcode')%>% arrange(padj)\n",
    "#res_final[0:50,]"
   ]
  },
  {
   "cell_type": "code",
   "execution_count": 95,
   "id": "188d5614-f98a-42da-a029-5d318c992797",
   "metadata": {
    "tags": []
   },
   "outputs": [
    {
     "name": "stderr",
     "output_type": "stream",
     "text": [
      "Warning message:\n",
      "“\u001b[1m\u001b[22mRemoved 19 rows containing missing values (`geom_point()`).”\n"
     ]
    },
    {
     "data": {
      "text/html": [
       "<strong>png:</strong> 2"
      ],
      "text/latex": [
       "\\textbf{png:} 2"
      ],
      "text/markdown": [
       "**png:** 2"
      ],
      "text/plain": [
       "png \n",
       "  2 "
      ]
     },
     "metadata": {},
     "output_type": "display_data"
    }
   ],
   "source": [
    "pdf(file = \"../Figure2/figs/Fig2g_syn_rec_des_hek293_vs_k562.pdf\",   # The directory you want to save the file in\n",
    "    width = 2, # The width of the plot in inches\n",
    "    height = 1.5) # The height of the plot in inches\n",
    "p1 <- ggplot(res_final, aes(x = log2FoldChange, y = -log10(padj))) +\n",
    "        geom_point(aes(colour = threshold),size=1 ) + \n",
    "        scale_color_manual(values=c(\"#5C5C5C\", \"#FB8072\"))+\n",
    "        xlab(\"\") + \n",
    "        ylab(\"\") + \n",
    "        scale_x_continuous(limits = c(-4,4))+\n",
    "        scale_y_continuous(limits = c(0., 65))+ \n",
    "        theme_classic() + \n",
    "        theme(legend.position=\"none\",\n",
    "              axis.text = element_text(size = 6),\n",
    "              axis.title = element_text(size = 7),\n",
    "              axis.ticks.length=unit(2,\"pt\"),\n",
    "              axis.ticks = element_line(size=72.27/96*0.5),\n",
    "              axis.line = element_line(color=\"black\", size = 72.27/96*0.5))\n",
    "p1\n",
    "dev.off()"
   ]
  },
  {
   "cell_type": "markdown",
   "id": "0cb05e6f-cd94-40a5-876c-b5033caf178e",
   "metadata": {
    "tags": []
   },
   "source": [
    "# mESC vs Gastruloid"
   ]
  },
  {
   "cell_type": "code",
   "execution_count": 6,
   "id": "2bcbf1f9-3884-4851-b018-0df91e6b6e26",
   "metadata": {
    "tags": []
   },
   "outputs": [
    {
     "name": "stderr",
     "output_type": "stream",
     "text": [
      "converting counts to integer mode\n",
      "\n",
      "Warning message in DESeqDataSet(se, design = design, ignoreRank):\n",
      "“some variables in design formula are characters, converting to factors”\n",
      "estimating size factors\n",
      "\n",
      "estimating dispersions\n",
      "\n",
      "gene-wise dispersion estimates\n",
      "\n",
      "mean-dispersion relationship\n",
      "\n",
      "final dispersion estimates\n",
      "\n",
      "fitting model and testing\n",
      "\n"
     ]
    }
   ],
   "source": [
    "design <- as.matrix(read.csv('../Figure5/98_TF_motif_designs.csv',sep=',',header=TRUE,check.names = FALSE))\n",
    "design_new = data.frame(design[,c(1,2,3,5,6,7,8)])\n",
    "\n",
    "cts <- as.matrix(read.csv(\"../Figure5/mESC_gas_tf_recording.csv\", sep = \",\", row.names='motif', header = T))\n",
    "colnames(cts) <- gsub(\"X\", \"\", colnames(cts))\n",
    "\n",
    "keep <- rowSums(cts) > 1500\n",
    "cts <- cts[keep,]\n",
    "coldata <- read.csv(\"../Figure5/coldata_mESC_gas.csv\", sep = \",\", row.names='X0')\n",
    "rownames(coldata) <- gsub(\"-\", \".\", rownames(coldata))\n",
    "colnames(coldata) <- c('condition')\n",
    "\n",
    "dds <- DESeqDataSetFromMatrix(countData = cts,\n",
    "                              colData   = coldata,\n",
    "                              design    = ~ condition)\n",
    "#res <- results(dds,alpha=0.05)\n",
    "dds$condition = relevel(dds$condition, 6)\n",
    "dds = DESeq(dds)"
   ]
  },
  {
   "cell_type": "code",
   "execution_count": 13,
   "id": "140088bf-93ea-49e7-a437-93c23d2c243b",
   "metadata": {
    "tags": []
   },
   "outputs": [
    {
     "name": "stderr",
     "output_type": "stream",
     "text": [
      "using 'apeglm' for LFC shrinkage. If used in published research, please cite:\n",
      "    Zhu, A., Ibrahim, J.G., Love, M.I. (2018) Heavy-tailed prior distributions for\n",
      "    sequence count data: removing the noise and preserving large differences.\n",
      "    Bioinformatics. https://doi.org/10.1093/bioinformatics/bty895\n",
      "\n"
     ]
    }
   ],
   "source": [
    "comp = '0.24'\n",
    "comp = '24.48'\n",
    "comp = '48.72'\n",
    "comp = '72.96'\n",
    "comp = '96.120'\n",
    "res_unshrunken <- results(dds, contrast=c(\"condition\",comp,\"mESC.dox\"), alpha = 0.05, lfcThreshold = 0.9)\n",
    "res <- lfcShrink(dds, coef=glue('condition_{comp}_vs_mESC.dox'), res=res_unshrunken,type='apeglm')\n",
    "res$rowname <- rownames(res)\n",
    "res_final <- res %>%\n",
    "  data.frame() %>% \n",
    "  as_tibble()%>% arrange(padj)%>% mutate(threshold = padj < 1*1e-1)\n",
    "res_final <- merge(res_final,design_new,by.x='rowname',by.y='motif')%>% arrange(padj)\n",
    "#res_final[0:20,]\n",
    "write_csv(res_final,glue('../Figure5/{comp}_deseq.txt'))"
   ]
  },
  {
   "cell_type": "code",
   "execution_count": null,
   "id": "c1cc308c-0385-4836-9966-05de8c9f34a3",
   "metadata": {},
   "outputs": [],
   "source": []
  }
 ],
 "metadata": {
  "kernelspec": {
   "display_name": "Python 3 (ipykernel)",
   "language": "python",
   "name": "python3"
  },
  "language_info": {
   "codemirror_mode": {
    "name": "ipython",
    "version": 3
   },
   "file_extension": ".py",
   "mimetype": "text/x-python",
   "name": "python",
   "nbconvert_exporter": "python",
   "pygments_lexer": "ipython3",
   "version": "3.9.13"
  },
  "toc-autonumbering": false,
  "toc-showcode": false,
  "toc-showtags": false
 },
 "nbformat": 4,
 "nbformat_minor": 5
}
