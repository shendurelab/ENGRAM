{
 "cells": [
  {
   "cell_type": "markdown",
   "id": "8004b381-ee6f-4f61-9d44-1dfc115e6fb4",
   "metadata": {},
   "source": [
    "# Note\n",
    "This document provides information about how to process recording data from fastq files.\\\n",
    "Briefly, barcodes were extracted and counted from raw fastq files by pattern matching function regex. \\\n",
    "There are two types of tape used in the paper: endogenous HEK3 locus (HEK3-Tape) in HEK293T and K562 cells and synthetic HEK3 locus integrated into the genome via piggybac (synHEK3-Tape). \\\n",
    "Depending on the sequnencing structure, the barcodes can be extracted by two patterns (see below).\\\n",
    "3 bp, 5 bp and 6 bp insertions were used in different cases. the pattern length should cover all barcodes including unedited Tapes. "
   ]
  },
  {
   "cell_type": "code",
   "execution_count": 1,
   "id": "568719c0-d6f8-4b2c-b2ac-71028386cf06",
   "metadata": {
    "tags": []
   },
   "outputs": [],
   "source": [
    "import gzip\n",
    "import subprocess\n",
    "import os,sys,csv,re\n",
    "from optparse import OptionParser,OptionGroup\n",
    "import pandas as pd\n",
    "# HEK3 R2 (HEK293, K562) or synHEK R1 (mESC,K562)\n",
    "path = '../Figure' # data dir here\n",
    "samples =[s for s in os.listdir(path) if 'fastq.gz' in s if 'R2' in s] # for HEK3-TAPE\n",
    "samples =[s for s in os.listdir(path) if 'fastq.gz' in s if 'R1' in s] # for synHEK3-TAPE \n",
    "\n",
    "for s in samples:\n",
    "    cmd = \"zcat \"+ path+s + \" | awk \\'{if(NR%4==2) print $0} \\' | awk \\' match($1,/CATCA([ATCG]{0,6})CGTGC/) {print substr($1, RSTART+5,RLENGTH-10)}\\'  | sort -k1n | uniq -c | sort -k1nr | awk '{a[NR]=$2;x+=(b[NR]=$1)}END{while(++i<=NR) print a[i]\\\"\\\\t\\\"b[i]\\\"\\\\t\\\"100*b[i]/x}'  > \"+ path  + s.split('_S')[0] +\"_bc_count.tsv&\"\n",
    "    p=subprocess.Popen(cmd, stdout=subprocess.PIPE, shell=True)\n",
    "    p.wait()"
   ]
  },
  {
   "cell_type": "code",
   "execution_count": 20,
   "id": "007ff722-ecd4-4b10-af67-6184ba4494b4",
   "metadata": {
    "tags": []
   },
   "outputs": [],
   "source": [
    "import gzip\n",
    "import subprocess\n",
    "import os,sys,csv,re\n",
    "from optparse import OptionParser,OptionGroup\n",
    "import pandas as pd\n",
    "# HEK3 R1 (HEK293, K562) or synHEK R2 (mESC,K562)\n",
    "path = '../Figure' # data dir here\n",
    "samples =[s for s in os.listdir(path) if 'fastq.gz' in s if 'R1' in s ]\n",
    "for s in samples:\n",
    "    cmd = \"zcat \"+ path+s + \" | awk \\'{if(NR%4==2) print $0} \\' | awk \\' match($1,/GCACG([ATCG]{0,6})TGATG/) {print substr($1, RSTART+5,RLENGTH-10)}\\'  | sort -k1n | uniq -c | sort -k1nr | awk '{a[NR]=$2;x+=(b[NR]=$1)}END{while(++i<=NR) print a[i]\\\"\\\\t\\\"b[i]\\\"\\\\t\\\"100*b[i]/x}'  > \"+ path  + s.split('_S')[0] +\"_bc_count.tsv&\"\n",
    "    p=subprocess.Popen(cmd, stdout=subprocess.PIPE, shell=True)\n",
    "    p.wait()"
   ]
  },
  {
   "cell_type": "code",
   "execution_count": null,
   "id": "e0cbe199-f0e1-42fe-8642-5472df6c9580",
   "metadata": {},
   "outputs": [],
   "source": []
  },
  {
   "cell_type": "markdown",
   "id": "d3d573ae-13aa-459e-bea9-ae0c403b0061",
   "metadata": {
    "tags": []
   },
   "source": [
    "## Processing DNA Typewriter data\n",
    "DTT data was first aligned to the reference and then analyzed by the custom python script to extract and count the barcode"
   ]
  },
  {
   "cell_type": "code",
   "execution_count": null,
   "id": "ba2fd48b-26e4-459e-9b21-da5c994cbc9a",
   "metadata": {},
   "outputs": [],
   "source": [
    "path = '../Figure4/DTT/' # or pulse \n",
    "samples =[s for s in os.listdir(path) if '.gz' in s and 'R1' in s]\n",
    "# don't forget to bwa index DTT.fasta\n",
    "for s in samples:\n",
    "    cmd = 'bwa mem ../analysis/DTT.fasta '+ path+s + \\\n",
    "    '| samtools view -F 0x904 | awk \\'$3 == \"5X_TAPE\" {{print $1\"\\\\t\"$3\"\\\\t\"$10; next}}\\'> ' + path  + s.split('_S')[0] + '.txt&'\n",
    "    p=subprocess.Popen(cmd,stdout=subprocess.DEVNULL,stderr=subprocess.STDOUT, shell=True);\n",
    "    p.wait();"
   ]
  },
  {
   "cell_type": "code",
   "execution_count": null,
   "id": "08e23816-2583-444f-87b7-b2cb484d4148",
   "metadata": {},
   "outputs": [],
   "source": [
    "path = '../Figure4/pulse/'\n",
    "samples =sorted([s.split('.txt')[0] for s in os.listdir(path) if '.txt' in s and 'dox' not in s])\n",
    "\n",
    "pipeline = ''\n",
    "for sample in samples:\n",
    "    cmd = 'python ../analysis/PE_analysis_5XTAPE_wnt_dox.py '+ sample + ' ' + path + ' &'\n",
    "    print (cmd)"
   ]
  }
 ],
 "metadata": {
  "kernelspec": {
   "display_name": "Python 3 (ipykernel)",
   "language": "python",
   "name": "python3"
  },
  "language_info": {
   "codemirror_mode": {
    "name": "ipython",
    "version": 3
   },
   "file_extension": ".py",
   "mimetype": "text/x-python",
   "name": "python",
   "nbconvert_exporter": "python",
   "pygments_lexer": "ipython3",
   "version": "3.9.13"
  }
 },
 "nbformat": 4,
 "nbformat_minor": 5
}
