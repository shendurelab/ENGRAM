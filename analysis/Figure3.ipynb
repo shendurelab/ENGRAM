{
 "cells": [
  {
   "cell_type": "code",
   "execution_count": 1,
   "id": "454654b1-88e4-4a25-9625-dd31ad82ba16",
   "metadata": {
    "tags": []
   },
   "outputs": [],
   "source": [
    "import os,random,itertools,matplotlib\n",
    "import numpy as np\n",
    "import scipy as sp\n",
    "import pandas as pd\n",
    "import seaborn as sns\n",
    "import matplotlib.pyplot as plt \n",
    "# Umitools\n",
    "from umi_tools._dedup_umi import edit_distance\n",
    "matplotlib.rcParams['font.family'] = 'Helvetica'\n",
    "\n",
    "\n",
    "def str2array(s):\n",
    "    a,b= s.split('\\t')[:2]\n",
    "    return (a,int(b))\n",
    "\n",
    "def merge_edit_1(counts):\n",
    "    keep,collapse = [],counts[0:]\n",
    "    while len(collapse)>0:\n",
    "        ref = list(collapse[0]) # need to convert to list here otherwise will keep updating the value to new_cluster\n",
    "        temp = []\n",
    "        for s in collapse[1:]:\n",
    "            s1 = ref[0]\n",
    "            s2 = s[0]\n",
    "            if abs(len(s1)-len(s2))<=1 and edit_distance(s1.encode('utf-8'),s2.encode('utf-8'))<2:\n",
    "                ref[-1] += s[-1]\n",
    "            else:\n",
    "                temp.append(s)\n",
    "        keep.append(ref)\n",
    "        collapse = temp[0:]\n",
    "    return np.array(keep,dtype=object)\n",
    "\n",
    "def reverse_complement(seq):\n",
    "    \"\"\"This function returns the reverse_complement sequence of the input sequence\n",
    "    from 3' to 5' \"\"\"\n",
    "    complement = {'A':'T', 'C':'G','G':'C', 'T':'A', 'N':'N','U':'A'}\n",
    "    rcomp_seq = ''\n",
    "    for base in seq:\n",
    "        rcomp_seq = complement[base] + rcomp_seq   \n",
    "    return rcomp_seq\n",
    "\n",
    "def gen_min_edit(barcodes,array):\n",
    "    temp=[]\n",
    "    for a in array:\n",
    "        temp.append(min([edit_distance(a.encode('utf-8'),s.encode('utf-8')) for s in barcodes if len(a) >1 ]))\n",
    "    return temp\n",
    "\n",
    "def sigmoid(x, L ,x0, k, b):\n",
    "    y = L / (1 + np.exp(-k*(x-x0)))+b\n",
    "    return (y)\n",
    "\n",
    "import re\n",
    "def natural_key(string_):\n",
    "    \"\"\"See http://www.codinghorror.com/blog/archives/001018.html\"\"\"\n",
    "    return [int(s) if s.isdigit() else s for s in re.split(r'(\\d+)', string_)]\n",
    "%matplotlib inline\n"
   ]
  },
  {
   "cell_type": "markdown",
   "id": "5b955dbe-bded-402a-9c3b-fb68ceb8112b",
   "metadata": {
    "tags": []
   },
   "source": [
    "# Dose dependent recording"
   ]
  },
  {
   "cell_type": "markdown",
   "id": "e898286f-cb93-4b12-bdce-0fa76e7371cd",
   "metadata": {
    "tags": []
   },
   "source": [
    "## Dox"
   ]
  },
  {
   "cell_type": "code",
   "execution_count": 5,
   "id": "42feb228-799a-472a-b60f-6c271861e3e2",
   "metadata": {
    "tags": []
   },
   "outputs": [
    {
     "data": {
      "image/png": "[encoded data removed]",
      "text/plain": [
       "<Figure size 180x120 with 1 Axes>"
      ]
     },
     "metadata": {},
     "output_type": "display_data"
    }
   ],
   "source": [
    "path = '../Figure3/dox/'\n",
    "samples =sorted([s.split('_bc_count.tsv')[0] for s in os.listdir(path) if '.tsv' in s and 'neg' not in s])\n",
    "ref = pd.DataFrame([('','WT'),('CTTCT','Dox')],columns = ['barcode','Sample'])\n",
    "edits = []\n",
    "for s in samples: \n",
    "    file = path+s\n",
    "    with open(file +'_bc_count.tsv','r') as f:\n",
    "        temp = f.readlines()\n",
    "        df = ref.merge(pd.DataFrame(merge_edit_1([a for a in [str2array(s) for s in temp] if len(a[0]) ==0 or len(a[0]) ==5]),columns=['barcode','count']),on='barcode',how='left')\n",
    "        df['ratio'] = df['count']/df['count'].sum()*100\n",
    "    f.close()\n",
    "    a,rep = s.split('_rep')\n",
    "    sample = int(a.split('TRE-Dox-')[1])\n",
    "    conc = 2**(sample-10) if sample >1 else 0\n",
    "    edits.append([sample,conc,'rep'+rep,100-list(df[df['Sample']=='WT']['ratio'])[0]])\n",
    "df_dox= pd.DataFrame(edits,columns=['Design','conc','rep','Editing efficiency'])\n",
    "\n",
    "p0 = [5, 0.2,0.05,1]\n",
    "popt, pcov = sp.optimize.curve_fit(sigmoid, df_dox['conc'], df_dox['Editing efficiency'],p0, method='lm',maxfev=10000)\n",
    "x = np.linspace(0.00001, 100, 10000)\n",
    "y = sigmoid(x, *popt)\n",
    "fig, axs = fig, axs = plt.subplots(1,1,figsize=(1.8,1.2),sharey=False,sharex=False)\n",
    "\n",
    "sns.lineplot(x=x,y=y,color ='#4A4A4A',linewidth = 0.8,ax=axs);\n",
    "sns.lineplot(data=df_dox[df_dox['Design']>0],x=\"conc\", y=\"Editing efficiency\",linestyle='',color ='#4A4A4A',err_style='bars'\\\n",
    "             , err_kws={'capsize':1,'elinewidth':0.5},errorbar='sd',linewidth = 0.8,ax=axs)\n",
    "sns.scatterplot(data=df_dox,x=\"conc\", y=\"Editing efficiency\",s=4,facecolors='none',edgecolor='#4A4A4A',\n",
    "                legend=False,ax=axs)\n",
    "sns.despine(offset=3)\n",
    "axs.set_xscale('log',base=10)\n",
    "axs.set_xlim(1e-3,1e1)\n",
    "axs.set_yticks(np.arange(0, 6, 1))\n",
    "\n",
    "axs.set_ylabel('Editing efficiency (%)',fontsize=7);\n",
    "axs.set_xlabel('Dox concentration (\\u03bcg/ml)',fontsize=7)\n",
    "axs.yaxis.set_tick_params(width=0.8, length=2,labelsize=6)\n",
    "axs.xaxis.set_tick_params(width=0.8, length=2,labelsize=6)\n",
    "#plt.savefig('../Figure3/fig/Fig_3b_dox.pdf')"
   ]
  },
  {
   "cell_type": "markdown",
   "id": "6185ba0c-cf8e-4ba2-b129-8b9b46757f7e",
   "metadata": {
    "tags": []
   },
   "source": [
    "## NFKB"
   ]
  },
  {
   "cell_type": "code",
   "execution_count": 6,
   "id": "499c5dbd-198f-4e1a-8f69-19fced8c0708",
   "metadata": {
    "tags": []
   },
   "outputs": [
    {
     "data": {
      "image/png": "[encoded data removed]",
      "text/plain": [
       "<Figure size 180x120 with 1 Axes>"
      ]
     },
     "metadata": {},
     "output_type": "display_data"
    }
   ],
   "source": [
    "path = '../Figure3/nfkb/'\n",
    "samples =sorted([s.split('_bc_count.tsv')[0] for s in os.listdir(path) if '.tsv' in s])\n",
    "ref = pd.DataFrame([('','WT'),('TCCTA','NFKB'),('AATAA','NFKB')],columns = ['barcode','Sample'])\n",
    "edits = []\n",
    "for s in samples: \n",
    "    file = path+s\n",
    "    with open(file +'_bc_count.tsv','r') as f:\n",
    "        temp = f.readlines()\n",
    "        df = ref.merge(pd.DataFrame(merge_edit_1([a for a in [str2array(s) for s in temp] if len(a[0]) ==0 or len(a[0]) ==5]),columns=['barcode','count']),on='barcode',how='left')\n",
    "        df['ratio'] = df['count']/df['count'].sum()*100\n",
    "        df = df[['Sample','ratio']].groupby('Sample').sum().reset_index()\n",
    "    f.close()\n",
    "    a,rep = s.split('_rep')\n",
    "    sample = int(a.split('NFKB-TNFa-')[1])\n",
    "    conc = 2**(sample-10) if sample >1 else 0\n",
    "    edits.append([sample,conc,'rep'+rep,100-list(df[df['Sample']=='WT']['ratio'])[0]])\n",
    "df_nfkb= pd.DataFrame(edits,columns=['Design','conc','rep','Editing efficiency'])\n",
    "\n",
    "\n",
    "\n",
    "p0 = [3, np.median(df_nfkb['conc']),0.5,min(df_nfkb['Editing efficiency'])]\n",
    "popt, pcov = sp.optimize.curve_fit(sigmoid, df_nfkb['conc'], df_nfkb['Editing efficiency'],p0, method='lm',maxfev=5000)\n",
    "x = np.linspace(0.001, 65, 100000)\n",
    "y = sigmoid(x, *popt)\n",
    "fig, axs = fig, axs = plt.subplots(1,1,figsize=(1.8,1.2),sharey=False,sharex=False)\n",
    "\n",
    "sns.lineplot(x=x,y=y,color ='#4A4A4A',linewidth = 0.8,ax=axs);\n",
    "sns.lineplot(data=df_nfkb,x=\"conc\", y=\"Editing efficiency\",linestyle='',color ='#4A4A4A',err_style='bars'\\\n",
    "             , err_kws={'capsize':1,'elinewidth':0.5},errorbar='sd',linewidth = 0.8,ax=axs);\n",
    "sns.scatterplot(data=df_nfkb,x=\"conc\", y=\"Editing efficiency\",s=4,facecolors='none',edgecolor='#4A4A4A',\n",
    "                legend=False,ax=axs)\n",
    "sns.despine(offset=3)\n",
    "axs.set_xscale('log',base=10)\n",
    "axs.set_xlim(1e-2,1e2)\n",
    "axs.set_ylim(0,3)\n",
    "\n",
    "\n",
    "axs.set_ylabel('Editing efficiency (%)',fontsize=7);\n",
    "axs.set_xlabel('TNF\\u03B1 concentration (ng/ml)',fontsize=7)\n",
    "axs.yaxis.set_tick_params(width=0.8, length=2,labelsize=6)\n",
    "axs.xaxis.set_tick_params(width=0.8, length=2,labelsize=6)\n",
    "#plt.savefig('../Figure3/fig/Fig_3c_nfkb.pdf')"
   ]
  },
  {
   "cell_type": "markdown",
   "id": "362017d2-6f2d-4c39-b534-f0a5de99037d",
   "metadata": {
    "tags": []
   },
   "source": [
    "## Wnt"
   ]
  },
  {
   "cell_type": "code",
   "execution_count": 7,
   "id": "5f237421-4668-4fc4-af30-970d1f0ac8bc",
   "metadata": {
    "tags": []
   },
   "outputs": [
    {
     "data": {
      "image/png": "[encoded data removed]",
      "text/plain": [
       "<Figure size 180x120 with 1 Axes>"
      ]
     },
     "metadata": {},
     "output_type": "display_data"
    }
   ],
   "source": [
    "path = '../Figure3/wnt/'\n",
    "samples =sorted([s.split('_bc_count.tsv')[0] for s in os.listdir(path) if '.tsv' in s])\n",
    "concs = sorted([32,16,8,6,4,3.75,3.5,3.25,3,2.75,2.5,2.25,2,1,0.5,0.25])\n",
    "ref = pd.DataFrame([('','WT'),('GCAAC','Wnt')],columns = ['barcode','Sample'])\n",
    "edits = []\n",
    "for s in samples: \n",
    "    file = path+s\n",
    "    with open(file +'_bc_count.tsv','r') as f:\n",
    "        temp = f.readlines()\n",
    "        df = ref.merge(pd.DataFrame(merge_edit_1([a for a in [str2array(s) for s in temp] if len(a[0]) ==0 or len(a[0]) ==5]),columns=['barcode','count']),on='barcode',how='left')\n",
    "        df['ratio'] = df['count']/df['count'].sum()*100\n",
    "    f.close()\n",
    "    a,rep = s.split('_rep')\n",
    "    sample = int(a.split('TCF-CHIR-')[1])\n",
    "    conc = concs[sample-1]\n",
    "    edits.append([sample,conc,'rep'+rep,100-list(df[df['Sample']=='WT']['ratio'])[0]])\n",
    "df_wnt= pd.DataFrame(edits,columns=['Design','conc','rep','Editing efficiency'])\n",
    "\n",
    "p = [max(df_wnt['Editing efficiency']), np.median(df_wnt['conc']),1,min(df_wnt['Editing efficiency'])]\n",
    "popt, pcov = sp.optimize.curve_fit(sigmoid, df_wnt['conc'], df_wnt['Editing efficiency'],p0, method='lm')\n",
    "x = np.linspace(0, 40, 100000)\n",
    "y = sigmoid(x, *popt)\n",
    "\n",
    "fig, axs = fig, axs = plt.subplots(1,1,figsize=(1.8,1.2),sharey=False,sharex=False)\n",
    "sns.lineplot(x=x,y=y,color ='#4A4A4A',linewidth = 0.8,ax=axs);\n",
    "sns.lineplot(data=df_wnt,x=\"conc\", y=\"Editing efficiency\",linestyle='',markers='o',color ='#4A4A4A',err_style='bars'\\\n",
    "             , err_kws={'capsize':1,'elinewidth':0.5},errorbar='sd',linewidth = 0.8,ax=axs);\n",
    "sns.scatterplot(data=df_wnt,x=\"conc\", y=\"Editing efficiency\",s=4,facecolors='none',edgecolor='#4A4A4A',\n",
    "                legend=False,ax=axs)\n",
    "sns.despine(offset=3);\n",
    "axs.set_xscale('log',base=10);\n",
    "axs.set_xlim(1e-1,1e2);\n",
    "axs.set_ylim(0,6);\n",
    "axs.set_ylabel('Editing efficiency (%)',fontsize=7);\n",
    "axs.set_xlabel('CHIR concentration (\\u03bcM)',fontsize=7)\n",
    "axs.yaxis.set_tick_params(width=0.8, length=2,labelsize=6)\n",
    "axs.xaxis.set_tick_params(width=0.8, length=2,labelsize=6)\n",
    "#plt.savefig('../Figure3/fig/Fig_3d_wnt.pdf')"
   ]
  },
  {
   "cell_type": "markdown",
   "id": "288a8443-3caa-44a1-b567-355c01428cb0",
   "metadata": {
    "tags": []
   },
   "source": [
    "## Baseline editing at day7 and day14"
   ]
  },
  {
   "cell_type": "code",
   "execution_count": 10,
   "id": "ac43d372-df2d-4d01-bdbf-e73d325d8105",
   "metadata": {
    "tags": []
   },
   "outputs": [
    {
     "data": {
      "image/png": "[encoded data removed]",
      "text/plain": [
       "<Figure size 150x150 with 1 Axes>"
      ]
     },
     "metadata": {},
     "output_type": "display_data"
    }
   ],
   "source": [
    "path = '../Figure3/baseline/'\n",
    "samples =sorted([s.split('_bc_count.tsv')[0] for s in os.listdir(path) if '.tsv' in s and 'NFKB' in s])\n",
    "ref = pd.DataFrame([('','WT'),('TCCTA','NFKB'),('AATAA','NFKB')],columns = ['barcode','Sample'])\n",
    "edits = []\n",
    "for s in samples: \n",
    "    file = path+s\n",
    "    with open(file +'_bc_count.tsv','r') as f:\n",
    "        temp = f.readlines()\n",
    "        df = ref.merge(pd.DataFrame(merge_edit_1([a for a in [str2array(s) for s in temp] if len(a[0]) ==0 or len(a[0]) ==5]),columns=['barcode','count']),on='barcode',how='left')\n",
    "        df['ratio'] = df['count']/df['count'].sum()*100\n",
    "        df = df[['Sample','ratio']].groupby('Sample').sum().reset_index()\n",
    "    f.close()\n",
    "    a,rep = s.split('_rep')\n",
    "    day = a.split('-TNFa-D')[1]\n",
    "    edits.append(['NFKB','rep'+rep,int(day),100-list(df[df['Sample']=='WT']['ratio'])[0]])\n",
    "\n",
    "\n",
    "samples =sorted([s.split('_bc_count.tsv')[0] for s in os.listdir(path) if '.tsv' in s and 'CHIR' in s])\n",
    "ref = pd.DataFrame([('','WT'),('GCAAC','Wnt'),('GTTGC','Wnt')],columns = ['barcode','Sample'])\n",
    "for s in samples: \n",
    "    file = path+s\n",
    "    with open(file +'_bc_count.tsv','r') as f:\n",
    "        temp = f.readlines()\n",
    "        df = ref.merge(pd.DataFrame(merge_edit_1([a for a in [str2array(s) for s in temp] if len(a[0]) ==0 or len(a[0]) ==5]),columns=['barcode','count']),on='barcode',how='left')\n",
    "        df['ratio'] = df['count']/df['count'].sum()*100\n",
    "    f.close()\n",
    "    a,rep = s.split('_rep')\n",
    "    day = int(a.split('TCF-CHIR-D')[1])\n",
    "    edits.append(['Wnt','rep'+rep,day,100-list(df[df['Sample']=='WT']['ratio'])[0]])\n",
    "df_baseline = pd.DataFrame(edits,columns=['Design','rep','day','Editing efficiency'])\n",
    "fig, axs = plt.subplots(figsize=(1.5,1.5),sharey=False,sharex=False)\n",
    "g=sns.stripplot(data = df_baseline, x='Design', y='Editing efficiency' ,palette=[ '#FB8072','#80B1D3'], order=['NFKB','Wnt'],hue='day',ax=axs,size=4)\n",
    "\n",
    "axs.set_ylim(0,0.5)\n",
    "axs.set_ylabel('Edidting efficiency (%)',fontsize=7)\n",
    "axs.set_xlabel('',fontsize=6)\n",
    "axs.xaxis.set_tick_params(width=0.8, length=2,labelsize=6)\n",
    "axs.yaxis.set_tick_params(width=0.8, length=2,labelsize=6)\n",
    "sns.despine(offset=3)\n",
    "\n",
    "#plt.savefig('../Figure3/fig/SuppFig6a_baseline.pdf')"
   ]
  },
  {
   "cell_type": "markdown",
   "id": "611cc196-f9ad-4267-a868-e7b50da53b1b",
   "metadata": {
    "tags": []
   },
   "source": [
    "##  Fold change"
   ]
  },
  {
   "cell_type": "code",
   "execution_count": 11,
   "id": "75adaba2-fb34-4197-b760-249490525797",
   "metadata": {
    "tags": []
   },
   "outputs": [],
   "source": [
    "df_fold = pd.DataFrame(np.reshape(np.concatenate([np.array(df_dox[df_dox['Design']==16].iloc[:,3:])/np.array(df_dox[df_dox['Design']==1].iloc[:,3:]),\\\n",
    "                np.array(df_nfkb[df_nfkb['Design']==16].iloc[:,3:])/np.array(df_nfkb[df_nfkb['Design']==1].iloc[:,3:]),\\\n",
    "                np.array(df_wnt[df_wnt['conc']==32].iloc[:,3:])/np.array(df_wnt[df_wnt['conc']==0.25].iloc[:,3:])]),(3,3))).T\n",
    "df_fold_melt = df_fold.melt()\n",
    "df_fold_melt['design'] = ['Dox','Dox','Dox','TNFa','TNFa','TNFa','Wnt','Wnt','Wnt']\n",
    "df_fold_melt['variable'] = 0"
   ]
  },
  {
   "cell_type": "code",
   "execution_count": 12,
   "id": "8cf9333f-deb4-4048-98ad-fc9172b28012",
   "metadata": {
    "tags": []
   },
   "outputs": [
    {
     "data": {
      "image/png": "[encoded data removed]",
      "text/plain": [
       "<Figure size 120x150 with 1 Axes>"
      ]
     },
     "metadata": {},
     "output_type": "display_data"
    }
   ],
   "source": [
    "fig, axs = fig, axs = plt.subplots(1,1,figsize=(1.2,1.5),sharey=False,sharex=False)\n",
    "g=sns.barplot(data=df_fold_melt,x='variable',y='value',hue='design',palette=['#8DD3C7','#80B1D3','#FC8D62'], errwidth=0.5, errorbar='sd', capsize=.05,ax=axs)\n",
    "sns.stripplot(data=df_fold_melt, x=\"variable\", y='value', hue=\"design\", dodge=True,palette='dark:#4A4A4A',marker='.',size=4,ax=axs)\n",
    "\n",
    "sns.despine(offset=3)\n",
    "axs.set_ylabel('Fold change',fontsize=7);\n",
    "axs.set_xlabel('')\n",
    "axs.yaxis.set_tick_params(width=0.8, length=2,labelsize=6)\n",
    "axs.xaxis.set_tick_params(width=0.8, length=2,labelsize=6)\n",
    "g.legend_.remove()\n",
    "#plt.savefig('../Figure3/fig/Fig_3e.pdf')"
   ]
  },
  {
   "cell_type": "markdown",
   "id": "1598057c-f50b-472d-afc4-4c65fba98b56",
   "metadata": {
    "tags": []
   },
   "source": [
    "# Time_dose"
   ]
  },
  {
   "cell_type": "markdown",
   "id": "938564d4-3e7d-4cfe-98b5-e3a70158c19c",
   "metadata": {
    "tags": []
   },
   "source": [
    "## Time_dose Wnt"
   ]
  },
  {
   "cell_type": "code",
   "execution_count": 13,
   "id": "79de1dba-2c35-438f-ae70-3dbd7af0a06e",
   "metadata": {
    "tags": []
   },
   "outputs": [],
   "source": [
    "path = '../Figure3/time_dose_wnt/'\n",
    "samples =sorted([s.split('_bc_count.tsv')[0] for s in os.listdir(path) if '.tsv' in s])\n",
    "ref = pd.DataFrame([('','WT'),('GTTGC','Wnt')],columns = ['barcode','Sample'])\n",
    "concs = sorted([2.6,2.4,2.2,2,1.8,1.6,1.4,1.2,1])\n",
    "edits = []\n",
    "for s in samples: \n",
    "    file = path+s\n",
    "    with open(file +'_bc_count.tsv','r') as f:\n",
    "        temp = f.readlines()\n",
    "        df = ref.merge(pd.DataFrame(merge_edit_1([a for a in [str2array(s) for s in temp] if len(a[0]) ==0 or len(a[0]) ==5]),columns=['barcode','count']),on='barcode',how='left')\n",
    "        df['ratio'] = df['count']/df['count'].sum()*100\n",
    "    f.close()\n",
    "    a,rep = s.split('_rep')\n",
    "    b,day = a.split('_')\n",
    "    sample = int(b.split('TCF-CHIR-')[1])\n",
    "    conc = concs[int(sample)-1]\n",
    "    edits.append([conc,int(day[:-1]),'rep'+rep,100-list(df[df['Sample']=='WT']['ratio'])[0]])\n",
    "df_wnt = pd.DataFrame(edits,columns=['conc','time','rep','Editing efficiency'])"
   ]
  },
  {
   "cell_type": "code",
   "execution_count": 14,
   "id": "92902540-424b-4022-8a7a-88aecc28bea2",
   "metadata": {
    "tags": []
   },
   "outputs": [
    {
     "data": {
      "image/png": "[encoded data removed]",
      "text/plain": [
       "<Figure size 200x200 with 1 Axes>"
      ]
     },
     "metadata": {},
     "output_type": "display_data"
    }
   ],
   "source": [
    "df_plot =df_wnt.sort_values(by='time').groupby(['conc','time'],as_index=False ).mean(numeric_only=True).pivot(index='conc',columns='time').sort_values('conc',axis=0,ascending=False)\n",
    "fig, axs = fig, axs = plt.subplots(1,1,figsize=(2,2),sharey=False,sharex=False)\n",
    "sns.heatmap(df_plot,ax=axs,cmap='Oranges',vmin=0, vmax=4,cbar=False)\n",
    "axs.set_xticks([]);\n",
    "axs.set_yticks([]);\n",
    "axs.set_xlabel('');\n",
    "axs.set_ylabel('');\n",
    "#plt.savefig('../Figure3/fig/Fig3g_heatmap_wnt.pdf')\n"
   ]
  },
  {
   "cell_type": "code",
   "execution_count": 15,
   "id": "c31c42e6-f481-488c-80fb-0ee67005f7a4",
   "metadata": {
    "tags": []
   },
   "outputs": [
    {
     "data": {
      "image/png": "[encoded data removed]",
      "text/plain": [
       "<Figure size 300x150 with 1 Axes>"
      ]
     },
     "metadata": {},
     "output_type": "display_data"
    }
   ],
   "source": [
    "fig, axs = fig, axs = plt.subplots(1,1,figsize=(3,1.5),sharey=False,sharex=False)\n",
    "g=sns.barplot(data=df_wnt,x=\"time\", y=\"Editing efficiency\",hue='conc',errwidth=0.3, errorbar='sd', capsize=.06,\\\n",
    "              palette=['#C7CEF6','#D8A49B','#7496D2','#F5CDB6','#F7B0AA','#E6A2C5','#FDDDA4','#76A08A','#9A872D'],ax=axs)\n",
    "g.legend(loc='upper left', bbox_to_anchor=(1, 1),prop={'size': 6})\n",
    "sns.despine(offset=3)\n",
    "axs.set_ylabel('Editing efficiency (%)',fontsize=7);\n",
    "axs.set_xlabel('Ligand exposure time (h)',fontsize=6)\n",
    "axs.set_ylim(0,4.5)\n",
    "axs.yaxis.set_tick_params(width=0.8, length=2,labelsize=6)\n",
    "axs.xaxis.set_tick_params(width=0.8, length=2,labelsize=6)\n",
    "#plt.savefig('../Figure3/fig/SuppFig6c.pdf')\n"
   ]
  },
  {
   "cell_type": "markdown",
   "id": "2a5f678f-99ee-46b2-8506-0c2c9c0dd1d0",
   "metadata": {
    "tags": []
   },
   "source": [
    "## Time_dose NFKB"
   ]
  },
  {
   "cell_type": "code",
   "execution_count": 16,
   "id": "013af4e7-fd38-44c0-ad06-2bd733c44926",
   "metadata": {
    "tags": []
   },
   "outputs": [],
   "source": [
    "path = '../Figure3/time_dose_nfkb/'\n",
    "samples =sorted([s.split('_bc_count.tsv')[0] for s in os.listdir(path) if '.tsv' in s])\n",
    "ref = pd.DataFrame([('','WT'),('TCCTA','NFKB'),('AATAA','NFKB')],columns = ['barcode','Sample'])\n",
    "concs = [0.25,0.5,1,2,4,8,16,32]\n",
    "edits = []\n",
    "for s in samples: \n",
    "    file = path+s\n",
    "    with open(file +'_bc_count.tsv','r') as f:\n",
    "        temp = f.readlines()\n",
    "        df = ref.merge(pd.DataFrame(merge_edit_1([a for a in [str2array(s) for s in temp] if len(a[0]) ==0 or len(a[0]) ==5]),columns=['barcode','count']),on='barcode',how='left')\n",
    "        df['ratio'] = df['count']/df['count'].sum()*100\n",
    "        df = df[['Sample','ratio']].groupby('Sample').sum().reset_index()\n",
    "    f.close()\n",
    "    a,rep = s.split('_rep')\n",
    "    b,day = a.split('_')\n",
    "    sample = int(b.split('NFKB-TNFa-')[1])\n",
    "    conc = concs[int(sample)-1]\n",
    "    edits.append([conc,int(day[:-1]),'rep'+rep,100-list(df[df['Sample']=='WT']['ratio'])[0]])\n",
    "df_nfkb = pd.DataFrame(edits,columns=['conc','time','rep','Editing efficiency'])"
   ]
  },
  {
   "cell_type": "code",
   "execution_count": 17,
   "id": "70e01ddc-42c8-4538-a668-0a5598e15baf",
   "metadata": {
    "tags": []
   },
   "outputs": [
    {
     "data": {
      "image/png": "[encoded data removed]",
      "text/plain": [
       "<Figure size 200x200 with 1 Axes>"
      ]
     },
     "metadata": {},
     "output_type": "display_data"
    }
   ],
   "source": [
    "df_plot_nfkb =df_nfkb.sort_values(by='time').groupby(['conc','time'],as_index=False ).mean(numeric_only=True).pivot(index='conc',columns='time').sort_values('conc',axis=0,ascending=False)\n",
    "\n",
    "fig, axs = fig, axs = plt.subplots(1,1,figsize=(2,2),sharey=False,sharex=False)\n",
    "sns.heatmap(df_plot_nfkb,ax=axs,cmap='Oranges',vmin=0, vmax=4,cbar=False)\n",
    "axs.set_xticks([]);\n",
    "axs.set_yticks([]);\n",
    "axs.set_xlabel('');\n",
    "axs.set_ylabel('');\n",
    "#plt.savefig('../Figure3/fig/Fig3f_heatmap_nfkb.pdf')\n"
   ]
  },
  {
   "cell_type": "code",
   "execution_count": 18,
   "id": "e4484443-6940-48f6-9832-dcf937d41082",
   "metadata": {
    "tags": []
   },
   "outputs": [
    {
     "data": {
      "image/png": "[encoded data removed]",
      "text/plain": [
       "<Figure size 300x150 with 1 Axes>"
      ]
     },
     "metadata": {},
     "output_type": "display_data"
    }
   ],
   "source": [
    "fig, axs = fig, axs = plt.subplots(1,1,figsize=(3,1.5),sharey=False,sharex=False)\n",
    "g=sns.barplot(data=df_nfkb,x=\"time\", y=\"Editing efficiency\",hue='conc',errwidth=0.3, errorbar='sd', capsize=.06,\\\n",
    "              palette=['#C7CEF6','#D8A49B','#7496D2','#F5CDB6','#F7B0AA','#E6A2C5','#FDDDA4','#76A08A','#9A872D'])\n",
    "g.legend(loc='upper left', bbox_to_anchor=(1, 1),prop={'size': 6})\n",
    "sns.despine(offset=3)\n",
    "axs.set_ylim(0,4.5)\n",
    "axs.set_ylabel('Editing efficiency (%)',fontsize=7);\n",
    "axs.set_xlabel('Ligand exposure time (h)',fontsize=6)\n",
    "axs.yaxis.set_tick_params(width=0.8, length=2,labelsize=6)\n",
    "axs.xaxis.set_tick_params(width=0.8, length=2,labelsize=6)\n",
    "#plt.savefig('../Figure3/fig/SuppFig_6b.pdf')"
   ]
  },
  {
   "cell_type": "markdown",
   "id": "408b4621-af7c-4668-8b8e-8a384a8d5768",
   "metadata": {
    "tags": []
   },
   "source": [
    "# Multiplexing Figure 3i"
   ]
  },
  {
   "cell_type": "code",
   "execution_count": 19,
   "id": "072b8940-9213-43fd-8a03-5b5de507b55b",
   "metadata": {
    "tags": []
   },
   "outputs": [],
   "source": [
    "path = '../Figure3/multiplex/'\n",
    "conditions = ['neg-ctrl', 'Dox', 'TNFa', 'CHIR', 'Dox-TNFa','Dox-CHIR','TNFa-CHIR', 'Dox-TNFa-CHIR' ]\n",
    "ref = pd.DataFrame([('','WT'),('AGAAG','Dox'),('TCCTA','NFKB'),('AATAA','NFKB'),('GCAAC','Wnt')],columns = ['barcode','Sample'])\n",
    "matrix = np.empty([3,8])\n",
    "for i in range(8):    \n",
    "    df_temp = pd.DataFrame(['WT','Dox','NFKB','Wnt'],columns = ['Sample'])\n",
    "    for j in range(3):\n",
    "        with open(path+'293T-'+ conditions[i]+ '_rep' + str(j+1) +'_bc_count.tsv','r') as f:\n",
    "            temp = f.readlines()\n",
    "            test = ref.merge(pd.DataFrame(merge_edit_1([a for a in [str2array(s) for s in temp] if len(a[0]) ==0 or len(a[0]) ==5]),columns=['barcode','count']),on='barcode',how='inner')[['Sample','count']].groupby('Sample',sort=False).sum().reset_index()\n",
    "            test['ratio']=test['count']/test['count'].sum()*100\n",
    "            df_temp = df_temp.merge(test[['Sample','ratio']],on='Sample')\n",
    "        f.close()\n",
    "    matrix[:,i] = df_temp.loc[1:,['ratio_x','ratio_y','ratio']].mean(axis=1)"
   ]
  },
  {
   "cell_type": "code",
   "execution_count": 20,
   "id": "fb2b3dc4-fa7a-4279-b0c4-d8636e0b97e9",
   "metadata": {
    "tags": []
   },
   "outputs": [
    {
     "data": {
      "text/plain": [
       "[]"
      ]
     },
     "execution_count": 20,
     "metadata": {},
     "output_type": "execute_result"
    },
    {
     "data": {
      "image/png": "[encoded data removed]",
      "text/plain": [
       "<Figure size 400x150 with 2 Axes>"
      ]
     },
     "metadata": {},
     "output_type": "display_data"
    }
   ],
   "source": [
    "fig, axs = fig, axs = plt.subplots(1,1,figsize=(4,1.5),sharey=False,sharex=False)\n",
    "sns.heatmap(matrix,ax=axs,cmap='Oranges',vmin=0, vmax=2.)\n",
    "axs.set_xlabel('');\n",
    "axs.set_ylabel('')\n",
    "axs.set_xticks([])\n",
    "axs.set_yticks([])\n",
    "#plt.savefig('../Figure3/Fig_3i.pdf')"
   ]
  },
  {
   "cell_type": "code",
   "execution_count": 21,
   "id": "75030529-736e-46f8-b83e-b655ca92795d",
   "metadata": {
    "tags": []
   },
   "outputs": [
    {
     "data": {
      "text/html": [
       "<div>\n",
       "<style scoped>\n",
       "    .dataframe tbody tr th:only-of-type {\n",
       "        vertical-align: middle;\n",
       "    }\n",
       "\n",
       "    .dataframe tbody tr th {\n",
       "        vertical-align: top;\n",
       "    }\n",
       "\n",
       "    .dataframe thead th {\n",
       "        text-align: right;\n",
       "    }\n",
       "</style>\n",
       "<table border=\"1\" class=\"dataframe\">\n",
       "  <thead>\n",
       "    <tr style=\"text-align: right;\">\n",
       "      <th></th>\n",
       "      <th>neg-ctrl</th>\n",
       "      <th>Dox</th>\n",
       "      <th>TNFa</th>\n",
       "      <th>CHIR</th>\n",
       "      <th>Dox-TNFa</th>\n",
       "      <th>Dox-CHIR</th>\n",
       "      <th>TNFa-CHIR</th>\n",
       "      <th>Dox-TNFa-CHIR</th>\n",
       "    </tr>\n",
       "  </thead>\n",
       "  <tbody>\n",
       "    <tr>\n",
       "      <th>Dox</th>\n",
       "      <td>0.062923</td>\n",
       "      <td>0.76581</td>\n",
       "      <td>0.117181</td>\n",
       "      <td>0.137012</td>\n",
       "      <td>0.601087</td>\n",
       "      <td>0.860524</td>\n",
       "      <td>0.114314</td>\n",
       "      <td>0.814019</td>\n",
       "    </tr>\n",
       "    <tr>\n",
       "      <th>TNFa</th>\n",
       "      <td>0.100369</td>\n",
       "      <td>0.11432</td>\n",
       "      <td>1.369776</td>\n",
       "      <td>0.201068</td>\n",
       "      <td>1.255134</td>\n",
       "      <td>0.187730</td>\n",
       "      <td>1.016883</td>\n",
       "      <td>1.109756</td>\n",
       "    </tr>\n",
       "    <tr>\n",
       "      <th>Wnt</th>\n",
       "      <td>0.068451</td>\n",
       "      <td>0.09228</td>\n",
       "      <td>0.188331</td>\n",
       "      <td>1.785085</td>\n",
       "      <td>0.112334</td>\n",
       "      <td>1.570019</td>\n",
       "      <td>1.507601</td>\n",
       "      <td>1.561234</td>\n",
       "    </tr>\n",
       "  </tbody>\n",
       "</table>\n",
       "</div>"
      ],
      "text/plain": [
       "      neg-ctrl      Dox      TNFa      CHIR  Dox-TNFa  Dox-CHIR  TNFa-CHIR  \\\n",
       "Dox   0.062923  0.76581  0.117181  0.137012  0.601087  0.860524   0.114314   \n",
       "TNFa  0.100369  0.11432  1.369776  0.201068  1.255134  0.187730   1.016883   \n",
       "Wnt   0.068451  0.09228  0.188331  1.785085  0.112334  1.570019   1.507601   \n",
       "\n",
       "      Dox-TNFa-CHIR  \n",
       "Dox        0.814019  \n",
       "TNFa       1.109756  \n",
       "Wnt        1.561234  "
      ]
     },
     "execution_count": 21,
     "metadata": {},
     "output_type": "execute_result"
    }
   ],
   "source": [
    "df_matrix = pd.DataFrame(matrix,columns=['neg-ctrl', 'Dox', 'TNFa', 'CHIR', 'Dox-TNFa','Dox-CHIR','TNFa-CHIR', 'Dox-TNFa-CHIR' ],\\\n",
    "                         index=['Dox','TNFa','Wnt'])\n",
    "df_matrix"
   ]
  },
  {
   "cell_type": "code",
   "execution_count": 22,
   "id": "efb8f78f-1a84-4fc3-89f5-88d4bedf3faf",
   "metadata": {
    "tags": []
   },
   "outputs": [
    {
     "data": {
      "text/html": [
       "<div>\n",
       "<style scoped>\n",
       "    .dataframe tbody tr th:only-of-type {\n",
       "        vertical-align: middle;\n",
       "    }\n",
       "\n",
       "    .dataframe tbody tr th {\n",
       "        vertical-align: top;\n",
       "    }\n",
       "\n",
       "    .dataframe thead th {\n",
       "        text-align: right;\n",
       "    }\n",
       "</style>\n",
       "<table border=\"1\" class=\"dataframe\">\n",
       "  <thead>\n",
       "    <tr style=\"text-align: right;\">\n",
       "      <th></th>\n",
       "      <th>neg-ctrl</th>\n",
       "      <th>Dox</th>\n",
       "      <th>TNFa</th>\n",
       "      <th>CHIR</th>\n",
       "      <th>Dox-TNFa</th>\n",
       "      <th>Dox-CHIR</th>\n",
       "      <th>TNFa-CHIR</th>\n",
       "      <th>Dox-TNFa-CHIR</th>\n",
       "    </tr>\n",
       "  </thead>\n",
       "  <tbody>\n",
       "    <tr>\n",
       "      <th>Dox</th>\n",
       "      <td>1.0</td>\n",
       "      <td>12.170581</td>\n",
       "      <td>1.862290</td>\n",
       "      <td>2.177447</td>\n",
       "      <td>9.552734</td>\n",
       "      <td>13.675809</td>\n",
       "      <td>1.816733</td>\n",
       "      <td>12.936743</td>\n",
       "    </tr>\n",
       "    <tr>\n",
       "      <th>TNFa</th>\n",
       "      <td>1.0</td>\n",
       "      <td>1.138992</td>\n",
       "      <td>13.647369</td>\n",
       "      <td>2.003281</td>\n",
       "      <td>12.505168</td>\n",
       "      <td>1.870394</td>\n",
       "      <td>10.131422</td>\n",
       "      <td>11.056732</td>\n",
       "    </tr>\n",
       "    <tr>\n",
       "      <th>Wnt</th>\n",
       "      <td>1.0</td>\n",
       "      <td>1.348106</td>\n",
       "      <td>2.751309</td>\n",
       "      <td>26.078195</td>\n",
       "      <td>1.641075</td>\n",
       "      <td>22.936305</td>\n",
       "      <td>22.024453</td>\n",
       "      <td>22.807968</td>\n",
       "    </tr>\n",
       "  </tbody>\n",
       "</table>\n",
       "</div>"
      ],
      "text/plain": [
       "      neg-ctrl        Dox       TNFa       CHIR   Dox-TNFa   Dox-CHIR  \\\n",
       "Dox        1.0  12.170581   1.862290   2.177447   9.552734  13.675809   \n",
       "TNFa       1.0   1.138992  13.647369   2.003281  12.505168   1.870394   \n",
       "Wnt        1.0   1.348106   2.751309  26.078195   1.641075  22.936305   \n",
       "\n",
       "      TNFa-CHIR  Dox-TNFa-CHIR  \n",
       "Dox    1.816733      12.936743  \n",
       "TNFa  10.131422      11.056732  \n",
       "Wnt   22.024453      22.807968  "
      ]
     },
     "execution_count": 22,
     "metadata": {},
     "output_type": "execute_result"
    }
   ],
   "source": [
    "df_fold_change = (df_matrix.T/df_matrix['neg-ctrl']).T\n",
    "df_fold_change"
   ]
  },
  {
   "cell_type": "markdown",
   "id": "745a1be0-b124-4773-9acb-fe0f218cad46",
   "metadata": {
    "tags": []
   },
   "source": [
    "## Supp 6f"
   ]
  },
  {
   "cell_type": "code",
   "execution_count": 23,
   "id": "af3c0c7f-9f45-4a8e-8ea4-802f44a1faa6",
   "metadata": {
    "tags": []
   },
   "outputs": [
    {
     "data": {
      "image/png": "[encoded data removed]",
      "text/plain": [
       "<Figure size 200x150 with 1 Axes>"
      ]
     },
     "metadata": {},
     "output_type": "display_data"
    }
   ],
   "source": [
    "df_new = df_matrix.melt().reset_index(drop=True)\n",
    "df_new['signal']=['TetOn','NFKB','Wnt']*8\n",
    "df_new['comb']=[len(a.split('-')) for a in df_new['variable']]\n",
    "\n",
    "fig, axs = fig, axs = plt.subplots(1,1,figsize=(2,1.5),sharey=False,sharex=False)\n",
    "sns.histplot(df_new, x='variable', hue='signal',  weights='value',multiple='stack',shrink=0.8,\\\n",
    "             palette=['#8DD3C7','#80B1D3','#FC8D62'],ax=axs)\n",
    "sns.despine(offset=3)\n",
    "axs.set_ylim(0,4)\n",
    "axs.set_ylabel('Read with signal specific\\nbarcode / Total reads (\\%)',fontsize=7);\n",
    "axs.set_xlabel('')\n",
    "axs.yaxis.set_tick_params(width=0.8, length=2,labelsize=6)\n",
    "axs.xaxis.set_tick_params(width=0.8, length=2,labelsize=6)\n",
    "#plt.savefig('../Figure3/fig/SuppFig_6f.pdf')"
   ]
  },
  {
   "cell_type": "markdown",
   "id": "063b585c-2e76-402d-a5fd-358726bc4f17",
   "metadata": {
    "tags": []
   },
   "source": [
    "## Combi Supp Fig 6 gh"
   ]
  },
  {
   "cell_type": "code",
   "execution_count": 24,
   "id": "b9bfb7a1-fce8-4703-89b5-762241c6334a",
   "metadata": {
    "tags": []
   },
   "outputs": [],
   "source": [
    "orders = [333,323,313,\n",
    "          332,322,312,\n",
    "          331,321,311,\n",
    "          233,223,213,\n",
    "          232,222,212,\n",
    "          231,221,211,\n",
    "          133,123,113,\n",
    "          132,122,112,\n",
    "          131,121,111]\n",
    "groups = {'11':0,'21':1,'31':2\n",
    "          ,'12':3,'22':4,'32':5\n",
    "          ,'13':6,'23':7,'33':8}"
   ]
  },
  {
   "cell_type": "code",
   "execution_count": 25,
   "id": "acd902ca-30bd-4863-97ac-8d499b233347",
   "metadata": {
    "tags": []
   },
   "outputs": [],
   "source": [
    "path = '../Figure3/multiplex_conc_combi/' # run on two runs has both R1 and R2\n",
    "samples =sorted([s.split('_bc_count.tsv')[0] for s in os.listdir(path) if '.tsv' in s and 'combi' in s])"
   ]
  },
  {
   "cell_type": "code",
   "execution_count": 26,
   "id": "e201159b-1437-4020-88f3-f53ecacfc79e",
   "metadata": {
    "tags": []
   },
   "outputs": [],
   "source": [
    "ref = pd.DataFrame([('','WT'),('CTTCT','Dox'),('TAGGA','NFKB'),('TTATT','NFKB'),('GTTGC','Wnt'),\n",
    "                   ('AGAAG','Dox'),('TCCTA','NFKB'),('AATAA','NFKB'),('GCAAC','Wnt')],columns = ['barcode','Sample'])"
   ]
  },
  {
   "cell_type": "code",
   "execution_count": 27,
   "id": "65f197cd-424e-41f2-b384-cba62c5956ac",
   "metadata": {
    "tags": []
   },
   "outputs": [],
   "source": [
    "df=pd.DataFrame([],columns=['Sample','conc','group','sub_group','rep','count','ratio'])\n",
    "for s in samples: \n",
    "    file = path+s\n",
    "    with open(file +'_bc_count.tsv','r') as f:\n",
    "        temp = f.readlines()\n",
    "        test = pd.DataFrame(merge_edit_1([a for a in [str2array(s) for s in temp] if len(a[0]) ==0 or len(a[0]) ==5]),columns=['barcode','count']).merge(ref,how='inner').groupby('Sample',sort=False,as_index=False).sum()[['Sample','count']]\n",
    "        test['ratio']=test['count']/test['count'].sum()*100\n",
    "    f.close()\n",
    "    a,rep = s.split('_rep')\n",
    "    combi = a.split('-conc-combi-')[1]\n",
    "    signals = pd.DataFrame({'Sample':['Dox','NFKB','Wnt'],'conc':[int(s) for s in combi],'group':groups[combi[1:]],\\\n",
    "                            'sub_group':int(combi[0]),'rep':rep}).merge(test)\n",
    "    df = pd.concat([df,signals])"
   ]
  },
  {
   "cell_type": "code",
   "execution_count": 28,
   "id": "bfe3808c-a718-40d6-8920-a6793bf0c4ff",
   "metadata": {
    "tags": []
   },
   "outputs": [
    {
     "data": {
      "image/png": "[encoded data removed]",
      "text/plain": [
       "<Figure size 300x300 with 9 Axes>"
      ]
     },
     "metadata": {},
     "output_type": "display_data"
    }
   ],
   "source": [
    "fig, axs = fig, axs = plt.subplots(3,3,figsize=(3,3))\n",
    "k=0\n",
    "for i in range(3):\n",
    "    for j in range(3):\n",
    "        mat = df[df['group']==k].groupby(['Sample','sub_group'],as_index=False).mean().\\\n",
    "                          pivot(index='Sample',columns='sub_group',values='ratio').reset_index().iloc[:,1:].astype(float)\n",
    "        sns.heatmap(mat,cmap='Oranges',vmin=0,vmax=1,ax=axs[i,j],cbar=False)\n",
    "        axs[i,j].set_xticks([]);\n",
    "        axs[i,j].set_yticks([]);\n",
    "        axs[i,j].set_xlabel('');\n",
    "        axs[i,j].set_ylabel('');\n",
    "        k+=1\n",
    "        if j==2:\n",
    "            j=0\n",
    "            i+=1\n",
    "            break\n",
    "        j+=1\n",
    "plt.tight_layout()"
   ]
  },
  {
   "cell_type": "code",
   "execution_count": 29,
   "id": "8cf0d6b1-a418-447d-afdc-2e2900f4c689",
   "metadata": {
    "tags": []
   },
   "outputs": [
    {
     "data": {
      "image/png": "[encoded data removed]",
      "text/plain": [
       "<Figure size 300x300 with 9 Axes>"
      ]
     },
     "metadata": {},
     "output_type": "display_data"
    }
   ],
   "source": [
    "fig, axs = fig, axs = plt.subplots(3,3,figsize=(3,3),sharey=True)\n",
    "k=0\n",
    "for i in range(3):\n",
    "    for j in range(3):\n",
    "        g=sns.barplot(data=df[df['group']==k],x=\"sub_group\", y=\"ratio\",hue='Sample',errwidth=0.3, \\\n",
    "                      palette=['#8DD3C7','#80B1D3','#FC8D62'],\\\n",
    "                      errorbar='sd', capsize=.1,ax=axs[i,j])\n",
    "        #g.legend(loc='upper left', bbox_to_anchor=(1, 1),prop={'size':1})\n",
    "        g.legend([],[], frameon=False)\n",
    "        \n",
    "        axs[i,j].set_ylim(0,1.2)\n",
    "        axs[i,j].set_xlabel('')\n",
    "        axs[i,j].set_ylabel('')\n",
    "        axs[i,j].set_xticks([]);\n",
    "        \n",
    "        axs[i,j].xaxis.set_tick_params(width=0, length=0,labelsize=6)\n",
    "        if j!=0:\n",
    "            sns.despine(ax=axs[i,j],left=True,offset=3)\n",
    "            axs[i,j].yaxis.set_tick_params(width=0, length=0,labelsize=6)\n",
    "        else:\n",
    "            sns.despine(ax=axs[i,j],offset=3)\n",
    "            axs[i,j].yaxis.set_tick_params(width=0.8, length=2,labelsize=6)\n",
    "        k+=1\n",
    "        if j==2:\n",
    "            j=0\n",
    "            i+=1\n",
    "            break\n",
    "        j+=1"
   ]
  },
  {
   "cell_type": "code",
   "execution_count": null,
   "id": "fb7b704a-59af-46ee-8861-dcf5736baf58",
   "metadata": {},
   "outputs": [],
   "source": []
  },
  {
   "cell_type": "code",
   "execution_count": null,
   "id": "75852427-b1a7-42fa-82fe-235c7c6334e2",
   "metadata": {},
   "outputs": [],
   "source": []
  },
  {
   "cell_type": "markdown",
   "id": "7e56d499-c145-4445-9630-26819ab6d2af",
   "metadata": {
    "tags": []
   },
   "source": [
    "# MOI quantification Supp Fig6d"
   ]
  },
  {
   "cell_type": "code",
   "execution_count": 30,
   "id": "e38cd3e8-c38f-44f9-9919-55f63b5612a7",
   "metadata": {
    "tags": []
   },
   "outputs": [],
   "source": [
    "moi = pd.read_csv('../Figure3/PB_MOI_quantification_processed.csv')"
   ]
  },
  {
   "cell_type": "code",
   "execution_count": 31,
   "id": "160e1717-be7c-4719-9221-28592860527d",
   "metadata": {
    "tags": []
   },
   "outputs": [],
   "source": [
    "moi['copy'] = 2*2**(-moi['value'])\n",
    "moi_gfp= moi[(moi['primer'].str.contains('GFP'))].reset_index(drop=True) # &(moi['Sample']!='a')"
   ]
  },
  {
   "cell_type": "code",
   "execution_count": 37,
   "id": "759c91ba-ccc6-40f9-af11-4dcb54298369",
   "metadata": {
    "tags": []
   },
   "outputs": [
    {
     "data": {
      "image/png": "[encoded data removed]",
      "text/plain": [
       "<Figure size 200x150 with 1 Axes>"
      ]
     },
     "metadata": {},
     "output_type": "display_data"
    }
   ],
   "source": [
    "fig, axs = plt.subplots(1,figsize=(2,1.5),sharey=False,sharex=False)\n",
    "g=sns.lineplot(data=moi_gfp,x=\"Day\", y=\"copy\",hue='Sample',style='primer',palette=['#C0C0C0','#aed6f1','#f1948a'],\\\n",
    "               markers=['.','.'],linewidth = 1,errorbar='sd',ax=axs)\n",
    "axs.set_xlabel('Days post transfection',fontsize=7);\n",
    "axs.set_ylabel('Estimated MOI',fontsize=7)\n",
    "axs.xaxis.set_tick_params(width=0.8, length=2,labelsize=6)\n",
    "axs.yaxis.set_tick_params(which='major',width=0.8, length=2,labelsize=5)\n",
    "axs.yaxis.set_tick_params(which='minor',width=0.4, length=1.5,labelsize=0)\n",
    "\n",
    "axs.set_xlim(1,16)\n",
    "axs.set_ylim(10**(-3),10**3.5)\n",
    "#axs.axes.axhline(10**(1.3),color = '#4A4A4A',**{'linestyle':'--','lw':0.8})\n",
    "axs.xaxis.set_ticks(np.arange(1, 16, 2))\n",
    "axs.set_yscale('log',base=10)\n",
    "g.legend_.remove()\n",
    "sns.despine(offset=3)"
   ]
  },
  {
   "cell_type": "code",
   "execution_count": null,
   "id": "204503ec-91fe-4e06-bbec-d8887b32b063",
   "metadata": {},
   "outputs": [],
   "source": []
  }
 ],
 "metadata": {
  "kernelspec": {
   "display_name": "Python 3 (ipykernel)",
   "language": "python",
   "name": "python3"
  },
  "language_info": {
   "codemirror_mode": {
    "name": "ipython",
    "version": 3
   },
   "file_extension": ".py",
   "mimetype": "text/x-python",
   "name": "python",
   "nbconvert_exporter": "python",
   "pygments_lexer": "ipython3",
   "version": "3.9.13"
  }
 },
 "nbformat": 4,
 "nbformat_minor": 5
}
