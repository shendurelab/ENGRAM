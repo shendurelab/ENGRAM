{
 "cells": [
  {
   "cell_type": "code",
   "execution_count": 15,
   "id": "modified-detection",
   "metadata": {
    "tags": []
   },
   "outputs": [],
   "source": [
    "import os,random,itertools,matplotlib\n",
    "import numpy as np\n",
    "import scipy as sp\n",
    "import pandas as pd\n",
    "import seaborn as sns\n",
    "import matplotlib.pyplot as plt \n",
    "# Umitools\n",
    "from umi_tools._dedup_umi import edit_distance\n",
    "matplotlib.rcParams['font.family'] = 'Helvetica'\n",
    "\n",
    "def str2array(s):\n",
    "    a,b= s.split('\\t')[:2]\n",
    "    return (a,int(b))\n",
    "\n",
    "def merge_edit_1(counts):\n",
    "    keep,collapse = [],counts[0:]\n",
    "    while len(collapse)>0:\n",
    "        ref = list(collapse[0]) # need to convert to list here otherwise will keep updating the value to new_cluster\n",
    "        temp = []\n",
    "        for s in collapse[1:]:\n",
    "            s1 = ref[0]\n",
    "            s2 = s[0]\n",
    "            if abs(len(s1)-len(s2))<=1 and edit_distance(s1.encode('utf-8'),s2.encode('utf-8'))<2:\n",
    "                ref[-1] += s[-1]\n",
    "            else:\n",
    "                temp.append(s)\n",
    "        keep.append(ref)\n",
    "        collapse = temp[0:]\n",
    "    return np.array(keep,dtype=object)\n",
    "\n",
    "def reverse_complement(seq):\n",
    "    \"\"\"This function returns the reverse_complement sequence of the input sequence\n",
    "    from 3' to 5' \"\"\"\n",
    "    complement = {'A':'T', 'C':'G','G':'C', 'T':'A', 'N':'N','U':'A'}\n",
    "    rcomp_seq = ''\n",
    "    for base in seq:\n",
    "        rcomp_seq = complement[base] + rcomp_seq   \n",
    "    return rcomp_seq\n",
    "%matplotlib inline\n"
   ]
  },
  {
   "cell_type": "markdown",
   "id": "5bcb93c3-8a5e-43fd-9fd4-12335f0e5b69",
   "metadata": {
    "tags": []
   },
   "source": [
    "# ENGRAM dev 1.0 vs 2.0"
   ]
  },
  {
   "cell_type": "markdown",
   "id": "17797a07-2fed-4f29-9f1c-96b927096200",
   "metadata": {
    "tags": []
   },
   "source": [
    "## ENGRAM 1.0 U6 vs PGK supp Figure 1c"
   ]
  },
  {
   "cell_type": "code",
   "execution_count": 17,
   "id": "33629040-6b88-43b4-8e72-5ed1c24e718f",
   "metadata": {
    "tags": []
   },
   "outputs": [
    {
     "data": {
      "image/png": "[encoded data removed]",
      "text/plain": [
       "<Figure size 150x150 with 1 Axes>"
      ]
     },
     "metadata": {},
     "output_type": "display_data"
    }
   ],
   "source": [
    "df = pd.DataFrame([['PE2+CTT','rep1', 4.91], ['PE2+CTT','rep2', 7.15], ['PE2+CTT','rep3', 3.91], ['PE2-Csy4+pgkCTT','rep1', 6.11], ['PE2-Csy4+pgkCTT','rep2', 5.39], ['PE2-Csy4+pgkCTT','rep3', 6.17]],columns=['Designs','rep','Editing efficiency'])\n",
    "fig, axs = plt.subplots(figsize=(1.5,1.5),sharey=False,sharex=False)\n",
    "g=sns.barplot(data=df, x=\"Designs\", y='Editing efficiency',palette=['#80B1D3','#FB8072'],errwidth=0.5, errorbar='sd', capsize=.1) \n",
    "sns.stripplot(data=df, x=\"Designs\", y='Editing efficiency', dodge=True,color=\"#4A4A4A\",marker='.',size=4,ax=axs)\n",
    "axs.set_ylim(0,8)\n",
    "start, end = axs.get_ylim()\n",
    "axs.yaxis.set_ticks(np.arange(start, end+1, 2))\n",
    "axs.set_xlabel('');\n",
    "g.set_box_aspect(4.5/len(g.patches))\n",
    "start, end = axs.get_ylim()\n",
    "axs.set_ylabel('Editing efficiency (%)',fontsize=7)\n",
    "axs.xaxis.set_tick_params(width=0.5, length=2,labelsize=6)\n",
    "axs.yaxis.set_tick_params(width=0.5, length=2,labelsize=6)\n",
    "sns.despine(offset=3)\n",
    "#plt.savefig('../Figure1/SuppFig1c.pdf')"
   ]
  },
  {
   "cell_type": "markdown",
   "id": "5cc195a0-9cd2-4ecb-a858-18678bc5c653",
   "metadata": {
    "tags": []
   },
   "source": [
    "## ENGRAM 1.0 minP vs CRE-minP K562 Supp Fig 1d"
   ]
  },
  {
   "cell_type": "code",
   "execution_count": 18,
   "id": "c49bafde-3561-46b1-837a-959cccc97e86",
   "metadata": {
    "tags": []
   },
   "outputs": [
    {
     "data": {
      "image/png": "[encoded data removed]",
      "text/plain": [
       "<Figure size 150x150 with 1 Axes>"
      ]
     },
     "metadata": {},
     "output_type": "display_data"
    }
   ],
   "source": [
    "path = '../Figure1/CRE_vs_minP/'\n",
    "samples =sorted([s.split('_S')[0] for s in os.listdir(path) if '.gz' in s and 'R1' in s])\n",
    "\n",
    "edits = []\n",
    "for s in samples:\n",
    "    file = path+s\n",
    "    #rcount = int(read_count[read_count['sample'].str.contains(s)]['counts'])\n",
    "    with open(file +'_bc_count.tsv','r') as f:\n",
    "        temp = f.readlines()\n",
    "        count_table = np.array([a for a in [str2array(s) for s in temp]if len(a[0])==5 or a[0]==''],dtype=object)\n",
    "        ratio = sum(count_table[1:,1])/sum(count_table[:,1])\n",
    "    f.close()\n",
    "    a,rep = s.split('_rep')\n",
    "    b = a.rstrip('_5N').lstrip('K562_')\n",
    "    edits.append([b,'rep'+rep,ratio*100])\n",
    "df = pd.DataFrame(edits,columns=['Designs','rep','Editing efficiency'])\n",
    "\n",
    "fig, axs = plt.subplots(figsize=(1.5,1.5),sharey=False,sharex=False)\n",
    "g=sns.barplot(data=df, x=\"Designs\", y='Editing efficiency',order=['minP','enhancer'],palette=['#E1E1E1','#FB8072'],errwidth=0.5, errorbar='sd', capsize=.1) \n",
    "sns.stripplot(data=df, x=\"Designs\", y='Editing efficiency',order=['minP','enhancer'],dodge=True,color=\"#4A4A4A\",marker='.',size=4,ax=axs)\n",
    "axs.set_xlabel('');\n",
    "axs.set_ylim(0,5);\n",
    "g.set_box_aspect(4.5/len(g.patches))\n",
    "start, end = axs.get_ylim()\n",
    "axs.set_ylabel('Editing efficiency (%)',fontsize=7)\n",
    "axs.xaxis.set_tick_params(width=0.5, length=2,labelsize=6)\n",
    "axs.yaxis.set_tick_params(width=0.5, length=2,labelsize=6)\n",
    "sns.despine(offset=3)\n",
    "#plt.savefig('../Figure1/fig/SupFig1d.pdf')"
   ]
  },
  {
   "cell_type": "markdown",
   "id": "33e5956c-9e15-4832-8bf1-2ea85fb7d2fa",
   "metadata": {
    "tags": []
   },
   "source": [
    "## ENGRAM 1.0 vs 2.0 3'ENGRAM Supp Fig 1f"
   ]
  },
  {
   "cell_type": "code",
   "execution_count": 19,
   "id": "36354224-3d41-435f-88c9-035211c6f6e8",
   "metadata": {
    "tags": []
   },
   "outputs": [
    {
     "data": {
      "image/png": "[encoded data removed]",
      "text/plain": [
       "<Figure size 150x150 with 1 Axes>"
      ]
     },
     "metadata": {},
     "output_type": "display_data"
    }
   ],
   "source": [
    "## Use the sequence in pegRNA not in gDNA so need to reverse complement\n",
    "path = '../Figure1/ENGRAM_1_vs_2/'\n",
    "samples =sorted([s.split('_S')[0] for s in os.listdir(path) if '.gz' in s and 'R2' in s])\n",
    "\n",
    "edits = []\n",
    "for s in samples:\n",
    "    file = path+s\n",
    "    #rcount = int(read_count[read_count['sample'].str.contains(s)]['counts'])\n",
    "    with open(file +'_bc_count.tsv','r') as f:\n",
    "        temp = f.readlines()\n",
    "        count_table = np.array([a for a in [str2array(s) for s in temp]if len(a[0])==5 or a[0]==''],dtype=object)\n",
    "        ratio = sum(count_table[1:,1])/sum(count_table[:,1])\n",
    "    f.close()\n",
    "    a,rep = s.split('_rep')\n",
    "    \n",
    "    b = a.rstrip('-3-ENGRAM').lstrip('HEK293T-')\n",
    "    edits.append([b,'rep'+rep,ratio*100])\n",
    "df = pd.DataFrame(edits,columns=['Designs','rep','Editing efficiency'])\n",
    "\n",
    "fig, axs = plt.subplots(figsize=(1.5,1.5),sharey=False,sharex=False)\n",
    "g=sns.barplot(data=df, x=\"Designs\", y='Editing efficiency',order=['PE2-Csy4','PE2'],palette=['#80B1D3','#FB8072'],errwidth=0.5, errorbar='sd', capsize=.1) \n",
    "sns.stripplot(data=df, x=\"Designs\", y='Editing efficiency',order=['PE2-Csy4','PE2'],dodge=True,color=\"#4A4A4A\",marker='.',size=4,ax=axs)\n",
    "axs.set_xlabel('');\n",
    "axs.set_ylim(0,2.5);\n",
    "g.set_box_aspect(4.5/len(g.patches))\n",
    "start, end = axs.get_ylim()\n",
    "axs.set_ylabel('Editing efficiency (%)',fontsize=7)\n",
    "axs.xaxis.set_tick_params(width=0.5, length=2,labelsize=6)\n",
    "axs.yaxis.set_tick_params(width=0.5, length=2,labelsize=6)\n",
    "sns.despine(offset=3)\n",
    "#plt.savefig('../Figure1/fig/SupFig1f.pdf')"
   ]
  },
  {
   "cell_type": "markdown",
   "id": "dc047d2e-56f0-4baa-925e-5e92e3fb61f6",
   "metadata": {
    "tags": []
   },
   "source": [
    "# ENGRAM 2.0 demo"
   ]
  },
  {
   "cell_type": "markdown",
   "id": "98a91a28-4116-4a8c-aebc-215d497b79cf",
   "metadata": {
    "tags": []
   },
   "source": [
    "## ENGRAM 2.0 Time series Figure 1c "
   ]
  },
  {
   "cell_type": "code",
   "execution_count": 5,
   "id": "fdeecd10-cd68-44f5-b9cd-b8be9cd37a26",
   "metadata": {
    "tags": []
   },
   "outputs": [],
   "source": [
    "path = '../Figure1/time_seires/'\n",
    "samples =sorted([s.split('.')[0] for s in os.listdir(path) if '.tsv' in s])\n",
    "edits = []\n",
    "for i in range(len(samples)):\n",
    "    with open(path+samples[i]+'.tsv','r') as f:\n",
    "        edit = float(f.readlines()[0].rstrip('\\n').split('\\t')[-1])\n",
    "        a,b = samples[i].split('-D')\n",
    "        day,rep = b.split('_')[0:2]\n",
    "        edits.append([a,int(day),rep,100-edit])\n",
    "df1 = pd.DataFrame(edits,columns=['Design','days','rep','Editing efficiency'])"
   ]
  },
  {
   "cell_type": "code",
   "execution_count": 6,
   "id": "6d4f766a-9027-4d7e-b4b6-b2444229be73",
   "metadata": {
    "tags": []
   },
   "outputs": [
    {
     "data": {
      "image/png": "[encoded data removed]",
      "text/plain": [
       "<Figure size 200x150 with 1 Axes>"
      ]
     },
     "metadata": {},
     "output_type": "display_data"
    }
   ],
   "source": [
    "df1['days'] = pd.Categorical(df1['days'],\n",
    "                             categories=[4,7,10,13,15,20],ordered=True) #['D1','D3','D5','D7','D9','D11','D13','D15','D17','D21']\n",
    "fig, axs = plt.subplots(1,figsize=(2,1.5),sharey=False,sharex=False)\n",
    "g=sns.lineplot(data=df1,x=\"days\", y=\"Editing efficiency\",hue='Design',style='Design',palette=['#FB8072','#80B1D3','#66C2A5'],\\\n",
    "               linewidth = 1,markers=['.','.','.'],dashes=False,err_style=\"bars\", err_kws={'capsize':1,'elinewidth':0.5},errorbar='sd',ax=axs)\n",
    "axs.set_xlabel('');\n",
    "axs.set_ylabel('Background\\nediting efficiency (%)',fontsize=7)\n",
    "axs.yaxis.set_ticks(np.arange(0, 7, 2))\n",
    "axs.xaxis.set_tick_params(width=0.8, length=2,labelsize=6)\n",
    "axs.yaxis.set_tick_params(width=0.8, length=2,labelsize=6)\n",
    "g.legend_.remove()\n",
    "sns.despine(offset=3)\n",
    "\n",
    "#plt.savefig('../Figure1/fig/Fig_1c.pdf')"
   ]
  },
  {
   "cell_type": "markdown",
   "id": "133a1ac2-396e-4849-9454-0e162aa16b64",
   "metadata": {
    "tags": []
   },
   "source": [
    "## ENGRAM 2.0 variants comparison Figure 1d"
   ]
  },
  {
   "cell_type": "code",
   "execution_count": 20,
   "id": "dca36484-f2af-4e9d-be33-375d02e7697c",
   "metadata": {
    "tags": []
   },
   "outputs": [
    {
     "data": {
      "image/png": "[encoded data removed]",
      "text/plain": [
       "<Figure size 200x150 with 1 Axes>"
      ]
     },
     "metadata": {},
     "output_type": "display_data"
    }
   ],
   "source": [
    "path = '../Figure1/ENGRAM_variants_comparison/'\n",
    "samples =sorted([s.split('_S')[0] for s in os.listdir(path) if '.gz' in s and 'R1' in s ])\n",
    "\n",
    "edits = []\n",
    "for s in samples:\n",
    "    file = path+s\n",
    "    with open(file +'_bc_count.tsv','r') as f:\n",
    "        temp = f.readlines()\n",
    "        count_table = merge_edit_1([a for a in [str2array(s) for s in temp] if len(a[0])==5 or a[0]==''])\n",
    "        ratio = sum(count_table[1:,1])/sum(count_table[:,1])\n",
    "    f.close()\n",
    "    a,rep = s.split('_rep')\n",
    "    \n",
    "    b = a.split('-')\n",
    "    if len(b)==4:\n",
    "        edits.append([b[-2],b[-1],'rep'+rep,ratio*100])\n",
    "    else:\n",
    "        edits.append(['No',b[-1],'rep'+rep,ratio*100])\n",
    "df = pd.DataFrame(edits,columns=['Ligands','Designs','rep','Editing efficiency'])\n",
    "\n",
    "fig, axs = plt.subplots(figsize=(2,1.5),sharey=False,sharex=False)\n",
    "g=sns.barplot(data=df, x=\"Designs\", y='Editing efficiency', hue=\"Ligands\", order=['3','5','35'],palette=['#E1E1E1','#FB8072'],errwidth=0.5, errorbar='sd', capsize=.1) \n",
    "sns.stripplot(data=df, x=\"Designs\", y='Editing efficiency', hue=\"Ligands\",order=['3','5','35'], dodge=True,palette='dark:#4A4A4A' ,marker='.',size=4,ax=axs,legend=False)\n",
    "\n",
    "axs.set_xlabel('');\n",
    "axs.set_ylim(0,20);\n",
    "start, end = axs.get_ylim()\n",
    "axs.set_ylabel('Editing efficiency (%)',fontsize=6)\n",
    "g.set_box_aspect(6/len(g.patches))\n",
    "axs.xaxis.set_tick_params(width=0.5, length=2,labelsize=6)\n",
    "axs.yaxis.set_tick_params(width=0.5, length=2,labelsize=6)\n",
    "sns.despine(offset=3)\n",
    "\n",
    "#plt.savefig('../Figure1/fig/Figure1d.pdf')"
   ]
  },
  {
   "cell_type": "markdown",
   "id": "dcb7cde0-f5fe-4315-9d38-f3637bb186ba",
   "metadata": {
    "jp-MarkdownHeadingCollapsed": true,
    "tags": []
   },
   "source": [
    "## ENGRAM 2.0 pegRNA vs epegRNA  Supp Fig 1g"
   ]
  },
  {
   "cell_type": "code",
   "execution_count": 29,
   "id": "e000133b-870d-4a30-a4e8-8c65a71c70d4",
   "metadata": {
    "tags": []
   },
   "outputs": [
    {
     "data": {
      "image/png": "[encoded data removed]",
      "text/plain": [
       "<Figure size 150x150 with 1 Axes>"
      ]
     },
     "metadata": {},
     "output_type": "display_data"
    }
   ],
   "source": [
    "## Use the sequence in pegRNA not in gDNA so need to reverse complement\n",
    "path = '../Figure1/epeg/'\n",
    "samples =sorted([s.split('_S')[0] for s in os.listdir(path) if '.gz' in s and 'R1' in s])\n",
    "\n",
    "edits = []\n",
    "for s in samples:\n",
    "    file = path+s\n",
    "    #rcount = int(read_count[read_count['sample'].str.contains(s)]['counts'])\n",
    "    with open(file +'_bc_count.tsv','r') as f:\n",
    "        temp = f.readlines()\n",
    "        count_table = np.array([a for a in [str2array(s) for s in temp]if len(a[0])==5 or a[0]==''],dtype=object)\n",
    "        ratio = sum(count_table[1:,1])/sum(count_table[:,1])\n",
    "    f.close()\n",
    "    a,rep = s.split('_rep')\n",
    "    b = a.split('-')\n",
    "    edits.append([b[-1],'rep'+rep,ratio*100])\n",
    "\n",
    "df = pd.DataFrame(edits,columns=['Designs','rep','Editing efficiency'])\n",
    "fig, axs = plt.subplots(figsize=(1.5,1.5),sharey=False,sharex=False)\n",
    "g=sns.barplot(data=df, x=\"Designs\", y='Editing efficiency', order=['peg5N','epeg5N'],palette=['#80B1D3','#FB8072'],errwidth=0.5, errorbar='sd', capsize=.1)\n",
    "sns.stripplot(data=df, x=\"Designs\", y='Editing efficiency',  order=['peg5N','epeg5N'],dodge=True,color=\"#4A4A4A\",marker='.',size=4,ax=axs)\n",
    "\n",
    "axs.set_xlabel('');\n",
    "g.set_box_aspect(4.5/len(g.patches))\n",
    "axs.set_ylim(0,30)\n",
    "start, end = axs.get_ylim()\n",
    "axs.yaxis.set_ticks(np.arange(start, end+1, 5))\n",
    "axs.set_ylabel('Editing efficiency (%)',fontsize=7)\n",
    "axs.xaxis.set_tick_params(width=0.5, length=2,labelsize=6)\n",
    "axs.yaxis.set_tick_params(width=0.5, length=2,labelsize=6)\n",
    "sns.despine(offset=3)\n",
    "#plt.savefig('../Figure1/fig/SupFig1g_epeg.pdf');"
   ]
  },
  {
   "cell_type": "markdown",
   "id": "4aa53435-e9bc-4df5-8e7e-707f43c38cf2",
   "metadata": {
    "tags": []
   },
   "source": [
    "## ENGRAM 2.0 PEmax vs PE2 Supp Fig 1h"
   ]
  },
  {
   "cell_type": "code",
   "execution_count": 123,
   "id": "6ed3891c-0ebe-4932-b824-de5c5d55121d",
   "metadata": {
    "tags": []
   },
   "outputs": [
    {
     "data": {
      "image/png": "[encoded data removed]",
      "text/plain": [
       "<Figure size 100x150 with 1 Axes>"
      ]
     },
     "metadata": {},
     "output_type": "display_data"
    }
   ],
   "source": [
    "path = '../Figure1/PEmax/'\n",
    "samples =sorted([s.split('_bc_count')[0] for s in os.listdir(path) if '.tsv' in s ])\n",
    "edits = []\n",
    "for s in samples:\n",
    "    file = path+s\n",
    "    #rcount = int(read_count[read_count['sample'].str.contains(s)]['counts'])\n",
    "    with open(file +'_bc_count.tsv','r') as f:\n",
    "        temp = f.readlines()\n",
    "        count_table = np.array([a for a in [str2array(s) for s in temp] if len(a[0])==5 or a[0]==''],dtype=object)\n",
    "        ratio = sum(count_table[1:,1])/sum(count_table[:,1])\n",
    "    f.close()\n",
    "    a,rep = s.split('_rep')\n",
    "    b = a.split('-')\n",
    "    edits.append([b[0],b[1],'rep'+rep,ratio*100])\n",
    "df = pd.DataFrame(edits,columns=['cell','Designs','rep','Editing efficiency'])\n",
    "fig, axs = plt.subplots(figsize=(1,1.5),sharey=False,sharex=False)\n",
    "g=sns.barplot(data=df, x=\"cell\", y='Editing efficiency', hue='Designs',palette=['#80B1D3','#FB8072'],errwidth=0.5, errorbar='sd', capsize=.1)\n",
    "sns.stripplot(data=df, x=\"cell\", y='Editing efficiency', hue='Designs', dodge=True,palette='dark:#4A4A4A',marker='.',size=4,ax=axs,legend=False)\n",
    "\n",
    "axs.set_xlabel('');\n",
    "start, end = axs.get_ylim()\n",
    "axs.set_ylim(0,20)\n",
    "start, end = axs.get_ylim()\n",
    "axs.yaxis.set_ticks(np.arange(start, end+0.2, 5))\n",
    "axs.set_ylabel('Editing efficiency (%)',fontsize=7)\n",
    "axs.xaxis.set_tick_params(width=0.5, length=2,labelsize=6)\n",
    "axs.yaxis.set_tick_params(width=0.5, length=2,labelsize=6)\n",
    "sns.despine(offset=3)\n",
    "plt.savefig('../Figure1/fig/SupFig1h_PEmax_mESC.pdf')"
   ]
  },
  {
   "cell_type": "code",
   "execution_count": null,
   "id": "6f73817a-444f-46b4-8fce-98ceec4888d6",
   "metadata": {},
   "outputs": [],
   "source": [
    "print (f\"p-value: {sp.stats.ttest_ind(df[df['Designs']=='PEmax']['Editing efficiency'], df[df['Designs']=='PE2']['Editing efficiency'],equal_var=True)[1]}\")\n",
    "print (f\"Fold change: {df[df['Designs']=='PEmax']['Editing efficiency'].mean()/df[df['Designs']=='PE2']['Editing efficiency'].mean()}\")"
   ]
  },
  {
   "cell_type": "markdown",
   "id": "3b13e3db-337e-4dcd-9cf2-d30f3ed2e5b6",
   "metadata": {
    "tags": []
   },
   "source": [
    "## ENGRAM 2.0 with tRNA Suppp Figure 1i"
   ]
  },
  {
   "cell_type": "code",
   "execution_count": 155,
   "id": "f0546a69-a366-4f11-b3e8-f161aa168e00",
   "metadata": {},
   "outputs": [],
   "source": [
    "samples =sorted([s for s in os.listdir(path) if '.fastq.gz' in s and 'tRNA' not in s ])\n"
   ]
  },
  {
   "cell_type": "code",
   "execution_count": 156,
   "id": "721dcbbc-228b-4b3a-a75b-75f08cb33f9b",
   "metadata": {
    "tags": []
   },
   "outputs": [
    {
     "data": {
      "text/plain": [
       "['293T-NFKB-ENGRAM-TNFa_rep1_S6_R1_001.fastq.gz',\n",
       " '293T-NFKB-ENGRAM-TNFa_rep2_S14_R1_001.fastq.gz',\n",
       " '293T-NFKB-ENGRAM-TNFa_rep3_S22_R1_001.fastq.gz',\n",
       " '293T-NFKB-ENGRAM-neg_rep1_S5_R1_001.fastq.gz',\n",
       " '293T-NFKB-ENGRAM-neg_rep2_S13_R1_001.fastq.gz',\n",
       " '293T-NFKB-ENGRAM-neg_rep3_S21_R1_001.fastq.gz']"
      ]
     },
     "execution_count": 156,
     "metadata": {},
     "output_type": "execute_result"
    }
   ],
   "source": [
    "sorted(samples)"
   ]
  },
  {
   "cell_type": "code",
   "execution_count": 165,
   "id": "3fb1e31b-b2a2-4951-b01e-c3bfafa95b2f",
   "metadata": {
    "tags": []
   },
   "outputs": [
    {
     "data": {
      "image/png": "[encoded data removed]",
      "text/plain": [
       "<Figure size 100x150 with 1 Axes>"
      ]
     },
     "metadata": {},
     "output_type": "display_data"
    }
   ],
   "source": [
    "path = '../Figure1/tRNA/'\n",
    "samples =sorted([s.split('_bc_count')[0] for s in os.listdir(path) if '.tsv' in s ])\n",
    "edits = []\n",
    "for s in samples:\n",
    "    file = path+s\n",
    "    #rcount = int(read_count[read_count['sample'].str.contains(s)]['counts'])\n",
    "    with open(file +'_bc_count.tsv','r') as f:\n",
    "        temp = f.readlines()\n",
    "        count_table = np.array([a for a in [str2array(s) for s in temp] if len(a[0])==5 or a[0]==''],dtype=object)\n",
    "        ratio = sum(count_table[1:,1])/sum(count_table[:,1])\n",
    "    f.close()\n",
    "    a,rep = s.split('_rep')\n",
    "    b = a.split('-')\n",
    "    edits.append([b[2],b[3],'rep'+rep,ratio*100])\n",
    "df = pd.DataFrame(edits,columns=['Designs','cond','rep','Editing efficiency'])\n",
    "fig, axs = plt.subplots(figsize=(1,1.5),sharey=False,sharex=False)\n",
    "g=sns.barplot(data=df, x=\"Designs\", y='Editing efficiency', hue='cond', hue_order =['neg','TNFa'],palette=['#E1E1E1','#FB8072'],errwidth=0.5, errorbar='sd', capsize=.1)\n",
    "sns.stripplot(data=df, x=\"Designs\", y='Editing efficiency', hue='cond', hue_order =['neg','TNFa'], dodge=True,palette='dark:#4A4A4A',marker='.',size=4,ax=axs,legend=False)\n",
    "\n",
    "axs.set_xlabel('');\n",
    "start, end = axs.get_ylim()\n",
    "axs.set_ylim(0,3)\n",
    "start, end = axs.get_ylim()\n",
    "axs.yaxis.set_ticks(np.arange(start, end+0.2, 1))\n",
    "axs.set_ylabel('Editing efficiency (%)',fontsize=7)\n",
    "axs.xaxis.set_tick_params(width=0.5, length=2,labelsize=6)\n",
    "axs.yaxis.set_tick_params(width=0.5, length=2,labelsize=6)\n",
    "sns.despine(offset=3)\n",
    "#plt.savefig('../Figure1/fig/SupFig1h_PEmax_mESC.pdf')"
   ]
  },
  {
   "cell_type": "markdown",
   "id": "f1de5e2c-1d2b-4752-a992-f59c23fd9918",
   "metadata": {
    "tags": []
   },
   "source": [
    "## ENGRAM 2.0 PGK 5N Figure 1 f g "
   ]
  },
  {
   "cell_type": "code",
   "execution_count": 170,
   "id": "entertaining-pride",
   "metadata": {
    "tags": []
   },
   "outputs": [],
   "source": [
    "## Use the sequence in pegRNA not in gDNA so need to reverse complement\n",
    "path = '../Figure1/epeg/'\n",
    "with open(path+'293T-peg5N_rep1_bc_count.tsv','r') as f:\n",
    "    temp = f.readlines()[1:]\n",
    "    rep1 = pd.DataFrame([a for a in [str2array(s) for s in temp] if len(a[0])==5],columns=['barcode','count'])\n",
    "\n",
    "with open(path+'293T-peg5N_rep2_bc_count.tsv','r') as f:\n",
    "    temp = f.readlines()[1:]\n",
    "    rep2 = pd.DataFrame([a for a in [str2array(s) for s in temp] if len(a[0])==5],columns=['barcode','count'])\n",
    "\n",
    "with open(path+'293T-peg5N_rep3_bc_count.tsv','r') as f:\n",
    "    temp = f.readlines()[1:]\n",
    "    rep3 = pd.DataFrame([a for a in [str2array(s) for s in temp] if len(a[0])==5],columns=['barcode','count'])    \n",
    "\n",
    "df = rep1.merge(rep2,on='barcode',how='outer').merge(rep3,on='barcode',how='outer').fillna(0).sort_values(by='barcode').reset_index(drop=True)\n",
    "df.columns = ['barcode','ins_rep1','ins_rep2','ins_rep3']\n",
    "df['ratio_rep1'] =  np.log2((df['ins_rep1']+1)/(df['ins_rep1'].sum()+1))\n",
    "df['ratio_rep2'] =  np.log2((df['ins_rep2']+1)/(df['ins_rep2'].sum()+1))\n",
    "df['ratio_rep3'] =  np.log2((df['ins_rep3']+1)/(df['ins_rep3'].sum()+1))\n",
    "df['ratio'] = np.log2((df['ins_rep1']+df['ins_rep2']+df['ins_rep3'])/\n",
    "                          (df['ins_rep1'].sum()+df['ins_rep2'].sum()+df['ins_rep3'].sum()))\n",
    "\n",
    "## Open plasmid and merge\n",
    "with open(path+'/plasmid/peg5N-plasmid_bc_count.tsv','r') as f:\n",
    "    temp = f.readlines()[1:]\n",
    "    plasmid = pd.DataFrame([a for a in [str2array(s) for s in temp] if len(a[0])==5 and a[1]>=100],columns=['bc_rc','count'])    \n",
    "plasmid['barcode'] = plasmid['bc_rc'].apply(reverse_complement)\n",
    "\n",
    "plasmid['ratio_plasmid'] =  np.log2((plasmid['count']+1)/(plasmid['count'].sum()+1))\n",
    "df = df.merge(plasmid,on='barcode',how='right')\n",
    "df['ES'] = df['ratio'] - df['ratio_plasmid']"
   ]
  },
  {
   "cell_type": "code",
   "execution_count": 171,
   "id": "fd661da1-35cb-453f-8ff7-7fcfecca8040",
   "metadata": {
    "tags": []
   },
   "outputs": [],
   "source": [
    "df.loc[:,('barcode','ES')].to_csv('../Figure1/5N_ES.txt',sep='\\t',index=False)"
   ]
  },
  {
   "cell_type": "code",
   "execution_count": 172,
   "id": "checked-charm",
   "metadata": {
    "tags": []
   },
   "outputs": [
    {
     "data": {
      "image/png": "[encoded data removed]",
      "text/plain": [
       "<Figure size 450x150 with 3 Axes>"
      ]
     },
     "metadata": {},
     "output_type": "display_data"
    }
   ],
   "source": [
    "fig, axs = plt.subplots(1,3,figsize=(4.5,1.5),sharey=False,sharex=False)\n",
    "sample = [('ratio_rep1','ratio_rep2'),('ratio_rep1','ratio_rep3'),('ratio_rep2','ratio_rep3')]\n",
    "k=0\n",
    "for i in range(3):\n",
    "    s=sample[k]\n",
    "    sns.scatterplot(x=s[0],y=s[1],data = df, color=['#4A4A4A'],s=5,ax=axs[i],marker='o')\n",
    "    pr = sp.stats.pearsonr(df[s[0]],df[s[1]])[0]\n",
    "    sr = sp.stats.spearmanr(df[s[0]],df[s[1]])[0]\n",
    "    axs[i].plot([-15.5,-7],[-15.5,-7], '--',color='#FB8072',linewidth=0.8)\n",
    "    sns.despine(offset=3)\n",
    "    start, end = -15,-5\n",
    "    axs[i].yaxis.set_ticks(np.arange(start, end, 2))\n",
    "    axs[i].xaxis.set_ticks(np.arange(start, end, 2))\n",
    "    axs[i].text(-16,-9,\"Pearson: \"  + str(round(pr,3))  + \"\\nSpearman: \"+str(round(sr,3)),fontsize=6)\n",
    "    axs[i].set_xlabel('')#s[0])\n",
    "    axs[i].set_ylabel('')#s[1])\n",
    "    axs[i].xaxis.set_tick_params(width=0.8, length=2,labelsize=6)\n",
    "    axs[i].yaxis.set_tick_params(width=0.8, length=2,labelsize=6)\n",
    "    k+=1\n",
    "plt.tight_layout()\n",
    "#plt.savefig('../Figure1/fig/Figure1_pgk_5N.pdf')"
   ]
  },
  {
   "cell_type": "code",
   "execution_count": 173,
   "id": "2bfdd873-5b8b-4ada-b6a3-3328ea3bcb19",
   "metadata": {
    "tags": []
   },
   "outputs": [
    {
     "data": {
      "image/png": "[encoded data removed]",
      "text/plain": [
       "<Figure size 250x150 with 1 Axes>"
      ]
     },
     "metadata": {},
     "output_type": "display_data"
    }
   ],
   "source": [
    "fig, axs = plt.subplots(figsize=(2.5,1.5),sharey=False,sharex=False)\n",
    "sns.scatterplot(data = df.sort_values(by='ES',ascending=False), x='barcode',y='ES',color=['#4A4A4A'], s=1,ax=axs)\n",
    "sns.despine(offset=3)\n",
    "axs.set_xlabel('Barcodes',fontsize=7);\n",
    "axs.set_xticks([''])\n",
    "axs.set_ylabel('Editing score',fontsize=7)\n",
    "axs.xaxis.set_tick_params(width=0.8, length=2,labelsize=6)\n",
    "axs.yaxis.set_tick_params(width=0.8, length=2,labelsize=6)\n",
    "for tick in axs.get_xticklabels():\n",
    "    tick.set_rotation(-90)\n",
    "#plt.savefig('../Figure1/fig/Fig_1_5N_ES.pdf')"
   ]
  },
  {
   "cell_type": "markdown",
   "id": "84ced860-0b87-46a9-8143-6adf8488921f",
   "metadata": {
    "tags": []
   },
   "source": [
    "## pegRNA MFE and prediction Figure 1h Supp Figure2 f g"
   ]
  },
  {
   "cell_type": "code",
   "execution_count": 167,
   "id": "82865cb4-3080-4281-8405-11a9f6c6402e",
   "metadata": {},
   "outputs": [],
   "source": [
    "## no need to run, \n",
    "import nupack as nup # this needs newer cpu nodes\n",
    "\n",
    "model1 = nup.Model(material='rna', celsius=37,sodium=0.5, magnesium=0.0)\n",
    "\n",
    "peg = 'gcGGCCCAGACUGAGCACGUGAGUUUUAGAGCUAGAAAUAGCAAGUUAAAAUAAGGCUAGUCCGUUAUCAACUUGAAAAAGUGGGACCGAGUCGGUCCUCUGCCAUCANNNNNCGUGCUCAGUCUGACUGCCGUAUAggca'\n",
    "nts = ['A','U','C','G']\n",
    "bcs = [a+b+c+d+e for a in nts for b in nts for c in nts for d in nts for e in nts]\n",
    "table = []\n",
    "for bc in bcs:\n",
    "    new_peg = nup.Strand(peg.replace('NNNNN',bc),name='new_peg')\n",
    "    set1 = nup.ComplexSet(strands=[new_peg])\n",
    "    result = nup.complex_analysis(complexes=set1, model=model1, compute=['pairs', 'mfe'])\n",
    "    table.append([bc,result['(new_peg)'].mfe[0].energy]) \n",
    "pd.DataFrame(table,columns=['barcode','MFE']).to_csv('../Figure1/pegRNA_FreeG_5N.csv',index=False,sep='\\t')"
   ]
  },
  {
   "cell_type": "code",
   "execution_count": 174,
   "id": "545daf26-edbe-4e1d-beb0-ae2543fcd4fc",
   "metadata": {
    "tags": []
   },
   "outputs": [],
   "source": [
    "# Run the PGK5N before this"
   ]
  },
  {
   "cell_type": "code",
   "execution_count": 175,
   "id": "80f1ec59-7cb6-4e9a-99e6-7b45cb51a8a2",
   "metadata": {
    "tags": []
   },
   "outputs": [],
   "source": [
    "MFE = pd.read_table('../Figure1/pegRNA_FreeG_5N.csv')\n",
    "MFE['barcode']=MFE['barcode'].apply(reverse_complement)\n",
    "df_mfe = pd.merge(df[['barcode','ES']],MFE,on='barcode')"
   ]
  },
  {
   "cell_type": "code",
   "execution_count": 176,
   "id": "4345e1a4-d450-46fc-afa1-235ebf08e68f",
   "metadata": {
    "tags": []
   },
   "outputs": [
    {
     "data": {
      "image/png": "[encoded data removed]",
      "text/plain": [
       "<Figure size 150x150 with 1 Axes>"
      ]
     },
     "metadata": {},
     "output_type": "display_data"
    }
   ],
   "source": [
    "fig, axs = plt.subplots(figsize=(1.5,1.5),sharey=False,sharex=False)\n",
    "sns.scatterplot(x='ES',y='MFE', data=df_mfe, color=['#4A4A4A'],s=5,ax=axs)\n",
    "sns.despine(offset=3)\n",
    "axs.set_xlabel('Editing score',fontsize=7);\n",
    "axs.set_ylabel('Minimum free energy\\n(MFE, kcal/mol)',fontsize=7);\n",
    "pr = sp.stats.pearsonr(df_mfe['ES'],df_mfe['MFE'])[0]      \n",
    "sr = sp.stats.spearmanr(df_mfe['ES'],df_mfe['MFE'])[0]   \n",
    "axs.text(-3,-42,\"Pearson: \"  + str(round(pr,2))  + \"\\nSpearman: \"+str(round(sr,2)),fontsize=7);\n",
    "axs.xaxis.set_ticks(np.arange(-3, 2, 1));\n",
    "axs.yaxis.set_ticks(np.arange(-52, -39, 2));\n",
    "axs.xaxis.set_tick_params(width=0.8, length=2,labelsize=6)\n",
    "axs.yaxis.set_tick_params(width=0.8, length=2,labelsize=6)\n",
    "#plt.savefig('../Figure1/fig/Supp_Fig_1_MFE_only.pdf')"
   ]
  },
  {
   "cell_type": "code",
   "execution_count": 53,
   "id": "4f0fc4b0-d8e9-4120-bd9a-e8a6b49c93f2",
   "metadata": {
    "tags": []
   },
   "outputs": [],
   "source": [
    "from sklearn.linear_model import LinearRegression, Lasso, Ridge,RidgeCV, ElasticNet, SGDRegressor, ElasticNetCV, LassoCV\n",
    "from sklearn.preprocessing import MinMaxScaler\n",
    "#convert to single and di-nucleotide hotencode\n",
    "def onehotencoder(seq):\n",
    "    nt= ['A','T','C','G']\n",
    "    head = []\n",
    "    l = len(seq)\n",
    "    for k in range(l):\n",
    "        for i in range(4):\n",
    "            head.append(nt[i]+str(k))\n",
    "\n",
    "    for k in range(l-1):\n",
    "        for i in range(4):\n",
    "            for j in range(4):\n",
    "                head.append(nt[i]+nt[j]+str(k))\n",
    "    head_idx = {}\n",
    "    for idx,key in enumerate(head):\n",
    "        head_idx[key] = idx\n",
    "    encode = np.zeros(len(head_idx))\n",
    "    for j in range(l):\n",
    "        encode[head_idx[seq[j]+str(j)]] =1.\n",
    "    for k in range(l-1):\n",
    "        encode[head_idx[seq[k:k+2]+str(k)]] =1.\n",
    "    return encode"
   ]
  },
  {
   "cell_type": "code",
   "execution_count": 54,
   "id": "db3004e8-cf95-46d2-97b6-771632041717",
   "metadata": {
    "tags": []
   },
   "outputs": [
    {
     "name": "stdout",
     "output_type": "stream",
     "text": [
      "0.9066077258292391\n"
     ]
    }
   ],
   "source": [
    "scaler = MinMaxScaler()\n",
    "scaler.fit(df_mfe['MFE'].values.reshape(-1, 1))\n",
    "df_mfe['MFE_norm'] = scaler.transform(df_mfe['MFE'].values.reshape(-1, 1))\n",
    "data=[]\n",
    "for i in range(len(df_mfe)):\n",
    "    data.append(list(onehotencoder(df_mfe.loc[i,'barcode']))+[df_mfe.loc[i,'MFE_norm'],df_mfe.loc[i,'ES'],df_mfe.loc[i,'barcode']])\n",
    "data=np.array(data,dtype=object)\n",
    "\n",
    "\n",
    "np.random.seed(123)\n",
    "idx2 = np.arange(data.shape[0])\n",
    "np.random.shuffle(idx2)\n",
    "train_size = 680\n",
    "data =data[idx2]\n",
    "# split into training and test set\n",
    "X_train, y_train = data[:train_size,:-2],data[:train_size,-2]\n",
    "X_test, y_test = data[train_size:,:-2], data[train_size:,-2]\n",
    "\n",
    "lasso_model = LassoCV(cv = 10, copy_X = True, max_iter=100000)\n",
    "lasso_fit = lasso_model.fit(X_train, y_train)\n",
    "lasso_path = lasso_model.path(X_train, y_train)\n",
    "pred = pd.DataFrame({\"Predicted ES\":lasso_fit.predict(X_test),\"Real ES\":y_test})\n",
    "pr = sp.stats.pearsonr(pred[\"Predicted ES\"],pred[\"Real ES\"])[0]      \n",
    "sr = sp.stats.spearmanr(pred[\"Predicted ES\"],pred[\"Real ES\"])[0] \n",
    "print (pr)"
   ]
  },
  {
   "cell_type": "code",
   "execution_count": 55,
   "id": "0c1a9b01-f786-462f-b851-d9113e793509",
   "metadata": {
    "tags": []
   },
   "outputs": [
    {
     "data": {
      "image/png": "[encoded data removed]",
      "text/plain": [
       "<Figure size 150x150 with 1 Axes>"
      ]
     },
     "metadata": {},
     "output_type": "display_data"
    }
   ],
   "source": [
    "fig, axs = plt.subplots(figsize=(1.5,1.5),sharey=False,sharex=False)\n",
    "sns.scatterplot(data = pred, x='Predicted ES',y='Real ES',color=['#4A4A4A'], s=5,ax=axs)\n",
    "sns.despine(offset=3)\n",
    "axs.set_xlabel('Predicted editing score (log2)',fontsize=7);\n",
    "axs.set_ylabel('Observed editing score (log2)',fontsize=7)\n",
    "start, end = -2,2.5\n",
    "\n",
    "axs.plot([-2,2],[-2,2], '--',color='#FB8072',linewidth=0.8)\n",
    "axs.text(-2,1,\"Pearson: \"  + str(round(pr,3))  + \"\\nSpearman: \"+str(round(sr,3)),fontsize=6,color='#4A4A4A')\n",
    "axs.xaxis.set_tick_params(width=0.8, length=2,labelsize=6);\n",
    "axs.yaxis.set_tick_params(width=0.8, length=2,labelsize=6);\n",
    "axs.yaxis.set_ticks(np.arange(start, end, 1));\n",
    "axs.xaxis.set_ticks(np.arange(start, end, 1));\n",
    "#plt.savefig('../Figure1/fig/Fig_1_5N_pred.pdf')"
   ]
  },
  {
   "cell_type": "code",
   "execution_count": 56,
   "id": "51ca6022-f899-40cb-ad4e-6779d1b8f4cc",
   "metadata": {
    "tags": []
   },
   "outputs": [],
   "source": [
    "l=5\n",
    "nt= ['A','T','C','G']\n",
    "head = []\n",
    "for k in range(l):\n",
    "    for i in range(4):\n",
    "        head.append(nt[i]+str(k))\n",
    "\n",
    "for k in range(l-1):\n",
    "    for i in range(4):\n",
    "        for j in range(4):\n",
    "             head.append(nt[i]+nt[j]+str(k))\n",
    "head+=['MFE']\n",
    "coef = pd.DataFrame({'label':head,'coef':lasso_fit.coef_})"
   ]
  },
  {
   "cell_type": "code",
   "execution_count": 57,
   "id": "0255f829-6096-4271-869f-4152d5250ed3",
   "metadata": {
    "tags": []
   },
   "outputs": [
    {
     "data": {
      "image/png": "[encoded data removed]",
      "text/plain": [
       "<Figure size 250x150 with 1 Axes>"
      ]
     },
     "metadata": {},
     "output_type": "display_data"
    }
   ],
   "source": [
    "fig, axs = plt.subplots(figsize=(2.5,1.5),sharey=False,sharex=False)\n",
    "sns.scatterplot(data = coef.sort_values(by='coef',ascending=False), x='label',y='coef',color='#4A4A4A',s=3,ax=axs)\n",
    "sns.despine(offset=3)\n",
    "axs.set_xlabel('Label',fontsize=7);\n",
    "axs.set_ylabel('Lasso coefficient',fontsize=7)\n",
    "axs.set_ylim(-1,2)\n",
    "axs.set_xlabel('')\n",
    "axs.set_xticks('')\n",
    "axs.yaxis.set_tick_params(width=0.8, length=2,labelsize=6)\n",
    "#plt.savefig('../Figure1/fig/Fig_1_5N_coef.pdf')"
   ]
  },
  {
   "cell_type": "code",
   "execution_count": 58,
   "id": "5f34fc4a-936d-4c89-ae9c-d68a966ab771",
   "metadata": {
    "tags": []
   },
   "outputs": [
    {
     "data": {
      "text/html": [
       "<div>\n",
       "<style scoped>\n",
       "    .dataframe tbody tr th:only-of-type {\n",
       "        vertical-align: middle;\n",
       "    }\n",
       "\n",
       "    .dataframe tbody tr th {\n",
       "        vertical-align: top;\n",
       "    }\n",
       "\n",
       "    .dataframe thead th {\n",
       "        text-align: right;\n",
       "    }\n",
       "</style>\n",
       "<table border=\"1\" class=\"dataframe\">\n",
       "  <thead>\n",
       "    <tr style=\"text-align: right;\">\n",
       "      <th></th>\n",
       "      <th>label</th>\n",
       "      <th>coef</th>\n",
       "    </tr>\n",
       "  </thead>\n",
       "  <tbody>\n",
       "    <tr>\n",
       "      <th>84</th>\n",
       "      <td>MFE</td>\n",
       "      <td>1.860110</td>\n",
       "    </tr>\n",
       "    <tr>\n",
       "      <th>30</th>\n",
       "      <td>CC0</td>\n",
       "      <td>0.327533</td>\n",
       "    </tr>\n",
       "    <tr>\n",
       "      <th>66</th>\n",
       "      <td>GC2</td>\n",
       "      <td>0.200801</td>\n",
       "    </tr>\n",
       "    <tr>\n",
       "      <th>34</th>\n",
       "      <td>GC0</td>\n",
       "      <td>0.194097</td>\n",
       "    </tr>\n",
       "    <tr>\n",
       "      <th>44</th>\n",
       "      <td>CA1</td>\n",
       "      <td>0.182391</td>\n",
       "    </tr>\n",
       "    <tr>\n",
       "      <th>...</th>\n",
       "      <td>...</td>\n",
       "      <td>...</td>\n",
       "    </tr>\n",
       "    <tr>\n",
       "      <th>51</th>\n",
       "      <td>GG1</td>\n",
       "      <td>-0.177487</td>\n",
       "    </tr>\n",
       "    <tr>\n",
       "      <th>55</th>\n",
       "      <td>AG2</td>\n",
       "      <td>-0.192840</td>\n",
       "    </tr>\n",
       "    <tr>\n",
       "      <th>27</th>\n",
       "      <td>TG0</td>\n",
       "      <td>-0.320011</td>\n",
       "    </tr>\n",
       "    <tr>\n",
       "      <th>39</th>\n",
       "      <td>AG1</td>\n",
       "      <td>-0.350304</td>\n",
       "    </tr>\n",
       "    <tr>\n",
       "      <th>48</th>\n",
       "      <td>GA1</td>\n",
       "      <td>-0.361065</td>\n",
       "    </tr>\n",
       "  </tbody>\n",
       "</table>\n",
       "<p>85 rows × 2 columns</p>\n",
       "</div>"
      ],
      "text/plain": [
       "   label      coef\n",
       "84   MFE  1.860110\n",
       "30   CC0  0.327533\n",
       "66   GC2  0.200801\n",
       "34   GC0  0.194097\n",
       "44   CA1  0.182391\n",
       "..   ...       ...\n",
       "51   GG1 -0.177487\n",
       "55   AG2 -0.192840\n",
       "27   TG0 -0.320011\n",
       "39   AG1 -0.350304\n",
       "48   GA1 -0.361065\n",
       "\n",
       "[85 rows x 2 columns]"
      ]
     },
     "execution_count": 58,
     "metadata": {},
     "output_type": "execute_result"
    }
   ],
   "source": [
    "coef.sort_values(by='coef',ascending=False)"
   ]
  },
  {
   "cell_type": "code",
   "execution_count": null,
   "id": "ece4c7ed-f682-4cb5-8872-d1089278de9e",
   "metadata": {},
   "outputs": [],
   "source": []
  },
  {
   "cell_type": "markdown",
   "id": "827f99bf-daca-4bcb-a4d8-04c937b1177b",
   "metadata": {
    "tags": []
   },
   "source": [
    "# Does ENGRAM affect cell functions? RNA seq DEseq"
   ]
  },
  {
   "cell_type": "code",
   "execution_count": 59,
   "id": "6926dd00-eed9-4800-9369-3dd7520c4b54",
   "metadata": {
    "tags": []
   },
   "outputs": [],
   "source": [
    "# Python cell don't run, raw counts provided\n",
    "path = '../Figure1/RNAseq/'\n",
    "samples = sorted([s.split('_S')[0] for s in os.listdir(path) if '.fastq.gz' in s])\n",
    "df = pd.read_table(path+samples[0]+'_ReadsPerGene.out.tab',skiprows=4,header=None,usecols=range(2))\n",
    "df.columns =  ['ID',samples[0]]\n",
    "for i in range(1,len(samples)):\n",
    "    temp = pd.read_table(path+samples[i]+'_ReadsPerGene.out.tab',skiprows=4,header=None,usecols=range(2))\n",
    "    temp.columns =  ['ID',samples[i]]\n",
    "    df = pd.merge(df,temp, on=['ID'], how='outer')\n",
    "    \n",
    "    # remove low count genes\n",
    "df[df.sum(axis=1,numeric_only=True)>2000].reset_index(drop=True).to_csv('../Figure1/RNAseq/RNAseq_Count_All_samples.tsv',sep='\\t',index=False)\n",
    "conditions = [s.replace('-RNA','').split('-rep')[0].replace('293T-','') for s in samples]\n",
    "coldata = pd.DataFrame((samples,[s.replace('-RNA','').split('-rep')[0].replace('293T-','').replace('-','.') for s in samples])).T \n",
    "coldata.to_csv('../Figure1/RNAseq/RNA_seq_coldata.tsv',sep='\\t',index=False)"
   ]
  },
  {
   "cell_type": "code",
   "execution_count": 81,
   "id": "ec7b556f-b8c1-4346-8ff9-e5ed23c0c6a6",
   "metadata": {
    "tags": []
   },
   "outputs": [],
   "source": [
    "# Run this part of code in R. "
   ]
  },
  {
   "cell_type": "code",
   "execution_count": null,
   "id": "87d4c674-b9b7-46ad-9501-3a83924e7c64",
   "metadata": {},
   "outputs": [],
   "source": [
    "suppressPackageStartupMessages({\n",
    "  options(stringsAsFactors = FALSE)\n",
    "  library(DESeq2);\n",
    "  library(data.table);\n",
    "  library(gdata);\n",
    "  library(BSgenome);\n",
    "  library(ggplot2);\n",
    "  library(RColorBrewer);\n",
    "  library(biomaRt);\n",
    "  library(ggrepel);\n",
    "  library(tidyverse);\n",
    "    library(glue)})"
   ]
  },
  {
   "cell_type": "code",
   "execution_count": null,
   "id": "1103f63c-4aff-45e0-9d0b-f58840ddc99c",
   "metadata": {
    "tags": []
   },
   "outputs": [],
   "source": [
    "cts <- as.matrix(read.csv(\"../Figure1/RNAseq/RNAseq_Count_All_samples.tsv\", sep = \"\\t\", header = T,row.names=\"ID\"))\n",
    "colnames(cts) <- sub(\"X\", \"\", colnames(cts))\n",
    "row.names(cts) <- nth(tstrsplit(row.names(cts), split =\"\\\\.\"),n=1)\n",
    "\n",
    "coldata <- read.csv(\"../Figure1/RNAseq/RNA_seq_coldata.tsv\", sep = \"\\t\", row.names='X0')\n",
    "rownames(coldata) <- gsub(\"-\", \".\", rownames(coldata))\n",
    "colnames(coldata) <- c('condition')\n",
    "\n",
    "dds <- DESeqDataSetFromMatrix(countData = cts,\n",
    "                              colData = coldata,\n",
    "                              design = ~ condition)\n",
    "dds <- DESeq(dds)"
   ]
  },
  {
   "cell_type": "markdown",
   "id": "f31bd744-29c5-4fa8-b5a9-c3e35eec3ea0",
   "metadata": {
    "tags": []
   },
   "source": [
    "## PCA plot"
   ]
  },
  {
   "cell_type": "code",
   "execution_count": null,
   "id": "3285ccda-3fba-42e5-ae86-fc6700a50a8c",
   "metadata": {
    "tags": []
   },
   "outputs": [
    {
     "data": {
      "image/png": "[encoded data removed]",
      "text/plain": [
       "plot without title"
      ]
     },
     "metadata": {
      "image/png": {
       "height": 420,
       "width": 420
      }
     },
     "output_type": "display_data"
    }
   ],
   "source": [
    "vsd <- vst(dds, blind=FALSE)\n",
    "plotPCA(vsd)"
   ]
  },
  {
   "cell_type": "markdown",
   "id": "efc9f66e-096b-40ad-aca9-1a2231ea3e3e",
   "metadata": {
    "tags": []
   },
   "source": [
    "## Volcano plot"
   ]
  },
  {
   "cell_type": "code",
   "execution_count": null,
   "id": "fd0e2666-0133-47d7-b6ae-1b44fe3d8544",
   "metadata": {
    "tags": []
   },
   "outputs": [
    {
     "name": "stderr",
     "output_type": "stream",
     "text": [
      "using pre-existing size factors\n",
      "\n",
      "estimating dispersions\n",
      "\n",
      "found already estimated dispersions, replacing these\n",
      "\n",
      "gene-wise dispersion estimates\n",
      "\n",
      "mean-dispersion relationship\n",
      "\n",
      "final dispersion estimates\n",
      "\n",
      "fitting model and testing\n",
      "\n"
     ]
    }
   ],
   "source": [
    "dds$condition = relevel(dds$condition,'PE2.recorder.TNFa') # only compares the activation of recorder to remove the other effects\n",
    "dds = DESeq(dds)"
   ]
  },
  {
   "cell_type": "code",
   "execution_count": null,
   "id": "8cb109a0-5e61-4d26-a614-6fc9c94fd92a",
   "metadata": {
    "tags": []
   },
   "outputs": [
    {
     "name": "stderr",
     "output_type": "stream",
     "text": [
      "using 'apeglm' for LFC shrinkage. If used in published research, please cite:\n",
      "    Zhu, A., Ibrahim, J.G., Love, M.I. (2018) Heavy-tailed prior distributions for\n",
      "    sequence count data: removing the noise and preserving large differences.\n",
      "    Bioinformatics. https://doi.org/10.1093/bioinformatics/bty895\n",
      "\n"
     ]
    }
   ],
   "source": [
    "comp = 'PE2.TNFa'\n",
    "res_unshrunken <- results(dds, contrast=c(\"condition\",comp,\"PE2.recorder.TNFa\"), alpha = 0.05, lfcThreshold = 0.58)\n",
    "res <- lfcShrink(dds, coef=glue('condition_{comp}_vs_PE2.recorder.TNFa'), res=res_unshrunken)\n",
    "res$rowname <- rownames(res)"
   ]
  },
  {
   "cell_type": "code",
   "execution_count": null,
   "id": "f2549a32-4509-40b1-aa73-109f0e638a65",
   "metadata": {
    "tags": []
   },
   "outputs": [],
   "source": [
    "symb <- read_csv(\"../Figure1/RNAseq/ensemble_gname.csv\",show_col_types = FALSE)"
   ]
  },
  {
   "cell_type": "code",
   "execution_count": null,
   "id": "dab86c88-57dc-485b-9cc3-9d6d264824c2",
   "metadata": {
    "tags": []
   },
   "outputs": [],
   "source": [
    "res_final <- res %>%\n",
    "  data.frame() %>% \n",
    "  merge(.,symb,by.x = 0,by.y = 'ensembl_gene_id') %>% \n",
    "  as_tibble()%>% arrange(log2FoldChange)%>% \n",
    "                  mutate(threshold = padj < 0.05)\n",
    "#res_final <- res_final %>% mutate(genelabels = \"\")\n",
    "#res_final$genelabels[1:10] <- as.character(res_final$external_gene_name[1:10])"
   ]
  },
  {
   "cell_type": "code",
   "execution_count": null,
   "id": "115c15ef-b329-4c2f-95dc-e28a6c2d7345",
   "metadata": {},
   "outputs": [],
   "source": [
    "res_sub <- rbind(head(res_final,50),tail(res_final,50),subset(res_final,abs(res_final$log2FoldChange)<0.25)%>% sample_n(2000)) # subsampling for plot reasons"
   ]
  },
  {
   "cell_type": "code",
   "execution_count": null,
   "id": "442821a0-c130-4480-9c77-8b7695f9c11c",
   "metadata": {},
   "outputs": [],
   "source": [
    "pdf(file = \"../Figure1/fig/SuppFig1_deseq.pdf\",   # The directory you want to save the file in\n",
    "    width = 1.5, # The width of the plot in inches\n",
    "    height = 1.5) # The height of the plot in inches\n",
    "p1 <- ggplot(res_sub, aes(x = log2FoldChange, y = -log10(padj))) +\n",
    "        geom_point(aes(colour = threshold),size=1 ) + \n",
    "        scale_color_manual(values=c(\"#5C5C5C\", \"#FB8072\"))+\n",
    "        xlab(\"\") + \n",
    "        ylab(\"\") + \n",
    "        scale_x_continuous(limits = c(-1,1))+\n",
    "        scale_y_continuous(limits = c(0., 1))+ \n",
    "        theme_classic() + \n",
    "        theme(legend.position=\"none\",\n",
    "              axis.text = element_text(size = 6),\n",
    "              axis.title = element_text(size = 7),\n",
    "              axis.ticks.length=unit(2,\"pt\"),\n",
    "              axis.ticks = element_line(size=72.27/96*0.5),\n",
    "              axis.line = element_line(color=\"black\", size = 72.27/96*0.5))\n",
    "p1\n",
    "dev.off()"
   ]
  }
 ],
 "metadata": {
  "kernelspec": {
   "display_name": "Python 3 (ipykernel)",
   "language": "python",
   "name": "python3"
  },
  "language_info": {
   "codemirror_mode": {
    "name": "ipython",
    "version": 3
   },
   "file_extension": ".py",
   "mimetype": "text/x-python",
   "name": "python",
   "nbconvert_exporter": "python",
   "pygments_lexer": "ipython3",
   "version": "3.9.13"
  }
 },
 "nbformat": 4,
 "nbformat_minor": 5
}
