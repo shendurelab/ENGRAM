{
 "cells": [
  {
   "cell_type": "code",
   "execution_count": 1,
   "id": "48dbe85f-a6ed-4362-bc67-e5d7491b1207",
   "metadata": {},
   "outputs": [],
   "source": [
    "import gzip\n",
    "import subprocess\n",
    "import os,sys,csv,re\n",
    "from optparse import OptionParser,OptionGroup\n",
    "import pandas as pd\n",
    "\n",
    "# Umitools\n",
    "import pyximport\n",
    "pyximport.install(build_in_temp=False)\n",
    "from umi_tools._dedup_umi import edit_distance"
   ]
  },
  {
   "cell_type": "code",
   "execution_count": null,
   "id": "e99c9749-2e4c-4fd4-8e63-8ab3dd9c96b7",
   "metadata": {},
   "outputs": [],
   "source": [
    "path = 'Your path to fastq file here'\n",
    "ref  = 'Your path to reference file here' # bwa index first\n",
    "samples =[s for s in os.listdir(path) if '.gz' in s and 'R1' in s]\n",
    "for s in samples:\n",
    "    cmd = 'bwa mem ' + ref + ' ' + path+s + \\\n",
    "    '| samtools view -F 0x904 | awk \\'$3 == \"Hek3\" {{print $1\"\\\\t\"$3\"\\\\t\"$10; next}}\\'> ' + path  + s.split('_S')[0] + '.txt&'\n",
    "    p=subprocess.Popen(cmd,stdout=subprocess.DEVNULL,stderr=subprocess.STDOUT, shell=True);\n",
    "    p.wait();"
   ]
  },
  {
   "cell_type": "code",
   "execution_count": null,
   "id": "9084f209-7ea0-413c-b81a-22fe87b46171",
   "metadata": {},
   "outputs": [],
   "source": [
    "## Wait until all alignment is done\n",
    "samples =sorted([s.split('.txt')[0] for s in os.listdir(path) if '.txt' in s]) \n",
    "for s in samples:\n",
    "    cmd = \"less \"+ path+s + \".txt | awk \\' match($3, /GCACG([ATCG]{5})TGATG/) {print substr($3, RSTART+5,RLENGTH-10)}\\' | sort -k1n | uniq -c | sort -k1nr |awk '{print $2\\\"\\\\t\\\"$1}'  > \"+\\\n",
    "    path + s.split('_S')[0] + \"_bc_count.tsv &\"\n",
    "    p=subprocess.Popen(cmd, stdout=subprocess.PIPE, shell=True);\n",
    "    p.wait();"
   ]
  },
  {
   "cell_type": "code",
   "execution_count": 3,
   "id": "f51ab4a5-f49a-4dab-bcaa-8a63d21e37a7",
   "metadata": {},
   "outputs": [],
   "source": [
    "# Wait until all regex is done\n",
    "os.chdir(path)\n",
    "cmd = \"for i in \\`ls -1 *.txt\\`; do less $i | echo $i $((\\`wc -l\\`)) | cat >> Read_count.csv & done; \"\n",
    "p=subprocess.Popen(cmd,stdout=subprocess.DEVNULL,stderr=subprocess.STDOUT, shell=True);\n",
    "p.wait();"
   ]
  },
  {
   "cell_type": "code",
   "execution_count": null,
   "id": "32e42558-8001-4c13-9e92-346b0e87ef1f",
   "metadata": {},
   "outputs": [],
   "source": [
    "def str2array(s):\n",
    "    a,b= s.split('\\t')[:2]\n",
    "    return (a,int(b))\n",
    "\n",
    "def merge_edit_1(counts):\n",
    "    keep,collapse = [],counts[0:]\n",
    "    while len(collapse)>0:\n",
    "        ref = list(collapse[0]) # need to convert to list here otherwise will keep updating the value to new_cluster\n",
    "        temp = []\n",
    "        for s in collapse[1:]:\n",
    "            s1 = ref[0]\n",
    "            s2 = s[0]\n",
    "            if abs(len(s1)-len(s2))<=1 and edit_distance(s1.encode('utf-8'),s2.encode('utf-8'))<2:\n",
    "                ref[-1] += s[-1]\n",
    "            else:\n",
    "                temp.append(s)\n",
    "        keep.append(ref)\n",
    "        collapse = temp[0:]\n",
    "    return np.array(keep,dtype=object)\n",
    "\n",
    "def sigmoid(x, L ,x0, k, b):\n",
    "    y = L / (1 + np.exp(-k*(x-x0)))+b\n",
    "    return (y)\n",
    "\n",
    "import re\n",
    "def natural_key(string_):\n",
    "    \"\"\"See http://www.codinghorror.com/blog/archives/001018.html\"\"\"\n",
    "    return [int(s) if s.isdigit() else s for s in re.split(r'(\\d+)', string_)]\n",
    "\n",
    "\n",
    "def reverse_complement(seq):\n",
    "    \"\"\"This function returns the reverse_complement sequence of the input sequence\n",
    "    from 3' to 5' \"\"\"\n",
    "    complement = {'A':'T', 'C':'G','G':'C', 'T':'A', 'N':'N'}\n",
    "    rcomp_seq = ''\n",
    "    for base in seq:\n",
    "        rcomp_seq = complement[base] + rcomp_seq   \n",
    "    return rcomp_seq"
   ]
  },
  {
   "cell_type": "code",
   "execution_count": null,
   "id": "6971c247-59c7-40f1-aec1-abf524e839fe",
   "metadata": {},
   "outputs": [],
   "source": [
    "path = 'Same to the path above, where you keep all the fastq.gz and parsed files'\n",
    "samples =sorted([s.split('.txt')[0] for s in os.listdir(path) if '.txt' in s])\n",
    "read_count = pd.read_table(path+'Read_count.csv',header=None,names=['sample','counts'],sep=' ' )\n",
    "edits = []\n",
    "for s in samples: \n",
    "    file = path+s\n",
    "    rcount = int(read_count[read_count['sample'].str.contains(s)]['counts'])\n",
    "    with open(file +'_bc_count.tsv','r') as f:\n",
    "        temp = f.readlines()\n",
    "        test = sum(merge_edit_1([a for a in [str2array(s) for s in temp]])[:,1])\n",
    "    f.close()\n",
    "    edits.append([s,test/rcount*100])"
   ]
  },
  {
   "cell_type": "code",
   "execution_count": null,
   "id": "ce59be79-1f00-4cce-b9dc-cdb6d020efc2",
   "metadata": {},
   "outputs": [],
   "source": [
    "df = pd.DataFrame(edits,columns=['Sample','Editing efficiency'])"
   ]
  }
 ],
 "metadata": {
  "kernelspec": {
   "display_name": "Python 3 (ipykernel)",
   "language": "python",
   "name": "python3"
  },
  "language_info": {
   "codemirror_mode": {
    "name": "ipython",
    "version": 3
   },
   "file_extension": ".py",
   "mimetype": "text/x-python",
   "name": "python",
   "nbconvert_exporter": "python",
   "pygments_lexer": "ipython3",
   "version": "3.8.12"
  }
 },
 "nbformat": 4,
 "nbformat_minor": 5
}
